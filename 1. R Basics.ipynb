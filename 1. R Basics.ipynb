{
 "cells": [
  {
   "cell_type": "markdown",
   "metadata": {},
   "source": [
    "# R Basics"
   ]
  },
  {
   "cell_type": "code",
   "execution_count": 1,
   "metadata": {},
   "outputs": [],
   "source": [
    "a <- 1\n",
    "b <- 1\n",
    "c <- -1"
   ]
  },
  {
   "cell_type": "code",
   "execution_count": 2,
   "metadata": {},
   "outputs": [
    {
     "name": "stdout",
     "output_type": "stream",
     "text": [
      "[1] 1\n"
     ]
    }
   ],
   "source": [
    "print(a)"
   ]
  },
  {
   "cell_type": "markdown",
   "metadata": {},
   "source": [
    "List varibales with ls()"
   ]
  },
  {
   "cell_type": "code",
   "execution_count": 3,
   "metadata": {},
   "outputs": [
    {
     "data": {
      "text/html": [
       "<ol class=list-inline>\n",
       "\t<li>'a'</li>\n",
       "\t<li>'b'</li>\n",
       "\t<li>'c'</li>\n",
       "</ol>\n"
      ],
      "text/latex": [
       "\\begin{enumerate*}\n",
       "\\item 'a'\n",
       "\\item 'b'\n",
       "\\item 'c'\n",
       "\\end{enumerate*}\n"
      ],
      "text/markdown": [
       "1. 'a'\n",
       "2. 'b'\n",
       "3. 'c'\n",
       "\n",
       "\n"
      ],
      "text/plain": [
       "[1] \"a\" \"b\" \"c\""
      ]
     },
     "metadata": {},
     "output_type": "display_data"
    }
   ],
   "source": [
    "ls()"
   ]
  },
  {
   "cell_type": "code",
   "execution_count": 4,
   "metadata": {},
   "outputs": [
    {
     "data": {
      "text/html": [
       "0.618033988749895"
      ],
      "text/latex": [
       "0.618033988749895"
      ],
      "text/markdown": [
       "0.618033988749895"
      ],
      "text/plain": [
       "[1] 0.618034"
      ]
     },
     "metadata": {},
     "output_type": "display_data"
    }
   ],
   "source": [
    "(-b + sqrt(b^2 - 4*a*c)) / (2*a)"
   ]
  },
  {
   "cell_type": "code",
   "execution_count": 5,
   "metadata": {},
   "outputs": [
    {
     "data": {
      "text/html": [
       "2.71828182845905"
      ],
      "text/latex": [
       "2.71828182845905"
      ],
      "text/markdown": [
       "2.71828182845905"
      ],
      "text/plain": [
       "[1] 2.718282"
      ]
     },
     "metadata": {},
     "output_type": "display_data"
    }
   ],
   "source": [
    "exp(x = 1)"
   ]
  },
  {
   "cell_type": "code",
   "execution_count": 6,
   "metadata": {},
   "outputs": [
    {
     "data": {
      "text/html": [
       "1"
      ],
      "text/latex": [
       "1"
      ],
      "text/markdown": [
       "1"
      ],
      "text/plain": [
       "[1] 1"
      ]
     },
     "metadata": {},
     "output_type": "display_data"
    }
   ],
   "source": [
    "log(exp(x = 1))"
   ]
  },
  {
   "cell_type": "code",
   "execution_count": 7,
   "metadata": {},
   "outputs": [
    {
     "data": {
      "text/html": [
       "2.71828182845905"
      ],
      "text/latex": [
       "2.71828182845905"
      ],
      "text/markdown": [
       "2.71828182845905"
      ],
      "text/plain": [
       "[1] 2.718282"
      ]
     },
     "metadata": {},
     "output_type": "display_data"
    }
   ],
   "source": [
    "exp(1)"
   ]
  },
  {
   "cell_type": "markdown",
   "metadata": {},
   "source": [
    "#### Getting help"
   ]
  },
  {
   "cell_type": "code",
   "execution_count": null,
   "metadata": {},
   "outputs": [],
   "source": [
    "help(\"log\")"
   ]
  },
  {
   "cell_type": "code",
   "execution_count": null,
   "metadata": {},
   "outputs": [],
   "source": [
    "args(log)"
   ]
  },
  {
   "cell_type": "code",
   "execution_count": null,
   "metadata": {},
   "outputs": [],
   "source": [
    "?\"log\""
   ]
  },
  {
   "cell_type": "code",
   "execution_count": null,
   "metadata": {},
   "outputs": [],
   "source": [
    "?\"+\""
   ]
  },
  {
   "cell_type": "markdown",
   "metadata": {},
   "source": [
    "#### Example of built in variables"
   ]
  },
  {
   "cell_type": "code",
   "execution_count": 8,
   "metadata": {},
   "outputs": [
    {
     "data": {
      "text/html": [
       "3.14159265358979"
      ],
      "text/latex": [
       "3.14159265358979"
      ],
      "text/markdown": [
       "3.14159265358979"
      ],
      "text/plain": [
       "[1] 3.141593"
      ]
     },
     "metadata": {},
     "output_type": "display_data"
    }
   ],
   "source": [
    "pi"
   ]
  },
  {
   "cell_type": "code",
   "execution_count": 9,
   "metadata": {},
   "outputs": [
    {
     "data": {
      "text/html": [
       "Inf"
      ],
      "text/latex": [
       "Inf"
      ],
      "text/markdown": [
       "Inf"
      ],
      "text/plain": [
       "[1] Inf"
      ]
     },
     "metadata": {},
     "output_type": "display_data"
    }
   ],
   "source": [
    "Inf"
   ]
  },
  {
   "cell_type": "code",
   "execution_count": 10,
   "metadata": {},
   "outputs": [],
   "source": [
    "## ading comments\n",
    "# like this"
   ]
  },
  {
   "cell_type": "markdown",
   "metadata": {},
   "source": [
    "#### Summing values up to a number\n",
    "example summing up to 10"
   ]
  },
  {
   "cell_type": "code",
   "execution_count": 11,
   "metadata": {},
   "outputs": [
    {
     "data": {
      "text/html": [
       "55"
      ],
      "text/latex": [
       "55"
      ],
      "text/markdown": [
       "55"
      ],
      "text/plain": [
       "[1] 55"
      ]
     },
     "metadata": {},
     "output_type": "display_data"
    }
   ],
   "source": [
    "n <- 10\n",
    "n*(n+1)/2"
   ]
  },
  {
   "cell_type": "code",
   "execution_count": 12,
   "metadata": {},
   "outputs": [
    {
     "name": "stdout",
     "output_type": "stream",
     "text": [
      " [1]  1  2  3  4  5  6  7  8  9 10\n"
     ]
    },
    {
     "data": {
      "text/html": [
       "55"
      ],
      "text/latex": [
       "55"
      ],
      "text/markdown": [
       "55"
      ],
      "text/plain": [
       "[1] 55"
      ]
     },
     "metadata": {},
     "output_type": "display_data"
    }
   ],
   "source": [
    "#another way\n",
    "n <- 10\n",
    "x <- seq(1,n)\n",
    "print(x)\n",
    "sum(x)"
   ]
  },
  {
   "cell_type": "code",
   "execution_count": 13,
   "metadata": {},
   "outputs": [
    {
     "data": {
      "text/html": [
       "4"
      ],
      "text/latex": [
       "4"
      ],
      "text/markdown": [
       "4"
      ],
      "text/plain": [
       "[1] 4"
      ]
     },
     "metadata": {},
     "output_type": "display_data"
    },
    {
     "data": {
      "text/html": [
       "2"
      ],
      "text/latex": [
       "2"
      ],
      "text/markdown": [
       "2"
      ],
      "text/plain": [
       "[1] 2"
      ]
     },
     "metadata": {},
     "output_type": "display_data"
    },
    {
     "data": {
      "text/html": [
       "1"
      ],
      "text/latex": [
       "1"
      ],
      "text/markdown": [
       "1"
      ],
      "text/plain": [
       "[1] 1"
      ]
     },
     "metadata": {},
     "output_type": "display_data"
    }
   ],
   "source": [
    "# log to the base 2 \n",
    "log2(16)\n",
    "\n",
    "# sqrt of the log to the base 2 of 16:\n",
    "sqrt(log2(16))\n",
    "\n",
    "# Compute log to the base 10 (log10) of the sqrt of 100. Do not use variables.\n",
    "log10(sqrt(100))"
   ]
  },
  {
   "cell_type": "markdown",
   "metadata": {},
   "source": [
    "## Variable types with class"
   ]
  },
  {
   "cell_type": "code",
   "execution_count": 14,
   "metadata": {},
   "outputs": [
    {
     "data": {
      "text/html": [
       "'numeric'"
      ],
      "text/latex": [
       "'numeric'"
      ],
      "text/markdown": [
       "'numeric'"
      ],
      "text/plain": [
       "[1] \"numeric\""
      ]
     },
     "metadata": {},
     "output_type": "display_data"
    }
   ],
   "source": [
    "a <- 2\n",
    "class(a)"
   ]
  },
  {
   "cell_type": "markdown",
   "metadata": {},
   "source": [
    "### Data Frames"
   ]
  },
  {
   "cell_type": "code",
   "execution_count": 16,
   "metadata": {},
   "outputs": [
    {
     "name": "stderr",
     "output_type": "stream",
     "text": [
      "Updating HTML index of packages in '.Library'\n",
      "Making 'packages.html' ... done\n"
     ]
    }
   ],
   "source": [
    "install.packages(\"dslabs\")"
   ]
  },
  {
   "cell_type": "code",
   "execution_count": 17,
   "metadata": {},
   "outputs": [],
   "source": [
    "library(dslabs)\n",
    "# Storing data in an object called murders of type data frame\n",
    "data(\"murders\")"
   ]
  },
  {
   "cell_type": "code",
   "execution_count": 18,
   "metadata": {},
   "outputs": [
    {
     "data": {
      "text/html": [
       "'data.frame'"
      ],
      "text/latex": [
       "'data.frame'"
      ],
      "text/markdown": [
       "'data.frame'"
      ],
      "text/plain": [
       "[1] \"data.frame\""
      ]
     },
     "metadata": {},
     "output_type": "display_data"
    }
   ],
   "source": [
    "class(murders)"
   ]
  },
  {
   "cell_type": "markdown",
   "metadata": {},
   "source": [
    "#### Structure of an objects with str"
   ]
  },
  {
   "cell_type": "code",
   "execution_count": 19,
   "metadata": {
    "scrolled": false
   },
   "outputs": [
    {
     "name": "stdout",
     "output_type": "stream",
     "text": [
      "'data.frame':\t51 obs. of  5 variables:\n",
      " $ state     : chr  \"Alabama\" \"Alaska\" \"Arizona\" \"Arkansas\" ...\n",
      " $ abb       : chr  \"AL\" \"AK\" \"AZ\" \"AR\" ...\n",
      " $ region    : Factor w/ 4 levels \"Northeast\",\"South\",..: 2 4 4 2 4 4 1 2 2 2 ...\n",
      " $ population: num  4779736 710231 6392017 2915918 37253956 ...\n",
      " $ total     : num  135 19 232 93 1257 ...\n"
     ]
    }
   ],
   "source": [
    "str(murders)"
   ]
  },
  {
   "cell_type": "code",
   "execution_count": 21,
   "metadata": {},
   "outputs": [
    {
     "data": {
      "text/html": [
       "<table>\n",
       "<thead><tr><th scope=col>state</th><th scope=col>abb</th><th scope=col>region</th><th scope=col>population</th><th scope=col>total</th></tr></thead>\n",
       "<tbody>\n",
       "\t<tr><td>Alabama   </td><td>AL        </td><td>South     </td><td> 4779736  </td><td> 135      </td></tr>\n",
       "\t<tr><td>Alaska    </td><td>AK        </td><td>West      </td><td>  710231  </td><td>  19      </td></tr>\n",
       "\t<tr><td>Arizona   </td><td>AZ        </td><td>West      </td><td> 6392017  </td><td> 232      </td></tr>\n",
       "\t<tr><td>Arkansas  </td><td>AR        </td><td>South     </td><td> 2915918  </td><td>  93      </td></tr>\n",
       "\t<tr><td>California</td><td>CA        </td><td>West      </td><td>37253956  </td><td>1257      </td></tr>\n",
       "\t<tr><td>Colorado  </td><td>CO        </td><td>West      </td><td> 5029196  </td><td>  65      </td></tr>\n",
       "</tbody>\n",
       "</table>\n"
      ],
      "text/latex": [
       "\\begin{tabular}{r|lllll}\n",
       " state & abb & region & population & total\\\\\n",
       "\\hline\n",
       "\t Alabama    & AL         & South      &  4779736   &  135      \\\\\n",
       "\t Alaska     & AK         & West       &   710231   &   19      \\\\\n",
       "\t Arizona    & AZ         & West       &  6392017   &  232      \\\\\n",
       "\t Arkansas   & AR         & South      &  2915918   &   93      \\\\\n",
       "\t California & CA         & West       & 37253956   & 1257      \\\\\n",
       "\t Colorado   & CO         & West       &  5029196   &   65      \\\\\n",
       "\\end{tabular}\n"
      ],
      "text/markdown": [
       "\n",
       "state | abb | region | population | total | \n",
       "|---|---|---|---|---|---|\n",
       "| Alabama    | AL         | South      |  4779736   |  135       | \n",
       "| Alaska     | AK         | West       |   710231   |   19       | \n",
       "| Arizona    | AZ         | West       |  6392017   |  232       | \n",
       "| Arkansas   | AR         | South      |  2915918   |   93       | \n",
       "| California | CA         | West       | 37253956   | 1257       | \n",
       "| Colorado   | CO         | West       |  5029196   |   65       | \n",
       "\n",
       "\n"
      ],
      "text/plain": [
       "  state      abb region population total\n",
       "1 Alabama    AL  South   4779736    135 \n",
       "2 Alaska     AK  West     710231     19 \n",
       "3 Arizona    AZ  West    6392017    232 \n",
       "4 Arkansas   AR  South   2915918     93 \n",
       "5 California CA  West   37253956   1257 \n",
       "6 Colorado   CO  West    5029196     65 "
      ]
     },
     "metadata": {},
     "output_type": "display_data"
    }
   ],
   "source": [
    "head(murders)"
   ]
  },
  {
   "cell_type": "markdown",
   "metadata": {},
   "source": [
    "#### Accessing data from data frame objects using $ "
   ]
  },
  {
   "cell_type": "code",
   "execution_count": 22,
   "metadata": {},
   "outputs": [
    {
     "data": {
      "text/html": [
       "<ol class=list-inline>\n",
       "\t<li>'state'</li>\n",
       "\t<li>'abb'</li>\n",
       "\t<li>'region'</li>\n",
       "\t<li>'population'</li>\n",
       "\t<li>'total'</li>\n",
       "</ol>\n"
      ],
      "text/latex": [
       "\\begin{enumerate*}\n",
       "\\item 'state'\n",
       "\\item 'abb'\n",
       "\\item 'region'\n",
       "\\item 'population'\n",
       "\\item 'total'\n",
       "\\end{enumerate*}\n"
      ],
      "text/markdown": [
       "1. 'state'\n",
       "2. 'abb'\n",
       "3. 'region'\n",
       "4. 'population'\n",
       "5. 'total'\n",
       "\n",
       "\n"
      ],
      "text/plain": [
       "[1] \"state\"      \"abb\"        \"region\"     \"population\" \"total\"     "
      ]
     },
     "metadata": {},
     "output_type": "display_data"
    }
   ],
   "source": [
    "names(murders)"
   ]
  },
  {
   "cell_type": "code",
   "execution_count": 23,
   "metadata": {},
   "outputs": [
    {
     "name": "stdout",
     "output_type": "stream",
     "text": [
      " [1] \"Alabama\"              \"Alaska\"               \"Arizona\"             \n",
      " [4] \"Arkansas\"             \"California\"           \"Colorado\"            \n",
      " [7] \"Connecticut\"          \"Delaware\"             \"District of Columbia\"\n",
      "[10] \"Florida\"              \"Georgia\"              \"Hawaii\"              \n",
      "[13] \"Idaho\"                \"Illinois\"             \"Indiana\"             \n",
      "[16] \"Iowa\"                 \"Kansas\"               \"Kentucky\"            \n",
      "[19] \"Louisiana\"            \"Maine\"                \"Maryland\"            \n",
      "[22] \"Massachusetts\"        \"Michigan\"             \"Minnesota\"           \n",
      "[25] \"Mississippi\"          \"Missouri\"             \"Montana\"             \n",
      "[28] \"Nebraska\"             \"Nevada\"               \"New Hampshire\"       \n",
      "[31] \"New Jersey\"           \"New Mexico\"           \"New York\"            \n",
      "[34] \"North Carolina\"       \"North Dakota\"         \"Ohio\"                \n",
      "[37] \"Oklahoma\"             \"Oregon\"               \"Pennsylvania\"        \n",
      "[40] \"Rhode Island\"         \"South Carolina\"       \"South Dakota\"        \n",
      "[43] \"Tennessee\"            \"Texas\"                \"Utah\"                \n",
      "[46] \"Vermont\"              \"Virginia\"             \"Washington\"          \n",
      "[49] \"West Virginia\"        \"Wisconsin\"            \"Wyoming\"             \n"
     ]
    }
   ],
   "source": [
    "print(murders$state)"
   ]
  },
  {
   "cell_type": "code",
   "execution_count": 24,
   "metadata": {
    "scrolled": true
   },
   "outputs": [
    {
     "name": "stdout",
     "output_type": "stream",
     "text": [
      " [1]  4779736   710231  6392017  2915918 37253956  5029196  3574097   897934\n",
      " [9]   601723 19687653  9920000  1360301  1567582 12830632  6483802  3046355\n",
      "[17]  2853118  4339367  4533372  1328361  5773552  6547629  9883640  5303925\n",
      "[25]  2967297  5988927   989415  1826341  2700551  1316470  8791894  2059179\n",
      "[33] 19378102  9535483   672591 11536504  3751351  3831074 12702379  1052567\n",
      "[41]  4625364   814180  6346105 25145561  2763885   625741  8001024  6724540\n",
      "[49]  1852994  5686986   563626\n"
     ]
    }
   ],
   "source": [
    "print(murders$population)"
   ]
  },
  {
   "cell_type": "code",
   "execution_count": 25,
   "metadata": {},
   "outputs": [
    {
     "data": {
      "text/html": [
       "51"
      ],
      "text/latex": [
       "51"
      ],
      "text/markdown": [
       "51"
      ],
      "text/plain": [
       "[1] 51"
      ]
     },
     "metadata": {},
     "output_type": "display_data"
    }
   ],
   "source": [
    "pop <- murders$population\n",
    "length(pop)"
   ]
  },
  {
   "cell_type": "code",
   "execution_count": 26,
   "metadata": {},
   "outputs": [
    {
     "data": {
      "text/html": [
       "'character'"
      ],
      "text/latex": [
       "'character'"
      ],
      "text/markdown": [
       "'character'"
      ],
      "text/plain": [
       "[1] \"character\""
      ]
     },
     "metadata": {},
     "output_type": "display_data"
    }
   ],
   "source": [
    "class(murders$state)"
   ]
  },
  {
   "cell_type": "code",
   "execution_count": 27,
   "metadata": {},
   "outputs": [
    {
     "data": {
      "text/html": [
       "FALSE"
      ],
      "text/latex": [
       "FALSE"
      ],
      "text/markdown": [
       "FALSE"
      ],
      "text/plain": [
       "[1] FALSE"
      ]
     },
     "metadata": {},
     "output_type": "display_data"
    }
   ],
   "source": [
    "z <- 3 < 2\n",
    "z"
   ]
  },
  {
   "cell_type": "code",
   "execution_count": 28,
   "metadata": {},
   "outputs": [
    {
     "data": {
      "text/html": [
       "'logical'"
      ],
      "text/latex": [
       "'logical'"
      ],
      "text/markdown": [
       "'logical'"
      ],
      "text/plain": [
       "[1] \"logical\""
      ]
     },
     "metadata": {},
     "output_type": "display_data"
    }
   ],
   "source": [
    "class(z)"
   ]
  },
  {
   "cell_type": "markdown",
   "metadata": {},
   "source": [
    "### Factor data type"
   ]
  },
  {
   "cell_type": "code",
   "execution_count": 29,
   "metadata": {},
   "outputs": [
    {
     "data": {
      "text/html": [
       "'factor'"
      ],
      "text/latex": [
       "'factor'"
      ],
      "text/markdown": [
       "'factor'"
      ],
      "text/plain": [
       "[1] \"factor\""
      ]
     },
     "metadata": {},
     "output_type": "display_data"
    }
   ],
   "source": [
    "class(murders$region)"
   ]
  },
  {
   "cell_type": "markdown",
   "metadata": {},
   "source": [
    "### Factor data types are useful for storing categorical data"
   ]
  },
  {
   "cell_type": "code",
   "execution_count": 30,
   "metadata": {},
   "outputs": [
    {
     "data": {
      "text/html": [
       "<ol class=list-inline>\n",
       "\t<li>'Northeast'</li>\n",
       "\t<li>'South'</li>\n",
       "\t<li>'North Central'</li>\n",
       "\t<li>'West'</li>\n",
       "</ol>\n"
      ],
      "text/latex": [
       "\\begin{enumerate*}\n",
       "\\item 'Northeast'\n",
       "\\item 'South'\n",
       "\\item 'North Central'\n",
       "\\item 'West'\n",
       "\\end{enumerate*}\n"
      ],
      "text/markdown": [
       "1. 'Northeast'\n",
       "2. 'South'\n",
       "3. 'North Central'\n",
       "4. 'West'\n",
       "\n",
       "\n"
      ],
      "text/plain": [
       "[1] \"Northeast\"     \"South\"         \"North Central\" \"West\"         "
      ]
     },
     "metadata": {},
     "output_type": "display_data"
    }
   ],
   "source": [
    "levels(murders$region)"
   ]
  },
  {
   "cell_type": "markdown",
   "metadata": {},
   "source": [
    "#### Sequences"
   ]
  },
  {
   "cell_type": "code",
   "execution_count": 31,
   "metadata": {},
   "outputs": [
    {
     "data": {
      "text/html": [
       "<ol class=list-inline>\n",
       "\t<li>1</li>\n",
       "\t<li>2</li>\n",
       "\t<li>3</li>\n",
       "\t<li>4</li>\n",
       "\t<li>5</li>\n",
       "\t<li>6</li>\n",
       "\t<li>7</li>\n",
       "\t<li>8</li>\n",
       "\t<li>9</li>\n",
       "\t<li>10</li>\n",
       "</ol>\n"
      ],
      "text/latex": [
       "\\begin{enumerate*}\n",
       "\\item 1\n",
       "\\item 2\n",
       "\\item 3\n",
       "\\item 4\n",
       "\\item 5\n",
       "\\item 6\n",
       "\\item 7\n",
       "\\item 8\n",
       "\\item 9\n",
       "\\item 10\n",
       "\\end{enumerate*}\n"
      ],
      "text/markdown": [
       "1. 1\n",
       "2. 2\n",
       "3. 3\n",
       "4. 4\n",
       "5. 5\n",
       "6. 6\n",
       "7. 7\n",
       "8. 8\n",
       "9. 9\n",
       "10. 10\n",
       "\n",
       "\n"
      ],
      "text/plain": [
       " [1]  1  2  3  4  5  6  7  8  9 10"
      ]
     },
     "metadata": {},
     "output_type": "display_data"
    }
   ],
   "source": [
    "1:10"
   ]
  },
  {
   "cell_type": "code",
   "execution_count": 32,
   "metadata": {},
   "outputs": [
    {
     "data": {
      "text/html": [
       "<ol class=list-inline>\n",
       "\t<li>1</li>\n",
       "\t<li>2</li>\n",
       "\t<li>3</li>\n",
       "\t<li>4</li>\n",
       "\t<li>5</li>\n",
       "\t<li>6</li>\n",
       "\t<li>7</li>\n",
       "\t<li>8</li>\n",
       "\t<li>9</li>\n",
       "\t<li>10</li>\n",
       "</ol>\n"
      ],
      "text/latex": [
       "\\begin{enumerate*}\n",
       "\\item 1\n",
       "\\item 2\n",
       "\\item 3\n",
       "\\item 4\n",
       "\\item 5\n",
       "\\item 6\n",
       "\\item 7\n",
       "\\item 8\n",
       "\\item 9\n",
       "\\item 10\n",
       "\\end{enumerate*}\n"
      ],
      "text/markdown": [
       "1. 1\n",
       "2. 2\n",
       "3. 3\n",
       "4. 4\n",
       "5. 5\n",
       "6. 6\n",
       "7. 7\n",
       "8. 8\n",
       "9. 9\n",
       "10. 10\n",
       "\n",
       "\n"
      ],
      "text/plain": [
       " [1]  1  2  3  4  5  6  7  8  9 10"
      ]
     },
     "metadata": {},
     "output_type": "display_data"
    }
   ],
   "source": [
    "seq(10)"
   ]
  },
  {
   "cell_type": "code",
   "execution_count": 33,
   "metadata": {},
   "outputs": [
    {
     "data": {
      "text/html": [
       "<ol class=list-inline>\n",
       "\t<li>1</li>\n",
       "\t<li>2</li>\n",
       "\t<li>3</li>\n",
       "\t<li>4</li>\n",
       "\t<li>5</li>\n",
       "\t<li>6</li>\n",
       "\t<li>7</li>\n",
       "\t<li>8</li>\n",
       "\t<li>9</li>\n",
       "\t<li>10</li>\n",
       "</ol>\n"
      ],
      "text/latex": [
       "\\begin{enumerate*}\n",
       "\\item 1\n",
       "\\item 2\n",
       "\\item 3\n",
       "\\item 4\n",
       "\\item 5\n",
       "\\item 6\n",
       "\\item 7\n",
       "\\item 8\n",
       "\\item 9\n",
       "\\item 10\n",
       "\\end{enumerate*}\n"
      ],
      "text/markdown": [
       "1. 1\n",
       "2. 2\n",
       "3. 3\n",
       "4. 4\n",
       "5. 5\n",
       "6. 6\n",
       "7. 7\n",
       "8. 8\n",
       "9. 9\n",
       "10. 10\n",
       "\n",
       "\n"
      ],
      "text/plain": [
       " [1]  1  2  3  4  5  6  7  8  9 10"
      ]
     },
     "metadata": {},
     "output_type": "display_data"
    }
   ],
   "source": [
    "seq(1,10)"
   ]
  },
  {
   "cell_type": "code",
   "execution_count": 34,
   "metadata": {},
   "outputs": [
    {
     "data": {
      "text/html": [
       "TRUE"
      ],
      "text/latex": [
       "TRUE"
      ],
      "text/markdown": [
       "TRUE"
      ],
      "text/plain": [
       "[1] TRUE"
      ]
     },
     "metadata": {},
     "output_type": "display_data"
    }
   ],
   "source": [
    "# We extract the population like this:\n",
    "p <- murders$population\n",
    "\n",
    "# This is how we do the same with the square brackets:\n",
    "o <- murders[[\"population\"]] \n",
    "\n",
    "# We can confirm these two are the same\n",
    "identical(o, p)\n",
    " "
   ]
  },
  {
   "cell_type": "markdown",
   "metadata": {},
   "source": [
    "### Difference using [[ double brakcers versus one [\n",
    "\n",
    "\n",
    "R returns a subset of the original data frame containing just this column. This new object will be of class data.frame rather than a vector. To access the column itself you need to use either the $ accessor or the double square brackets [[."
   ]
  },
  {
   "cell_type": "code",
   "execution_count": 35,
   "metadata": {},
   "outputs": [
    {
     "data": {
      "text/html": [
       "'data.frame'"
      ],
      "text/latex": [
       "'data.frame'"
      ],
      "text/markdown": [
       "'data.frame'"
      ],
      "text/plain": [
       "[1] \"data.frame\""
      ]
     },
     "metadata": {},
     "output_type": "display_data"
    }
   ],
   "source": [
    "b <- murders[\"abb\"]\n",
    "class(b)"
   ]
  },
  {
   "cell_type": "code",
   "execution_count": 36,
   "metadata": {},
   "outputs": [
    {
     "data": {
      "text/html": [
       "'character'"
      ],
      "text/latex": [
       "'character'"
      ],
      "text/markdown": [
       "'character'"
      ],
      "text/plain": [
       "[1] \"character\""
      ]
     },
     "metadata": {},
     "output_type": "display_data"
    }
   ],
   "source": [
    "c <- murders[[\"abb\"]]\n",
    "class(c)"
   ]
  },
  {
   "cell_type": "code",
   "execution_count": 37,
   "metadata": {},
   "outputs": [
    {
     "data": {
      "text/html": [
       "FALSE"
      ],
      "text/latex": [
       "FALSE"
      ],
      "text/markdown": [
       "FALSE"
      ],
      "text/plain": [
       "[1] FALSE"
      ]
     },
     "metadata": {},
     "output_type": "display_data"
    }
   ],
   "source": [
    "identical(b,c)"
   ]
  },
  {
   "cell_type": "code",
   "execution_count": 38,
   "metadata": {},
   "outputs": [
    {
     "data": {
      "text/html": [
       "'character'"
      ],
      "text/latex": [
       "'character'"
      ],
      "text/markdown": [
       "'character'"
      ],
      "text/plain": [
       "[1] \"character\""
      ]
     },
     "metadata": {},
     "output_type": "display_data"
    }
   ],
   "source": [
    "h = murders$abb\n",
    "class(h)"
   ]
  },
  {
   "cell_type": "code",
   "execution_count": 39,
   "metadata": {},
   "outputs": [
    {
     "data": {
      "text/html": [
       "TRUE"
      ],
      "text/latex": [
       "TRUE"
      ],
      "text/markdown": [
       "TRUE"
      ],
      "text/plain": [
       "[1] TRUE"
      ]
     },
     "metadata": {},
     "output_type": "display_data"
    }
   ],
   "source": [
    "identical(c,h)"
   ]
  },
  {
   "cell_type": "markdown",
   "metadata": {},
   "source": [
    "#### using Levels and Length to determine number of regions included"
   ]
  },
  {
   "cell_type": "code",
   "execution_count": 40,
   "metadata": {},
   "outputs": [
    {
     "data": {
      "text/html": [
       "4"
      ],
      "text/latex": [
       "4"
      ],
      "text/markdown": [
       "4"
      ],
      "text/plain": [
       "[1] 4"
      ]
     },
     "metadata": {},
     "output_type": "display_data"
    }
   ],
   "source": [
    "length(levels(murders$region))"
   ]
  },
  {
   "cell_type": "markdown",
   "metadata": {},
   "source": [
    "### Table function\n",
    "The function table takes a vector as input and returns the frequency of each unique element in the vector."
   ]
  },
  {
   "cell_type": "code",
   "execution_count": 41,
   "metadata": {},
   "outputs": [
    {
     "data": {
      "text/plain": [
       "x\n",
       "a b c \n",
       "2 3 1 "
      ]
     },
     "metadata": {},
     "output_type": "display_data"
    }
   ],
   "source": [
    "# Here is an example of what the table function does\n",
    "x <- c(\"a\", \"a\", \"b\", \"b\", \"b\", \"c\")\n",
    "table(x)"
   ]
  },
  {
   "cell_type": "code",
   "execution_count": 42,
   "metadata": {},
   "outputs": [
    {
     "data": {
      "text/plain": [
       "s\n",
       "    Northeast         South North Central          West \n",
       "            9            17            12            13 "
      ]
     },
     "metadata": {},
     "output_type": "display_data"
    }
   ],
   "source": [
    "# Write one line of code to show the number of states per region\n",
    "s <- murders$region\n",
    "table(s)"
   ]
  },
  {
   "cell_type": "markdown",
   "metadata": {},
   "source": [
    "## Vectors\n",
    "A vector is a series of values, all of the same type. They are the most basic data type in R and can hold numeric data, character data, or logical data. In R, you can create a vector with the combine function c(). You place the vector elements separated by a comma between the parentheses.\n",
    "\n",
    "c( ) to create vectors"
   ]
  },
  {
   "cell_type": "code",
   "execution_count": 43,
   "metadata": {},
   "outputs": [
    {
     "data": {
      "text/html": [
       "<ol class=list-inline>\n",
       "\t<li>380</li>\n",
       "\t<li>124</li>\n",
       "\t<li>818</li>\n",
       "</ol>\n"
      ],
      "text/latex": [
       "\\begin{enumerate*}\n",
       "\\item 380\n",
       "\\item 124\n",
       "\\item 818\n",
       "\\end{enumerate*}\n"
      ],
      "text/markdown": [
       "1. 380\n",
       "2. 124\n",
       "3. 818\n",
       "\n",
       "\n"
      ],
      "text/plain": [
       "[1] 380 124 818"
      ]
     },
     "metadata": {},
     "output_type": "display_data"
    },
    {
     "data": {
      "text/html": [
       "'numeric'"
      ],
      "text/latex": [
       "'numeric'"
      ],
      "text/markdown": [
       "'numeric'"
      ],
      "text/plain": [
       "[1] \"numeric\""
      ]
     },
     "metadata": {},
     "output_type": "display_data"
    }
   ],
   "source": [
    "code <- c(380, 124, 818)\n",
    "code\n",
    "class(code)"
   ]
  },
  {
   "cell_type": "code",
   "execution_count": 44,
   "metadata": {},
   "outputs": [
    {
     "data": {
      "text/html": [
       "<ol class=list-inline>\n",
       "\t<li>'Italy'</li>\n",
       "\t<li>'Canada'</li>\n",
       "\t<li>'Egypt'</li>\n",
       "</ol>\n"
      ],
      "text/latex": [
       "\\begin{enumerate*}\n",
       "\\item 'Italy'\n",
       "\\item 'Canada'\n",
       "\\item 'Egypt'\n",
       "\\end{enumerate*}\n"
      ],
      "text/markdown": [
       "1. 'Italy'\n",
       "2. 'Canada'\n",
       "3. 'Egypt'\n",
       "\n",
       "\n"
      ],
      "text/plain": [
       "[1] \"Italy\"  \"Canada\" \"Egypt\" "
      ]
     },
     "metadata": {},
     "output_type": "display_data"
    },
    {
     "data": {
      "text/html": [
       "'character'"
      ],
      "text/latex": [
       "'character'"
      ],
      "text/markdown": [
       "'character'"
      ],
      "text/plain": [
       "[1] \"character\""
      ]
     },
     "metadata": {},
     "output_type": "display_data"
    }
   ],
   "source": [
    "country <- c(\"Italy\", \"Canada\", \"Egypt\")\n",
    "country\n",
    "class(country)"
   ]
  },
  {
   "cell_type": "markdown",
   "metadata": {},
   "source": [
    "using names when creating a vector"
   ]
  },
  {
   "cell_type": "code",
   "execution_count": 45,
   "metadata": {
    "scrolled": true
   },
   "outputs": [
    {
     "data": {
      "text/html": [
       "<dl class=dl-horizontal>\n",
       "\t<dt>italy</dt>\n",
       "\t\t<dd>380</dd>\n",
       "\t<dt>canada</dt>\n",
       "\t\t<dd>124</dd>\n",
       "\t<dt>egypt</dt>\n",
       "\t\t<dd>818</dd>\n",
       "</dl>\n"
      ],
      "text/latex": [
       "\\begin{description*}\n",
       "\\item[italy] 380\n",
       "\\item[canada] 124\n",
       "\\item[egypt] 818\n",
       "\\end{description*}\n"
      ],
      "text/markdown": [
       "italy\n",
       ":   380canada\n",
       ":   124egypt\n",
       ":   818\n",
       "\n"
      ],
      "text/plain": [
       " italy canada  egypt \n",
       "   380    124    818 "
      ]
     },
     "metadata": {},
     "output_type": "display_data"
    },
    {
     "data": {
      "text/html": [
       "'numeric'"
      ],
      "text/latex": [
       "'numeric'"
      ],
      "text/markdown": [
       "'numeric'"
      ],
      "text/plain": [
       "[1] \"numeric\""
      ]
     },
     "metadata": {},
     "output_type": "display_data"
    }
   ],
   "source": [
    "code <- c(italy=380, canada=124, egypt=818)\n",
    "code\n",
    "class(code)"
   ]
  },
  {
   "cell_type": "markdown",
   "metadata": {},
   "source": [
    "WE can use quotes and result is the same"
   ]
  },
  {
   "cell_type": "code",
   "execution_count": 46,
   "metadata": {},
   "outputs": [
    {
     "data": {
      "text/html": [
       "<dl class=dl-horizontal>\n",
       "\t<dt>italy</dt>\n",
       "\t\t<dd>380</dd>\n",
       "\t<dt>canada</dt>\n",
       "\t\t<dd>124</dd>\n",
       "\t<dt>egypt</dt>\n",
       "\t\t<dd>818</dd>\n",
       "</dl>\n"
      ],
      "text/latex": [
       "\\begin{description*}\n",
       "\\item[italy] 380\n",
       "\\item[canada] 124\n",
       "\\item[egypt] 818\n",
       "\\end{description*}\n"
      ],
      "text/markdown": [
       "italy\n",
       ":   380canada\n",
       ":   124egypt\n",
       ":   818\n",
       "\n"
      ],
      "text/plain": [
       " italy canada  egypt \n",
       "   380    124    818 "
      ]
     },
     "metadata": {},
     "output_type": "display_data"
    },
    {
     "data": {
      "text/html": [
       "'numeric'"
      ],
      "text/latex": [
       "'numeric'"
      ],
      "text/markdown": [
       "'numeric'"
      ],
      "text/plain": [
       "[1] \"numeric\""
      ]
     },
     "metadata": {},
     "output_type": "display_data"
    }
   ],
   "source": [
    "code <- c(\"italy\"=380, \"canada\"=124, \"egypt\"=818)\n",
    "code\n",
    "class(code)"
   ]
  },
  {
   "cell_type": "markdown",
   "metadata": {},
   "source": [
    "We can to the same using the names( ) function"
   ]
  },
  {
   "cell_type": "code",
   "execution_count": 47,
   "metadata": {},
   "outputs": [
    {
     "data": {
      "text/html": [
       "<dl class=dl-horizontal>\n",
       "\t<dt>italy</dt>\n",
       "\t\t<dd>380</dd>\n",
       "\t<dt>canada</dt>\n",
       "\t\t<dd>124</dd>\n",
       "\t<dt>egypt</dt>\n",
       "\t\t<dd>818</dd>\n",
       "</dl>\n"
      ],
      "text/latex": [
       "\\begin{description*}\n",
       "\\item[italy] 380\n",
       "\\item[canada] 124\n",
       "\\item[egypt] 818\n",
       "\\end{description*}\n"
      ],
      "text/markdown": [
       "italy\n",
       ":   380canada\n",
       ":   124egypt\n",
       ":   818\n",
       "\n"
      ],
      "text/plain": [
       " italy canada  egypt \n",
       "   380    124    818 "
      ]
     },
     "metadata": {},
     "output_type": "display_data"
    }
   ],
   "source": [
    "code <- c(380, 124, 818)\n",
    "country <- c(\"italy\",\"canada\", \"egypt\")\n",
    "names(code) <- country\n",
    "code"
   ]
  },
  {
   "cell_type": "markdown",
   "metadata": {},
   "source": [
    "using the seq( ) function to create sequences"
   ]
  },
  {
   "cell_type": "code",
   "execution_count": 48,
   "metadata": {},
   "outputs": [
    {
     "data": {
      "text/html": [
       "<ol class=list-inline>\n",
       "\t<li>1</li>\n",
       "\t<li>2</li>\n",
       "\t<li>3</li>\n",
       "\t<li>4</li>\n",
       "\t<li>5</li>\n",
       "\t<li>6</li>\n",
       "\t<li>7</li>\n",
       "\t<li>8</li>\n",
       "\t<li>9</li>\n",
       "\t<li>10</li>\n",
       "</ol>\n"
      ],
      "text/latex": [
       "\\begin{enumerate*}\n",
       "\\item 1\n",
       "\\item 2\n",
       "\\item 3\n",
       "\\item 4\n",
       "\\item 5\n",
       "\\item 6\n",
       "\\item 7\n",
       "\\item 8\n",
       "\\item 9\n",
       "\\item 10\n",
       "\\end{enumerate*}\n"
      ],
      "text/markdown": [
       "1. 1\n",
       "2. 2\n",
       "3. 3\n",
       "4. 4\n",
       "5. 5\n",
       "6. 6\n",
       "7. 7\n",
       "8. 8\n",
       "9. 9\n",
       "10. 10\n",
       "\n",
       "\n"
      ],
      "text/plain": [
       " [1]  1  2  3  4  5  6  7  8  9 10"
      ]
     },
     "metadata": {},
     "output_type": "display_data"
    }
   ],
   "source": [
    "seq(1,10)"
   ]
  },
  {
   "cell_type": "code",
   "execution_count": 49,
   "metadata": {},
   "outputs": [
    {
     "data": {
      "text/html": [
       "<ol class=list-inline>\n",
       "\t<li>1</li>\n",
       "\t<li>3</li>\n",
       "\t<li>5</li>\n",
       "\t<li>7</li>\n",
       "\t<li>9</li>\n",
       "</ol>\n"
      ],
      "text/latex": [
       "\\begin{enumerate*}\n",
       "\\item 1\n",
       "\\item 3\n",
       "\\item 5\n",
       "\\item 7\n",
       "\\item 9\n",
       "\\end{enumerate*}\n"
      ],
      "text/markdown": [
       "1. 1\n",
       "2. 3\n",
       "3. 5\n",
       "4. 7\n",
       "5. 9\n",
       "\n",
       "\n"
      ],
      "text/plain": [
       "[1] 1 3 5 7 9"
      ]
     },
     "metadata": {},
     "output_type": "display_data"
    }
   ],
   "source": [
    "seq(1,10,2)"
   ]
  },
  {
   "cell_type": "markdown",
   "metadata": {},
   "source": [
    "another way using short hand to create consecutive numbers"
   ]
  },
  {
   "cell_type": "code",
   "execution_count": 50,
   "metadata": {},
   "outputs": [
    {
     "data": {
      "text/html": [
       "<ol class=list-inline>\n",
       "\t<li>1</li>\n",
       "\t<li>2</li>\n",
       "\t<li>3</li>\n",
       "\t<li>4</li>\n",
       "\t<li>5</li>\n",
       "\t<li>6</li>\n",
       "\t<li>7</li>\n",
       "\t<li>8</li>\n",
       "\t<li>9</li>\n",
       "\t<li>10</li>\n",
       "</ol>\n"
      ],
      "text/latex": [
       "\\begin{enumerate*}\n",
       "\\item 1\n",
       "\\item 2\n",
       "\\item 3\n",
       "\\item 4\n",
       "\\item 5\n",
       "\\item 6\n",
       "\\item 7\n",
       "\\item 8\n",
       "\\item 9\n",
       "\\item 10\n",
       "\\end{enumerate*}\n"
      ],
      "text/markdown": [
       "1. 1\n",
       "2. 2\n",
       "3. 3\n",
       "4. 4\n",
       "5. 5\n",
       "6. 6\n",
       "7. 7\n",
       "8. 8\n",
       "9. 9\n",
       "10. 10\n",
       "\n",
       "\n"
      ],
      "text/plain": [
       " [1]  1  2  3  4  5  6  7  8  9 10"
      ]
     },
     "metadata": {},
     "output_type": "display_data"
    }
   ],
   "source": [
    "1:10"
   ]
  },
  {
   "cell_type": "markdown",
   "metadata": {},
   "source": [
    "### Subsetting to access a subset/elements of a vector"
   ]
  },
  {
   "cell_type": "code",
   "execution_count": 51,
   "metadata": {},
   "outputs": [
    {
     "data": {
      "text/html": [
       "<strong>canada:</strong> 124"
      ],
      "text/latex": [
       "\\textbf{canada:} 124"
      ],
      "text/markdown": [
       "**canada:** 124"
      ],
      "text/plain": [
       "canada \n",
       "   124 "
      ]
     },
     "metadata": {},
     "output_type": "display_data"
    }
   ],
   "source": [
    "code[2]"
   ]
  },
  {
   "cell_type": "code",
   "execution_count": 52,
   "metadata": {},
   "outputs": [
    {
     "data": {
      "text/html": [
       "<strong>italy:</strong> 380"
      ],
      "text/latex": [
       "\\textbf{italy:} 380"
      ],
      "text/markdown": [
       "**italy:** 380"
      ],
      "text/plain": [
       "italy \n",
       "  380 "
      ]
     },
     "metadata": {},
     "output_type": "display_data"
    }
   ],
   "source": [
    "code[1]"
   ]
  },
  {
   "cell_type": "markdown",
   "metadata": {},
   "source": [
    "getting the first and third element of a vector"
   ]
  },
  {
   "cell_type": "code",
   "execution_count": 53,
   "metadata": {},
   "outputs": [
    {
     "data": {
      "text/html": [
       "<dl class=dl-horizontal>\n",
       "\t<dt>italy</dt>\n",
       "\t\t<dd>380</dd>\n",
       "\t<dt>egypt</dt>\n",
       "\t\t<dd>818</dd>\n",
       "</dl>\n"
      ],
      "text/latex": [
       "\\begin{description*}\n",
       "\\item[italy] 380\n",
       "\\item[egypt] 818\n",
       "\\end{description*}\n"
      ],
      "text/markdown": [
       "italy\n",
       ":   380egypt\n",
       ":   818\n",
       "\n"
      ],
      "text/plain": [
       "italy egypt \n",
       "  380   818 "
      ]
     },
     "metadata": {},
     "output_type": "display_data"
    }
   ],
   "source": [
    "code[c(1,3)]"
   ]
  },
  {
   "cell_type": "code",
   "execution_count": 54,
   "metadata": {},
   "outputs": [
    {
     "data": {
      "text/html": [
       "<dl class=dl-horizontal>\n",
       "\t<dt>italy</dt>\n",
       "\t\t<dd>380</dd>\n",
       "\t<dt>canada</dt>\n",
       "\t\t<dd>124</dd>\n",
       "</dl>\n"
      ],
      "text/latex": [
       "\\begin{description*}\n",
       "\\item[italy] 380\n",
       "\\item[canada] 124\n",
       "\\end{description*}\n"
      ],
      "text/markdown": [
       "italy\n",
       ":   380canada\n",
       ":   124\n",
       "\n"
      ],
      "text/plain": [
       " italy canada \n",
       "   380    124 "
      ]
     },
     "metadata": {},
     "output_type": "display_data"
    }
   ],
   "source": [
    "code[1:2]"
   ]
  },
  {
   "cell_type": "code",
   "execution_count": 55,
   "metadata": {},
   "outputs": [
    {
     "data": {
      "text/html": [
       "<strong>italy:</strong> 380"
      ],
      "text/latex": [
       "\\textbf{italy:} 380"
      ],
      "text/markdown": [
       "**italy:** 380"
      ],
      "text/plain": [
       "italy \n",
       "  380 "
      ]
     },
     "metadata": {},
     "output_type": "display_data"
    }
   ],
   "source": [
    "code[\"italy\"]"
   ]
  },
  {
   "cell_type": "code",
   "execution_count": 56,
   "metadata": {},
   "outputs": [
    {
     "data": {
      "text/html": [
       "<dl class=dl-horizontal>\n",
       "\t<dt>egypt</dt>\n",
       "\t\t<dd>818</dd>\n",
       "\t<dt>canada</dt>\n",
       "\t\t<dd>124</dd>\n",
       "</dl>\n"
      ],
      "text/latex": [
       "\\begin{description*}\n",
       "\\item[egypt] 818\n",
       "\\item[canada] 124\n",
       "\\end{description*}\n"
      ],
      "text/markdown": [
       "egypt\n",
       ":   818canada\n",
       ":   124\n",
       "\n"
      ],
      "text/plain": [
       " egypt canada \n",
       "   818    124 "
      ]
     },
     "metadata": {},
     "output_type": "display_data"
    }
   ],
   "source": [
    "code[c(\"egypt\", \"canada\")]"
   ]
  },
  {
   "cell_type": "markdown",
   "metadata": {},
   "source": [
    "### Vector Coercion\n",
    "in below R converted both 1 and 3 into character strings  \n",
    "here we say R coerced data into character "
   ]
  },
  {
   "cell_type": "code",
   "execution_count": 57,
   "metadata": {},
   "outputs": [
    {
     "data": {
      "text/html": [
       "<ol class=list-inline>\n",
       "\t<li>'1'</li>\n",
       "\t<li>'canada'</li>\n",
       "\t<li>'3'</li>\n",
       "</ol>\n"
      ],
      "text/latex": [
       "\\begin{enumerate*}\n",
       "\\item '1'\n",
       "\\item 'canada'\n",
       "\\item '3'\n",
       "\\end{enumerate*}\n"
      ],
      "text/markdown": [
       "1. '1'\n",
       "2. 'canada'\n",
       "3. '3'\n",
       "\n",
       "\n"
      ],
      "text/plain": [
       "[1] \"1\"      \"canada\" \"3\"     "
      ]
     },
     "metadata": {},
     "output_type": "display_data"
    },
    {
     "data": {
      "text/html": [
       "'character'"
      ],
      "text/latex": [
       "'character'"
      ],
      "text/markdown": [
       "'character'"
      ],
      "text/plain": [
       "[1] \"character\""
      ]
     },
     "metadata": {},
     "output_type": "display_data"
    }
   ],
   "source": [
    "x <- c(1,\"canada\", 3)\n",
    "x\n",
    "class(x)"
   ]
  },
  {
   "cell_type": "markdown",
   "metadata": {},
   "source": [
    "converting using the **as** function"
   ]
  },
  {
   "cell_type": "code",
   "execution_count": 58,
   "metadata": {},
   "outputs": [
    {
     "data": {
      "text/html": [
       "<ol class=list-inline>\n",
       "\t<li>'1'</li>\n",
       "\t<li>'2'</li>\n",
       "\t<li>'3'</li>\n",
       "\t<li>'4'</li>\n",
       "\t<li>'5'</li>\n",
       "</ol>\n"
      ],
      "text/latex": [
       "\\begin{enumerate*}\n",
       "\\item '1'\n",
       "\\item '2'\n",
       "\\item '3'\n",
       "\\item '4'\n",
       "\\item '5'\n",
       "\\end{enumerate*}\n"
      ],
      "text/markdown": [
       "1. '1'\n",
       "2. '2'\n",
       "3. '3'\n",
       "4. '4'\n",
       "5. '5'\n",
       "\n",
       "\n"
      ],
      "text/plain": [
       "[1] \"1\" \"2\" \"3\" \"4\" \"5\""
      ]
     },
     "metadata": {},
     "output_type": "display_data"
    }
   ],
   "source": [
    "x <- 1:5\n",
    "y <- as.character(x)\n",
    "y"
   ]
  },
  {
   "cell_type": "code",
   "execution_count": 59,
   "metadata": {},
   "outputs": [
    {
     "data": {
      "text/html": [
       "<ol class=list-inline>\n",
       "\t<li>1</li>\n",
       "\t<li>2</li>\n",
       "\t<li>3</li>\n",
       "\t<li>4</li>\n",
       "\t<li>5</li>\n",
       "</ol>\n"
      ],
      "text/latex": [
       "\\begin{enumerate*}\n",
       "\\item 1\n",
       "\\item 2\n",
       "\\item 3\n",
       "\\item 4\n",
       "\\item 5\n",
       "\\end{enumerate*}\n"
      ],
      "text/markdown": [
       "1. 1\n",
       "2. 2\n",
       "3. 3\n",
       "4. 4\n",
       "5. 5\n",
       "\n",
       "\n"
      ],
      "text/plain": [
       "[1] 1 2 3 4 5"
      ]
     },
     "metadata": {},
     "output_type": "display_data"
    }
   ],
   "source": [
    "as.numeric(y)"
   ]
  },
  {
   "cell_type": "markdown",
   "metadata": {},
   "source": [
    "NA - Not Available (missing)"
   ]
  },
  {
   "cell_type": "code",
   "execution_count": 60,
   "metadata": {},
   "outputs": [
    {
     "name": "stderr",
     "output_type": "stream",
     "text": [
      "Warning message in eval(expr, envir, enclos):\n",
      "“NAs introduced by coercion”"
     ]
    },
    {
     "data": {
      "text/html": [
       "<ol class=list-inline>\n",
       "\t<li>1</li>\n",
       "\t<li>NA</li>\n",
       "\t<li>3</li>\n",
       "</ol>\n"
      ],
      "text/latex": [
       "\\begin{enumerate*}\n",
       "\\item 1\n",
       "\\item NA\n",
       "\\item 3\n",
       "\\end{enumerate*}\n"
      ],
      "text/markdown": [
       "1. 1\n",
       "2. NA\n",
       "3. 3\n",
       "\n",
       "\n"
      ],
      "text/plain": [
       "[1]  1 NA  3"
      ]
     },
     "metadata": {},
     "output_type": "display_data"
    }
   ],
   "source": [
    "x <- c(\"1\",\"b\",\"3\")\n",
    "as.numeric(x)"
   ]
  },
  {
   "cell_type": "markdown",
   "metadata": {},
   "source": [
    "Excersice"
   ]
  },
  {
   "cell_type": "code",
   "execution_count": 61,
   "metadata": {},
   "outputs": [],
   "source": [
    "# Here is an example creating a numeric vector named cost\n",
    "cost <- c(50, 75, 90, 100, 150)\n",
    "\n",
    "# Create a numeric vector to store the temperatures listed in the instructions into a vector named temp\n",
    "# Make sure to follow the same order in the instructions\n",
    "temp <- c(35, 88, 42, 84, 81, 30)"
   ]
  },
  {
   "cell_type": "markdown",
   "metadata": {},
   "source": [
    "We have successfully assigned the temperatures as numeric values to temp and the city names as character values to city. But can we associate the temperature to it's related city? Yes! We can do so using a code we already know - names. We assign names to the numeric values.\n",
    "\n",
    "It would look like this:"
   ]
  },
  {
   "cell_type": "code",
   "execution_count": 62,
   "metadata": {},
   "outputs": [],
   "source": [
    "# Associate the cost values with its corresponding food item\n",
    "cost <- c(50, 75, 90, 100, 150)\n",
    "food <- c(\"pizza\", \"burgers\", \"salads\", \"cheese\", \"pasta\")\n",
    "names(cost) <- food\n",
    "\n",
    "# You already wrote this code\n",
    "temp <- c(35, 88, 42, 84, 81, 30)\n",
    "city <- c(\"Beijing\", \"Lagos\", \"Paris\", \"Rio de Janeiro\", \"San Juan\", \"Toronto\")\n",
    "\n",
    "# Associate the temperature values with its corresponding city\n",
    "names(temp) <- city"
   ]
  },
  {
   "cell_type": "code",
   "execution_count": 63,
   "metadata": {},
   "outputs": [
    {
     "data": {
      "text/html": [
       "<dl class=dl-horizontal>\n",
       "\t<dt>pizza</dt>\n",
       "\t\t<dd>50</dd>\n",
       "\t<dt>burgers</dt>\n",
       "\t\t<dd>75</dd>\n",
       "\t<dt>salads</dt>\n",
       "\t\t<dd>90</dd>\n",
       "\t<dt>cheese</dt>\n",
       "\t\t<dd>100</dd>\n",
       "\t<dt>pasta</dt>\n",
       "\t\t<dd>150</dd>\n",
       "</dl>\n"
      ],
      "text/latex": [
       "\\begin{description*}\n",
       "\\item[pizza] 50\n",
       "\\item[burgers] 75\n",
       "\\item[salads] 90\n",
       "\\item[cheese] 100\n",
       "\\item[pasta] 150\n",
       "\\end{description*}\n"
      ],
      "text/markdown": [
       "pizza\n",
       ":   50burgers\n",
       ":   75salads\n",
       ":   90cheese\n",
       ":   100pasta\n",
       ":   150\n",
       "\n"
      ],
      "text/plain": [
       "  pizza burgers  salads  cheese   pasta \n",
       "     50      75      90     100     150 "
      ]
     },
     "metadata": {},
     "output_type": "display_data"
    }
   ],
   "source": [
    "cost"
   ]
  },
  {
   "cell_type": "code",
   "execution_count": 64,
   "metadata": {},
   "outputs": [
    {
     "data": {
      "text/html": [
       "<dl class=dl-horizontal>\n",
       "\t<dt>Beijing</dt>\n",
       "\t\t<dd>35</dd>\n",
       "\t<dt>Lagos</dt>\n",
       "\t\t<dd>88</dd>\n",
       "\t<dt>Paris</dt>\n",
       "\t\t<dd>42</dd>\n",
       "\t<dt>Rio de Janeiro</dt>\n",
       "\t\t<dd>84</dd>\n",
       "\t<dt>San Juan</dt>\n",
       "\t\t<dd>81</dd>\n",
       "\t<dt>Toronto</dt>\n",
       "\t\t<dd>30</dd>\n",
       "</dl>\n"
      ],
      "text/latex": [
       "\\begin{description*}\n",
       "\\item[Beijing] 35\n",
       "\\item[Lagos] 88\n",
       "\\item[Paris] 42\n",
       "\\item[Rio de Janeiro] 84\n",
       "\\item[San Juan] 81\n",
       "\\item[Toronto] 30\n",
       "\\end{description*}\n"
      ],
      "text/markdown": [
       "Beijing\n",
       ":   35Lagos\n",
       ":   88Paris\n",
       ":   42Rio de Janeiro\n",
       ":   84San Juan\n",
       ":   81Toronto\n",
       ":   30\n",
       "\n"
      ],
      "text/plain": [
       "       Beijing          Lagos          Paris Rio de Janeiro       San Juan \n",
       "            35             88             42             84             81 \n",
       "       Toronto \n",
       "            30 "
      ]
     },
     "metadata": {},
     "output_type": "display_data"
    }
   ],
   "source": [
    "temp"
   ]
  },
  {
   "cell_type": "code",
   "execution_count": null,
   "metadata": {},
   "outputs": [],
   "source": [
    "?\"seq\""
   ]
  },
  {
   "cell_type": "markdown",
   "metadata": {},
   "source": [
    "#### Sequences of certain length\n",
    "\n",
    "The seq() function has another useful argument. The argument length.out. This argument lets us generate sequences that are increasing by the same amount but are of the prespecified length.\n",
    "\n",
    "For example, this line of code"
   ]
  },
  {
   "cell_type": "code",
   "execution_count": 65,
   "metadata": {},
   "outputs": [
    {
     "data": {
      "text/html": [
       "<ol class=list-inline>\n",
       "\t<li>0</li>\n",
       "\t<li>25</li>\n",
       "\t<li>50</li>\n",
       "\t<li>75</li>\n",
       "\t<li>100</li>\n",
       "</ol>\n"
      ],
      "text/latex": [
       "\\begin{enumerate*}\n",
       "\\item 0\n",
       "\\item 25\n",
       "\\item 50\n",
       "\\item 75\n",
       "\\item 100\n",
       "\\end{enumerate*}\n"
      ],
      "text/markdown": [
       "1. 0\n",
       "2. 25\n",
       "3. 50\n",
       "4. 75\n",
       "5. 100\n",
       "\n",
       "\n"
      ],
      "text/plain": [
       "[1]   0  25  50  75 100"
      ]
     },
     "metadata": {},
     "output_type": "display_data"
    },
    {
     "data": {
      "text/html": [
       "'numeric'"
      ],
      "text/latex": [
       "'numeric'"
      ],
      "text/markdown": [
       "'numeric'"
      ],
      "text/plain": [
       "[1] \"numeric\""
      ]
     },
     "metadata": {},
     "output_type": "display_data"
    }
   ],
   "source": [
    "x <- seq(0, 100, length.out = 5)\n",
    "#produces the numbers 0, 25, 50, 75, 100.\n",
    "x\n",
    "class(x)"
   ]
  },
  {
   "cell_type": "code",
   "execution_count": 66,
   "metadata": {},
   "outputs": [],
   "source": [
    "a <- seq(1, 10, length.out = 100)"
   ]
  },
  {
   "cell_type": "markdown",
   "metadata": {},
   "source": [
    "#### Integers\n",
    "\n",
    "We have discussed the numeric class. We just saw that the seq function can generate objects of this class. For another example type\n",
    "\n",
    "class(seq(1, 10, 0.5))\n",
    "into the console and note that the class is numeric. R has another type of vector we have not described, the integer class. You can create an integer by adding the letter L after a whole number. If you type\n",
    "\n",
    "class(3L)\n",
    "in the console, you see this is an integer and not a numeric. For most practical purposes, integers and numerics are indistinguishable. For example 3, the integer, minus 3 the numeric is 0. To see this type this in the console\n",
    "\n",
    "3L - 3\n",
    "The main difference is that integers occupy less space in the computer memory, so for big computations using integers can have a substantial impact."
   ]
  },
  {
   "cell_type": "code",
   "execution_count": 67,
   "metadata": {},
   "outputs": [
    {
     "data": {
      "text/html": [
       "'numeric'"
      ],
      "text/latex": [
       "'numeric'"
      ],
      "text/markdown": [
       "'numeric'"
      ],
      "text/plain": [
       "[1] \"numeric\""
      ]
     },
     "metadata": {},
     "output_type": "display_data"
    },
    {
     "data": {
      "text/html": [
       "'integer'"
      ],
      "text/latex": [
       "'integer'"
      ],
      "text/markdown": [
       "'integer'"
      ],
      "text/plain": [
       "[1] \"integer\""
      ]
     },
     "metadata": {},
     "output_type": "display_data"
    }
   ],
   "source": [
    "class(seq(1, 10, 0.5))\n",
    "class(3L)"
   ]
  },
  {
   "cell_type": "code",
   "execution_count": 68,
   "metadata": {},
   "outputs": [
    {
     "data": {
      "text/html": [
       "0"
      ],
      "text/latex": [
       "0"
      ],
      "text/markdown": [
       "0"
      ],
      "text/plain": [
       "[1] 0"
      ]
     },
     "metadata": {},
     "output_type": "display_data"
    }
   ],
   "source": [
    "3L - 3"
   ]
  },
  {
   "cell_type": "markdown",
   "metadata": {},
   "source": [
    "#### Coercion\n",
    "\n",
    "The concept of coercion is a very important one. Watching the video, we learned that when an entry does not match what an R function is expecting, R tries to guess what we meant before throwing an error. This might get confusing at times.\n",
    "\n",
    "As we've discussed in earlier questions, there are numeric and character vectors. The character vectors are placed in quotes and the numerics are not.\n",
    "\n",
    "We can avoid issues with coercion in R by changing characters to numerics and vice-versa. This is known as typecasting. The code, as.numeric(x) helps us convert character strings to integers. There is an equivalent function that converts integers to strings, as.character(x)."
   ]
  },
  {
   "cell_type": "markdown",
   "metadata": {},
   "source": [
    "## Sorting"
   ]
  },
  {
   "cell_type": "code",
   "execution_count": 69,
   "metadata": {},
   "outputs": [],
   "source": [
    "library(dslabs)\n",
    "data(murders)"
   ]
  },
  {
   "cell_type": "code",
   "execution_count": 70,
   "metadata": {},
   "outputs": [
    {
     "data": {
      "text/html": [
       "<ol class=list-inline>\n",
       "\t<li>2</li>\n",
       "\t<li>4</li>\n",
       "\t<li>5</li>\n",
       "\t<li>5</li>\n",
       "\t<li>7</li>\n",
       "\t<li>8</li>\n",
       "\t<li>11</li>\n",
       "\t<li>12</li>\n",
       "\t<li>12</li>\n",
       "\t<li>16</li>\n",
       "\t<li>19</li>\n",
       "\t<li>21</li>\n",
       "\t<li>22</li>\n",
       "\t<li>27</li>\n",
       "\t<li>32</li>\n",
       "\t<li>36</li>\n",
       "\t<li>38</li>\n",
       "\t<li>53</li>\n",
       "\t<li>63</li>\n",
       "\t<li>65</li>\n",
       "\t<li>67</li>\n",
       "\t<li>84</li>\n",
       "\t<li>93</li>\n",
       "\t<li>93</li>\n",
       "\t<li>97</li>\n",
       "\t<li>97</li>\n",
       "\t<li>99</li>\n",
       "\t<li>111</li>\n",
       "\t<li>116</li>\n",
       "\t<li>118</li>\n",
       "\t<li>120</li>\n",
       "\t<li>135</li>\n",
       "\t<li>142</li>\n",
       "\t<li>207</li>\n",
       "\t<li>219</li>\n",
       "\t<li>232</li>\n",
       "\t<li>246</li>\n",
       "\t<li>250</li>\n",
       "\t<li>286</li>\n",
       "\t<li>293</li>\n",
       "\t<li>310</li>\n",
       "\t<li>321</li>\n",
       "\t<li>351</li>\n",
       "\t<li>364</li>\n",
       "\t<li>376</li>\n",
       "\t<li>413</li>\n",
       "\t<li>457</li>\n",
       "\t<li>517</li>\n",
       "\t<li>669</li>\n",
       "\t<li>805</li>\n",
       "\t<li>1257</li>\n",
       "</ol>\n"
      ],
      "text/latex": [
       "\\begin{enumerate*}\n",
       "\\item 2\n",
       "\\item 4\n",
       "\\item 5\n",
       "\\item 5\n",
       "\\item 7\n",
       "\\item 8\n",
       "\\item 11\n",
       "\\item 12\n",
       "\\item 12\n",
       "\\item 16\n",
       "\\item 19\n",
       "\\item 21\n",
       "\\item 22\n",
       "\\item 27\n",
       "\\item 32\n",
       "\\item 36\n",
       "\\item 38\n",
       "\\item 53\n",
       "\\item 63\n",
       "\\item 65\n",
       "\\item 67\n",
       "\\item 84\n",
       "\\item 93\n",
       "\\item 93\n",
       "\\item 97\n",
       "\\item 97\n",
       "\\item 99\n",
       "\\item 111\n",
       "\\item 116\n",
       "\\item 118\n",
       "\\item 120\n",
       "\\item 135\n",
       "\\item 142\n",
       "\\item 207\n",
       "\\item 219\n",
       "\\item 232\n",
       "\\item 246\n",
       "\\item 250\n",
       "\\item 286\n",
       "\\item 293\n",
       "\\item 310\n",
       "\\item 321\n",
       "\\item 351\n",
       "\\item 364\n",
       "\\item 376\n",
       "\\item 413\n",
       "\\item 457\n",
       "\\item 517\n",
       "\\item 669\n",
       "\\item 805\n",
       "\\item 1257\n",
       "\\end{enumerate*}\n"
      ],
      "text/markdown": [
       "1. 2\n",
       "2. 4\n",
       "3. 5\n",
       "4. 5\n",
       "5. 7\n",
       "6. 8\n",
       "7. 11\n",
       "8. 12\n",
       "9. 12\n",
       "10. 16\n",
       "11. 19\n",
       "12. 21\n",
       "13. 22\n",
       "14. 27\n",
       "15. 32\n",
       "16. 36\n",
       "17. 38\n",
       "18. 53\n",
       "19. 63\n",
       "20. 65\n",
       "21. 67\n",
       "22. 84\n",
       "23. 93\n",
       "24. 93\n",
       "25. 97\n",
       "26. 97\n",
       "27. 99\n",
       "28. 111\n",
       "29. 116\n",
       "30. 118\n",
       "31. 120\n",
       "32. 135\n",
       "33. 142\n",
       "34. 207\n",
       "35. 219\n",
       "36. 232\n",
       "37. 246\n",
       "38. 250\n",
       "39. 286\n",
       "40. 293\n",
       "41. 310\n",
       "42. 321\n",
       "43. 351\n",
       "44. 364\n",
       "45. 376\n",
       "46. 413\n",
       "47. 457\n",
       "48. 517\n",
       "49. 669\n",
       "50. 805\n",
       "51. 1257\n",
       "\n",
       "\n"
      ],
      "text/plain": [
       " [1]    2    4    5    5    7    8   11   12   12   16   19   21   22   27   32\n",
       "[16]   36   38   53   63   65   67   84   93   93   97   97   99  111  116  118\n",
       "[31]  120  135  142  207  219  232  246  250  286  293  310  321  351  364  376\n",
       "[46]  413  457  517  669  805 1257"
      ]
     },
     "metadata": {},
     "output_type": "display_data"
    }
   ],
   "source": [
    "sort(murders$total)"
   ]
  },
  {
   "cell_type": "code",
   "execution_count": 71,
   "metadata": {},
   "outputs": [
    {
     "data": {
      "text/html": [
       "<ol class=list-inline>\n",
       "\t<li>135</li>\n",
       "\t<li>19</li>\n",
       "\t<li>232</li>\n",
       "\t<li>93</li>\n",
       "\t<li>1257</li>\n",
       "\t<li>65</li>\n",
       "\t<li>97</li>\n",
       "\t<li>38</li>\n",
       "\t<li>99</li>\n",
       "\t<li>669</li>\n",
       "\t<li>376</li>\n",
       "\t<li>7</li>\n",
       "\t<li>12</li>\n",
       "\t<li>364</li>\n",
       "\t<li>142</li>\n",
       "\t<li>21</li>\n",
       "\t<li>63</li>\n",
       "\t<li>116</li>\n",
       "\t<li>351</li>\n",
       "\t<li>11</li>\n",
       "\t<li>293</li>\n",
       "\t<li>118</li>\n",
       "\t<li>413</li>\n",
       "\t<li>53</li>\n",
       "\t<li>120</li>\n",
       "\t<li>321</li>\n",
       "\t<li>12</li>\n",
       "\t<li>32</li>\n",
       "\t<li>84</li>\n",
       "\t<li>5</li>\n",
       "\t<li>246</li>\n",
       "\t<li>67</li>\n",
       "\t<li>517</li>\n",
       "\t<li>286</li>\n",
       "\t<li>4</li>\n",
       "\t<li>310</li>\n",
       "\t<li>111</li>\n",
       "\t<li>36</li>\n",
       "\t<li>457</li>\n",
       "\t<li>16</li>\n",
       "\t<li>207</li>\n",
       "\t<li>8</li>\n",
       "\t<li>219</li>\n",
       "\t<li>805</li>\n",
       "\t<li>22</li>\n",
       "\t<li>2</li>\n",
       "\t<li>250</li>\n",
       "\t<li>93</li>\n",
       "\t<li>27</li>\n",
       "\t<li>97</li>\n",
       "\t<li>5</li>\n",
       "</ol>\n"
      ],
      "text/latex": [
       "\\begin{enumerate*}\n",
       "\\item 135\n",
       "\\item 19\n",
       "\\item 232\n",
       "\\item 93\n",
       "\\item 1257\n",
       "\\item 65\n",
       "\\item 97\n",
       "\\item 38\n",
       "\\item 99\n",
       "\\item 669\n",
       "\\item 376\n",
       "\\item 7\n",
       "\\item 12\n",
       "\\item 364\n",
       "\\item 142\n",
       "\\item 21\n",
       "\\item 63\n",
       "\\item 116\n",
       "\\item 351\n",
       "\\item 11\n",
       "\\item 293\n",
       "\\item 118\n",
       "\\item 413\n",
       "\\item 53\n",
       "\\item 120\n",
       "\\item 321\n",
       "\\item 12\n",
       "\\item 32\n",
       "\\item 84\n",
       "\\item 5\n",
       "\\item 246\n",
       "\\item 67\n",
       "\\item 517\n",
       "\\item 286\n",
       "\\item 4\n",
       "\\item 310\n",
       "\\item 111\n",
       "\\item 36\n",
       "\\item 457\n",
       "\\item 16\n",
       "\\item 207\n",
       "\\item 8\n",
       "\\item 219\n",
       "\\item 805\n",
       "\\item 22\n",
       "\\item 2\n",
       "\\item 250\n",
       "\\item 93\n",
       "\\item 27\n",
       "\\item 97\n",
       "\\item 5\n",
       "\\end{enumerate*}\n"
      ],
      "text/markdown": [
       "1. 135\n",
       "2. 19\n",
       "3. 232\n",
       "4. 93\n",
       "5. 1257\n",
       "6. 65\n",
       "7. 97\n",
       "8. 38\n",
       "9. 99\n",
       "10. 669\n",
       "11. 376\n",
       "12. 7\n",
       "13. 12\n",
       "14. 364\n",
       "15. 142\n",
       "16. 21\n",
       "17. 63\n",
       "18. 116\n",
       "19. 351\n",
       "20. 11\n",
       "21. 293\n",
       "22. 118\n",
       "23. 413\n",
       "24. 53\n",
       "25. 120\n",
       "26. 321\n",
       "27. 12\n",
       "28. 32\n",
       "29. 84\n",
       "30. 5\n",
       "31. 246\n",
       "32. 67\n",
       "33. 517\n",
       "34. 286\n",
       "35. 4\n",
       "36. 310\n",
       "37. 111\n",
       "38. 36\n",
       "39. 457\n",
       "40. 16\n",
       "41. 207\n",
       "42. 8\n",
       "43. 219\n",
       "44. 805\n",
       "45. 22\n",
       "46. 2\n",
       "47. 250\n",
       "48. 93\n",
       "49. 27\n",
       "50. 97\n",
       "51. 5\n",
       "\n",
       "\n"
      ],
      "text/plain": [
       " [1]  135   19  232   93 1257   65   97   38   99  669  376    7   12  364  142\n",
       "[16]   21   63  116  351   11  293  118  413   53  120  321   12   32   84    5\n",
       "[31]  246   67  517  286    4  310  111   36  457   16  207    8  219  805   22\n",
       "[46]    2  250   93   27   97    5"
      ]
     },
     "metadata": {},
     "output_type": "display_data"
    }
   ],
   "source": [
    "murders$total"
   ]
  },
  {
   "cell_type": "markdown",
   "metadata": {},
   "source": [
    "### order \n",
    "\n",
    "The function order() returns the index vector needed to sort the vector. This implies that sort(x) and x[order(x)] give the same result.\n",
    "\n",
    "This can be useful for finding row numbers with certain properties such as \"the row for the state with the smallest population\". Remember that when we extract a variable from a data frame the order of the resulting vector is the same as the order of the rows of the data frame. So for example, the entries of the vector murders$state are ordered in the same way as the states if you go down the rows of murders.\n",
    "\n",
    "\n",
    "**returns the indices that sort the vector parameter**"
   ]
  },
  {
   "cell_type": "code",
   "execution_count": 72,
   "metadata": {},
   "outputs": [
    {
     "data": {
      "text/html": [
       "<ol class=list-inline>\n",
       "\t<li>31</li>\n",
       "\t<li>4</li>\n",
       "\t<li>15</li>\n",
       "\t<li>92</li>\n",
       "\t<li>65</li>\n",
       "</ol>\n"
      ],
      "text/latex": [
       "\\begin{enumerate*}\n",
       "\\item 31\n",
       "\\item 4\n",
       "\\item 15\n",
       "\\item 92\n",
       "\\item 65\n",
       "\\end{enumerate*}\n"
      ],
      "text/markdown": [
       "1. 31\n",
       "2. 4\n",
       "3. 15\n",
       "4. 92\n",
       "5. 65\n",
       "\n",
       "\n"
      ],
      "text/plain": [
       "[1] 31  4 15 92 65"
      ]
     },
     "metadata": {},
     "output_type": "display_data"
    }
   ],
   "source": [
    "x <- c(31, 4, 15, 92, 65)\n",
    "x"
   ]
  },
  {
   "cell_type": "code",
   "execution_count": 73,
   "metadata": {},
   "outputs": [
    {
     "data": {
      "text/html": [
       "<ol class=list-inline>\n",
       "\t<li>4</li>\n",
       "\t<li>15</li>\n",
       "\t<li>31</li>\n",
       "\t<li>65</li>\n",
       "\t<li>92</li>\n",
       "</ol>\n"
      ],
      "text/latex": [
       "\\begin{enumerate*}\n",
       "\\item 4\n",
       "\\item 15\n",
       "\\item 31\n",
       "\\item 65\n",
       "\\item 92\n",
       "\\end{enumerate*}\n"
      ],
      "text/markdown": [
       "1. 4\n",
       "2. 15\n",
       "3. 31\n",
       "4. 65\n",
       "5. 92\n",
       "\n",
       "\n"
      ],
      "text/plain": [
       "[1]  4 15 31 65 92"
      ]
     },
     "metadata": {},
     "output_type": "display_data"
    }
   ],
   "source": [
    "sort(x)"
   ]
  },
  {
   "cell_type": "code",
   "execution_count": 74,
   "metadata": {},
   "outputs": [
    {
     "data": {
      "text/html": [
       "<ol class=list-inline>\n",
       "\t<li>2</li>\n",
       "\t<li>3</li>\n",
       "\t<li>1</li>\n",
       "\t<li>5</li>\n",
       "\t<li>4</li>\n",
       "</ol>\n"
      ],
      "text/latex": [
       "\\begin{enumerate*}\n",
       "\\item 2\n",
       "\\item 3\n",
       "\\item 1\n",
       "\\item 5\n",
       "\\item 4\n",
       "\\end{enumerate*}\n"
      ],
      "text/markdown": [
       "1. 2\n",
       "2. 3\n",
       "3. 1\n",
       "4. 5\n",
       "5. 4\n",
       "\n",
       "\n"
      ],
      "text/plain": [
       "[1] 2 3 1 5 4"
      ]
     },
     "metadata": {},
     "output_type": "display_data"
    }
   ],
   "source": [
    "index <- order(x)\n",
    "# order(x) is the index that puts the vector x in order\n",
    "index"
   ]
  },
  {
   "cell_type": "code",
   "execution_count": 75,
   "metadata": {},
   "outputs": [
    {
     "data": {
      "text/html": [
       "<ol class=list-inline>\n",
       "\t<li>4</li>\n",
       "\t<li>15</li>\n",
       "\t<li>31</li>\n",
       "\t<li>65</li>\n",
       "\t<li>92</li>\n",
       "</ol>\n"
      ],
      "text/latex": [
       "\\begin{enumerate*}\n",
       "\\item 4\n",
       "\\item 15\n",
       "\\item 31\n",
       "\\item 65\n",
       "\\item 92\n",
       "\\end{enumerate*}\n"
      ],
      "text/markdown": [
       "1. 4\n",
       "2. 15\n",
       "3. 31\n",
       "4. 65\n",
       "5. 92\n",
       "\n",
       "\n"
      ],
      "text/plain": [
       "[1]  4 15 31 65 92"
      ]
     },
     "metadata": {},
     "output_type": "display_data"
    }
   ],
   "source": [
    "x[index]"
   ]
  },
  {
   "cell_type": "markdown",
   "metadata": {},
   "source": [
    "Order state names by their total murders"
   ]
  },
  {
   "cell_type": "code",
   "execution_count": 76,
   "metadata": {},
   "outputs": [
    {
     "data": {
      "text/html": [
       "<ol class=list-inline>\n",
       "\t<li>'VT'</li>\n",
       "\t<li>'ND'</li>\n",
       "\t<li>'NH'</li>\n",
       "\t<li>'WY'</li>\n",
       "\t<li>'HI'</li>\n",
       "\t<li>'SD'</li>\n",
       "\t<li>'ME'</li>\n",
       "\t<li>'ID'</li>\n",
       "\t<li>'MT'</li>\n",
       "\t<li>'RI'</li>\n",
       "\t<li>'AK'</li>\n",
       "\t<li>'IA'</li>\n",
       "\t<li>'UT'</li>\n",
       "\t<li>'WV'</li>\n",
       "\t<li>'NE'</li>\n",
       "\t<li>'OR'</li>\n",
       "\t<li>'DE'</li>\n",
       "\t<li>'MN'</li>\n",
       "\t<li>'KS'</li>\n",
       "\t<li>'CO'</li>\n",
       "\t<li>'NM'</li>\n",
       "\t<li>'NV'</li>\n",
       "\t<li>'AR'</li>\n",
       "\t<li>'WA'</li>\n",
       "\t<li>'CT'</li>\n",
       "\t<li>'WI'</li>\n",
       "\t<li>'DC'</li>\n",
       "\t<li>'OK'</li>\n",
       "\t<li>'KY'</li>\n",
       "\t<li>'MA'</li>\n",
       "\t<li>'MS'</li>\n",
       "\t<li>'AL'</li>\n",
       "\t<li>'IN'</li>\n",
       "\t<li>'SC'</li>\n",
       "\t<li>'TN'</li>\n",
       "\t<li>'AZ'</li>\n",
       "\t<li>'NJ'</li>\n",
       "\t<li>'VA'</li>\n",
       "\t<li>'NC'</li>\n",
       "\t<li>'MD'</li>\n",
       "\t<li>'OH'</li>\n",
       "\t<li>'MO'</li>\n",
       "\t<li>'LA'</li>\n",
       "\t<li>'IL'</li>\n",
       "\t<li>'GA'</li>\n",
       "\t<li>'MI'</li>\n",
       "\t<li>'PA'</li>\n",
       "\t<li>'NY'</li>\n",
       "\t<li>'FL'</li>\n",
       "\t<li>'TX'</li>\n",
       "\t<li>'CA'</li>\n",
       "</ol>\n"
      ],
      "text/latex": [
       "\\begin{enumerate*}\n",
       "\\item 'VT'\n",
       "\\item 'ND'\n",
       "\\item 'NH'\n",
       "\\item 'WY'\n",
       "\\item 'HI'\n",
       "\\item 'SD'\n",
       "\\item 'ME'\n",
       "\\item 'ID'\n",
       "\\item 'MT'\n",
       "\\item 'RI'\n",
       "\\item 'AK'\n",
       "\\item 'IA'\n",
       "\\item 'UT'\n",
       "\\item 'WV'\n",
       "\\item 'NE'\n",
       "\\item 'OR'\n",
       "\\item 'DE'\n",
       "\\item 'MN'\n",
       "\\item 'KS'\n",
       "\\item 'CO'\n",
       "\\item 'NM'\n",
       "\\item 'NV'\n",
       "\\item 'AR'\n",
       "\\item 'WA'\n",
       "\\item 'CT'\n",
       "\\item 'WI'\n",
       "\\item 'DC'\n",
       "\\item 'OK'\n",
       "\\item 'KY'\n",
       "\\item 'MA'\n",
       "\\item 'MS'\n",
       "\\item 'AL'\n",
       "\\item 'IN'\n",
       "\\item 'SC'\n",
       "\\item 'TN'\n",
       "\\item 'AZ'\n",
       "\\item 'NJ'\n",
       "\\item 'VA'\n",
       "\\item 'NC'\n",
       "\\item 'MD'\n",
       "\\item 'OH'\n",
       "\\item 'MO'\n",
       "\\item 'LA'\n",
       "\\item 'IL'\n",
       "\\item 'GA'\n",
       "\\item 'MI'\n",
       "\\item 'PA'\n",
       "\\item 'NY'\n",
       "\\item 'FL'\n",
       "\\item 'TX'\n",
       "\\item 'CA'\n",
       "\\end{enumerate*}\n"
      ],
      "text/markdown": [
       "1. 'VT'\n",
       "2. 'ND'\n",
       "3. 'NH'\n",
       "4. 'WY'\n",
       "5. 'HI'\n",
       "6. 'SD'\n",
       "7. 'ME'\n",
       "8. 'ID'\n",
       "9. 'MT'\n",
       "10. 'RI'\n",
       "11. 'AK'\n",
       "12. 'IA'\n",
       "13. 'UT'\n",
       "14. 'WV'\n",
       "15. 'NE'\n",
       "16. 'OR'\n",
       "17. 'DE'\n",
       "18. 'MN'\n",
       "19. 'KS'\n",
       "20. 'CO'\n",
       "21. 'NM'\n",
       "22. 'NV'\n",
       "23. 'AR'\n",
       "24. 'WA'\n",
       "25. 'CT'\n",
       "26. 'WI'\n",
       "27. 'DC'\n",
       "28. 'OK'\n",
       "29. 'KY'\n",
       "30. 'MA'\n",
       "31. 'MS'\n",
       "32. 'AL'\n",
       "33. 'IN'\n",
       "34. 'SC'\n",
       "35. 'TN'\n",
       "36. 'AZ'\n",
       "37. 'NJ'\n",
       "38. 'VA'\n",
       "39. 'NC'\n",
       "40. 'MD'\n",
       "41. 'OH'\n",
       "42. 'MO'\n",
       "43. 'LA'\n",
       "44. 'IL'\n",
       "45. 'GA'\n",
       "46. 'MI'\n",
       "47. 'PA'\n",
       "48. 'NY'\n",
       "49. 'FL'\n",
       "50. 'TX'\n",
       "51. 'CA'\n",
       "\n",
       "\n"
      ],
      "text/plain": [
       " [1] \"VT\" \"ND\" \"NH\" \"WY\" \"HI\" \"SD\" \"ME\" \"ID\" \"MT\" \"RI\" \"AK\" \"IA\" \"UT\" \"WV\" \"NE\"\n",
       "[16] \"OR\" \"DE\" \"MN\" \"KS\" \"CO\" \"NM\" \"NV\" \"AR\" \"WA\" \"CT\" \"WI\" \"DC\" \"OK\" \"KY\" \"MA\"\n",
       "[31] \"MS\" \"AL\" \"IN\" \"SC\" \"TN\" \"AZ\" \"NJ\" \"VA\" \"NC\" \"MD\" \"OH\" \"MO\" \"LA\" \"IL\" \"GA\"\n",
       "[46] \"MI\" \"PA\" \"NY\" \"FL\" \"TX\" \"CA\""
      ]
     },
     "metadata": {},
     "output_type": "display_data"
    }
   ],
   "source": [
    "index <- order(murders$total)\n",
    "murders$abb[index]"
   ]
  },
  {
   "cell_type": "markdown",
   "metadata": {},
   "source": [
    "#### Max and Which.max"
   ]
  },
  {
   "cell_type": "code",
   "execution_count": 77,
   "metadata": {},
   "outputs": [
    {
     "data": {
      "text/html": [
       "1257"
      ],
      "text/latex": [
       "1257"
      ],
      "text/markdown": [
       "1257"
      ],
      "text/plain": [
       "[1] 1257"
      ]
     },
     "metadata": {},
     "output_type": "display_data"
    }
   ],
   "source": [
    "max(murders$total)"
   ]
  },
  {
   "cell_type": "code",
   "execution_count": 78,
   "metadata": {},
   "outputs": [
    {
     "data": {
      "text/html": [
       "5"
      ],
      "text/latex": [
       "5"
      ],
      "text/markdown": [
       "5"
      ],
      "text/plain": [
       "[1] 5"
      ]
     },
     "metadata": {},
     "output_type": "display_data"
    }
   ],
   "source": [
    "which.max(murders$total) #I get back the index"
   ]
  },
  {
   "cell_type": "code",
   "execution_count": 79,
   "metadata": {},
   "outputs": [
    {
     "data": {
      "text/html": [
       "'California'"
      ],
      "text/latex": [
       "'California'"
      ],
      "text/markdown": [
       "'California'"
      ],
      "text/plain": [
       "[1] \"California\""
      ]
     },
     "metadata": {},
     "output_type": "display_data"
    }
   ],
   "source": [
    "i_max = which.max(murders$total)\n",
    "murders$state[i_max]"
   ]
  },
  {
   "cell_type": "markdown",
   "metadata": {},
   "source": [
    "#### Rank"
   ]
  },
  {
   "cell_type": "code",
   "execution_count": 80,
   "metadata": {},
   "outputs": [
    {
     "data": {
      "text/html": [
       "<ol class=list-inline>\n",
       "\t<li>31</li>\n",
       "\t<li>4</li>\n",
       "\t<li>15</li>\n",
       "\t<li>92</li>\n",
       "\t<li>65</li>\n",
       "</ol>\n"
      ],
      "text/latex": [
       "\\begin{enumerate*}\n",
       "\\item 31\n",
       "\\item 4\n",
       "\\item 15\n",
       "\\item 92\n",
       "\\item 65\n",
       "\\end{enumerate*}\n"
      ],
      "text/markdown": [
       "1. 31\n",
       "2. 4\n",
       "3. 15\n",
       "4. 92\n",
       "5. 65\n",
       "\n",
       "\n"
      ],
      "text/plain": [
       "[1] 31  4 15 92 65"
      ]
     },
     "metadata": {},
     "output_type": "display_data"
    }
   ],
   "source": [
    "x <- c(31, 4, 15, 92, 65)\n",
    "x"
   ]
  },
  {
   "cell_type": "code",
   "execution_count": 81,
   "metadata": {},
   "outputs": [
    {
     "data": {
      "text/html": [
       "<ol class=list-inline>\n",
       "\t<li>3</li>\n",
       "\t<li>1</li>\n",
       "\t<li>2</li>\n",
       "\t<li>5</li>\n",
       "\t<li>4</li>\n",
       "</ol>\n"
      ],
      "text/latex": [
       "\\begin{enumerate*}\n",
       "\\item 3\n",
       "\\item 1\n",
       "\\item 2\n",
       "\\item 5\n",
       "\\item 4\n",
       "\\end{enumerate*}\n"
      ],
      "text/markdown": [
       "1. 3\n",
       "2. 1\n",
       "3. 2\n",
       "4. 5\n",
       "5. 4\n",
       "\n",
       "\n"
      ],
      "text/plain": [
       "[1] 3 1 2 5 4"
      ]
     },
     "metadata": {},
     "output_type": "display_data"
    }
   ],
   "source": [
    "rank(x)"
   ]
  },
  {
   "cell_type": "markdown",
   "metadata": {},
   "source": [
    "### Excersice"
   ]
  },
  {
   "cell_type": "code",
   "execution_count": 82,
   "metadata": {},
   "outputs": [
    {
     "data": {
      "text/html": [
       "51"
      ],
      "text/latex": [
       "51"
      ],
      "text/markdown": [
       "51"
      ],
      "text/plain": [
       "[1] 51"
      ]
     },
     "metadata": {},
     "output_type": "display_data"
    }
   ],
   "source": [
    "# Access population from the dataset and store it in pop\n",
    "pop <- murders$population\n",
    "# Use the command order, to order pop and store in object o\n",
    "o <- order(pop)\n",
    "# Find the index number of the entry with the smallest population size\n",
    "o[1]"
   ]
  },
  {
   "cell_type": "code",
   "execution_count": 83,
   "metadata": {},
   "outputs": [
    {
     "data": {
      "text/html": [
       "<ol class=list-inline>\n",
       "\t<li>51</li>\n",
       "\t<li>9</li>\n",
       "\t<li>46</li>\n",
       "\t<li>35</li>\n",
       "\t<li>2</li>\n",
       "\t<li>42</li>\n",
       "\t<li>8</li>\n",
       "\t<li>27</li>\n",
       "\t<li>40</li>\n",
       "\t<li>30</li>\n",
       "\t<li>20</li>\n",
       "\t<li>12</li>\n",
       "\t<li>13</li>\n",
       "\t<li>28</li>\n",
       "\t<li>49</li>\n",
       "\t<li>32</li>\n",
       "\t<li>29</li>\n",
       "\t<li>45</li>\n",
       "\t<li>17</li>\n",
       "\t<li>4</li>\n",
       "\t<li>25</li>\n",
       "\t<li>16</li>\n",
       "\t<li>7</li>\n",
       "\t<li>37</li>\n",
       "\t<li>38</li>\n",
       "\t<li>18</li>\n",
       "\t<li>19</li>\n",
       "\t<li>41</li>\n",
       "\t<li>1</li>\n",
       "\t<li>6</li>\n",
       "\t<li>24</li>\n",
       "\t<li>50</li>\n",
       "\t<li>21</li>\n",
       "\t<li>26</li>\n",
       "\t<li>43</li>\n",
       "\t<li>3</li>\n",
       "\t<li>15</li>\n",
       "\t<li>22</li>\n",
       "\t<li>48</li>\n",
       "\t<li>47</li>\n",
       "\t<li>31</li>\n",
       "\t<li>34</li>\n",
       "\t<li>23</li>\n",
       "\t<li>11</li>\n",
       "\t<li>36</li>\n",
       "\t<li>39</li>\n",
       "\t<li>14</li>\n",
       "\t<li>33</li>\n",
       "\t<li>10</li>\n",
       "\t<li>44</li>\n",
       "\t<li>5</li>\n",
       "</ol>\n"
      ],
      "text/latex": [
       "\\begin{enumerate*}\n",
       "\\item 51\n",
       "\\item 9\n",
       "\\item 46\n",
       "\\item 35\n",
       "\\item 2\n",
       "\\item 42\n",
       "\\item 8\n",
       "\\item 27\n",
       "\\item 40\n",
       "\\item 30\n",
       "\\item 20\n",
       "\\item 12\n",
       "\\item 13\n",
       "\\item 28\n",
       "\\item 49\n",
       "\\item 32\n",
       "\\item 29\n",
       "\\item 45\n",
       "\\item 17\n",
       "\\item 4\n",
       "\\item 25\n",
       "\\item 16\n",
       "\\item 7\n",
       "\\item 37\n",
       "\\item 38\n",
       "\\item 18\n",
       "\\item 19\n",
       "\\item 41\n",
       "\\item 1\n",
       "\\item 6\n",
       "\\item 24\n",
       "\\item 50\n",
       "\\item 21\n",
       "\\item 26\n",
       "\\item 43\n",
       "\\item 3\n",
       "\\item 15\n",
       "\\item 22\n",
       "\\item 48\n",
       "\\item 47\n",
       "\\item 31\n",
       "\\item 34\n",
       "\\item 23\n",
       "\\item 11\n",
       "\\item 36\n",
       "\\item 39\n",
       "\\item 14\n",
       "\\item 33\n",
       "\\item 10\n",
       "\\item 44\n",
       "\\item 5\n",
       "\\end{enumerate*}\n"
      ],
      "text/markdown": [
       "1. 51\n",
       "2. 9\n",
       "3. 46\n",
       "4. 35\n",
       "5. 2\n",
       "6. 42\n",
       "7. 8\n",
       "8. 27\n",
       "9. 40\n",
       "10. 30\n",
       "11. 20\n",
       "12. 12\n",
       "13. 13\n",
       "14. 28\n",
       "15. 49\n",
       "16. 32\n",
       "17. 29\n",
       "18. 45\n",
       "19. 17\n",
       "20. 4\n",
       "21. 25\n",
       "22. 16\n",
       "23. 7\n",
       "24. 37\n",
       "25. 38\n",
       "26. 18\n",
       "27. 19\n",
       "28. 41\n",
       "29. 1\n",
       "30. 6\n",
       "31. 24\n",
       "32. 50\n",
       "33. 21\n",
       "34. 26\n",
       "35. 43\n",
       "36. 3\n",
       "37. 15\n",
       "38. 22\n",
       "39. 48\n",
       "40. 47\n",
       "41. 31\n",
       "42. 34\n",
       "43. 23\n",
       "44. 11\n",
       "45. 36\n",
       "46. 39\n",
       "47. 14\n",
       "48. 33\n",
       "49. 10\n",
       "50. 44\n",
       "51. 5\n",
       "\n",
       "\n"
      ],
      "text/plain": [
       " [1] 51  9 46 35  2 42  8 27 40 30 20 12 13 28 49 32 29 45 17  4 25 16  7 37 38\n",
       "[26] 18 19 41  1  6 24 50 21 26 43  3 15 22 48 47 31 34 23 11 36 39 14 33 10 44\n",
       "[51]  5"
      ]
     },
     "metadata": {},
     "output_type": "display_data"
    }
   ],
   "source": [
    "o"
   ]
  },
  {
   "cell_type": "code",
   "execution_count": 84,
   "metadata": {},
   "outputs": [
    {
     "data": {
      "text/html": [
       "<ol class=list-inline>\n",
       "\t<li>563626</li>\n",
       "\t<li>601723</li>\n",
       "\t<li>625741</li>\n",
       "\t<li>672591</li>\n",
       "\t<li>710231</li>\n",
       "\t<li>814180</li>\n",
       "\t<li>897934</li>\n",
       "\t<li>989415</li>\n",
       "\t<li>1052567</li>\n",
       "\t<li>1316470</li>\n",
       "\t<li>1328361</li>\n",
       "\t<li>1360301</li>\n",
       "\t<li>1567582</li>\n",
       "\t<li>1826341</li>\n",
       "\t<li>1852994</li>\n",
       "\t<li>2059179</li>\n",
       "\t<li>2700551</li>\n",
       "\t<li>2763885</li>\n",
       "\t<li>2853118</li>\n",
       "\t<li>2915918</li>\n",
       "\t<li>2967297</li>\n",
       "\t<li>3046355</li>\n",
       "\t<li>3574097</li>\n",
       "\t<li>3751351</li>\n",
       "\t<li>3831074</li>\n",
       "\t<li>4339367</li>\n",
       "\t<li>4533372</li>\n",
       "\t<li>4625364</li>\n",
       "\t<li>4779736</li>\n",
       "\t<li>5029196</li>\n",
       "\t<li>5303925</li>\n",
       "\t<li>5686986</li>\n",
       "\t<li>5773552</li>\n",
       "\t<li>5988927</li>\n",
       "\t<li>6346105</li>\n",
       "\t<li>6392017</li>\n",
       "\t<li>6483802</li>\n",
       "\t<li>6547629</li>\n",
       "\t<li>6724540</li>\n",
       "\t<li>8001024</li>\n",
       "\t<li>8791894</li>\n",
       "\t<li>9535483</li>\n",
       "\t<li>9883640</li>\n",
       "\t<li>9920000</li>\n",
       "\t<li>11536504</li>\n",
       "\t<li>12702379</li>\n",
       "\t<li>12830632</li>\n",
       "\t<li>19378102</li>\n",
       "\t<li>19687653</li>\n",
       "\t<li>25145561</li>\n",
       "\t<li>37253956</li>\n",
       "</ol>\n"
      ],
      "text/latex": [
       "\\begin{enumerate*}\n",
       "\\item 563626\n",
       "\\item 601723\n",
       "\\item 625741\n",
       "\\item 672591\n",
       "\\item 710231\n",
       "\\item 814180\n",
       "\\item 897934\n",
       "\\item 989415\n",
       "\\item 1052567\n",
       "\\item 1316470\n",
       "\\item 1328361\n",
       "\\item 1360301\n",
       "\\item 1567582\n",
       "\\item 1826341\n",
       "\\item 1852994\n",
       "\\item 2059179\n",
       "\\item 2700551\n",
       "\\item 2763885\n",
       "\\item 2853118\n",
       "\\item 2915918\n",
       "\\item 2967297\n",
       "\\item 3046355\n",
       "\\item 3574097\n",
       "\\item 3751351\n",
       "\\item 3831074\n",
       "\\item 4339367\n",
       "\\item 4533372\n",
       "\\item 4625364\n",
       "\\item 4779736\n",
       "\\item 5029196\n",
       "\\item 5303925\n",
       "\\item 5686986\n",
       "\\item 5773552\n",
       "\\item 5988927\n",
       "\\item 6346105\n",
       "\\item 6392017\n",
       "\\item 6483802\n",
       "\\item 6547629\n",
       "\\item 6724540\n",
       "\\item 8001024\n",
       "\\item 8791894\n",
       "\\item 9535483\n",
       "\\item 9883640\n",
       "\\item 9920000\n",
       "\\item 11536504\n",
       "\\item 12702379\n",
       "\\item 12830632\n",
       "\\item 19378102\n",
       "\\item 19687653\n",
       "\\item 25145561\n",
       "\\item 37253956\n",
       "\\end{enumerate*}\n"
      ],
      "text/markdown": [
       "1. 563626\n",
       "2. 601723\n",
       "3. 625741\n",
       "4. 672591\n",
       "5. 710231\n",
       "6. 814180\n",
       "7. 897934\n",
       "8. 989415\n",
       "9. 1052567\n",
       "10. 1316470\n",
       "11. 1328361\n",
       "12. 1360301\n",
       "13. 1567582\n",
       "14. 1826341\n",
       "15. 1852994\n",
       "16. 2059179\n",
       "17. 2700551\n",
       "18. 2763885\n",
       "19. 2853118\n",
       "20. 2915918\n",
       "21. 2967297\n",
       "22. 3046355\n",
       "23. 3574097\n",
       "24. 3751351\n",
       "25. 3831074\n",
       "26. 4339367\n",
       "27. 4533372\n",
       "28. 4625364\n",
       "29. 4779736\n",
       "30. 5029196\n",
       "31. 5303925\n",
       "32. 5686986\n",
       "33. 5773552\n",
       "34. 5988927\n",
       "35. 6346105\n",
       "36. 6392017\n",
       "37. 6483802\n",
       "38. 6547629\n",
       "39. 6724540\n",
       "40. 8001024\n",
       "41. 8791894\n",
       "42. 9535483\n",
       "43. 9883640\n",
       "44. 9920000\n",
       "45. 11536504\n",
       "46. 12702379\n",
       "47. 12830632\n",
       "48. 19378102\n",
       "49. 19687653\n",
       "50. 25145561\n",
       "51. 37253956\n",
       "\n",
       "\n"
      ],
      "text/plain": [
       " [1]   563626   601723   625741   672591   710231   814180   897934   989415\n",
       " [9]  1052567  1316470  1328361  1360301  1567582  1826341  1852994  2059179\n",
       "[17]  2700551  2763885  2853118  2915918  2967297  3046355  3574097  3751351\n",
       "[25]  3831074  4339367  4533372  4625364  4779736  5029196  5303925  5686986\n",
       "[33]  5773552  5988927  6346105  6392017  6483802  6547629  6724540  8001024\n",
       "[41]  8791894  9535483  9883640  9920000 11536504 12702379 12830632 19378102\n",
       "[49] 19687653 25145561 37253956"
      ]
     },
     "metadata": {},
     "output_type": "display_data"
    }
   ],
   "source": [
    "sort(pop)"
   ]
  },
  {
   "cell_type": "code",
   "execution_count": 85,
   "metadata": {},
   "outputs": [
    {
     "data": {
      "text/html": [
       "563626"
      ],
      "text/latex": [
       "563626"
      ],
      "text/markdown": [
       "563626"
      ],
      "text/plain": [
       "[1] 563626"
      ]
     },
     "metadata": {},
     "output_type": "display_data"
    }
   ],
   "source": [
    "pop[51]"
   ]
  },
  {
   "cell_type": "markdown",
   "metadata": {},
   "source": [
    "We can actually perform the same operation as in the previous exercise using the function which.min. It basically tells us which is the minimum value."
   ]
  },
  {
   "cell_type": "code",
   "execution_count": 86,
   "metadata": {},
   "outputs": [
    {
     "data": {
      "text/html": [
       "46"
      ],
      "text/latex": [
       "46"
      ],
      "text/markdown": [
       "46"
      ],
      "text/plain": [
       "[1] 46"
      ]
     },
     "metadata": {},
     "output_type": "display_data"
    },
    {
     "data": {
      "text/html": [
       "51"
      ],
      "text/latex": [
       "51"
      ],
      "text/markdown": [
       "51"
      ],
      "text/plain": [
       "[1] 51"
      ]
     },
     "metadata": {},
     "output_type": "display_data"
    }
   ],
   "source": [
    "# Find the smallest value for variable total \n",
    "which.min(murders$total)\n",
    "\n",
    "# Find the smallest value for population\n",
    "which.min(murders$population)"
   ]
  },
  {
   "cell_type": "markdown",
   "metadata": {},
   "source": [
    "#### Using the output of Order (example)"
   ]
  },
  {
   "cell_type": "code",
   "execution_count": 88,
   "metadata": {},
   "outputs": [
    {
     "data": {
      "text/html": [
       "'Wyoming'"
      ],
      "text/latex": [
       "'Wyoming'"
      ],
      "text/markdown": [
       "'Wyoming'"
      ],
      "text/plain": [
       "[1] \"Wyoming\""
      ]
     },
     "metadata": {},
     "output_type": "display_data"
    }
   ],
   "source": [
    "# Define the variable i to be the index of the smallest state\n",
    "i <- which.min(murders$population)\n",
    "\n",
    "# Define variable states to hold the states\n",
    "states <- murders$state\n",
    "# Use the index you just defined to find the state with the smallest population\n",
    "states[i]"
   ]
  },
  {
   "cell_type": "markdown",
   "metadata": {},
   "source": [
    "#### Ranks"
   ]
  },
  {
   "cell_type": "code",
   "execution_count": 89,
   "metadata": {},
   "outputs": [
    {
     "data": {
      "text/html": [
       "<table>\n",
       "<thead><tr><th scope=col>name</th><th scope=col>temperature</th></tr></thead>\n",
       "<tbody>\n",
       "\t<tr><td>Beijing       </td><td>35            </td></tr>\n",
       "\t<tr><td>Lagos         </td><td>88            </td></tr>\n",
       "\t<tr><td>Paris         </td><td>42            </td></tr>\n",
       "\t<tr><td>Rio de Janeiro</td><td>84            </td></tr>\n",
       "\t<tr><td>San Juan      </td><td>81            </td></tr>\n",
       "\t<tr><td>Toronto       </td><td>30            </td></tr>\n",
       "</tbody>\n",
       "</table>\n"
      ],
      "text/latex": [
       "\\begin{tabular}{r|ll}\n",
       " name & temperature\\\\\n",
       "\\hline\n",
       "\t Beijing        & 35            \\\\\n",
       "\t Lagos          & 88            \\\\\n",
       "\t Paris          & 42            \\\\\n",
       "\t Rio de Janeiro & 84            \\\\\n",
       "\t San Juan       & 81            \\\\\n",
       "\t Toronto        & 30            \\\\\n",
       "\\end{tabular}\n"
      ],
      "text/markdown": [
       "\n",
       "name | temperature | \n",
       "|---|---|---|---|---|---|\n",
       "| Beijing        | 35             | \n",
       "| Lagos          | 88             | \n",
       "| Paris          | 42             | \n",
       "| Rio de Janeiro | 84             | \n",
       "| San Juan       | 81             | \n",
       "| Toronto        | 30             | \n",
       "\n",
       "\n"
      ],
      "text/plain": [
       "  name           temperature\n",
       "1 Beijing        35         \n",
       "2 Lagos          88         \n",
       "3 Paris          42         \n",
       "4 Rio de Janeiro 84         \n",
       "5 San Juan       81         \n",
       "6 Toronto        30         "
      ]
     },
     "metadata": {},
     "output_type": "display_data"
    }
   ],
   "source": [
    "# Store temperatures in an object \n",
    "temp <- c(35, 88, 42, 84, 81, 30)\n",
    "\n",
    "# Store city names in an object \n",
    "city <- c(\"Beijing\", \"Lagos\", \"Paris\", \"Rio de Janeiro\", \"San Juan\", \"Toronto\")\n",
    "\n",
    "# Create data frame with city names and temperature \n",
    "city_temps <- data.frame(name = city, temperature = temp)\n",
    "city_temps"
   ]
  },
  {
   "cell_type": "code",
   "execution_count": 90,
   "metadata": {},
   "outputs": [
    {
     "data": {
      "text/html": [
       "<table>\n",
       "<thead><tr><th scope=col>name</th><th scope=col>rank</th></tr></thead>\n",
       "<tbody>\n",
       "\t<tr><td>Alabama   </td><td>29        </td></tr>\n",
       "\t<tr><td>Alaska    </td><td> 5        </td></tr>\n",
       "\t<tr><td>Arizona   </td><td>36        </td></tr>\n",
       "\t<tr><td>Arkansas  </td><td>20        </td></tr>\n",
       "\t<tr><td>California</td><td>51        </td></tr>\n",
       "\t<tr><td>Colorado  </td><td>30        </td></tr>\n",
       "</tbody>\n",
       "</table>\n"
      ],
      "text/latex": [
       "\\begin{tabular}{r|ll}\n",
       " name & rank\\\\\n",
       "\\hline\n",
       "\t Alabama    & 29        \\\\\n",
       "\t Alaska     &  5        \\\\\n",
       "\t Arizona    & 36        \\\\\n",
       "\t Arkansas   & 20        \\\\\n",
       "\t California & 51        \\\\\n",
       "\t Colorado   & 30        \\\\\n",
       "\\end{tabular}\n"
      ],
      "text/markdown": [
       "\n",
       "name | rank | \n",
       "|---|---|---|---|---|---|\n",
       "| Alabama    | 29         | \n",
       "| Alaska     |  5         | \n",
       "| Arizona    | 36         | \n",
       "| Arkansas   | 20         | \n",
       "| California | 51         | \n",
       "| Colorado   | 30         | \n",
       "\n",
       "\n"
      ],
      "text/plain": [
       "  name       rank\n",
       "1 Alabama    29  \n",
       "2 Alaska      5  \n",
       "3 Arizona    36  \n",
       "4 Arkansas   20  \n",
       "5 California 51  \n",
       "6 Colorado   30  "
      ]
     },
     "metadata": {},
     "output_type": "display_data"
    }
   ],
   "source": [
    "# Define a variable states to be the state names \n",
    "states <- murders$state\n",
    "\n",
    "# Define a variable ranks to determine the population size ranks \n",
    "ranks <- rank(murders$population)\n",
    "\n",
    "# Create a data frame my_df with the state name and its rank\n",
    "my_df = data.frame(name = states, rank = ranks)\n",
    "head(my_df)"
   ]
  },
  {
   "cell_type": "markdown",
   "metadata": {},
   "source": [
    "### Data Frames, Ranks and Orders\n",
    "\n",
    "This exercise is somewhat more challenging. We are going to repeat the previous exercise but this time order my_df so that the states are ordered from least populous to most."
   ]
  },
  {
   "cell_type": "code",
   "execution_count": 91,
   "metadata": {},
   "outputs": [
    {
     "data": {
      "text/html": [
       "<table>\n",
       "<thead><tr><th scope=col>name</th><th scope=col>rank</th></tr></thead>\n",
       "<tbody>\n",
       "\t<tr><td>Wyoming             </td><td>1                   </td></tr>\n",
       "\t<tr><td>District of Columbia</td><td>2                   </td></tr>\n",
       "\t<tr><td>Vermont             </td><td>3                   </td></tr>\n",
       "\t<tr><td>North Dakota        </td><td>4                   </td></tr>\n",
       "\t<tr><td>Alaska              </td><td>5                   </td></tr>\n",
       "\t<tr><td>South Dakota        </td><td>6                   </td></tr>\n",
       "</tbody>\n",
       "</table>\n"
      ],
      "text/latex": [
       "\\begin{tabular}{r|ll}\n",
       " name & rank\\\\\n",
       "\\hline\n",
       "\t Wyoming              & 1                   \\\\\n",
       "\t District of Columbia & 2                   \\\\\n",
       "\t Vermont              & 3                   \\\\\n",
       "\t North Dakota         & 4                   \\\\\n",
       "\t Alaska               & 5                   \\\\\n",
       "\t South Dakota         & 6                   \\\\\n",
       "\\end{tabular}\n"
      ],
      "text/markdown": [
       "\n",
       "name | rank | \n",
       "|---|---|---|---|---|---|\n",
       "| Wyoming              | 1                    | \n",
       "| District of Columbia | 2                    | \n",
       "| Vermont              | 3                    | \n",
       "| North Dakota         | 4                    | \n",
       "| Alaska               | 5                    | \n",
       "| South Dakota         | 6                    | \n",
       "\n",
       "\n"
      ],
      "text/plain": [
       "  name                 rank\n",
       "1 Wyoming              1   \n",
       "2 District of Columbia 2   \n",
       "3 Vermont              3   \n",
       "4 North Dakota         4   \n",
       "5 Alaska               5   \n",
       "6 South Dakota         6   "
      ]
     },
     "metadata": {},
     "output_type": "display_data"
    }
   ],
   "source": [
    "# Define a variable states to be the state names from the murders data frame\n",
    "states <- murders$state\n",
    "\n",
    "# Define a variable ranks to determine the population size ranks \n",
    "ranks <- rank(murders$population)\n",
    "\n",
    "# Define a variable ind to store the indexes needed to order the population values\n",
    "ind <- order(murders$population)\n",
    "\n",
    "# Create a data frame my_df with the state name and its rank and ordered from least populous to most \n",
    "my_df <- data.frame(name = states[ind], rank = ranks[ind])\n",
    "head(my_df)"
   ]
  },
  {
   "cell_type": "markdown",
   "metadata": {},
   "source": [
    "### NA\n",
    "\n",
    "The na_example dataset represents a series of counts. It is included in the dslabs package. You can quickly examine the object using\n",
    "\n",
    "library(dslabs)\n",
    "data(na_example)\n",
    "str(na_example)\n",
    "However, when we compute the average we obtain an NA. You can see this by typing\n",
    "\n",
    "mean(na_example)"
   ]
  },
  {
   "cell_type": "code",
   "execution_count": 92,
   "metadata": {
    "scrolled": true
   },
   "outputs": [
    {
     "name": "stdout",
     "output_type": "stream",
     "text": [
      " int [1:1000] 2 1 3 2 1 3 1 4 3 2 ...\n"
     ]
    },
    {
     "data": {
      "text/plain": [
       "[1] NA"
      ]
     },
     "metadata": {},
     "output_type": "display_data"
    },
    {
     "data": {
      "text/html": [
       "145"
      ],
      "text/latex": [
       "145"
      ],
      "text/markdown": [
       "145"
      ],
      "text/plain": [
       "[1] 145"
      ]
     },
     "metadata": {},
     "output_type": "display_data"
    }
   ],
   "source": [
    "# Using new dataset \n",
    "library(dslabs)\n",
    "data(na_example)\n",
    "\n",
    "# Checking the structure \n",
    "str(na_example)\n",
    "\n",
    "# Find out the mean of the entire dataset \n",
    "mean(na_example)\n",
    "\n",
    "# Use is.na to create a logical index ind that tells which entries are NA\n",
    "ind <- is.na(na_example)\n",
    "# Determine how many NA ind has using the sum function\n",
    "sum(ind)"
   ]
  },
  {
   "cell_type": "markdown",
   "metadata": {},
   "source": [
    "### Removing NAs\n",
    "\n",
    "We previously computed the average of na_example using mean(na_example) and obtain NA. This is because the function mean returns NA if it encounters at least one NA. A common operation is therefore removing the entries that are NA and after that perform operations on the rest.\n",
    "\n",
    "Write one line of code to compute the average, but only for the entries that are not NA making use of the ! operator before ind."
   ]
  },
  {
   "cell_type": "code",
   "execution_count": 93,
   "metadata": {},
   "outputs": [
    {
     "data": {
      "text/html": [
       "<ol class=list-inline>\n",
       "\t<li>1</li>\n",
       "\t<li>3</li>\n",
       "</ol>\n"
      ],
      "text/latex": [
       "\\begin{enumerate*}\n",
       "\\item 1\n",
       "\\item 3\n",
       "\\end{enumerate*}\n"
      ],
      "text/markdown": [
       "1. 1\n",
       "2. 3\n",
       "\n",
       "\n"
      ],
      "text/plain": [
       "[1] 1 3"
      ]
     },
     "metadata": {},
     "output_type": "display_data"
    },
    {
     "data": {
      "text/plain": [
       "[1] NA"
      ]
     },
     "metadata": {},
     "output_type": "display_data"
    },
    {
     "data": {
      "text/html": [
       "2.30175438596491"
      ],
      "text/latex": [
       "2.30175438596491"
      ],
      "text/markdown": [
       "2.30175438596491"
      ],
      "text/plain": [
       "[1] 2.301754"
      ]
     },
     "metadata": {},
     "output_type": "display_data"
    }
   ],
   "source": [
    "# Note what we can do with the ! operator\n",
    "x <- c(1, 2, 3)\n",
    "ind <- c(FALSE, TRUE, FALSE)\n",
    "x[!ind]\n",
    "\n",
    "# Create the ind vector\n",
    "library(dslabs)\n",
    "data(na_example)\n",
    "ind <- is.na(na_example)\n",
    "\n",
    "# We saw that this gives an NA\n",
    "mean(na_example)\n",
    "\n",
    "# Compute the average, for entries of na_example that are not NA \n",
    "mean(na_example[!ind])"
   ]
  },
  {
   "cell_type": "markdown",
   "metadata": {},
   "source": [
    "## Vector Arithmetic"
   ]
  },
  {
   "cell_type": "markdown",
   "metadata": {},
   "source": [
    "Which state has the largest population"
   ]
  },
  {
   "cell_type": "code",
   "execution_count": 94,
   "metadata": {},
   "outputs": [
    {
     "data": {
      "text/html": [
       "'California'"
      ],
      "text/latex": [
       "'California'"
      ],
      "text/markdown": [
       "'California'"
      ],
      "text/plain": [
       "[1] \"California\""
      ]
     },
     "metadata": {},
     "output_type": "display_data"
    }
   ],
   "source": [
    "murders$state[which.max(murders$population)]"
   ]
  },
  {
   "cell_type": "code",
   "execution_count": 95,
   "metadata": {},
   "outputs": [
    {
     "data": {
      "text/html": [
       "37253956"
      ],
      "text/latex": [
       "37253956"
      ],
      "text/markdown": [
       "37253956"
      ],
      "text/plain": [
       "[1] 37253956"
      ]
     },
     "metadata": {},
     "output_type": "display_data"
    }
   ],
   "source": [
    "max(murders$population)"
   ]
  },
  {
   "cell_type": "markdown",
   "metadata": {},
   "source": [
    "Given California's large population it wont be fair to assume it's the most dangerous state. Instead, we need to look at murder per capita.\n",
    "\n",
    "Here we leverage R powerful Vector Arithmetic (element wise arithmetic)"
   ]
  },
  {
   "cell_type": "code",
   "execution_count": 96,
   "metadata": {},
   "outputs": [
    {
     "data": {
      "text/html": [
       "<ol class=list-inline>\n",
       "\t<li>175.26</li>\n",
       "\t<li>157.48</li>\n",
       "\t<li>167.64</li>\n",
       "\t<li>177.8</li>\n",
       "\t<li>177.8</li>\n",
       "\t<li>185.42</li>\n",
       "\t<li>170.18</li>\n",
       "\t<li>185.42</li>\n",
       "\t<li>170.18</li>\n",
       "\t<li>177.8</li>\n",
       "</ol>\n"
      ],
      "text/latex": [
       "\\begin{enumerate*}\n",
       "\\item 175.26\n",
       "\\item 157.48\n",
       "\\item 167.64\n",
       "\\item 177.8\n",
       "\\item 177.8\n",
       "\\item 185.42\n",
       "\\item 170.18\n",
       "\\item 185.42\n",
       "\\item 170.18\n",
       "\\item 177.8\n",
       "\\end{enumerate*}\n"
      ],
      "text/markdown": [
       "1. 175.26\n",
       "2. 157.48\n",
       "3. 167.64\n",
       "4. 177.8\n",
       "5. 177.8\n",
       "6. 185.42\n",
       "7. 170.18\n",
       "8. 185.42\n",
       "9. 170.18\n",
       "10. 177.8\n",
       "\n",
       "\n"
      ],
      "text/plain": [
       " [1] 175.26 157.48 167.64 177.80 177.80 185.42 170.18 185.42 170.18 177.80"
      ]
     },
     "metadata": {},
     "output_type": "display_data"
    }
   ],
   "source": [
    "height <- c(69, 62, 66, 70, 70, 73, 67, 73, 67, 70) #In Inch \n",
    "height * 2.54 # converted into CM"
   ]
  },
  {
   "cell_type": "markdown",
   "metadata": {},
   "source": [
    "For each entry let's figure out how much bigger or smaller they are from the average."
   ]
  },
  {
   "cell_type": "code",
   "execution_count": 97,
   "metadata": {},
   "outputs": [
    {
     "data": {
      "text/html": [
       "<ol class=list-inline>\n",
       "\t<li>0</li>\n",
       "\t<li>-7</li>\n",
       "\t<li>-3</li>\n",
       "\t<li>1</li>\n",
       "\t<li>1</li>\n",
       "\t<li>4</li>\n",
       "\t<li>-2</li>\n",
       "\t<li>4</li>\n",
       "\t<li>-2</li>\n",
       "\t<li>1</li>\n",
       "</ol>\n"
      ],
      "text/latex": [
       "\\begin{enumerate*}\n",
       "\\item 0\n",
       "\\item -7\n",
       "\\item -3\n",
       "\\item 1\n",
       "\\item 1\n",
       "\\item 4\n",
       "\\item -2\n",
       "\\item 4\n",
       "\\item -2\n",
       "\\item 1\n",
       "\\end{enumerate*}\n"
      ],
      "text/markdown": [
       "1. 0\n",
       "2. -7\n",
       "3. -3\n",
       "4. 1\n",
       "5. 1\n",
       "6. 4\n",
       "7. -2\n",
       "8. 4\n",
       "9. -2\n",
       "10. 1\n",
       "\n",
       "\n"
      ],
      "text/plain": [
       " [1]  0 -7 -3  1  1  4 -2  4 -2  1"
      ]
     },
     "metadata": {},
     "output_type": "display_data"
    }
   ],
   "source": [
    "m <- round(mean(height))\n",
    "height - m"
   ]
  },
  {
   "cell_type": "code",
   "execution_count": 98,
   "metadata": {},
   "outputs": [
    {
     "data": {
      "text/html": [
       "<ol class=list-inline>\n",
       "\t<li>2.82442377570644</li>\n",
       "\t<li>2.67518596062408</li>\n",
       "\t<li>3.62952726815339</li>\n",
       "\t<li>3.18939009944724</li>\n",
       "\t<li>3.37413830627813</li>\n",
       "\t<li>1.29245310781286</li>\n",
       "\t<li>2.71397222850975</li>\n",
       "\t<li>4.23193686841126</li>\n",
       "\t<li>16.4527531771264</li>\n",
       "\t<li>3.39806883024604</li>\n",
       "\t<li>3.79032258064516</li>\n",
       "\t<li>0.514591991037278</li>\n",
       "\t<li>0.76551019340615</li>\n",
       "\t<li>2.83696079818983</li>\n",
       "\t<li>2.19007304664763</li>\n",
       "\t<li>0.689348418027446</li>\n",
       "\t<li>2.20811056535341</li>\n",
       "\t<li>2.67320095304223</li>\n",
       "\t<li>7.7425810191619</li>\n",
       "\t<li>0.828088147724903</li>\n",
       "\t<li>5.07486552472378</li>\n",
       "\t<li>1.80217907886962</li>\n",
       "\t<li>4.17862245083795</li>\n",
       "\t<li>0.999259981994466</li>\n",
       "\t<li>4.04408456585236</li>\n",
       "\t<li>5.35989168009562</li>\n",
       "\t<li>1.21283788905565</li>\n",
       "\t<li>1.75213719672285</li>\n",
       "\t<li>3.11047634353138</li>\n",
       "\t<li>0.379803565595874</li>\n",
       "\t<li>2.79803191439751</li>\n",
       "\t<li>3.25372393560735</li>\n",
       "\t<li>2.66795994778023</li>\n",
       "\t<li>2.9993236839707</li>\n",
       "\t<li>0.594715064578622</li>\n",
       "\t<li>2.68712254596366</li>\n",
       "\t<li>2.95893399471284</li>\n",
       "\t<li>0.939684276524024</li>\n",
       "\t<li>3.59775125588679</li>\n",
       "\t<li>1.52009325772136</li>\n",
       "\t<li>4.47532345562425</li>\n",
       "\t<li>0.982583703849272</li>\n",
       "\t<li>3.45093565265624</li>\n",
       "\t<li>3.20136027189849</li>\n",
       "\t<li>0.795981019470781</li>\n",
       "\t<li>0.319621057274495</li>\n",
       "\t<li>3.12460005119345</li>\n",
       "\t<li>1.38299422711442</li>\n",
       "\t<li>1.45710131819099</li>\n",
       "\t<li>1.70564865114843</li>\n",
       "\t<li>0.887113085627704</li>\n",
       "</ol>\n"
      ],
      "text/latex": [
       "\\begin{enumerate*}\n",
       "\\item 2.82442377570644\n",
       "\\item 2.67518596062408\n",
       "\\item 3.62952726815339\n",
       "\\item 3.18939009944724\n",
       "\\item 3.37413830627813\n",
       "\\item 1.29245310781286\n",
       "\\item 2.71397222850975\n",
       "\\item 4.23193686841126\n",
       "\\item 16.4527531771264\n",
       "\\item 3.39806883024604\n",
       "\\item 3.79032258064516\n",
       "\\item 0.514591991037278\n",
       "\\item 0.76551019340615\n",
       "\\item 2.83696079818983\n",
       "\\item 2.19007304664763\n",
       "\\item 0.689348418027446\n",
       "\\item 2.20811056535341\n",
       "\\item 2.67320095304223\n",
       "\\item 7.7425810191619\n",
       "\\item 0.828088147724903\n",
       "\\item 5.07486552472378\n",
       "\\item 1.80217907886962\n",
       "\\item 4.17862245083795\n",
       "\\item 0.999259981994466\n",
       "\\item 4.04408456585236\n",
       "\\item 5.35989168009562\n",
       "\\item 1.21283788905565\n",
       "\\item 1.75213719672285\n",
       "\\item 3.11047634353138\n",
       "\\item 0.379803565595874\n",
       "\\item 2.79803191439751\n",
       "\\item 3.25372393560735\n",
       "\\item 2.66795994778023\n",
       "\\item 2.9993236839707\n",
       "\\item 0.594715064578622\n",
       "\\item 2.68712254596366\n",
       "\\item 2.95893399471284\n",
       "\\item 0.939684276524024\n",
       "\\item 3.59775125588679\n",
       "\\item 1.52009325772136\n",
       "\\item 4.47532345562425\n",
       "\\item 0.982583703849272\n",
       "\\item 3.45093565265624\n",
       "\\item 3.20136027189849\n",
       "\\item 0.795981019470781\n",
       "\\item 0.319621057274495\n",
       "\\item 3.12460005119345\n",
       "\\item 1.38299422711442\n",
       "\\item 1.45710131819099\n",
       "\\item 1.70564865114843\n",
       "\\item 0.887113085627704\n",
       "\\end{enumerate*}\n"
      ],
      "text/markdown": [
       "1. 2.82442377570644\n",
       "2. 2.67518596062408\n",
       "3. 3.62952726815339\n",
       "4. 3.18939009944724\n",
       "5. 3.37413830627813\n",
       "6. 1.29245310781286\n",
       "7. 2.71397222850975\n",
       "8. 4.23193686841126\n",
       "9. 16.4527531771264\n",
       "10. 3.39806883024604\n",
       "11. 3.79032258064516\n",
       "12. 0.514591991037278\n",
       "13. 0.76551019340615\n",
       "14. 2.83696079818983\n",
       "15. 2.19007304664763\n",
       "16. 0.689348418027446\n",
       "17. 2.20811056535341\n",
       "18. 2.67320095304223\n",
       "19. 7.7425810191619\n",
       "20. 0.828088147724903\n",
       "21. 5.07486552472378\n",
       "22. 1.80217907886962\n",
       "23. 4.17862245083795\n",
       "24. 0.999259981994466\n",
       "25. 4.04408456585236\n",
       "26. 5.35989168009562\n",
       "27. 1.21283788905565\n",
       "28. 1.75213719672285\n",
       "29. 3.11047634353138\n",
       "30. 0.379803565595874\n",
       "31. 2.79803191439751\n",
       "32. 3.25372393560735\n",
       "33. 2.66795994778023\n",
       "34. 2.9993236839707\n",
       "35. 0.594715064578622\n",
       "36. 2.68712254596366\n",
       "37. 2.95893399471284\n",
       "38. 0.939684276524024\n",
       "39. 3.59775125588679\n",
       "40. 1.52009325772136\n",
       "41. 4.47532345562425\n",
       "42. 0.982583703849272\n",
       "43. 3.45093565265624\n",
       "44. 3.20136027189849\n",
       "45. 0.795981019470781\n",
       "46. 0.319621057274495\n",
       "47. 3.12460005119345\n",
       "48. 1.38299422711442\n",
       "49. 1.45710131819099\n",
       "50. 1.70564865114843\n",
       "51. 0.887113085627704\n",
       "\n",
       "\n"
      ],
      "text/plain": [
       " [1]  2.8244238  2.6751860  3.6295273  3.1893901  3.3741383  1.2924531\n",
       " [7]  2.7139722  4.2319369 16.4527532  3.3980688  3.7903226  0.5145920\n",
       "[13]  0.7655102  2.8369608  2.1900730  0.6893484  2.2081106  2.6732010\n",
       "[19]  7.7425810  0.8280881  5.0748655  1.8021791  4.1786225  0.9992600\n",
       "[25]  4.0440846  5.3598917  1.2128379  1.7521372  3.1104763  0.3798036\n",
       "[31]  2.7980319  3.2537239  2.6679599  2.9993237  0.5947151  2.6871225\n",
       "[37]  2.9589340  0.9396843  3.5977513  1.5200933  4.4753235  0.9825837\n",
       "[43]  3.4509357  3.2013603  0.7959810  0.3196211  3.1246001  1.3829942\n",
       "[49]  1.4571013  1.7056487  0.8871131"
      ]
     },
     "metadata": {},
     "output_type": "display_data"
    }
   ],
   "source": [
    "murder_rate <- murders$total/murders$population*100000\n",
    "murder_rate"
   ]
  },
  {
   "cell_type": "markdown",
   "metadata": {},
   "source": [
    "Now let's rank by murder rate and we can see the California is no longer the first, instead it's ranked number 14 on the list"
   ]
  },
  {
   "cell_type": "code",
   "execution_count": 99,
   "metadata": {},
   "outputs": [
    {
     "data": {
      "text/html": [
       "<ol class=list-inline>\n",
       "\t<li>'District of Columbia'</li>\n",
       "\t<li>'Louisiana'</li>\n",
       "\t<li>'Missouri'</li>\n",
       "\t<li>'Maryland'</li>\n",
       "\t<li>'South Carolina'</li>\n",
       "\t<li>'Delaware'</li>\n",
       "\t<li>'Michigan'</li>\n",
       "\t<li>'Mississippi'</li>\n",
       "\t<li>'Georgia'</li>\n",
       "\t<li>'Arizona'</li>\n",
       "\t<li>'Pennsylvania'</li>\n",
       "\t<li>'Tennessee'</li>\n",
       "\t<li>'Florida'</li>\n",
       "\t<li>'California'</li>\n",
       "\t<li>'New Mexico'</li>\n",
       "\t<li>'Texas'</li>\n",
       "\t<li>'Arkansas'</li>\n",
       "\t<li>'Virginia'</li>\n",
       "\t<li>'Nevada'</li>\n",
       "\t<li>'North Carolina'</li>\n",
       "\t<li>'Oklahoma'</li>\n",
       "\t<li>'Illinois'</li>\n",
       "\t<li>'Alabama'</li>\n",
       "\t<li>'New Jersey'</li>\n",
       "\t<li>'Connecticut'</li>\n",
       "\t<li>'Ohio'</li>\n",
       "\t<li>'Alaska'</li>\n",
       "\t<li>'Kentucky'</li>\n",
       "\t<li>'New York'</li>\n",
       "\t<li>'Kansas'</li>\n",
       "\t<li>'Indiana'</li>\n",
       "\t<li>'Massachusetts'</li>\n",
       "\t<li>'Nebraska'</li>\n",
       "\t<li>'Wisconsin'</li>\n",
       "\t<li>'Rhode Island'</li>\n",
       "\t<li>'West Virginia'</li>\n",
       "\t<li>'Washington'</li>\n",
       "\t<li>'Colorado'</li>\n",
       "\t<li>'Montana'</li>\n",
       "\t<li>'Minnesota'</li>\n",
       "\t<li>'South Dakota'</li>\n",
       "\t<li>'Oregon'</li>\n",
       "\t<li>'Wyoming'</li>\n",
       "\t<li>'Maine'</li>\n",
       "\t<li>'Utah'</li>\n",
       "\t<li>'Idaho'</li>\n",
       "\t<li>'Iowa'</li>\n",
       "\t<li>'North Dakota'</li>\n",
       "\t<li>'Hawaii'</li>\n",
       "\t<li>'New Hampshire'</li>\n",
       "\t<li>'Vermont'</li>\n",
       "</ol>\n"
      ],
      "text/latex": [
       "\\begin{enumerate*}\n",
       "\\item 'District of Columbia'\n",
       "\\item 'Louisiana'\n",
       "\\item 'Missouri'\n",
       "\\item 'Maryland'\n",
       "\\item 'South Carolina'\n",
       "\\item 'Delaware'\n",
       "\\item 'Michigan'\n",
       "\\item 'Mississippi'\n",
       "\\item 'Georgia'\n",
       "\\item 'Arizona'\n",
       "\\item 'Pennsylvania'\n",
       "\\item 'Tennessee'\n",
       "\\item 'Florida'\n",
       "\\item 'California'\n",
       "\\item 'New Mexico'\n",
       "\\item 'Texas'\n",
       "\\item 'Arkansas'\n",
       "\\item 'Virginia'\n",
       "\\item 'Nevada'\n",
       "\\item 'North Carolina'\n",
       "\\item 'Oklahoma'\n",
       "\\item 'Illinois'\n",
       "\\item 'Alabama'\n",
       "\\item 'New Jersey'\n",
       "\\item 'Connecticut'\n",
       "\\item 'Ohio'\n",
       "\\item 'Alaska'\n",
       "\\item 'Kentucky'\n",
       "\\item 'New York'\n",
       "\\item 'Kansas'\n",
       "\\item 'Indiana'\n",
       "\\item 'Massachusetts'\n",
       "\\item 'Nebraska'\n",
       "\\item 'Wisconsin'\n",
       "\\item 'Rhode Island'\n",
       "\\item 'West Virginia'\n",
       "\\item 'Washington'\n",
       "\\item 'Colorado'\n",
       "\\item 'Montana'\n",
       "\\item 'Minnesota'\n",
       "\\item 'South Dakota'\n",
       "\\item 'Oregon'\n",
       "\\item 'Wyoming'\n",
       "\\item 'Maine'\n",
       "\\item 'Utah'\n",
       "\\item 'Idaho'\n",
       "\\item 'Iowa'\n",
       "\\item 'North Dakota'\n",
       "\\item 'Hawaii'\n",
       "\\item 'New Hampshire'\n",
       "\\item 'Vermont'\n",
       "\\end{enumerate*}\n"
      ],
      "text/markdown": [
       "1. 'District of Columbia'\n",
       "2. 'Louisiana'\n",
       "3. 'Missouri'\n",
       "4. 'Maryland'\n",
       "5. 'South Carolina'\n",
       "6. 'Delaware'\n",
       "7. 'Michigan'\n",
       "8. 'Mississippi'\n",
       "9. 'Georgia'\n",
       "10. 'Arizona'\n",
       "11. 'Pennsylvania'\n",
       "12. 'Tennessee'\n",
       "13. 'Florida'\n",
       "14. 'California'\n",
       "15. 'New Mexico'\n",
       "16. 'Texas'\n",
       "17. 'Arkansas'\n",
       "18. 'Virginia'\n",
       "19. 'Nevada'\n",
       "20. 'North Carolina'\n",
       "21. 'Oklahoma'\n",
       "22. 'Illinois'\n",
       "23. 'Alabama'\n",
       "24. 'New Jersey'\n",
       "25. 'Connecticut'\n",
       "26. 'Ohio'\n",
       "27. 'Alaska'\n",
       "28. 'Kentucky'\n",
       "29. 'New York'\n",
       "30. 'Kansas'\n",
       "31. 'Indiana'\n",
       "32. 'Massachusetts'\n",
       "33. 'Nebraska'\n",
       "34. 'Wisconsin'\n",
       "35. 'Rhode Island'\n",
       "36. 'West Virginia'\n",
       "37. 'Washington'\n",
       "38. 'Colorado'\n",
       "39. 'Montana'\n",
       "40. 'Minnesota'\n",
       "41. 'South Dakota'\n",
       "42. 'Oregon'\n",
       "43. 'Wyoming'\n",
       "44. 'Maine'\n",
       "45. 'Utah'\n",
       "46. 'Idaho'\n",
       "47. 'Iowa'\n",
       "48. 'North Dakota'\n",
       "49. 'Hawaii'\n",
       "50. 'New Hampshire'\n",
       "51. 'Vermont'\n",
       "\n",
       "\n"
      ],
      "text/plain": [
       " [1] \"District of Columbia\" \"Louisiana\"            \"Missouri\"            \n",
       " [4] \"Maryland\"             \"South Carolina\"       \"Delaware\"            \n",
       " [7] \"Michigan\"             \"Mississippi\"          \"Georgia\"             \n",
       "[10] \"Arizona\"              \"Pennsylvania\"         \"Tennessee\"           \n",
       "[13] \"Florida\"              \"California\"           \"New Mexico\"          \n",
       "[16] \"Texas\"                \"Arkansas\"             \"Virginia\"            \n",
       "[19] \"Nevada\"               \"North Carolina\"       \"Oklahoma\"            \n",
       "[22] \"Illinois\"             \"Alabama\"              \"New Jersey\"          \n",
       "[25] \"Connecticut\"          \"Ohio\"                 \"Alaska\"              \n",
       "[28] \"Kentucky\"             \"New York\"             \"Kansas\"              \n",
       "[31] \"Indiana\"              \"Massachusetts\"        \"Nebraska\"            \n",
       "[34] \"Wisconsin\"            \"Rhode Island\"         \"West Virginia\"       \n",
       "[37] \"Washington\"           \"Colorado\"             \"Montana\"             \n",
       "[40] \"Minnesota\"            \"South Dakota\"         \"Oregon\"              \n",
       "[43] \"Wyoming\"              \"Maine\"                \"Utah\"                \n",
       "[46] \"Idaho\"                \"Iowa\"                 \"North Dakota\"        \n",
       "[49] \"Hawaii\"               \"New Hampshire\"        \"Vermont\"             "
      ]
     },
     "metadata": {},
     "output_type": "display_data"
    }
   ],
   "source": [
    "murders$state[order(murder_rate, decreasing = TRUE)]"
   ]
  },
  {
   "cell_type": "markdown",
   "metadata": {},
   "source": [
    "### Excersice"
   ]
  },
  {
   "cell_type": "code",
   "execution_count": 100,
   "metadata": {},
   "outputs": [
    {
     "data": {
      "text/html": [
       "<table>\n",
       "<thead><tr><th scope=col>name</th><th scope=col>data</th></tr></thead>\n",
       "<tbody>\n",
       "\t<tr><td>Beijing       </td><td> 1.666667     </td></tr>\n",
       "\t<tr><td>Lagos         </td><td>31.111111     </td></tr>\n",
       "\t<tr><td>Paris         </td><td> 5.555556     </td></tr>\n",
       "\t<tr><td>Rio de Janeiro</td><td>28.888889     </td></tr>\n",
       "\t<tr><td>San Juan      </td><td>27.222222     </td></tr>\n",
       "\t<tr><td>Toronto       </td><td>-1.111111     </td></tr>\n",
       "</tbody>\n",
       "</table>\n"
      ],
      "text/latex": [
       "\\begin{tabular}{r|ll}\n",
       " name & data\\\\\n",
       "\\hline\n",
       "\t Beijing        &  1.666667     \\\\\n",
       "\t Lagos          & 31.111111     \\\\\n",
       "\t Paris          &  5.555556     \\\\\n",
       "\t Rio de Janeiro & 28.888889     \\\\\n",
       "\t San Juan       & 27.222222     \\\\\n",
       "\t Toronto        & -1.111111     \\\\\n",
       "\\end{tabular}\n"
      ],
      "text/markdown": [
       "\n",
       "name | data | \n",
       "|---|---|---|---|---|---|\n",
       "| Beijing        |  1.666667      | \n",
       "| Lagos          | 31.111111      | \n",
       "| Paris          |  5.555556      | \n",
       "| Rio de Janeiro | 28.888889      | \n",
       "| San Juan       | 27.222222      | \n",
       "| Toronto        | -1.111111      | \n",
       "\n",
       "\n"
      ],
      "text/plain": [
       "  name           data     \n",
       "1 Beijing         1.666667\n",
       "2 Lagos          31.111111\n",
       "3 Paris           5.555556\n",
       "4 Rio de Janeiro 28.888889\n",
       "5 San Juan       27.222222\n",
       "6 Toronto        -1.111111"
      ]
     },
     "metadata": {},
     "output_type": "display_data"
    }
   ],
   "source": [
    "# Assign city names to `city` \n",
    "city <- c(\"Beijing\", \"Lagos\", \"Paris\", \"Rio de Janeiro\", \"San Juan\", \"Toronto\")\n",
    "\n",
    "# Store temperature values in `temp`\n",
    "temp <- c(35, 88, 42, 84, 81, 30)\n",
    "\n",
    "# Convert temperature into Celsius and overwrite the original values of 'temp' with these Celsius values\n",
    "temp <- 5/9 * (temp - 32)\n",
    "# Create a data frame `city_temps` \n",
    "city_temps <- data.frame(name=city, data=temp)\n",
    "city_temps"
   ]
  },
  {
   "cell_type": "code",
   "execution_count": 101,
   "metadata": {},
   "outputs": [
    {
     "data": {
      "text/html": [
       "1.63498390018489"
      ],
      "text/latex": [
       "1.63498390018489"
      ],
      "text/markdown": [
       "1.63498390018489"
      ],
      "text/plain": [
       "[1] 1.634984"
      ]
     },
     "metadata": {},
     "output_type": "display_data"
    },
    {
     "data": {
      "text/html": [
       "1.64493406684823"
      ],
      "text/latex": [
       "1.64493406684823"
      ],
      "text/markdown": [
       "1.64493406684823"
      ],
      "text/plain": [
       "[1] 1.644934"
      ]
     },
     "metadata": {},
     "output_type": "display_data"
    }
   ],
   "source": [
    "# Define an object `x` with the numbers 1 through 100\n",
    "x <- 1:100\n",
    "# Compute the sum \n",
    "sum(1/x^2)\n",
    "\n",
    "#which is same as defined Euler to being close to pi^2/6\n",
    "pi^2/6"
   ]
  },
  {
   "cell_type": "code",
   "execution_count": 102,
   "metadata": {},
   "outputs": [
    {
     "data": {
      "text/html": [
       "2.77912545066711"
      ],
      "text/latex": [
       "2.77912545066711"
      ],
      "text/markdown": [
       "2.77912545066711"
      ],
      "text/plain": [
       "[1] 2.779125"
      ]
     },
     "metadata": {},
     "output_type": "display_data"
    }
   ],
   "source": [
    "# Load the data\n",
    "library(dslabs)\n",
    "data(murders)\n",
    "\n",
    "# Store the per 100,000 murder rate for each state in murder_rate\n",
    "murder_rate <- murders$total/murders$population*100000\n",
    "# Calculate the average murder rate in the US \n",
    "mean(murder_rate)"
   ]
  },
  {
   "cell_type": "markdown",
   "metadata": {},
   "source": [
    "## Data Wrangling\n",
    "\n",
    "### Indexing vectors\n",
    "subsetting vector using indexes\n",
    "\n",
    "using logical operators to index vectors"
   ]
  },
  {
   "cell_type": "code",
   "execution_count": 103,
   "metadata": {},
   "outputs": [
    {
     "data": {
      "text/html": [
       "<ol class=list-inline>\n",
       "\t<li>2.82442377570644</li>\n",
       "\t<li>2.67518596062408</li>\n",
       "\t<li>3.62952726815339</li>\n",
       "\t<li>3.18939009944724</li>\n",
       "\t<li>3.37413830627813</li>\n",
       "\t<li>1.29245310781286</li>\n",
       "\t<li>2.71397222850975</li>\n",
       "\t<li>4.23193686841126</li>\n",
       "\t<li>16.4527531771264</li>\n",
       "\t<li>3.39806883024604</li>\n",
       "\t<li>3.79032258064516</li>\n",
       "\t<li>0.514591991037278</li>\n",
       "\t<li>0.76551019340615</li>\n",
       "\t<li>2.83696079818983</li>\n",
       "\t<li>2.19007304664763</li>\n",
       "\t<li>0.689348418027446</li>\n",
       "\t<li>2.20811056535341</li>\n",
       "\t<li>2.67320095304223</li>\n",
       "\t<li>7.7425810191619</li>\n",
       "\t<li>0.828088147724903</li>\n",
       "\t<li>5.07486552472378</li>\n",
       "\t<li>1.80217907886962</li>\n",
       "\t<li>4.17862245083795</li>\n",
       "\t<li>0.999259981994466</li>\n",
       "\t<li>4.04408456585236</li>\n",
       "\t<li>5.35989168009562</li>\n",
       "\t<li>1.21283788905565</li>\n",
       "\t<li>1.75213719672285</li>\n",
       "\t<li>3.11047634353138</li>\n",
       "\t<li>0.379803565595874</li>\n",
       "\t<li>2.79803191439751</li>\n",
       "\t<li>3.25372393560735</li>\n",
       "\t<li>2.66795994778023</li>\n",
       "\t<li>2.9993236839707</li>\n",
       "\t<li>0.594715064578622</li>\n",
       "\t<li>2.68712254596366</li>\n",
       "\t<li>2.95893399471284</li>\n",
       "\t<li>0.939684276524024</li>\n",
       "\t<li>3.59775125588679</li>\n",
       "\t<li>1.52009325772136</li>\n",
       "\t<li>4.47532345562425</li>\n",
       "\t<li>0.982583703849272</li>\n",
       "\t<li>3.45093565265624</li>\n",
       "\t<li>3.20136027189849</li>\n",
       "\t<li>0.795981019470781</li>\n",
       "\t<li>0.319621057274495</li>\n",
       "\t<li>3.12460005119345</li>\n",
       "\t<li>1.38299422711442</li>\n",
       "\t<li>1.45710131819099</li>\n",
       "\t<li>1.70564865114843</li>\n",
       "\t<li>0.887113085627704</li>\n",
       "</ol>\n"
      ],
      "text/latex": [
       "\\begin{enumerate*}\n",
       "\\item 2.82442377570644\n",
       "\\item 2.67518596062408\n",
       "\\item 3.62952726815339\n",
       "\\item 3.18939009944724\n",
       "\\item 3.37413830627813\n",
       "\\item 1.29245310781286\n",
       "\\item 2.71397222850975\n",
       "\\item 4.23193686841126\n",
       "\\item 16.4527531771264\n",
       "\\item 3.39806883024604\n",
       "\\item 3.79032258064516\n",
       "\\item 0.514591991037278\n",
       "\\item 0.76551019340615\n",
       "\\item 2.83696079818983\n",
       "\\item 2.19007304664763\n",
       "\\item 0.689348418027446\n",
       "\\item 2.20811056535341\n",
       "\\item 2.67320095304223\n",
       "\\item 7.7425810191619\n",
       "\\item 0.828088147724903\n",
       "\\item 5.07486552472378\n",
       "\\item 1.80217907886962\n",
       "\\item 4.17862245083795\n",
       "\\item 0.999259981994466\n",
       "\\item 4.04408456585236\n",
       "\\item 5.35989168009562\n",
       "\\item 1.21283788905565\n",
       "\\item 1.75213719672285\n",
       "\\item 3.11047634353138\n",
       "\\item 0.379803565595874\n",
       "\\item 2.79803191439751\n",
       "\\item 3.25372393560735\n",
       "\\item 2.66795994778023\n",
       "\\item 2.9993236839707\n",
       "\\item 0.594715064578622\n",
       "\\item 2.68712254596366\n",
       "\\item 2.95893399471284\n",
       "\\item 0.939684276524024\n",
       "\\item 3.59775125588679\n",
       "\\item 1.52009325772136\n",
       "\\item 4.47532345562425\n",
       "\\item 0.982583703849272\n",
       "\\item 3.45093565265624\n",
       "\\item 3.20136027189849\n",
       "\\item 0.795981019470781\n",
       "\\item 0.319621057274495\n",
       "\\item 3.12460005119345\n",
       "\\item 1.38299422711442\n",
       "\\item 1.45710131819099\n",
       "\\item 1.70564865114843\n",
       "\\item 0.887113085627704\n",
       "\\end{enumerate*}\n"
      ],
      "text/markdown": [
       "1. 2.82442377570644\n",
       "2. 2.67518596062408\n",
       "3. 3.62952726815339\n",
       "4. 3.18939009944724\n",
       "5. 3.37413830627813\n",
       "6. 1.29245310781286\n",
       "7. 2.71397222850975\n",
       "8. 4.23193686841126\n",
       "9. 16.4527531771264\n",
       "10. 3.39806883024604\n",
       "11. 3.79032258064516\n",
       "12. 0.514591991037278\n",
       "13. 0.76551019340615\n",
       "14. 2.83696079818983\n",
       "15. 2.19007304664763\n",
       "16. 0.689348418027446\n",
       "17. 2.20811056535341\n",
       "18. 2.67320095304223\n",
       "19. 7.7425810191619\n",
       "20. 0.828088147724903\n",
       "21. 5.07486552472378\n",
       "22. 1.80217907886962\n",
       "23. 4.17862245083795\n",
       "24. 0.999259981994466\n",
       "25. 4.04408456585236\n",
       "26. 5.35989168009562\n",
       "27. 1.21283788905565\n",
       "28. 1.75213719672285\n",
       "29. 3.11047634353138\n",
       "30. 0.379803565595874\n",
       "31. 2.79803191439751\n",
       "32. 3.25372393560735\n",
       "33. 2.66795994778023\n",
       "34. 2.9993236839707\n",
       "35. 0.594715064578622\n",
       "36. 2.68712254596366\n",
       "37. 2.95893399471284\n",
       "38. 0.939684276524024\n",
       "39. 3.59775125588679\n",
       "40. 1.52009325772136\n",
       "41. 4.47532345562425\n",
       "42. 0.982583703849272\n",
       "43. 3.45093565265624\n",
       "44. 3.20136027189849\n",
       "45. 0.795981019470781\n",
       "46. 0.319621057274495\n",
       "47. 3.12460005119345\n",
       "48. 1.38299422711442\n",
       "49. 1.45710131819099\n",
       "50. 1.70564865114843\n",
       "51. 0.887113085627704\n",
       "\n",
       "\n"
      ],
      "text/plain": [
       " [1]  2.8244238  2.6751860  3.6295273  3.1893901  3.3741383  1.2924531\n",
       " [7]  2.7139722  4.2319369 16.4527532  3.3980688  3.7903226  0.5145920\n",
       "[13]  0.7655102  2.8369608  2.1900730  0.6893484  2.2081106  2.6732010\n",
       "[19]  7.7425810  0.8280881  5.0748655  1.8021791  4.1786225  0.9992600\n",
       "[25]  4.0440846  5.3598917  1.2128379  1.7521372  3.1104763  0.3798036\n",
       "[31]  2.7980319  3.2537239  2.6679599  2.9993237  0.5947151  2.6871225\n",
       "[37]  2.9589340  0.9396843  3.5977513  1.5200933  4.4753235  0.9825837\n",
       "[43]  3.4509357  3.2013603  0.7959810  0.3196211  3.1246001  1.3829942\n",
       "[49]  1.4571013  1.7056487  0.8871131"
      ]
     },
     "metadata": {},
     "output_type": "display_data"
    }
   ],
   "source": [
    "murder_rate <- murders$total/murders$population*100000\n",
    "murder_rate"
   ]
  },
  {
   "cell_type": "code",
   "execution_count": 104,
   "metadata": {},
   "outputs": [
    {
     "data": {
      "text/html": [
       "<ol class=list-inline>\n",
       "\t<li>FALSE</li>\n",
       "\t<li>FALSE</li>\n",
       "\t<li>FALSE</li>\n",
       "\t<li>FALSE</li>\n",
       "\t<li>FALSE</li>\n",
       "\t<li>FALSE</li>\n",
       "\t<li>FALSE</li>\n",
       "\t<li>FALSE</li>\n",
       "\t<li>FALSE</li>\n",
       "\t<li>FALSE</li>\n",
       "\t<li>FALSE</li>\n",
       "\t<li>TRUE</li>\n",
       "\t<li>FALSE</li>\n",
       "\t<li>FALSE</li>\n",
       "\t<li>FALSE</li>\n",
       "\t<li>TRUE</li>\n",
       "\t<li>FALSE</li>\n",
       "\t<li>FALSE</li>\n",
       "\t<li>FALSE</li>\n",
       "\t<li>FALSE</li>\n",
       "\t<li>FALSE</li>\n",
       "\t<li>FALSE</li>\n",
       "\t<li>FALSE</li>\n",
       "\t<li>FALSE</li>\n",
       "\t<li>FALSE</li>\n",
       "\t<li>FALSE</li>\n",
       "\t<li>FALSE</li>\n",
       "\t<li>FALSE</li>\n",
       "\t<li>FALSE</li>\n",
       "\t<li>TRUE</li>\n",
       "\t<li>FALSE</li>\n",
       "\t<li>FALSE</li>\n",
       "\t<li>FALSE</li>\n",
       "\t<li>FALSE</li>\n",
       "\t<li>TRUE</li>\n",
       "\t<li>FALSE</li>\n",
       "\t<li>FALSE</li>\n",
       "\t<li>FALSE</li>\n",
       "\t<li>FALSE</li>\n",
       "\t<li>FALSE</li>\n",
       "\t<li>FALSE</li>\n",
       "\t<li>FALSE</li>\n",
       "\t<li>FALSE</li>\n",
       "\t<li>FALSE</li>\n",
       "\t<li>FALSE</li>\n",
       "\t<li>TRUE</li>\n",
       "\t<li>FALSE</li>\n",
       "\t<li>FALSE</li>\n",
       "\t<li>FALSE</li>\n",
       "\t<li>FALSE</li>\n",
       "\t<li>FALSE</li>\n",
       "</ol>\n"
      ],
      "text/latex": [
       "\\begin{enumerate*}\n",
       "\\item FALSE\n",
       "\\item FALSE\n",
       "\\item FALSE\n",
       "\\item FALSE\n",
       "\\item FALSE\n",
       "\\item FALSE\n",
       "\\item FALSE\n",
       "\\item FALSE\n",
       "\\item FALSE\n",
       "\\item FALSE\n",
       "\\item FALSE\n",
       "\\item TRUE\n",
       "\\item FALSE\n",
       "\\item FALSE\n",
       "\\item FALSE\n",
       "\\item TRUE\n",
       "\\item FALSE\n",
       "\\item FALSE\n",
       "\\item FALSE\n",
       "\\item FALSE\n",
       "\\item FALSE\n",
       "\\item FALSE\n",
       "\\item FALSE\n",
       "\\item FALSE\n",
       "\\item FALSE\n",
       "\\item FALSE\n",
       "\\item FALSE\n",
       "\\item FALSE\n",
       "\\item FALSE\n",
       "\\item TRUE\n",
       "\\item FALSE\n",
       "\\item FALSE\n",
       "\\item FALSE\n",
       "\\item FALSE\n",
       "\\item TRUE\n",
       "\\item FALSE\n",
       "\\item FALSE\n",
       "\\item FALSE\n",
       "\\item FALSE\n",
       "\\item FALSE\n",
       "\\item FALSE\n",
       "\\item FALSE\n",
       "\\item FALSE\n",
       "\\item FALSE\n",
       "\\item FALSE\n",
       "\\item TRUE\n",
       "\\item FALSE\n",
       "\\item FALSE\n",
       "\\item FALSE\n",
       "\\item FALSE\n",
       "\\item FALSE\n",
       "\\end{enumerate*}\n"
      ],
      "text/markdown": [
       "1. FALSE\n",
       "2. FALSE\n",
       "3. FALSE\n",
       "4. FALSE\n",
       "5. FALSE\n",
       "6. FALSE\n",
       "7. FALSE\n",
       "8. FALSE\n",
       "9. FALSE\n",
       "10. FALSE\n",
       "11. FALSE\n",
       "12. TRUE\n",
       "13. FALSE\n",
       "14. FALSE\n",
       "15. FALSE\n",
       "16. TRUE\n",
       "17. FALSE\n",
       "18. FALSE\n",
       "19. FALSE\n",
       "20. FALSE\n",
       "21. FALSE\n",
       "22. FALSE\n",
       "23. FALSE\n",
       "24. FALSE\n",
       "25. FALSE\n",
       "26. FALSE\n",
       "27. FALSE\n",
       "28. FALSE\n",
       "29. FALSE\n",
       "30. TRUE\n",
       "31. FALSE\n",
       "32. FALSE\n",
       "33. FALSE\n",
       "34. FALSE\n",
       "35. TRUE\n",
       "36. FALSE\n",
       "37. FALSE\n",
       "38. FALSE\n",
       "39. FALSE\n",
       "40. FALSE\n",
       "41. FALSE\n",
       "42. FALSE\n",
       "43. FALSE\n",
       "44. FALSE\n",
       "45. FALSE\n",
       "46. TRUE\n",
       "47. FALSE\n",
       "48. FALSE\n",
       "49. FALSE\n",
       "50. FALSE\n",
       "51. FALSE\n",
       "\n",
       "\n"
      ],
      "text/plain": [
       " [1] FALSE FALSE FALSE FALSE FALSE FALSE FALSE FALSE FALSE FALSE FALSE  TRUE\n",
       "[13] FALSE FALSE FALSE  TRUE FALSE FALSE FALSE FALSE FALSE FALSE FALSE FALSE\n",
       "[25] FALSE FALSE FALSE FALSE FALSE  TRUE FALSE FALSE FALSE FALSE  TRUE FALSE\n",
       "[37] FALSE FALSE FALSE FALSE FALSE FALSE FALSE FALSE FALSE  TRUE FALSE FALSE\n",
       "[49] FALSE FALSE FALSE"
      ]
     },
     "metadata": {},
     "output_type": "display_data"
    }
   ],
   "source": [
    "index <- murder_rate < 0.71\n",
    "index"
   ]
  },
  {
   "cell_type": "code",
   "execution_count": 105,
   "metadata": {},
   "outputs": [
    {
     "data": {
      "text/html": [
       "<ol class=list-inline>\n",
       "\t<li>FALSE</li>\n",
       "\t<li>FALSE</li>\n",
       "\t<li>FALSE</li>\n",
       "\t<li>FALSE</li>\n",
       "\t<li>FALSE</li>\n",
       "\t<li>FALSE</li>\n",
       "\t<li>FALSE</li>\n",
       "\t<li>FALSE</li>\n",
       "\t<li>FALSE</li>\n",
       "\t<li>FALSE</li>\n",
       "\t<li>FALSE</li>\n",
       "\t<li>TRUE</li>\n",
       "\t<li>FALSE</li>\n",
       "\t<li>FALSE</li>\n",
       "\t<li>FALSE</li>\n",
       "\t<li>TRUE</li>\n",
       "\t<li>FALSE</li>\n",
       "\t<li>FALSE</li>\n",
       "\t<li>FALSE</li>\n",
       "\t<li>FALSE</li>\n",
       "\t<li>FALSE</li>\n",
       "\t<li>FALSE</li>\n",
       "\t<li>FALSE</li>\n",
       "\t<li>FALSE</li>\n",
       "\t<li>FALSE</li>\n",
       "\t<li>FALSE</li>\n",
       "\t<li>FALSE</li>\n",
       "\t<li>FALSE</li>\n",
       "\t<li>FALSE</li>\n",
       "\t<li>TRUE</li>\n",
       "\t<li>FALSE</li>\n",
       "\t<li>FALSE</li>\n",
       "\t<li>FALSE</li>\n",
       "\t<li>FALSE</li>\n",
       "\t<li>TRUE</li>\n",
       "\t<li>FALSE</li>\n",
       "\t<li>FALSE</li>\n",
       "\t<li>FALSE</li>\n",
       "\t<li>FALSE</li>\n",
       "\t<li>FALSE</li>\n",
       "\t<li>FALSE</li>\n",
       "\t<li>FALSE</li>\n",
       "\t<li>FALSE</li>\n",
       "\t<li>FALSE</li>\n",
       "\t<li>FALSE</li>\n",
       "\t<li>TRUE</li>\n",
       "\t<li>FALSE</li>\n",
       "\t<li>FALSE</li>\n",
       "\t<li>FALSE</li>\n",
       "\t<li>FALSE</li>\n",
       "\t<li>FALSE</li>\n",
       "</ol>\n"
      ],
      "text/latex": [
       "\\begin{enumerate*}\n",
       "\\item FALSE\n",
       "\\item FALSE\n",
       "\\item FALSE\n",
       "\\item FALSE\n",
       "\\item FALSE\n",
       "\\item FALSE\n",
       "\\item FALSE\n",
       "\\item FALSE\n",
       "\\item FALSE\n",
       "\\item FALSE\n",
       "\\item FALSE\n",
       "\\item TRUE\n",
       "\\item FALSE\n",
       "\\item FALSE\n",
       "\\item FALSE\n",
       "\\item TRUE\n",
       "\\item FALSE\n",
       "\\item FALSE\n",
       "\\item FALSE\n",
       "\\item FALSE\n",
       "\\item FALSE\n",
       "\\item FALSE\n",
       "\\item FALSE\n",
       "\\item FALSE\n",
       "\\item FALSE\n",
       "\\item FALSE\n",
       "\\item FALSE\n",
       "\\item FALSE\n",
       "\\item FALSE\n",
       "\\item TRUE\n",
       "\\item FALSE\n",
       "\\item FALSE\n",
       "\\item FALSE\n",
       "\\item FALSE\n",
       "\\item TRUE\n",
       "\\item FALSE\n",
       "\\item FALSE\n",
       "\\item FALSE\n",
       "\\item FALSE\n",
       "\\item FALSE\n",
       "\\item FALSE\n",
       "\\item FALSE\n",
       "\\item FALSE\n",
       "\\item FALSE\n",
       "\\item FALSE\n",
       "\\item TRUE\n",
       "\\item FALSE\n",
       "\\item FALSE\n",
       "\\item FALSE\n",
       "\\item FALSE\n",
       "\\item FALSE\n",
       "\\end{enumerate*}\n"
      ],
      "text/markdown": [
       "1. FALSE\n",
       "2. FALSE\n",
       "3. FALSE\n",
       "4. FALSE\n",
       "5. FALSE\n",
       "6. FALSE\n",
       "7. FALSE\n",
       "8. FALSE\n",
       "9. FALSE\n",
       "10. FALSE\n",
       "11. FALSE\n",
       "12. TRUE\n",
       "13. FALSE\n",
       "14. FALSE\n",
       "15. FALSE\n",
       "16. TRUE\n",
       "17. FALSE\n",
       "18. FALSE\n",
       "19. FALSE\n",
       "20. FALSE\n",
       "21. FALSE\n",
       "22. FALSE\n",
       "23. FALSE\n",
       "24. FALSE\n",
       "25. FALSE\n",
       "26. FALSE\n",
       "27. FALSE\n",
       "28. FALSE\n",
       "29. FALSE\n",
       "30. TRUE\n",
       "31. FALSE\n",
       "32. FALSE\n",
       "33. FALSE\n",
       "34. FALSE\n",
       "35. TRUE\n",
       "36. FALSE\n",
       "37. FALSE\n",
       "38. FALSE\n",
       "39. FALSE\n",
       "40. FALSE\n",
       "41. FALSE\n",
       "42. FALSE\n",
       "43. FALSE\n",
       "44. FALSE\n",
       "45. FALSE\n",
       "46. TRUE\n",
       "47. FALSE\n",
       "48. FALSE\n",
       "49. FALSE\n",
       "50. FALSE\n",
       "51. FALSE\n",
       "\n",
       "\n"
      ],
      "text/plain": [
       " [1] FALSE FALSE FALSE FALSE FALSE FALSE FALSE FALSE FALSE FALSE FALSE  TRUE\n",
       "[13] FALSE FALSE FALSE  TRUE FALSE FALSE FALSE FALSE FALSE FALSE FALSE FALSE\n",
       "[25] FALSE FALSE FALSE FALSE FALSE  TRUE FALSE FALSE FALSE FALSE  TRUE FALSE\n",
       "[37] FALSE FALSE FALSE FALSE FALSE FALSE FALSE FALSE FALSE  TRUE FALSE FALSE\n",
       "[49] FALSE FALSE FALSE"
      ]
     },
     "metadata": {},
     "output_type": "display_data"
    }
   ],
   "source": [
    "index <- murder_rate <= 0.71\n",
    "index"
   ]
  },
  {
   "cell_type": "code",
   "execution_count": 106,
   "metadata": {},
   "outputs": [
    {
     "data": {
      "text/html": [
       "<ol class=list-inline>\n",
       "\t<li>'Hawaii'</li>\n",
       "\t<li>'Iowa'</li>\n",
       "\t<li>'New Hampshire'</li>\n",
       "\t<li>'North Dakota'</li>\n",
       "\t<li>'Vermont'</li>\n",
       "</ol>\n"
      ],
      "text/latex": [
       "\\begin{enumerate*}\n",
       "\\item 'Hawaii'\n",
       "\\item 'Iowa'\n",
       "\\item 'New Hampshire'\n",
       "\\item 'North Dakota'\n",
       "\\item 'Vermont'\n",
       "\\end{enumerate*}\n"
      ],
      "text/markdown": [
       "1. 'Hawaii'\n",
       "2. 'Iowa'\n",
       "3. 'New Hampshire'\n",
       "4. 'North Dakota'\n",
       "5. 'Vermont'\n",
       "\n",
       "\n"
      ],
      "text/plain": [
       "[1] \"Hawaii\"        \"Iowa\"          \"New Hampshire\" \"North Dakota\" \n",
       "[5] \"Vermont\"      "
      ]
     },
     "metadata": {},
     "output_type": "display_data"
    }
   ],
   "source": [
    "murders$state[index]"
   ]
  },
  {
   "cell_type": "markdown",
   "metadata": {},
   "source": [
    "To get total count of true we can use the **sum()** function since True values correspond to 1 and false values correspond to 0 the sum will add the True values."
   ]
  },
  {
   "cell_type": "code",
   "execution_count": 107,
   "metadata": {},
   "outputs": [
    {
     "data": {
      "text/html": [
       "5"
      ],
      "text/latex": [
       "5"
      ],
      "text/markdown": [
       "5"
      ],
      "text/plain": [
       "[1] 5"
      ]
     },
     "metadata": {},
     "output_type": "display_data"
    }
   ],
   "source": [
    "sum(index)"
   ]
  },
  {
   "cell_type": "markdown",
   "metadata": {},
   "source": [
    "let's get all the states that are in the West region and have a murder rate <= 1"
   ]
  },
  {
   "cell_type": "code",
   "execution_count": 108,
   "metadata": {},
   "outputs": [
    {
     "data": {
      "text/html": [
       "<ol class=list-inline>\n",
       "\t<li>'Hawaii'</li>\n",
       "\t<li>'Idaho'</li>\n",
       "\t<li>'Oregon'</li>\n",
       "\t<li>'Utah'</li>\n",
       "\t<li>'Wyoming'</li>\n",
       "</ol>\n"
      ],
      "text/latex": [
       "\\begin{enumerate*}\n",
       "\\item 'Hawaii'\n",
       "\\item 'Idaho'\n",
       "\\item 'Oregon'\n",
       "\\item 'Utah'\n",
       "\\item 'Wyoming'\n",
       "\\end{enumerate*}\n"
      ],
      "text/markdown": [
       "1. 'Hawaii'\n",
       "2. 'Idaho'\n",
       "3. 'Oregon'\n",
       "4. 'Utah'\n",
       "5. 'Wyoming'\n",
       "\n",
       "\n"
      ],
      "text/plain": [
       "[1] \"Hawaii\"  \"Idaho\"   \"Oregon\"  \"Utah\"    \"Wyoming\""
      ]
     },
     "metadata": {},
     "output_type": "display_data"
    }
   ],
   "source": [
    "west <- murders$region == \"West\"\n",
    "safe <- murder_rate <= 1\n",
    "index_n <- safe & west\n",
    "murders$state[index_n]"
   ]
  },
  {
   "cell_type": "code",
   "execution_count": 109,
   "metadata": {},
   "outputs": [
    {
     "data": {
      "text/html": [
       "5"
      ],
      "text/latex": [
       "5"
      ],
      "text/markdown": [
       "5"
      ],
      "text/plain": [
       "[1] 5"
      ]
     },
     "metadata": {},
     "output_type": "display_data"
    }
   ],
   "source": [
    "sum(index_n)"
   ]
  },
  {
   "cell_type": "markdown",
   "metadata": {},
   "source": [
    "### Which, Match and %in%\n",
    "#### which"
   ]
  },
  {
   "cell_type": "code",
   "execution_count": 110,
   "metadata": {},
   "outputs": [],
   "source": [
    "x <- c(FALSE, TRUE, FALSE, TRUE, TRUE, FALSE)"
   ]
  },
  {
   "cell_type": "code",
   "execution_count": 111,
   "metadata": {},
   "outputs": [
    {
     "data": {
      "text/html": [
       "<ol class=list-inline>\n",
       "\t<li>2</li>\n",
       "\t<li>4</li>\n",
       "\t<li>5</li>\n",
       "</ol>\n"
      ],
      "text/latex": [
       "\\begin{enumerate*}\n",
       "\\item 2\n",
       "\\item 4\n",
       "\\item 5\n",
       "\\end{enumerate*}\n"
      ],
      "text/markdown": [
       "1. 2\n",
       "2. 4\n",
       "3. 5\n",
       "\n",
       "\n"
      ],
      "text/plain": [
       "[1] 2 4 5"
      ]
     },
     "metadata": {},
     "output_type": "display_data"
    }
   ],
   "source": [
    "which(x)\n",
    "# shows us which indexes are TRUE"
   ]
  },
  {
   "cell_type": "code",
   "execution_count": 112,
   "metadata": {},
   "outputs": [
    {
     "data": {
      "text/html": [
       "22"
      ],
      "text/latex": [
       "22"
      ],
      "text/markdown": [
       "22"
      ],
      "text/plain": [
       "[1] 22"
      ]
     },
     "metadata": {},
     "output_type": "display_data"
    }
   ],
   "source": [
    "index <- which(murders$state == \"Massachusetts\")\n",
    "index"
   ]
  },
  {
   "cell_type": "code",
   "execution_count": 113,
   "metadata": {},
   "outputs": [
    {
     "data": {
      "text/html": [
       "1"
      ],
      "text/latex": [
       "1"
      ],
      "text/markdown": [
       "1"
      ],
      "text/plain": [
       "[1] 1"
      ]
     },
     "metadata": {},
     "output_type": "display_data"
    }
   ],
   "source": [
    "length(index)"
   ]
  },
  {
   "cell_type": "code",
   "execution_count": 114,
   "metadata": {},
   "outputs": [
    {
     "data": {
      "text/html": [
       "1.80217907886962"
      ],
      "text/latex": [
       "1.80217907886962"
      ],
      "text/markdown": [
       "1.80217907886962"
      ],
      "text/plain": [
       "[1] 1.802179"
      ]
     },
     "metadata": {},
     "output_type": "display_data"
    }
   ],
   "source": [
    "murder_rate[index]"
   ]
  },
  {
   "cell_type": "markdown",
   "metadata": {},
   "source": [
    "We could do it without using **which** but out index object would be larger. **Which** is great when we want to have a smaller index to work with."
   ]
  },
  {
   "cell_type": "code",
   "execution_count": 115,
   "metadata": {},
   "outputs": [
    {
     "data": {
      "text/html": [
       "1.80217907886962"
      ],
      "text/latex": [
       "1.80217907886962"
      ],
      "text/markdown": [
       "1.80217907886962"
      ],
      "text/plain": [
       "[1] 1.802179"
      ]
     },
     "metadata": {},
     "output_type": "display_data"
    }
   ],
   "source": [
    "index <- murders$state == \"Massachusetts\"\n",
    "murder_rate[index]"
   ]
  },
  {
   "cell_type": "code",
   "execution_count": 116,
   "metadata": {},
   "outputs": [
    {
     "data": {
      "text/html": [
       "51"
      ],
      "text/latex": [
       "51"
      ],
      "text/markdown": [
       "51"
      ],
      "text/plain": [
       "[1] 51"
      ]
     },
     "metadata": {},
     "output_type": "display_data"
    }
   ],
   "source": [
    "length(index)"
   ]
  },
  {
   "cell_type": "markdown",
   "metadata": {},
   "source": [
    "#### match"
   ]
  },
  {
   "cell_type": "code",
   "execution_count": 117,
   "metadata": {},
   "outputs": [
    {
     "data": {
      "text/html": [
       "<ol class=list-inline>\n",
       "\t<li>33</li>\n",
       "\t<li>10</li>\n",
       "\t<li>44</li>\n",
       "</ol>\n"
      ],
      "text/latex": [
       "\\begin{enumerate*}\n",
       "\\item 33\n",
       "\\item 10\n",
       "\\item 44\n",
       "\\end{enumerate*}\n"
      ],
      "text/markdown": [
       "1. 33\n",
       "2. 10\n",
       "3. 44\n",
       "\n",
       "\n"
      ],
      "text/plain": [
       "[1] 33 10 44"
      ]
     },
     "metadata": {},
     "output_type": "display_data"
    },
    {
     "data": {
      "text/html": [
       "<ol class=list-inline>\n",
       "\t<li>'New York'</li>\n",
       "\t<li>'Florida'</li>\n",
       "\t<li>'Texas'</li>\n",
       "</ol>\n"
      ],
      "text/latex": [
       "\\begin{enumerate*}\n",
       "\\item 'New York'\n",
       "\\item 'Florida'\n",
       "\\item 'Texas'\n",
       "\\end{enumerate*}\n"
      ],
      "text/markdown": [
       "1. 'New York'\n",
       "2. 'Florida'\n",
       "3. 'Texas'\n",
       "\n",
       "\n"
      ],
      "text/plain": [
       "[1] \"New York\" \"Florida\"  \"Texas\"   "
      ]
     },
     "metadata": {},
     "output_type": "display_data"
    }
   ],
   "source": [
    "index <- match(c(\"New York\", \"Florida\", \"Texas\"), murders$state)\n",
    "index\n",
    "murders$state[index]"
   ]
  },
  {
   "cell_type": "code",
   "execution_count": 118,
   "metadata": {},
   "outputs": [
    {
     "data": {
      "text/html": [
       "<ol class=list-inline>\n",
       "\t<li>2.66795994778023</li>\n",
       "\t<li>3.39806883024604</li>\n",
       "\t<li>3.20136027189849</li>\n",
       "</ol>\n"
      ],
      "text/latex": [
       "\\begin{enumerate*}\n",
       "\\item 2.66795994778023\n",
       "\\item 3.39806883024604\n",
       "\\item 3.20136027189849\n",
       "\\end{enumerate*}\n"
      ],
      "text/markdown": [
       "1. 2.66795994778023\n",
       "2. 3.39806883024604\n",
       "3. 3.20136027189849\n",
       "\n",
       "\n"
      ],
      "text/plain": [
       "[1] 2.667960 3.398069 3.201360"
      ]
     },
     "metadata": {},
     "output_type": "display_data"
    }
   ],
   "source": [
    "murder_rate[index]"
   ]
  },
  {
   "cell_type": "markdown",
   "metadata": {},
   "source": [
    "#### %in% operator"
   ]
  },
  {
   "cell_type": "code",
   "execution_count": 119,
   "metadata": {},
   "outputs": [
    {
     "data": {
      "text/html": [
       "<ol class=list-inline>\n",
       "\t<li>TRUE</li>\n",
       "\t<li>TRUE</li>\n",
       "\t<li>FALSE</li>\n",
       "</ol>\n"
      ],
      "text/latex": [
       "\\begin{enumerate*}\n",
       "\\item TRUE\n",
       "\\item TRUE\n",
       "\\item FALSE\n",
       "\\end{enumerate*}\n"
      ],
      "text/markdown": [
       "1. TRUE\n",
       "2. TRUE\n",
       "3. FALSE\n",
       "\n",
       "\n"
      ],
      "text/plain": [
       "[1]  TRUE  TRUE FALSE"
      ]
     },
     "metadata": {},
     "output_type": "display_data"
    }
   ],
   "source": [
    "x <- c(\"a\",\"b\",\"c\",\"d\",\"e\" )\n",
    "y <- c(\"a\", \"d\", \"f\")\n",
    "\n",
    "y %in% x"
   ]
  },
  {
   "cell_type": "code",
   "execution_count": 120,
   "metadata": {},
   "outputs": [
    {
     "data": {
      "text/html": [
       "<ol class=list-inline>\n",
       "\t<li>TRUE</li>\n",
       "\t<li>FALSE</li>\n",
       "\t<li>FALSE</li>\n",
       "\t<li>TRUE</li>\n",
       "\t<li>FALSE</li>\n",
       "</ol>\n"
      ],
      "text/latex": [
       "\\begin{enumerate*}\n",
       "\\item TRUE\n",
       "\\item FALSE\n",
       "\\item FALSE\n",
       "\\item TRUE\n",
       "\\item FALSE\n",
       "\\end{enumerate*}\n"
      ],
      "text/markdown": [
       "1. TRUE\n",
       "2. FALSE\n",
       "3. FALSE\n",
       "4. TRUE\n",
       "5. FALSE\n",
       "\n",
       "\n"
      ],
      "text/plain": [
       "[1]  TRUE FALSE FALSE  TRUE FALSE"
      ]
     },
     "metadata": {},
     "output_type": "display_data"
    }
   ],
   "source": [
    "x %in% y"
   ]
  },
  {
   "cell_type": "markdown",
   "metadata": {},
   "source": [
    "Let's check if certain entities are in the murders$state vector"
   ]
  },
  {
   "cell_type": "code",
   "execution_count": 121,
   "metadata": {},
   "outputs": [
    {
     "data": {
      "text/html": [
       "<ol class=list-inline>\n",
       "\t<li>FALSE</li>\n",
       "\t<li>FALSE</li>\n",
       "\t<li>TRUE</li>\n",
       "</ol>\n"
      ],
      "text/latex": [
       "\\begin{enumerate*}\n",
       "\\item FALSE\n",
       "\\item FALSE\n",
       "\\item TRUE\n",
       "\\end{enumerate*}\n"
      ],
      "text/markdown": [
       "1. FALSE\n",
       "2. FALSE\n",
       "3. TRUE\n",
       "\n",
       "\n"
      ],
      "text/plain": [
       "[1] FALSE FALSE  TRUE"
      ]
     },
     "metadata": {},
     "output_type": "display_data"
    }
   ],
   "source": [
    "c(\"Boston\", \"Dakota\", \"Washington\") %in% murders$state\n",
    "#FALSE means not a state"
   ]
  },
  {
   "cell_type": "markdown",
   "metadata": {},
   "source": [
    "### Excercise "
   ]
  },
  {
   "cell_type": "code",
   "execution_count": 122,
   "metadata": {},
   "outputs": [
    {
     "data": {
      "text/html": [
       "<ol class=list-inline>\n",
       "\t<li>'Hawaii'</li>\n",
       "\t<li>'Idaho'</li>\n",
       "\t<li>'Iowa'</li>\n",
       "\t<li>'Maine'</li>\n",
       "\t<li>'Minnesota'</li>\n",
       "\t<li>'New Hampshire'</li>\n",
       "\t<li>'North Dakota'</li>\n",
       "\t<li>'Oregon'</li>\n",
       "\t<li>'South Dakota'</li>\n",
       "\t<li>'Utah'</li>\n",
       "\t<li>'Vermont'</li>\n",
       "\t<li>'Wyoming'</li>\n",
       "</ol>\n"
      ],
      "text/latex": [
       "\\begin{enumerate*}\n",
       "\\item 'Hawaii'\n",
       "\\item 'Idaho'\n",
       "\\item 'Iowa'\n",
       "\\item 'Maine'\n",
       "\\item 'Minnesota'\n",
       "\\item 'New Hampshire'\n",
       "\\item 'North Dakota'\n",
       "\\item 'Oregon'\n",
       "\\item 'South Dakota'\n",
       "\\item 'Utah'\n",
       "\\item 'Vermont'\n",
       "\\item 'Wyoming'\n",
       "\\end{enumerate*}\n"
      ],
      "text/markdown": [
       "1. 'Hawaii'\n",
       "2. 'Idaho'\n",
       "3. 'Iowa'\n",
       "4. 'Maine'\n",
       "5. 'Minnesota'\n",
       "6. 'New Hampshire'\n",
       "7. 'North Dakota'\n",
       "8. 'Oregon'\n",
       "9. 'South Dakota'\n",
       "10. 'Utah'\n",
       "11. 'Vermont'\n",
       "12. 'Wyoming'\n",
       "\n",
       "\n"
      ],
      "text/plain": [
       " [1] \"Hawaii\"        \"Idaho\"         \"Iowa\"          \"Maine\"        \n",
       " [5] \"Minnesota\"     \"New Hampshire\" \"North Dakota\"  \"Oregon\"       \n",
       " [9] \"South Dakota\"  \"Utah\"          \"Vermont\"       \"Wyoming\"      "
      ]
     },
     "metadata": {},
     "output_type": "display_data"
    }
   ],
   "source": [
    "# Store the murder rate per 100,000 for each state, in `murder_rate`\n",
    "murder_rate <- murders$total / murders$population * 100000\n",
    "\n",
    "# Store the `murder_rate < 1` in `low` \n",
    "low <- murder_rate < 1\n",
    "murders$state[low]"
   ]
  },
  {
   "cell_type": "code",
   "execution_count": 123,
   "metadata": {},
   "outputs": [
    {
     "data": {
      "text/html": [
       "<ol class=list-inline>\n",
       "\t<li>12</li>\n",
       "\t<li>13</li>\n",
       "\t<li>16</li>\n",
       "\t<li>20</li>\n",
       "\t<li>24</li>\n",
       "\t<li>30</li>\n",
       "\t<li>35</li>\n",
       "\t<li>38</li>\n",
       "\t<li>42</li>\n",
       "\t<li>45</li>\n",
       "\t<li>46</li>\n",
       "\t<li>51</li>\n",
       "</ol>\n"
      ],
      "text/latex": [
       "\\begin{enumerate*}\n",
       "\\item 12\n",
       "\\item 13\n",
       "\\item 16\n",
       "\\item 20\n",
       "\\item 24\n",
       "\\item 30\n",
       "\\item 35\n",
       "\\item 38\n",
       "\\item 42\n",
       "\\item 45\n",
       "\\item 46\n",
       "\\item 51\n",
       "\\end{enumerate*}\n"
      ],
      "text/markdown": [
       "1. 12\n",
       "2. 13\n",
       "3. 16\n",
       "4. 20\n",
       "5. 24\n",
       "6. 30\n",
       "7. 35\n",
       "8. 38\n",
       "9. 42\n",
       "10. 45\n",
       "11. 46\n",
       "12. 51\n",
       "\n",
       "\n"
      ],
      "text/plain": [
       " [1] 12 13 16 20 24 30 35 38 42 45 46 51"
      ]
     },
     "metadata": {},
     "output_type": "display_data"
    },
    {
     "data": {
      "text/html": [
       "<ol class=list-inline>\n",
       "\t<li>'Hawaii'</li>\n",
       "\t<li>'Idaho'</li>\n",
       "\t<li>'Iowa'</li>\n",
       "\t<li>'Maine'</li>\n",
       "\t<li>'Minnesota'</li>\n",
       "\t<li>'New Hampshire'</li>\n",
       "\t<li>'North Dakota'</li>\n",
       "\t<li>'Oregon'</li>\n",
       "\t<li>'South Dakota'</li>\n",
       "\t<li>'Utah'</li>\n",
       "\t<li>'Vermont'</li>\n",
       "\t<li>'Wyoming'</li>\n",
       "</ol>\n"
      ],
      "text/latex": [
       "\\begin{enumerate*}\n",
       "\\item 'Hawaii'\n",
       "\\item 'Idaho'\n",
       "\\item 'Iowa'\n",
       "\\item 'Maine'\n",
       "\\item 'Minnesota'\n",
       "\\item 'New Hampshire'\n",
       "\\item 'North Dakota'\n",
       "\\item 'Oregon'\n",
       "\\item 'South Dakota'\n",
       "\\item 'Utah'\n",
       "\\item 'Vermont'\n",
       "\\item 'Wyoming'\n",
       "\\end{enumerate*}\n"
      ],
      "text/markdown": [
       "1. 'Hawaii'\n",
       "2. 'Idaho'\n",
       "3. 'Iowa'\n",
       "4. 'Maine'\n",
       "5. 'Minnesota'\n",
       "6. 'New Hampshire'\n",
       "7. 'North Dakota'\n",
       "8. 'Oregon'\n",
       "9. 'South Dakota'\n",
       "10. 'Utah'\n",
       "11. 'Vermont'\n",
       "12. 'Wyoming'\n",
       "\n",
       "\n"
      ],
      "text/plain": [
       " [1] \"Hawaii\"        \"Idaho\"         \"Iowa\"          \"Maine\"        \n",
       " [5] \"Minnesota\"     \"New Hampshire\" \"North Dakota\"  \"Oregon\"       \n",
       " [9] \"South Dakota\"  \"Utah\"          \"Vermont\"       \"Wyoming\"      "
      ]
     },
     "metadata": {},
     "output_type": "display_data"
    }
   ],
   "source": [
    "# Store the murder rate per 100,000 for each state, in murder_rate\n",
    "murder_rate <- murders$total/murders$population*100000\n",
    "\n",
    "# Store the murder_rate < 1 in low \n",
    "low <- murder_rate < 1\n",
    "\n",
    "# Get the indices of entries that are below 1\n",
    "which(low)\n",
    "murders$state[which(low)]"
   ]
  },
  {
   "cell_type": "code",
   "execution_count": 124,
   "metadata": {},
   "outputs": [
    {
     "data": {
      "text/html": [
       "<ol class=list-inline>\n",
       "\t<li>'Maine'</li>\n",
       "\t<li>'New Hampshire'</li>\n",
       "\t<li>'Vermont'</li>\n",
       "</ol>\n"
      ],
      "text/latex": [
       "\\begin{enumerate*}\n",
       "\\item 'Maine'\n",
       "\\item 'New Hampshire'\n",
       "\\item 'Vermont'\n",
       "\\end{enumerate*}\n"
      ],
      "text/markdown": [
       "1. 'Maine'\n",
       "2. 'New Hampshire'\n",
       "3. 'Vermont'\n",
       "\n",
       "\n"
      ],
      "text/plain": [
       "[1] \"Maine\"         \"New Hampshire\" \"Vermont\"      "
      ]
     },
     "metadata": {},
     "output_type": "display_data"
    }
   ],
   "source": [
    "# Store the murder rate per 100,000 for each state, in `murder_rate`\n",
    "murder_rate <- murders$total/murders$population*100000\n",
    "\n",
    "# Store the `murder_rate < 1` in `low` \n",
    "low <- murder_rate < 1\n",
    "\n",
    "# Create a vector ind for states in the Northeast and with murder rates lower than 1. \n",
    "ind <- murders$region == \"Northeast\" & low\n",
    "# Names of states in `ind` \n",
    "murders$state[ind]"
   ]
  },
  {
   "cell_type": "code",
   "execution_count": 125,
   "metadata": {},
   "outputs": [
    {
     "data": {
      "text/html": [
       "27"
      ],
      "text/latex": [
       "27"
      ],
      "text/markdown": [
       "27"
      ],
      "text/plain": [
       "[1] 27"
      ]
     },
     "metadata": {},
     "output_type": "display_data"
    }
   ],
   "source": [
    "# Store the murder rate per 100,000 for each state, in murder_rate\n",
    "murder_rate <- murders$total/murders$population*100000\n",
    "\n",
    "\n",
    "# Compute average murder rate and store in avg using `mean` \n",
    "avg <- mean(murder_rate)\n",
    "\n",
    "# How many states have murder rates below avg ? Check using sum \n",
    "sum(murder_rate < avg)"
   ]
  },
  {
   "cell_type": "code",
   "execution_count": 126,
   "metadata": {},
   "outputs": [
    {
     "data": {
      "text/html": [
       "<ol class=list-inline>\n",
       "\t<li>'Alaska'</li>\n",
       "\t<li>'Michigan'</li>\n",
       "\t<li>'Iowa'</li>\n",
       "</ol>\n"
      ],
      "text/latex": [
       "\\begin{enumerate*}\n",
       "\\item 'Alaska'\n",
       "\\item 'Michigan'\n",
       "\\item 'Iowa'\n",
       "\\end{enumerate*}\n"
      ],
      "text/markdown": [
       "1. 'Alaska'\n",
       "2. 'Michigan'\n",
       "3. 'Iowa'\n",
       "\n",
       "\n"
      ],
      "text/plain": [
       "[1] \"Alaska\"   \"Michigan\" \"Iowa\"    "
      ]
     },
     "metadata": {},
     "output_type": "display_data"
    }
   ],
   "source": [
    "# Store the 3 abbreviations in abbs in a vector (remember that they are character vectors and need quotes)\n",
    "abbs <- c(\"AK\",\"MI\", \"IA\")\n",
    "# Match the abbs to the murders$abb and store in ind\n",
    "ind <- match(abbs, murders$abb)\n",
    "\n",
    "# Print state names from ind\n",
    "murders$state[ind]"
   ]
  },
  {
   "cell_type": "code",
   "execution_count": 127,
   "metadata": {},
   "outputs": [
    {
     "data": {
      "text/html": [
       "<ol class=list-inline>\n",
       "\t<li>TRUE</li>\n",
       "\t<li>TRUE</li>\n",
       "\t<li>TRUE</li>\n",
       "\t<li>TRUE</li>\n",
       "\t<li>FALSE</li>\n",
       "</ol>\n"
      ],
      "text/latex": [
       "\\begin{enumerate*}\n",
       "\\item TRUE\n",
       "\\item TRUE\n",
       "\\item TRUE\n",
       "\\item TRUE\n",
       "\\item FALSE\n",
       "\\end{enumerate*}\n"
      ],
      "text/markdown": [
       "1. TRUE\n",
       "2. TRUE\n",
       "3. TRUE\n",
       "4. TRUE\n",
       "5. FALSE\n",
       "\n",
       "\n"
      ],
      "text/plain": [
       "[1]  TRUE  TRUE  TRUE  TRUE FALSE"
      ]
     },
     "metadata": {},
     "output_type": "display_data"
    }
   ],
   "source": [
    "# Store the 5 abbreviations in `abbs`. (remember that they are character vectors)\n",
    "\n",
    "abbs <- c(\"MA\", \"ME\", \"MI\", \"MO\", \"MU\")\n",
    "# Use the %in% command to check if the entries of abbs are abbreviations in the the murders data frame\n",
    "abbs %in% murders$abb"
   ]
  },
  {
   "cell_type": "code",
   "execution_count": 128,
   "metadata": {},
   "outputs": [
    {
     "data": {
      "text/html": [
       "'MU'"
      ],
      "text/latex": [
       "'MU'"
      ],
      "text/markdown": [
       "'MU'"
      ],
      "text/plain": [
       "[1] \"MU\""
      ]
     },
     "metadata": {},
     "output_type": "display_data"
    }
   ],
   "source": [
    "# Store the 5 abbreviations in abbs. (remember that they are character vectors)\n",
    "abbs <- c(\"MA\", \"ME\", \"MI\", \"MO\", \"MU\") \n",
    "\n",
    "# Use the `which` command and `!` operator to find out which abbreviation are not actually part of the dataset and store in ind\n",
    "ind <- which(!abbs%in%murders$abb)\n",
    "\n",
    "# What are the entries of abbs that are not actual abbreviations\n",
    "abbs[ind]"
   ]
  },
  {
   "cell_type": "code",
   "execution_count": 129,
   "metadata": {},
   "outputs": [
    {
     "data": {
      "text/html": [
       "<ol class=list-inline>\n",
       "\t<li>'ME'</li>\n",
       "\t<li>'MA'</li>\n",
       "\t<li>'MI'</li>\n",
       "\t<li>'MO'</li>\n",
       "</ol>\n"
      ],
      "text/latex": [
       "\\begin{enumerate*}\n",
       "\\item 'ME'\n",
       "\\item 'MA'\n",
       "\\item 'MI'\n",
       "\\item 'MO'\n",
       "\\end{enumerate*}\n"
      ],
      "text/markdown": [
       "1. 'ME'\n",
       "2. 'MA'\n",
       "3. 'MI'\n",
       "4. 'MO'\n",
       "\n",
       "\n"
      ],
      "text/plain": [
       "[1] \"ME\" \"MA\" \"MI\" \"MO\""
      ]
     },
     "metadata": {},
     "output_type": "display_data"
    }
   ],
   "source": [
    "murders$abb[murders$abb%in%abbs]"
   ]
  },
  {
   "cell_type": "code",
   "execution_count": 130,
   "metadata": {},
   "outputs": [
    {
     "data": {
      "text/html": [
       "<ol class=list-inline>\n",
       "\t<li>'MA'</li>\n",
       "\t<li>'ME'</li>\n",
       "\t<li>'MI'</li>\n",
       "\t<li>'MO'</li>\n",
       "</ol>\n"
      ],
      "text/latex": [
       "\\begin{enumerate*}\n",
       "\\item 'MA'\n",
       "\\item 'ME'\n",
       "\\item 'MI'\n",
       "\\item 'MO'\n",
       "\\end{enumerate*}\n"
      ],
      "text/markdown": [
       "1. 'MA'\n",
       "2. 'ME'\n",
       "3. 'MI'\n",
       "4. 'MO'\n",
       "\n",
       "\n"
      ],
      "text/plain": [
       "[1] \"MA\" \"ME\" \"MI\" \"MO\""
      ]
     },
     "metadata": {},
     "output_type": "display_data"
    }
   ],
   "source": [
    "abbs[abbs%in%murders$abb]"
   ]
  },
  {
   "cell_type": "code",
   "execution_count": 131,
   "metadata": {},
   "outputs": [
    {
     "data": {
      "text/html": [
       "'MU'"
      ],
      "text/latex": [
       "'MU'"
      ],
      "text/markdown": [
       "'MU'"
      ],
      "text/plain": [
       "[1] \"MU\""
      ]
     },
     "metadata": {},
     "output_type": "display_data"
    }
   ],
   "source": [
    "abbs[!abbs%in%murders$abb]"
   ]
  },
  {
   "cell_type": "markdown",
   "metadata": {},
   "source": [
    "### using **mutate**, **filter**, **select** and **%>% operator**"
   ]
  },
  {
   "cell_type": "code",
   "execution_count": 136,
   "metadata": {},
   "outputs": [
    {
     "name": "stderr",
     "output_type": "stream",
     "text": [
      "Updating HTML index of packages in '.Library'\n",
      "Making 'packages.html' ... done\n"
     ]
    }
   ],
   "source": [
    "install.packages(\"dplyr\")"
   ]
  },
  {
   "cell_type": "code",
   "execution_count": 137,
   "metadata": {},
   "outputs": [
    {
     "name": "stderr",
     "output_type": "stream",
     "text": [
      "\n",
      "Attaching package: ‘dplyr’\n",
      "\n",
      "The following objects are masked from ‘package:stats’:\n",
      "\n",
      "    filter, lag\n",
      "\n",
      "The following objects are masked from ‘package:base’:\n",
      "\n",
      "    intersect, setdiff, setequal, union\n",
      "\n"
     ]
    }
   ],
   "source": [
    "library(dplyr)"
   ]
  },
  {
   "cell_type": "markdown",
   "metadata": {},
   "source": [
    "### Mutate\n",
    "data manipulation using dplyr package for working with table.  \n",
    "We use mutate to add new column to a table as seen below  \n",
    "\n",
    "\n",
    "You can add columns using the dplyr function mutate. This function is aware of the column names and inside the function you can call them unquoted.  \n",
    "\n",
    "Note that we can write population rather than murders$population. The function mutate knows we are grabing columns from murders."
   ]
  },
  {
   "cell_type": "code",
   "execution_count": 138,
   "metadata": {},
   "outputs": [
    {
     "data": {
      "text/html": [
       "<table>\n",
       "<thead><tr><th scope=col>state</th><th scope=col>abb</th><th scope=col>region</th><th scope=col>population</th><th scope=col>total</th><th scope=col>rate</th></tr></thead>\n",
       "<tbody>\n",
       "\t<tr><td>Alabama   </td><td>AL        </td><td>South     </td><td> 4779736  </td><td> 135      </td><td>2.824424  </td></tr>\n",
       "\t<tr><td>Alaska    </td><td>AK        </td><td>West      </td><td>  710231  </td><td>  19      </td><td>2.675186  </td></tr>\n",
       "\t<tr><td>Arizona   </td><td>AZ        </td><td>West      </td><td> 6392017  </td><td> 232      </td><td>3.629527  </td></tr>\n",
       "\t<tr><td>Arkansas  </td><td>AR        </td><td>South     </td><td> 2915918  </td><td>  93      </td><td>3.189390  </td></tr>\n",
       "\t<tr><td>California</td><td>CA        </td><td>West      </td><td>37253956  </td><td>1257      </td><td>3.374138  </td></tr>\n",
       "\t<tr><td>Colorado  </td><td>CO        </td><td>West      </td><td> 5029196  </td><td>  65      </td><td>1.292453  </td></tr>\n",
       "</tbody>\n",
       "</table>\n"
      ],
      "text/latex": [
       "\\begin{tabular}{r|llllll}\n",
       " state & abb & region & population & total & rate\\\\\n",
       "\\hline\n",
       "\t Alabama    & AL         & South      &  4779736   &  135       & 2.824424  \\\\\n",
       "\t Alaska     & AK         & West       &   710231   &   19       & 2.675186  \\\\\n",
       "\t Arizona    & AZ         & West       &  6392017   &  232       & 3.629527  \\\\\n",
       "\t Arkansas   & AR         & South      &  2915918   &   93       & 3.189390  \\\\\n",
       "\t California & CA         & West       & 37253956   & 1257       & 3.374138  \\\\\n",
       "\t Colorado   & CO         & West       &  5029196   &   65       & 1.292453  \\\\\n",
       "\\end{tabular}\n"
      ],
      "text/markdown": [
       "\n",
       "state | abb | region | population | total | rate | \n",
       "|---|---|---|---|---|---|\n",
       "| Alabama    | AL         | South      |  4779736   |  135       | 2.824424   | \n",
       "| Alaska     | AK         | West       |   710231   |   19       | 2.675186   | \n",
       "| Arizona    | AZ         | West       |  6392017   |  232       | 3.629527   | \n",
       "| Arkansas   | AR         | South      |  2915918   |   93       | 3.189390   | \n",
       "| California | CA         | West       | 37253956   | 1257       | 3.374138   | \n",
       "| Colorado   | CO         | West       |  5029196   |   65       | 1.292453   | \n",
       "\n",
       "\n"
      ],
      "text/plain": [
       "  state      abb region population total rate    \n",
       "1 Alabama    AL  South   4779736    135  2.824424\n",
       "2 Alaska     AK  West     710231     19  2.675186\n",
       "3 Arizona    AZ  West    6392017    232  3.629527\n",
       "4 Arkansas   AR  South   2915918     93  3.189390\n",
       "5 California CA  West   37253956   1257  3.374138\n",
       "6 Colorado   CO  West    5029196     65  1.292453"
      ]
     },
     "metadata": {},
     "output_type": "display_data"
    }
   ],
   "source": [
    "murders <- mutate(murders, rate=total/population*100000)\n",
    "head(murders)"
   ]
  },
  {
   "cell_type": "markdown",
   "metadata": {},
   "source": [
    "### Filter\n",
    "filter the table to show specific data based on a criteria.  \n",
    "\n",
    "\n",
    "The dplyr function filter is used to choose specific rows of the data frame to keep. Unlke select which is for columns, filter is for rows. "
   ]
  },
  {
   "cell_type": "code",
   "execution_count": 139,
   "metadata": {},
   "outputs": [
    {
     "data": {
      "text/html": [
       "<table>\n",
       "<thead><tr><th scope=col>state</th><th scope=col>abb</th><th scope=col>region</th><th scope=col>population</th><th scope=col>total</th><th scope=col>rate</th></tr></thead>\n",
       "<tbody>\n",
       "\t<tr><td>Hawaii       </td><td>HI           </td><td>West         </td><td>1360301      </td><td> 7           </td><td>0.5145920    </td></tr>\n",
       "\t<tr><td>Iowa         </td><td>IA           </td><td>North Central</td><td>3046355      </td><td>21           </td><td>0.6893484    </td></tr>\n",
       "\t<tr><td>New Hampshire</td><td>NH           </td><td>Northeast    </td><td>1316470      </td><td> 5           </td><td>0.3798036    </td></tr>\n",
       "\t<tr><td>North Dakota </td><td>ND           </td><td>North Central</td><td> 672591      </td><td> 4           </td><td>0.5947151    </td></tr>\n",
       "\t<tr><td>Vermont      </td><td>VT           </td><td>Northeast    </td><td> 625741      </td><td> 2           </td><td>0.3196211    </td></tr>\n",
       "</tbody>\n",
       "</table>\n"
      ],
      "text/latex": [
       "\\begin{tabular}{r|llllll}\n",
       " state & abb & region & population & total & rate\\\\\n",
       "\\hline\n",
       "\t Hawaii        & HI            & West          & 1360301       &  7            & 0.5145920    \\\\\n",
       "\t Iowa          & IA            & North Central & 3046355       & 21            & 0.6893484    \\\\\n",
       "\t New Hampshire & NH            & Northeast     & 1316470       &  5            & 0.3798036    \\\\\n",
       "\t North Dakota  & ND            & North Central &  672591       &  4            & 0.5947151    \\\\\n",
       "\t Vermont       & VT            & Northeast     &  625741       &  2            & 0.3196211    \\\\\n",
       "\\end{tabular}\n"
      ],
      "text/markdown": [
       "\n",
       "state | abb | region | population | total | rate | \n",
       "|---|---|---|---|---|\n",
       "| Hawaii        | HI            | West          | 1360301       |  7            | 0.5145920     | \n",
       "| Iowa          | IA            | North Central | 3046355       | 21            | 0.6893484     | \n",
       "| New Hampshire | NH            | Northeast     | 1316470       |  5            | 0.3798036     | \n",
       "| North Dakota  | ND            | North Central |  672591       |  4            | 0.5947151     | \n",
       "| Vermont       | VT            | Northeast     |  625741       |  2            | 0.3196211     | \n",
       "\n",
       "\n"
      ],
      "text/plain": [
       "  state         abb region        population total rate     \n",
       "1 Hawaii        HI  West          1360301     7    0.5145920\n",
       "2 Iowa          IA  North Central 3046355    21    0.6893484\n",
       "3 New Hampshire NH  Northeast     1316470     5    0.3798036\n",
       "4 North Dakota  ND  North Central  672591     4    0.5947151\n",
       "5 Vermont       VT  Northeast      625741     2    0.3196211"
      ]
     },
     "metadata": {},
     "output_type": "display_data"
    }
   ],
   "source": [
    "filter(murders, rate <= 0.71)"
   ]
  },
  {
   "cell_type": "markdown",
   "metadata": {},
   "source": [
    "### select\n",
    "With dplyr we can use select to show only certain columns"
   ]
  },
  {
   "cell_type": "code",
   "execution_count": 140,
   "metadata": {},
   "outputs": [
    {
     "data": {
      "text/html": [
       "<table>\n",
       "<thead><tr><th scope=col>state</th><th scope=col>region</th><th scope=col>rate</th></tr></thead>\n",
       "<tbody>\n",
       "\t<tr><td>Hawaii       </td><td>West         </td><td>0.5145920    </td></tr>\n",
       "\t<tr><td>Iowa         </td><td>North Central</td><td>0.6893484    </td></tr>\n",
       "\t<tr><td>New Hampshire</td><td>Northeast    </td><td>0.3798036    </td></tr>\n",
       "\t<tr><td>North Dakota </td><td>North Central</td><td>0.5947151    </td></tr>\n",
       "\t<tr><td>Vermont      </td><td>Northeast    </td><td>0.3196211    </td></tr>\n",
       "</tbody>\n",
       "</table>\n"
      ],
      "text/latex": [
       "\\begin{tabular}{r|lll}\n",
       " state & region & rate\\\\\n",
       "\\hline\n",
       "\t Hawaii        & West          & 0.5145920    \\\\\n",
       "\t Iowa          & North Central & 0.6893484    \\\\\n",
       "\t New Hampshire & Northeast     & 0.3798036    \\\\\n",
       "\t North Dakota  & North Central & 0.5947151    \\\\\n",
       "\t Vermont       & Northeast     & 0.3196211    \\\\\n",
       "\\end{tabular}\n"
      ],
      "text/markdown": [
       "\n",
       "state | region | rate | \n",
       "|---|---|---|---|---|\n",
       "| Hawaii        | West          | 0.5145920     | \n",
       "| Iowa          | North Central | 0.6893484     | \n",
       "| New Hampshire | Northeast     | 0.3798036     | \n",
       "| North Dakota  | North Central | 0.5947151     | \n",
       "| Vermont       | Northeast     | 0.3196211     | \n",
       "\n",
       "\n"
      ],
      "text/plain": [
       "  state         region        rate     \n",
       "1 Hawaii        West          0.5145920\n",
       "2 Iowa          North Central 0.6893484\n",
       "3 New Hampshire Northeast     0.3798036\n",
       "4 North Dakota  North Central 0.5947151\n",
       "5 Vermont       Northeast     0.3196211"
      ]
     },
     "metadata": {},
     "output_type": "display_data"
    }
   ],
   "source": [
    "new_table <- select(murders, state, region, rate)\n",
    "\n",
    "filter(new_table, rate <= 0.71)"
   ]
  },
  {
   "cell_type": "markdown",
   "metadata": {},
   "source": [
    "### %>% pipe\n",
    "\n",
    "The pipe %>% can be used to perform operations sequentially without having to define intermediate objects"
   ]
  },
  {
   "cell_type": "markdown",
   "metadata": {},
   "source": [
    "murders %>% select(state, region, rate) %>% filter(rate <= 0.71)"
   ]
  },
  {
   "cell_type": "markdown",
   "metadata": {},
   "source": [
    "### Creating data frames with data.frame"
   ]
  },
  {
   "cell_type": "code",
   "execution_count": 143,
   "metadata": {},
   "outputs": [
    {
     "data": {
      "text/html": [
       "<table>\n",
       "<thead><tr><th scope=col>names</th><th scope=col>exam_1</th><th scope=col>exam_2</th></tr></thead>\n",
       "<tbody>\n",
       "\t<tr><td>John</td><td>95  </td><td>90  </td></tr>\n",
       "\t<tr><td>Juan</td><td>80  </td><td>85  </td></tr>\n",
       "\t<tr><td>Jean</td><td>90  </td><td>85  </td></tr>\n",
       "\t<tr><td>Yao </td><td>85  </td><td>90  </td></tr>\n",
       "</tbody>\n",
       "</table>\n"
      ],
      "text/latex": [
       "\\begin{tabular}{r|lll}\n",
       " names & exam\\_1 & exam\\_2\\\\\n",
       "\\hline\n",
       "\t John & 95   & 90  \\\\\n",
       "\t Juan & 80   & 85  \\\\\n",
       "\t Jean & 90   & 85  \\\\\n",
       "\t Yao  & 85   & 90  \\\\\n",
       "\\end{tabular}\n"
      ],
      "text/markdown": [
       "\n",
       "names | exam_1 | exam_2 | \n",
       "|---|---|---|---|\n",
       "| John | 95   | 90   | \n",
       "| Juan | 80   | 85   | \n",
       "| Jean | 90   | 85   | \n",
       "| Yao  | 85   | 90   | \n",
       "\n",
       "\n"
      ],
      "text/plain": [
       "  names exam_1 exam_2\n",
       "1 John  95     90    \n",
       "2 Juan  80     85    \n",
       "3 Jean  90     85    \n",
       "4 Yao   85     90    "
      ]
     },
     "metadata": {},
     "output_type": "display_data"
    }
   ],
   "source": [
    "grades <- data.frame(names=c(\"John\", \"Juan\", \"Jean\", \"Yao\"),\n",
    "                    exam_1 = c(95,80,90,85),\n",
    "                    exam_2 = c(90,85,85,90))\n",
    "\n",
    "grades"
   ]
  },
  {
   "cell_type": "markdown",
   "metadata": {},
   "source": [
    "data.frame by default converts character into factors. See below"
   ]
  },
  {
   "cell_type": "code",
   "execution_count": 144,
   "metadata": {},
   "outputs": [
    {
     "data": {
      "text/html": [
       "'factor'"
      ],
      "text/latex": [
       "'factor'"
      ],
      "text/markdown": [
       "'factor'"
      ],
      "text/plain": [
       "[1] \"factor\""
      ]
     },
     "metadata": {},
     "output_type": "display_data"
    }
   ],
   "source": [
    "class(grades$names)"
   ]
  },
  {
   "cell_type": "markdown",
   "metadata": {},
   "source": [
    "to avoid this we need to change the default arguemnt as follow"
   ]
  },
  {
   "cell_type": "code",
   "execution_count": 145,
   "metadata": {},
   "outputs": [
    {
     "data": {
      "text/html": [
       "'character'"
      ],
      "text/latex": [
       "'character'"
      ],
      "text/markdown": [
       "'character'"
      ],
      "text/plain": [
       "[1] \"character\""
      ]
     },
     "metadata": {},
     "output_type": "display_data"
    }
   ],
   "source": [
    "grades <- data.frame(names=c(\"John\", \"Juan\", \"Jean\", \"Yao\"),\n",
    "                    exam_1 = c(95,80,90,85),\n",
    "                    exam_2 = c(90,85,85,90),\n",
    "                    stringsAsFactors = FALSE)\n",
    "\n",
    "class(grades$names)"
   ]
  },
  {
   "cell_type": "markdown",
   "metadata": {},
   "source": [
    "### Excersice"
   ]
  },
  {
   "cell_type": "markdown",
   "metadata": {},
   "source": [
    "Note that if rank(x) gives you the ranks of x from lowest to highest, rank(-x) gives you the ranks from highest to lowest."
   ]
  },
  {
   "cell_type": "code",
   "execution_count": 147,
   "metadata": {},
   "outputs": [
    {
     "data": {
      "text/html": [
       "<ol class=list-inline>\n",
       "\t<li>4</li>\n",
       "\t<li>1</li>\n",
       "\t<li>5</li>\n",
       "\t<li>3</li>\n",
       "\t<li>2</li>\n",
       "</ol>\n"
      ],
      "text/latex": [
       "\\begin{enumerate*}\n",
       "\\item 4\n",
       "\\item 1\n",
       "\\item 5\n",
       "\\item 3\n",
       "\\item 2\n",
       "\\end{enumerate*}\n"
      ],
      "text/markdown": [
       "1. 4\n",
       "2. 1\n",
       "3. 5\n",
       "4. 3\n",
       "5. 2\n",
       "\n",
       "\n"
      ],
      "text/plain": [
       "[1] 4 1 5 3 2"
      ]
     },
     "metadata": {},
     "output_type": "display_data"
    },
    {
     "data": {
      "text/html": [
       "<table>\n",
       "<thead><tr><th scope=col>state</th><th scope=col>abb</th><th scope=col>region</th><th scope=col>population</th><th scope=col>total</th><th scope=col>rate</th><th scope=col>rank</th></tr></thead>\n",
       "<tbody>\n",
       "\t<tr><td>Alabama   </td><td>AL        </td><td>South     </td><td> 4779736  </td><td> 135      </td><td>2.824424  </td><td>23        </td></tr>\n",
       "\t<tr><td>Alaska    </td><td>AK        </td><td>West      </td><td>  710231  </td><td>  19      </td><td>2.675186  </td><td>27        </td></tr>\n",
       "\t<tr><td>Arizona   </td><td>AZ        </td><td>West      </td><td> 6392017  </td><td> 232      </td><td>3.629527  </td><td>10        </td></tr>\n",
       "\t<tr><td>Arkansas  </td><td>AR        </td><td>South     </td><td> 2915918  </td><td>  93      </td><td>3.189390  </td><td>17        </td></tr>\n",
       "\t<tr><td>California</td><td>CA        </td><td>West      </td><td>37253956  </td><td>1257      </td><td>3.374138  </td><td>14        </td></tr>\n",
       "\t<tr><td>Colorado  </td><td>CO        </td><td>West      </td><td> 5029196  </td><td>  65      </td><td>1.292453  </td><td>38        </td></tr>\n",
       "</tbody>\n",
       "</table>\n"
      ],
      "text/latex": [
       "\\begin{tabular}{r|lllllll}\n",
       " state & abb & region & population & total & rate & rank\\\\\n",
       "\\hline\n",
       "\t Alabama    & AL         & South      &  4779736   &  135       & 2.824424   & 23        \\\\\n",
       "\t Alaska     & AK         & West       &   710231   &   19       & 2.675186   & 27        \\\\\n",
       "\t Arizona    & AZ         & West       &  6392017   &  232       & 3.629527   & 10        \\\\\n",
       "\t Arkansas   & AR         & South      &  2915918   &   93       & 3.189390   & 17        \\\\\n",
       "\t California & CA         & West       & 37253956   & 1257       & 3.374138   & 14        \\\\\n",
       "\t Colorado   & CO         & West       &  5029196   &   65       & 1.292453   & 38        \\\\\n",
       "\\end{tabular}\n"
      ],
      "text/markdown": [
       "\n",
       "state | abb | region | population | total | rate | rank | \n",
       "|---|---|---|---|---|---|\n",
       "| Alabama    | AL         | South      |  4779736   |  135       | 2.824424   | 23         | \n",
       "| Alaska     | AK         | West       |   710231   |   19       | 2.675186   | 27         | \n",
       "| Arizona    | AZ         | West       |  6392017   |  232       | 3.629527   | 10         | \n",
       "| Arkansas   | AR         | South      |  2915918   |   93       | 3.189390   | 17         | \n",
       "| California | CA         | West       | 37253956   | 1257       | 3.374138   | 14         | \n",
       "| Colorado   | CO         | West       |  5029196   |   65       | 1.292453   | 38         | \n",
       "\n",
       "\n"
      ],
      "text/plain": [
       "  state      abb region population total rate     rank\n",
       "1 Alabama    AL  South   4779736    135  2.824424 23  \n",
       "2 Alaska     AK  West     710231     19  2.675186 27  \n",
       "3 Arizona    AZ  West    6392017    232  3.629527 10  \n",
       "4 Arkansas   AR  South   2915918     93  3.189390 17  \n",
       "5 California CA  West   37253956   1257  3.374138 14  \n",
       "6 Colorado   CO  West    5029196     65  1.292453 38  "
      ]
     },
     "metadata": {},
     "output_type": "display_data"
    }
   ],
   "source": [
    "# Note that if you want ranks from highest to lowest you can take the negative and then compute the ranks \n",
    "x <- c(88, 100, 83, 92, 94)\n",
    "rank(-x)\n",
    "\n",
    "# Defining rate\n",
    "rate <-  murders$total/ murders$population * 100000\n",
    "\n",
    "# Redefine murders to include a column named rank\n",
    "# with the ranks of rate from highest to lowest\n",
    "murders <- mutate(murders, rank=rank(-rate))\n",
    "head(murders)"
   ]
  },
  {
   "cell_type": "code",
   "execution_count": 154,
   "metadata": {},
   "outputs": [
    {
     "data": {
      "text/html": [
       "<table>\n",
       "<thead><tr><th scope=col>state</th><th scope=col>abb</th><th scope=col>region</th><th scope=col>population</th><th scope=col>total</th><th scope=col>rate</th><th scope=col>rank</th></tr></thead>\n",
       "<tbody>\n",
       "\t<tr><td>District of Columbia</td><td>DC                  </td><td>South               </td><td> 601723             </td><td> 99                 </td><td>16.452753           </td><td>1                   </td></tr>\n",
       "\t<tr><td>Louisiana           </td><td>LA                  </td><td>South               </td><td>4533372             </td><td>351                 </td><td> 7.742581           </td><td>2                   </td></tr>\n",
       "\t<tr><td>Maryland            </td><td>MD                  </td><td>South               </td><td>5773552             </td><td>293                 </td><td> 5.074866           </td><td>4                   </td></tr>\n",
       "\t<tr><td>Missouri            </td><td>MO                  </td><td>North Central       </td><td>5988927             </td><td>321                 </td><td> 5.359892           </td><td>3                   </td></tr>\n",
       "\t<tr><td>South Carolina      </td><td>SC                  </td><td>South               </td><td>4625364             </td><td>207                 </td><td> 4.475323           </td><td>5                   </td></tr>\n",
       "</tbody>\n",
       "</table>\n"
      ],
      "text/latex": [
       "\\begin{tabular}{r|lllllll}\n",
       " state & abb & region & population & total & rate & rank\\\\\n",
       "\\hline\n",
       "\t District of Columbia & DC                   & South                &  601723              &  99                  & 16.452753            & 1                   \\\\\n",
       "\t Louisiana            & LA                   & South                & 4533372              & 351                  &  7.742581            & 2                   \\\\\n",
       "\t Maryland             & MD                   & South                & 5773552              & 293                  &  5.074866            & 4                   \\\\\n",
       "\t Missouri             & MO                   & North Central        & 5988927              & 321                  &  5.359892            & 3                   \\\\\n",
       "\t South Carolina       & SC                   & South                & 4625364              & 207                  &  4.475323            & 5                   \\\\\n",
       "\\end{tabular}\n"
      ],
      "text/markdown": [
       "\n",
       "state | abb | region | population | total | rate | rank | \n",
       "|---|---|---|---|---|\n",
       "| District of Columbia | DC                   | South                |  601723              |  99                  | 16.452753            | 1                    | \n",
       "| Louisiana            | LA                   | South                | 4533372              | 351                  |  7.742581            | 2                    | \n",
       "| Maryland             | MD                   | South                | 5773552              | 293                  |  5.074866            | 4                    | \n",
       "| Missouri             | MO                   | North Central        | 5988927              | 321                  |  5.359892            | 3                    | \n",
       "| South Carolina       | SC                   | South                | 4625364              | 207                  |  4.475323            | 5                    | \n",
       "\n",
       "\n"
      ],
      "text/plain": [
       "  state                abb region        population total rate      rank\n",
       "1 District of Columbia DC  South          601723     99   16.452753 1   \n",
       "2 Louisiana            LA  South         4533372    351    7.742581 2   \n",
       "3 Maryland             MD  South         5773552    293    5.074866 4   \n",
       "4 Missouri             MO  North Central 5988927    321    5.359892 3   \n",
       "5 South Carolina       SC  South         4625364    207    4.475323 5   "
      ]
     },
     "metadata": {},
     "output_type": "display_data"
    }
   ],
   "source": [
    "# Add the necessary columns\n",
    "murders <- mutate(murders, rate = total/population * 100000, rank = rank(-rate))\n",
    "\n",
    "# Filter to show the top 5 states with the highest murder rates\n",
    "filter(murders, rank <= 5 )"
   ]
  },
  {
   "cell_type": "code",
   "execution_count": 164,
   "metadata": {},
   "outputs": [
    {
     "data": {
      "text/html": [
       "34"
      ],
      "text/latex": [
       "34"
      ],
      "text/markdown": [
       "34"
      ],
      "text/plain": [
       "[1] 34"
      ]
     },
     "metadata": {},
     "output_type": "display_data"
    }
   ],
   "source": [
    "# Use filter to create a new data frame no_south\n",
    "no_south <- filter(murders, region != \"South\")\n",
    "# Use nrow() to calculate the number of rows\n",
    "nrow(no_south)"
   ]
  },
  {
   "cell_type": "code",
   "execution_count": 165,
   "metadata": {},
   "outputs": [
    {
     "data": {
      "text/html": [
       "<table>\n",
       "<thead><tr><th scope=col>state</th><th scope=col>abb</th><th scope=col>region</th><th scope=col>population</th><th scope=col>total</th><th scope=col>rate</th><th scope=col>rank</th></tr></thead>\n",
       "<tbody>\n",
       "\t<tr><td>Alaska     </td><td>AK         </td><td>West       </td><td>  710231   </td><td>  19       </td><td>2.675186   </td><td>27         </td></tr>\n",
       "\t<tr><td>Arizona    </td><td>AZ         </td><td>West       </td><td> 6392017   </td><td> 232       </td><td>3.629527   </td><td>10         </td></tr>\n",
       "\t<tr><td>California </td><td>CA         </td><td>West       </td><td>37253956   </td><td>1257       </td><td>3.374138   </td><td>14         </td></tr>\n",
       "\t<tr><td>Colorado   </td><td>CO         </td><td>West       </td><td> 5029196   </td><td>  65       </td><td>1.292453   </td><td>38         </td></tr>\n",
       "\t<tr><td>Connecticut</td><td>CT         </td><td>Northeast  </td><td> 3574097   </td><td>  97       </td><td>2.713972   </td><td>25         </td></tr>\n",
       "\t<tr><td>Hawaii     </td><td>HI         </td><td>West       </td><td> 1360301   </td><td>   7       </td><td>0.514592   </td><td>49         </td></tr>\n",
       "</tbody>\n",
       "</table>\n"
      ],
      "text/latex": [
       "\\begin{tabular}{r|lllllll}\n",
       " state & abb & region & population & total & rate & rank\\\\\n",
       "\\hline\n",
       "\t Alaska      & AK          & West        &   710231    &   19        & 2.675186    & 27         \\\\\n",
       "\t Arizona     & AZ          & West        &  6392017    &  232        & 3.629527    & 10         \\\\\n",
       "\t California  & CA          & West        & 37253956    & 1257        & 3.374138    & 14         \\\\\n",
       "\t Colorado    & CO          & West        &  5029196    &   65        & 1.292453    & 38         \\\\\n",
       "\t Connecticut & CT          & Northeast   &  3574097    &   97        & 2.713972    & 25         \\\\\n",
       "\t Hawaii      & HI          & West        &  1360301    &    7        & 0.514592    & 49         \\\\\n",
       "\\end{tabular}\n"
      ],
      "text/markdown": [
       "\n",
       "state | abb | region | population | total | rate | rank | \n",
       "|---|---|---|---|---|---|\n",
       "| Alaska      | AK          | West        |   710231    |   19        | 2.675186    | 27          | \n",
       "| Arizona     | AZ          | West        |  6392017    |  232        | 3.629527    | 10          | \n",
       "| California  | CA          | West        | 37253956    | 1257        | 3.374138    | 14          | \n",
       "| Colorado    | CO          | West        |  5029196    |   65        | 1.292453    | 38          | \n",
       "| Connecticut | CT          | Northeast   |  3574097    |   97        | 2.713972    | 25          | \n",
       "| Hawaii      | HI          | West        |  1360301    |    7        | 0.514592    | 49          | \n",
       "\n",
       "\n"
      ],
      "text/plain": [
       "  state       abb region    population total rate     rank\n",
       "1 Alaska      AK  West        710231     19  2.675186 27  \n",
       "2 Arizona     AZ  West       6392017    232  3.629527 10  \n",
       "3 California  CA  West      37253956   1257  3.374138 14  \n",
       "4 Colorado    CO  West       5029196     65  1.292453 38  \n",
       "5 Connecticut CT  Northeast  3574097     97  2.713972 25  \n",
       "6 Hawaii      HI  West       1360301      7  0.514592 49  "
      ]
     },
     "metadata": {},
     "output_type": "display_data"
    }
   ],
   "source": [
    "head(no_south)"
   ]
  },
  {
   "cell_type": "markdown",
   "metadata": {},
   "source": [
    "### using %in% with filter"
   ]
  },
  {
   "cell_type": "code",
   "execution_count": null,
   "metadata": {},
   "outputs": [],
   "source": [
    "# Create a new data frame called murders_nw with only the states from the northeast and the west\n",
    "murders_nw <- filter(murders, region %in% c(\"Northeast\", \"West\"))\n",
    "\n",
    "# Number of states (rows) in this category \n",
    "nrow(murders_nw)"
   ]
  },
  {
   "cell_type": "markdown",
   "metadata": {},
   "source": [
    "#### Filter by two conditions\n",
    "\n",
    "Suppose you want to live in the Northeast or West and want the murder rate to be less than 1. We want to see the data for the states satisfying these options. Note that you can use logical operators with filter:\n",
    "\n",
    "filter(murders, population < 5000000 & region == \"Northeast\")"
   ]
  },
  {
   "cell_type": "code",
   "execution_count": 167,
   "metadata": {},
   "outputs": [
    {
     "data": {
      "text/html": [
       "<table>\n",
       "<thead><tr><th scope=col>state</th><th scope=col>rate</th><th scope=col>rank</th></tr></thead>\n",
       "<tbody>\n",
       "\t<tr><td>Hawaii       </td><td>0.5145920    </td><td>49           </td></tr>\n",
       "\t<tr><td>Idaho        </td><td>0.7655102    </td><td>46           </td></tr>\n",
       "\t<tr><td>Maine        </td><td>0.8280881    </td><td>44           </td></tr>\n",
       "\t<tr><td>New Hampshire</td><td>0.3798036    </td><td>50           </td></tr>\n",
       "\t<tr><td>Oregon       </td><td>0.9396843    </td><td>42           </td></tr>\n",
       "\t<tr><td>Utah         </td><td>0.7959810    </td><td>45           </td></tr>\n",
       "\t<tr><td>Vermont      </td><td>0.3196211    </td><td>51           </td></tr>\n",
       "\t<tr><td>Wyoming      </td><td>0.8871131    </td><td>43           </td></tr>\n",
       "</tbody>\n",
       "</table>\n"
      ],
      "text/latex": [
       "\\begin{tabular}{r|lll}\n",
       " state & rate & rank\\\\\n",
       "\\hline\n",
       "\t Hawaii        & 0.5145920     & 49           \\\\\n",
       "\t Idaho         & 0.7655102     & 46           \\\\\n",
       "\t Maine         & 0.8280881     & 44           \\\\\n",
       "\t New Hampshire & 0.3798036     & 50           \\\\\n",
       "\t Oregon        & 0.9396843     & 42           \\\\\n",
       "\t Utah          & 0.7959810     & 45           \\\\\n",
       "\t Vermont       & 0.3196211     & 51           \\\\\n",
       "\t Wyoming       & 0.8871131     & 43           \\\\\n",
       "\\end{tabular}\n"
      ],
      "text/markdown": [
       "\n",
       "state | rate | rank | \n",
       "|---|---|---|---|---|---|---|---|\n",
       "| Hawaii        | 0.5145920     | 49            | \n",
       "| Idaho         | 0.7655102     | 46            | \n",
       "| Maine         | 0.8280881     | 44            | \n",
       "| New Hampshire | 0.3798036     | 50            | \n",
       "| Oregon        | 0.9396843     | 42            | \n",
       "| Utah          | 0.7959810     | 45            | \n",
       "| Vermont       | 0.3196211     | 51            | \n",
       "| Wyoming       | 0.8871131     | 43            | \n",
       "\n",
       "\n"
      ],
      "text/plain": [
       "  state         rate      rank\n",
       "1 Hawaii        0.5145920 49  \n",
       "2 Idaho         0.7655102 46  \n",
       "3 Maine         0.8280881 44  \n",
       "4 New Hampshire 0.3798036 50  \n",
       "5 Oregon        0.9396843 42  \n",
       "6 Utah          0.7959810 45  \n",
       "7 Vermont       0.3196211 51  \n",
       "8 Wyoming       0.8871131 43  "
      ]
     },
     "metadata": {},
     "output_type": "display_data"
    }
   ],
   "source": [
    "# add the rate column\n",
    "murders <- mutate(murders, rate =  total / population * 100000, rank = rank(-rate))\n",
    "\n",
    "# Create a table, call it my_states, that satisfies both the conditions \n",
    "my_states <- filter(murders, region %in% c(\"Northeast\", \"West\") & rate < 1)\n",
    "\n",
    "# Use select to show only the state name, the murder rate and the rank\n",
    "select(my_states, state, rate, rank)"
   ]
  },
  {
   "cell_type": "markdown",
   "metadata": {},
   "source": [
    "using %>% pipe "
   ]
  },
  {
   "cell_type": "code",
   "execution_count": 169,
   "metadata": {},
   "outputs": [
    {
     "data": {
      "text/html": [
       "<table>\n",
       "<thead><tr><th scope=col>state</th><th scope=col>rate</th><th scope=col>rank</th></tr></thead>\n",
       "<tbody>\n",
       "\t<tr><td>Hawaii       </td><td>0.5145920    </td><td>49           </td></tr>\n",
       "\t<tr><td>Idaho        </td><td>0.7655102    </td><td>46           </td></tr>\n",
       "\t<tr><td>Maine        </td><td>0.8280881    </td><td>44           </td></tr>\n",
       "\t<tr><td>New Hampshire</td><td>0.3798036    </td><td>50           </td></tr>\n",
       "\t<tr><td>Oregon       </td><td>0.9396843    </td><td>42           </td></tr>\n",
       "\t<tr><td>Utah         </td><td>0.7959810    </td><td>45           </td></tr>\n",
       "\t<tr><td>Vermont      </td><td>0.3196211    </td><td>51           </td></tr>\n",
       "\t<tr><td>Wyoming      </td><td>0.8871131    </td><td>43           </td></tr>\n",
       "</tbody>\n",
       "</table>\n"
      ],
      "text/latex": [
       "\\begin{tabular}{r|lll}\n",
       " state & rate & rank\\\\\n",
       "\\hline\n",
       "\t Hawaii        & 0.5145920     & 49           \\\\\n",
       "\t Idaho         & 0.7655102     & 46           \\\\\n",
       "\t Maine         & 0.8280881     & 44           \\\\\n",
       "\t New Hampshire & 0.3798036     & 50           \\\\\n",
       "\t Oregon        & 0.9396843     & 42           \\\\\n",
       "\t Utah          & 0.7959810     & 45           \\\\\n",
       "\t Vermont       & 0.3196211     & 51           \\\\\n",
       "\t Wyoming       & 0.8871131     & 43           \\\\\n",
       "\\end{tabular}\n"
      ],
      "text/markdown": [
       "\n",
       "state | rate | rank | \n",
       "|---|---|---|---|---|---|---|---|\n",
       "| Hawaii        | 0.5145920     | 49            | \n",
       "| Idaho         | 0.7655102     | 46            | \n",
       "| Maine         | 0.8280881     | 44            | \n",
       "| New Hampshire | 0.3798036     | 50            | \n",
       "| Oregon        | 0.9396843     | 42            | \n",
       "| Utah          | 0.7959810     | 45            | \n",
       "| Vermont       | 0.3196211     | 51            | \n",
       "| Wyoming       | 0.8871131     | 43            | \n",
       "\n",
       "\n"
      ],
      "text/plain": [
       "  state         rate      rank\n",
       "1 Hawaii        0.5145920 49  \n",
       "2 Idaho         0.7655102 46  \n",
       "3 Maine         0.8280881 44  \n",
       "4 New Hampshire 0.3798036 50  \n",
       "5 Oregon        0.9396843 42  \n",
       "6 Utah          0.7959810 45  \n",
       "7 Vermont       0.3196211 51  \n",
       "8 Wyoming       0.8871131 43  "
      ]
     },
     "metadata": {},
     "output_type": "display_data"
    }
   ],
   "source": [
    "# Load library\n",
    "library(dplyr)\n",
    "\n",
    "## Define the rate column\n",
    "murders <- mutate(murders, rate =  total / population * 100000, rank = rank(-rate))\n",
    "\n",
    "# show the result and only include the state, rate, and rank columns, all in one line\n",
    "murders %>% filter(region %in% c(\"Northeast\",\"West\") & rate < 1) %>% select(state, rate, rank)"
   ]
  },
  {
   "cell_type": "markdown",
   "metadata": {},
   "source": [
    "using mutate, filter, select and %>% all in one line"
   ]
  },
  {
   "cell_type": "code",
   "execution_count": 170,
   "metadata": {},
   "outputs": [
    {
     "data": {
      "text/html": [
       "<table>\n",
       "<thead><tr><th scope=col>state</th><th scope=col>rate</th><th scope=col>rank</th></tr></thead>\n",
       "<tbody>\n",
       "\t<tr><td>Hawaii       </td><td>0.5145920    </td><td>49           </td></tr>\n",
       "\t<tr><td>Idaho        </td><td>0.7655102    </td><td>46           </td></tr>\n",
       "\t<tr><td>Maine        </td><td>0.8280881    </td><td>44           </td></tr>\n",
       "\t<tr><td>New Hampshire</td><td>0.3798036    </td><td>50           </td></tr>\n",
       "\t<tr><td>Oregon       </td><td>0.9396843    </td><td>42           </td></tr>\n",
       "\t<tr><td>Utah         </td><td>0.7959810    </td><td>45           </td></tr>\n",
       "\t<tr><td>Vermont      </td><td>0.3196211    </td><td>51           </td></tr>\n",
       "\t<tr><td>Wyoming      </td><td>0.8871131    </td><td>43           </td></tr>\n",
       "</tbody>\n",
       "</table>\n"
      ],
      "text/latex": [
       "\\begin{tabular}{r|lll}\n",
       " state & rate & rank\\\\\n",
       "\\hline\n",
       "\t Hawaii        & 0.5145920     & 49           \\\\\n",
       "\t Idaho         & 0.7655102     & 46           \\\\\n",
       "\t Maine         & 0.8280881     & 44           \\\\\n",
       "\t New Hampshire & 0.3798036     & 50           \\\\\n",
       "\t Oregon        & 0.9396843     & 42           \\\\\n",
       "\t Utah          & 0.7959810     & 45           \\\\\n",
       "\t Vermont       & 0.3196211     & 51           \\\\\n",
       "\t Wyoming       & 0.8871131     & 43           \\\\\n",
       "\\end{tabular}\n"
      ],
      "text/markdown": [
       "\n",
       "state | rate | rank | \n",
       "|---|---|---|---|---|---|---|---|\n",
       "| Hawaii        | 0.5145920     | 49            | \n",
       "| Idaho         | 0.7655102     | 46            | \n",
       "| Maine         | 0.8280881     | 44            | \n",
       "| New Hampshire | 0.3798036     | 50            | \n",
       "| Oregon        | 0.9396843     | 42            | \n",
       "| Utah          | 0.7959810     | 45            | \n",
       "| Vermont       | 0.3196211     | 51            | \n",
       "| Wyoming       | 0.8871131     | 43            | \n",
       "\n",
       "\n"
      ],
      "text/plain": [
       "  state         rate      rank\n",
       "1 Hawaii        0.5145920 49  \n",
       "2 Idaho         0.7655102 46  \n",
       "3 Maine         0.8280881 44  \n",
       "4 New Hampshire 0.3798036 50  \n",
       "5 Oregon        0.9396843 42  \n",
       "6 Utah          0.7959810 45  \n",
       "7 Vermont       0.3196211 51  \n",
       "8 Wyoming       0.8871131 43  "
      ]
     },
     "metadata": {},
     "output_type": "display_data"
    }
   ],
   "source": [
    "# Loading the libraries\n",
    "library(dplyr)\n",
    "data(murders)\n",
    "\n",
    "# Create new data frame called my_states (with specifications in the instructions)\n",
    "my_states <- murders %>% mutate(rate = total/population * 100000, rank = rank(-rate)) %>% filter(region %in% c(\"Northeast\", \"West\") & rate < 1) %>% select(state, rate, rank)\n",
    "my_states"
   ]
  },
  {
   "cell_type": "markdown",
   "metadata": {},
   "source": [
    "## Basic Plots"
   ]
  },
  {
   "cell_type": "code",
   "execution_count": 171,
   "metadata": {},
   "outputs": [
    {
     "data": {
      "image/png": "[encoded data removed]",
      "text/plain": [
       "plot without title"
      ]
     },
     "metadata": {},
     "output_type": "display_data"
    }
   ],
   "source": [
    "population_in_millions <- murders$population/10^6\n",
    "total_gun_murders <- murders$total\n",
    "\n",
    "plot(population_in_millions, total_gun_murders)"
   ]
  },
  {
   "cell_type": "code",
   "execution_count": 174,
   "metadata": {},
   "outputs": [],
   "source": [
    "murders <- mutate(murders, rate =  total / population * 100000, rank = rank(-rate))"
   ]
  },
  {
   "cell_type": "code",
   "execution_count": 175,
   "metadata": {},
   "outputs": [
    {
     "data": {
      "image/png": "[encoded data removed]",
      "text/plain": [
       "Plot with title “Histogram of murders$rate”"
      ]
     },
     "metadata": {},
     "output_type": "display_data"
    }
   ],
   "source": [
    "hist(murders$rate)"
   ]
  },
  {
   "cell_type": "code",
   "execution_count": 176,
   "metadata": {},
   "outputs": [
    {
     "data": {
      "text/html": [
       "'District of Columbia'"
      ],
      "text/latex": [
       "'District of Columbia'"
      ],
      "text/markdown": [
       "'District of Columbia'"
      ],
      "text/plain": [
       "[1] \"District of Columbia\""
      ]
     },
     "metadata": {},
     "output_type": "display_data"
    }
   ],
   "source": [
    "murders$state[which.max(murders$rate)]"
   ]
  },
  {
   "cell_type": "code",
   "execution_count": 178,
   "metadata": {},
   "outputs": [
    {
     "data": {
      "image/png": "[encoded data removed]",
      "text/plain": [
       "plot without title"
      ]
     },
     "metadata": {},
     "output_type": "display_data"
    }
   ],
   "source": [
    "boxplot(rate~region, data = murders)"
   ]
  },
  {
   "cell_type": "markdown",
   "metadata": {},
   "source": [
    "### Excercise"
   ]
  },
  {
   "cell_type": "code",
   "execution_count": 179,
   "metadata": {},
   "outputs": [
    {
     "data": {
      "image/png": "[encoded data removed]",
      "text/plain": [
       "plot without title"
      ]
     },
     "metadata": {},
     "output_type": "display_data"
    },
    {
     "data": {
      "image/png": "[encoded data removed]",
      "text/plain": [
       "plot without title"
      ]
     },
     "metadata": {},
     "output_type": "display_data"
    }
   ],
   "source": [
    "# Load the datasets and define some variables\n",
    "library(dslabs)\n",
    "data(murders)\n",
    "\n",
    "population_in_millions <- murders$population/10^6\n",
    "total_gun_murders <- murders$total\n",
    "\n",
    "plot(population_in_millions, total_gun_murders)\n",
    "\n",
    "# Transform population using the log10 transformation and save to object log10_population\n",
    "log10_population <- log10(murders$population)\n",
    "# Transform total gun murders using log10 transformation and save to object log10_total_gun_murders\n",
    "log10_total_gun_murders <- log10(total_gun_murders)\n",
    "# Create a scatterplot with the log scale transformed population and murders \n",
    "plot(log10_population, log10_total_gun_murders)"
   ]
  },
  {
   "cell_type": "code",
   "execution_count": 180,
   "metadata": {},
   "outputs": [
    {
     "data": {
      "image/png": "[encoded data removed]",
      "text/plain": [
       "Plot with title “Histogram of population_in_millions”"
      ]
     },
     "metadata": {},
     "output_type": "display_data"
    }
   ],
   "source": [
    "# Store the population in millions and save to population_in_millions \n",
    "population_in_millions <- murders$population/10^6\n",
    "\n",
    "\n",
    "# Create a histogram of this variable\n",
    "hist(population_in_millions)"
   ]
  },
  {
   "cell_type": "code",
   "execution_count": 181,
   "metadata": {},
   "outputs": [
    {
     "data": {
      "image/png": "[encoded data removed]",
      "text/plain": [
       "plot without title"
      ]
     },
     "metadata": {},
     "output_type": "display_data"
    }
   ],
   "source": [
    "# Create a boxplot of state populations by region for the murders dataset\n",
    "boxplot(population~region, data = murders)"
   ]
  },
  {
   "cell_type": "markdown",
   "metadata": {},
   "source": [
    "### Introduction to Programming in R\n",
    "\n",
    "Conditionals\n",
    "\n",
    "### if-else"
   ]
  },
  {
   "cell_type": "code",
   "execution_count": 182,
   "metadata": {},
   "outputs": [
    {
     "name": "stdout",
     "output_type": "stream",
     "text": [
      "[1] 0.5\n"
     ]
    }
   ],
   "source": [
    "a <- 2\n",
    "if (a!=0){\n",
    "    print(1/a)\n",
    "} else {\n",
    "    print(\"No reciprocal for 0\")\n",
    "}"
   ]
  },
  {
   "cell_type": "code",
   "execution_count": 183,
   "metadata": {},
   "outputs": [
    {
     "name": "stdout",
     "output_type": "stream",
     "text": [
      "[1] \"No reciprocal for 0\"\n"
     ]
    }
   ],
   "source": [
    "a <- 0\n",
    "if (a!=0){\n",
    "    print(1/a)\n",
    "} else {\n",
    "    print(\"No reciprocal for 0\")\n",
    "}"
   ]
  },
  {
   "cell_type": "code",
   "execution_count": 187,
   "metadata": {},
   "outputs": [
    {
     "name": "stdout",
     "output_type": "stream",
     "text": [
      "[1] \"Vermont\"\n"
     ]
    }
   ],
   "source": [
    "library(dslabs)\n",
    "data(murders)\n",
    "murder_rate <- murders$total/murders$population*100000\n",
    "\n",
    "ind <- which.min(murder_rate)\n",
    "\n",
    "\n",
    "if(murder_rate[ind] <0.5){\n",
    "    print(murders$state[ind])\n",
    "} else {\n",
    "    print(\"No state has murder rate that low\")\n",
    "}"
   ]
  },
  {
   "cell_type": "markdown",
   "metadata": {},
   "source": [
    "### ifelse\n",
    "works great with vectors"
   ]
  },
  {
   "cell_type": "code",
   "execution_count": 189,
   "metadata": {},
   "outputs": [
    {
     "data": {
      "text/plain": [
       "[1] NA"
      ]
     },
     "metadata": {},
     "output_type": "display_data"
    }
   ],
   "source": [
    "a <- 0\n",
    "\n",
    "ifelse(a > 0, 1/a, NA)"
   ]
  },
  {
   "cell_type": "code",
   "execution_count": 190,
   "metadata": {},
   "outputs": [
    {
     "data": {
      "text/html": [
       "<ol class=list-inline>\n",
       "\t<li>NA</li>\n",
       "\t<li>1</li>\n",
       "\t<li>0.5</li>\n",
       "\t<li>NA</li>\n",
       "\t<li>0.2</li>\n",
       "</ol>\n"
      ],
      "text/latex": [
       "\\begin{enumerate*}\n",
       "\\item NA\n",
       "\\item 1\n",
       "\\item 0.5\n",
       "\\item NA\n",
       "\\item 0.2\n",
       "\\end{enumerate*}\n"
      ],
      "text/markdown": [
       "1. NA\n",
       "2. 1\n",
       "3. 0.5\n",
       "4. NA\n",
       "5. 0.2\n",
       "\n",
       "\n"
      ],
      "text/plain": [
       "[1]  NA 1.0 0.5  NA 0.2"
      ]
     },
     "metadata": {},
     "output_type": "display_data"
    }
   ],
   "source": [
    "a <- c(0,1,2,-4,5)\n",
    "\n",
    "ifelse(a > 0, 1/a, NA)"
   ]
  },
  {
   "cell_type": "markdown",
   "metadata": {},
   "source": [
    "Loading the na_example example "
   ]
  },
  {
   "cell_type": "code",
   "execution_count": 217,
   "metadata": {},
   "outputs": [
    {
     "data": {
      "text/html": [
       "1000"
      ],
      "text/latex": [
       "1000"
      ],
      "text/markdown": [
       "1000"
      ],
      "text/plain": [
       "[1] 1000"
      ]
     },
     "metadata": {},
     "output_type": "display_data"
    }
   ],
   "source": [
    "data(na_example)\n",
    "length(na_example)"
   ]
  },
  {
   "cell_type": "code",
   "execution_count": 194,
   "metadata": {},
   "outputs": [
    {
     "data": {
      "text/html": [
       "145"
      ],
      "text/latex": [
       "145"
      ],
      "text/markdown": [
       "145"
      ],
      "text/plain": [
       "[1] 145"
      ]
     },
     "metadata": {},
     "output_type": "display_data"
    }
   ],
   "source": [
    "sum(is.na(na_example)) #total na in the data set"
   ]
  },
  {
   "cell_type": "code",
   "execution_count": 198,
   "metadata": {},
   "outputs": [
    {
     "data": {
      "text/html": [
       "855"
      ],
      "text/latex": [
       "855"
      ],
      "text/markdown": [
       "855"
      ],
      "text/plain": [
       "[1] 855"
      ]
     },
     "metadata": {},
     "output_type": "display_data"
    }
   ],
   "source": [
    "sum(!is.na(na_example)) #total non-na in the data set"
   ]
  },
  {
   "cell_type": "code",
   "execution_count": 216,
   "metadata": {},
   "outputs": [
    {
     "data": {
      "text/html": [
       "0"
      ],
      "text/latex": [
       "0"
      ],
      "text/markdown": [
       "0"
      ],
      "text/plain": [
       "[1] 0"
      ]
     },
     "metadata": {},
     "output_type": "display_data"
    }
   ],
   "source": [
    "no_nas <- ifelse(is.na(na_example), 0, na_example)\n",
    "\n",
    "sum(is.na(no_nas)) #confirming we have no NAs"
   ]
  },
  {
   "cell_type": "code",
   "execution_count": 206,
   "metadata": {},
   "outputs": [
    {
     "data": {
      "text/plain": [
       "na_example\n",
       "  1   2   3   4   5   6   7 \n",
       "266 270 175  98  33  11   2 "
      ]
     },
     "metadata": {},
     "output_type": "display_data"
    }
   ],
   "source": [
    "table(na_example)"
   ]
  },
  {
   "cell_type": "code",
   "execution_count": 207,
   "metadata": {},
   "outputs": [
    {
     "data": {
      "text/plain": [
       "no_nas\n",
       "  0   1   2   3   4   5   6   7 \n",
       "145 266 270 175  98  33  11   2 "
      ]
     },
     "metadata": {},
     "output_type": "display_data"
    }
   ],
   "source": [
    "table(no_nas)"
   ]
  },
  {
   "cell_type": "markdown",
   "metadata": {},
   "source": [
    "### Any and ALL"
   ]
  },
  {
   "cell_type": "code",
   "execution_count": 209,
   "metadata": {},
   "outputs": [
    {
     "data": {
      "text/html": [
       "TRUE"
      ],
      "text/latex": [
       "TRUE"
      ],
      "text/markdown": [
       "TRUE"
      ],
      "text/plain": [
       "[1] TRUE"
      ]
     },
     "metadata": {},
     "output_type": "display_data"
    }
   ],
   "source": [
    "z <- c(TRUE, TRUE, FALSE)\n",
    "\n",
    "any(z)"
   ]
  },
  {
   "cell_type": "code",
   "execution_count": 211,
   "metadata": {},
   "outputs": [
    {
     "data": {
      "text/html": [
       "FALSE"
      ],
      "text/latex": [
       "FALSE"
      ],
      "text/markdown": [
       "FALSE"
      ],
      "text/plain": [
       "[1] FALSE"
      ]
     },
     "metadata": {},
     "output_type": "display_data"
    }
   ],
   "source": [
    "z <- c(FALSE, FALSE, FALSE)\n",
    "\n",
    "any(z)"
   ]
  },
  {
   "cell_type": "code",
   "execution_count": 212,
   "metadata": {},
   "outputs": [
    {
     "data": {
      "text/html": [
       "FALSE"
      ],
      "text/latex": [
       "FALSE"
      ],
      "text/markdown": [
       "FALSE"
      ],
      "text/plain": [
       "[1] FALSE"
      ]
     },
     "metadata": {},
     "output_type": "display_data"
    }
   ],
   "source": [
    "z <- c(TRUE, TRUE, FALSE)\n",
    "\n",
    "all(z)"
   ]
  },
  {
   "cell_type": "code",
   "execution_count": 215,
   "metadata": {},
   "outputs": [
    {
     "data": {
      "text/html": [
       "TRUE"
      ],
      "text/latex": [
       "TRUE"
      ],
      "text/markdown": [
       "TRUE"
      ],
      "text/plain": [
       "[1] TRUE"
      ]
     },
     "metadata": {},
     "output_type": "display_data"
    }
   ],
   "source": [
    "z <- c(TRUE, TRUE, TRUE)\n",
    "\n",
    "any(z)\n"
   ]
  },
  {
   "cell_type": "markdown",
   "metadata": {},
   "source": [
    "### Basic Functions"
   ]
  },
  {
   "cell_type": "code",
   "execution_count": 218,
   "metadata": {},
   "outputs": [],
   "source": [
    "avg <- function(x) {\n",
    "    s <- sum(x)\n",
    "    n <- length(x)\n",
    "    s/n\n",
    "}"
   ]
  },
  {
   "cell_type": "code",
   "execution_count": 219,
   "metadata": {},
   "outputs": [
    {
     "data": {
      "text/html": [
       "2.33333333333333"
      ],
      "text/latex": [
       "2.33333333333333"
      ],
      "text/markdown": [
       "2.33333333333333"
      ],
      "text/plain": [
       "[1] 2.333333"
      ]
     },
     "metadata": {},
     "output_type": "display_data"
    }
   ],
   "source": [
    "avg(c(1,2,4))"
   ]
  },
  {
   "cell_type": "code",
   "execution_count": 221,
   "metadata": {},
   "outputs": [
    {
     "data": {
      "text/html": [
       "50.5"
      ],
      "text/latex": [
       "50.5"
      ],
      "text/markdown": [
       "50.5"
      ],
      "text/plain": [
       "[1] 50.5"
      ]
     },
     "metadata": {},
     "output_type": "display_data"
    }
   ],
   "source": [
    "x <- 1:100\n",
    "avg(x)"
   ]
  },
  {
   "cell_type": "code",
   "execution_count": 222,
   "metadata": {},
   "outputs": [
    {
     "data": {
      "text/html": [
       "TRUE"
      ],
      "text/latex": [
       "TRUE"
      ],
      "text/markdown": [
       "TRUE"
      ],
      "text/plain": [
       "[1] TRUE"
      ]
     },
     "metadata": {},
     "output_type": "display_data"
    }
   ],
   "source": [
    "identical(mean(x), avg(x))"
   ]
  },
  {
   "cell_type": "code",
   "execution_count": 233,
   "metadata": {},
   "outputs": [],
   "source": [
    "# arithmetic or geometric mean \n",
    "\n",
    "avg <- function(x, arithmetic=TRUE) {\n",
    "    n <- length(x)\n",
    "    ifelse(arithmetic, sum(x)/n, prod(x)^(1/n))\n",
    "}"
   ]
  },
  {
   "cell_type": "code",
   "execution_count": 234,
   "metadata": {},
   "outputs": [
    {
     "data": {
      "text/html": [
       "50.5"
      ],
      "text/latex": [
       "50.5"
      ],
      "text/markdown": [
       "50.5"
      ],
      "text/plain": [
       "[1] 50.5"
      ]
     },
     "metadata": {},
     "output_type": "display_data"
    },
    {
     "data": {
      "text/html": [
       "50.5"
      ],
      "text/latex": [
       "50.5"
      ],
      "text/markdown": [
       "50.5"
      ],
      "text/plain": [
       "[1] 50.5"
      ]
     },
     "metadata": {},
     "output_type": "display_data"
    },
    {
     "data": {
      "text/html": [
       "37.9926893448343"
      ],
      "text/latex": [
       "37.9926893448343"
      ],
      "text/markdown": [
       "37.9926893448343"
      ],
      "text/plain": [
       "[1] 37.99269"
      ]
     },
     "metadata": {},
     "output_type": "display_data"
    }
   ],
   "source": [
    "avg(x)\n",
    "avg(x, TRUE)\n",
    "avg(x, FALSE)"
   ]
  },
  {
   "cell_type": "markdown",
   "metadata": {},
   "source": [
    "### For Loops"
   ]
  },
  {
   "cell_type": "code",
   "execution_count": 235,
   "metadata": {},
   "outputs": [],
   "source": [
    "compute_s_n <- function(n) {\n",
    "    x <- 1:n\n",
    "    sum(x)\n",
    "}"
   ]
  },
  {
   "cell_type": "code",
   "execution_count": 239,
   "metadata": {},
   "outputs": [
    {
     "data": {
      "text/html": [
       "6"
      ],
      "text/latex": [
       "6"
      ],
      "text/markdown": [
       "6"
      ],
      "text/plain": [
       "[1] 6"
      ]
     },
     "metadata": {},
     "output_type": "display_data"
    },
    {
     "data": {
      "text/html": [
       "5050"
      ],
      "text/latex": [
       "5050"
      ],
      "text/markdown": [
       "5050"
      ],
      "text/plain": [
       "[1] 5050"
      ]
     },
     "metadata": {},
     "output_type": "display_data"
    }
   ],
   "source": [
    "compute_s_n(3)\n",
    "compute_s_n(100)"
   ]
  },
  {
   "cell_type": "code",
   "execution_count": 243,
   "metadata": {},
   "outputs": [
    {
     "name": "stdout",
     "output_type": "stream",
     "text": [
      "[1] 1\n",
      "[1] 2\n",
      "[1] 3\n",
      "[1] 4\n",
      "[1] 5\n"
     ]
    }
   ],
   "source": [
    "for (i in 1:5){\n",
    "    print(i)\n",
    "}"
   ]
  },
  {
   "cell_type": "code",
   "execution_count": 244,
   "metadata": {},
   "outputs": [],
   "source": [
    "m <- 25\n",
    "#create an empty vector to store results\n",
    "s_n <- vector(length = m)\n",
    "for (n in 1:m){\n",
    "    s_n[n] <- compute_s_n(n)\n",
    "}"
   ]
  },
  {
   "cell_type": "code",
   "execution_count": 246,
   "metadata": {},
   "outputs": [
    {
     "data": {
      "text/html": [
       "25"
      ],
      "text/latex": [
       "25"
      ],
      "text/markdown": [
       "25"
      ],
      "text/plain": [
       "[1] 25"
      ]
     },
     "metadata": {},
     "output_type": "display_data"
    },
    {
     "data": {
      "text/html": [
       "<ol class=list-inline>\n",
       "\t<li>1</li>\n",
       "\t<li>3</li>\n",
       "\t<li>6</li>\n",
       "\t<li>10</li>\n",
       "\t<li>15</li>\n",
       "\t<li>21</li>\n",
       "\t<li>28</li>\n",
       "\t<li>36</li>\n",
       "\t<li>45</li>\n",
       "\t<li>55</li>\n",
       "\t<li>66</li>\n",
       "\t<li>78</li>\n",
       "\t<li>91</li>\n",
       "\t<li>105</li>\n",
       "\t<li>120</li>\n",
       "\t<li>136</li>\n",
       "\t<li>153</li>\n",
       "\t<li>171</li>\n",
       "\t<li>190</li>\n",
       "\t<li>210</li>\n",
       "\t<li>231</li>\n",
       "\t<li>253</li>\n",
       "\t<li>276</li>\n",
       "\t<li>300</li>\n",
       "\t<li>325</li>\n",
       "</ol>\n"
      ],
      "text/latex": [
       "\\begin{enumerate*}\n",
       "\\item 1\n",
       "\\item 3\n",
       "\\item 6\n",
       "\\item 10\n",
       "\\item 15\n",
       "\\item 21\n",
       "\\item 28\n",
       "\\item 36\n",
       "\\item 45\n",
       "\\item 55\n",
       "\\item 66\n",
       "\\item 78\n",
       "\\item 91\n",
       "\\item 105\n",
       "\\item 120\n",
       "\\item 136\n",
       "\\item 153\n",
       "\\item 171\n",
       "\\item 190\n",
       "\\item 210\n",
       "\\item 231\n",
       "\\item 253\n",
       "\\item 276\n",
       "\\item 300\n",
       "\\item 325\n",
       "\\end{enumerate*}\n"
      ],
      "text/markdown": [
       "1. 1\n",
       "2. 3\n",
       "3. 6\n",
       "4. 10\n",
       "5. 15\n",
       "6. 21\n",
       "7. 28\n",
       "8. 36\n",
       "9. 45\n",
       "10. 55\n",
       "11. 66\n",
       "12. 78\n",
       "13. 91\n",
       "14. 105\n",
       "15. 120\n",
       "16. 136\n",
       "17. 153\n",
       "18. 171\n",
       "19. 190\n",
       "20. 210\n",
       "21. 231\n",
       "22. 253\n",
       "23. 276\n",
       "24. 300\n",
       "25. 325\n",
       "\n",
       "\n"
      ],
      "text/plain": [
       " [1]   1   3   6  10  15  21  28  36  45  55  66  78  91 105 120 136 153 171 190\n",
       "[20] 210 231 253 276 300 325"
      ]
     },
     "metadata": {},
     "output_type": "display_data"
    }
   ],
   "source": [
    "length(s_n)\n",
    "s_n"
   ]
  },
  {
   "cell_type": "code",
   "execution_count": 247,
   "metadata": {},
   "outputs": [
    {
     "data": {
      "image/png": "[encoded data removed]",
      "text/plain": [
       "plot without title"
      ]
     },
     "metadata": {},
     "output_type": "display_data"
    }
   ],
   "source": [
    "n <- 1:m\n",
    "plot(n, s_n)"
   ]
  },
  {
   "cell_type": "code",
   "execution_count": 253,
   "metadata": {},
   "outputs": [
    {
     "data": {
      "image/png": "[encoded data removed]",
      "text/plain": [
       "plot without title"
      ]
     },
     "metadata": {},
     "output_type": "display_data"
    }
   ],
   "source": [
    "plot(n, s_n)\n",
    "lines(n,n*(n+1)/2)"
   ]
  },
  {
   "cell_type": "markdown",
   "metadata": {},
   "source": [
    "other functions:\n",
    "### apply, sapply, tapply, mapply\n",
    "### split, cut, quantile, reduce, identical, unique\n",
    "\n",
    "\n",
    "https://www.datacamp.com/community/tutorials/r-tutorial-apply-family"
   ]
  },
  {
   "cell_type": "code",
   "execution_count": 265,
   "metadata": {},
   "outputs": [
    {
     "data": {
      "text/html": [
       "<ol class=list-inline>\n",
       "\t<li>1</li>\n",
       "\t<li>3</li>\n",
       "\t<li>6</li>\n",
       "\t<li>10</li>\n",
       "\t<li>15</li>\n",
       "\t<li>21</li>\n",
       "\t<li>28</li>\n",
       "\t<li>36</li>\n",
       "\t<li>45</li>\n",
       "\t<li>55</li>\n",
       "\t<li>66</li>\n",
       "\t<li>78</li>\n",
       "\t<li>91</li>\n",
       "\t<li>105</li>\n",
       "\t<li>120</li>\n",
       "\t<li>136</li>\n",
       "\t<li>153</li>\n",
       "\t<li>171</li>\n",
       "\t<li>190</li>\n",
       "\t<li>210</li>\n",
       "\t<li>231</li>\n",
       "\t<li>253</li>\n",
       "\t<li>276</li>\n",
       "\t<li>300</li>\n",
       "\t<li>325</li>\n",
       "</ol>\n"
      ],
      "text/latex": [
       "\\begin{enumerate*}\n",
       "\\item 1\n",
       "\\item 3\n",
       "\\item 6\n",
       "\\item 10\n",
       "\\item 15\n",
       "\\item 21\n",
       "\\item 28\n",
       "\\item 36\n",
       "\\item 45\n",
       "\\item 55\n",
       "\\item 66\n",
       "\\item 78\n",
       "\\item 91\n",
       "\\item 105\n",
       "\\item 120\n",
       "\\item 136\n",
       "\\item 153\n",
       "\\item 171\n",
       "\\item 190\n",
       "\\item 210\n",
       "\\item 231\n",
       "\\item 253\n",
       "\\item 276\n",
       "\\item 300\n",
       "\\item 325\n",
       "\\end{enumerate*}\n"
      ],
      "text/markdown": [
       "1. 1\n",
       "2. 3\n",
       "3. 6\n",
       "4. 10\n",
       "5. 15\n",
       "6. 21\n",
       "7. 28\n",
       "8. 36\n",
       "9. 45\n",
       "10. 55\n",
       "11. 66\n",
       "12. 78\n",
       "13. 91\n",
       "14. 105\n",
       "15. 120\n",
       "16. 136\n",
       "17. 153\n",
       "18. 171\n",
       "19. 190\n",
       "20. 210\n",
       "21. 231\n",
       "22. 253\n",
       "23. 276\n",
       "24. 300\n",
       "25. 325\n",
       "\n",
       "\n"
      ],
      "text/plain": [
       " [1]   1   3   6  10  15  21  28  36  45  55  66  78  91 105 120 136 153 171 190\n",
       "[20] 210 231 253 276 300 325"
      ]
     },
     "metadata": {},
     "output_type": "display_data"
    }
   ],
   "source": [
    "mn <- matrix(n)\n",
    "apply(mn, 1, compute_s_n)"
   ]
  },
  {
   "cell_type": "markdown",
   "metadata": {},
   "source": [
    "### Excercise"
   ]
  },
  {
   "cell_type": "code",
   "execution_count": 1,
   "metadata": {},
   "outputs": [
    {
     "name": "stdout",
     "output_type": "stream",
     "text": [
      "[1] \"Not all positive\"\n"
     ]
    }
   ],
   "source": [
    "x <- c(3,4,-2,1)\n",
    "\n",
    "if (all(x > 0)){\n",
    "    print(\"All positive\")\n",
    "} else {\n",
    "    print(\"Not all positive\")\n",
    "}"
   ]
  },
  {
   "cell_type": "code",
   "execution_count": 269,
   "metadata": {},
   "outputs": [
    {
     "data": {
      "text/html": [
       "FALSE"
      ],
      "text/latex": [
       "FALSE"
      ],
      "text/markdown": [
       "FALSE"
      ],
      "text/plain": [
       "[1] FALSE"
      ]
     },
     "metadata": {},
     "output_type": "display_data"
    },
    {
     "data": {
      "text/html": [
       "TRUE"
      ],
      "text/latex": [
       "TRUE"
      ],
      "text/markdown": [
       "TRUE"
      ],
      "text/plain": [
       "[1] TRUE"
      ]
     },
     "metadata": {},
     "output_type": "display_data"
    },
    {
     "data": {
      "text/html": [
       "TRUE"
      ],
      "text/latex": [
       "TRUE"
      ],
      "text/markdown": [
       "TRUE"
      ],
      "text/plain": [
       "[1] TRUE"
      ]
     },
     "metadata": {},
     "output_type": "display_data"
    },
    {
     "data": {
      "text/html": [
       "FALSE"
      ],
      "text/latex": [
       "FALSE"
      ],
      "text/markdown": [
       "FALSE"
      ],
      "text/plain": [
       "[1] FALSE"
      ]
     },
     "metadata": {},
     "output_type": "display_data"
    }
   ],
   "source": [
    "x <- c(TRUE, FALSE)\n",
    "all(x)\n",
    "any(x)\n",
    "any(!x)\n",
    "all(!x)"
   ]
  },
  {
   "cell_type": "markdown",
   "metadata": {},
   "source": [
    "### ifelse\n",
    "\n",
    "The function **nchar** tells you how many characters long a character vector is. For example:\n",
    "\n",
    "```R\n",
    "char_len <- nchar(murders$state)\n",
    "head(char_len)\n",
    "```\n",
    "The function **ifelse** is useful because you convert a vector of logicals into something else. For example, some datasets use the number -999 to denote NA. A bad practice! You can convert the -999 in a vector to NA using the following ifelse call:\n",
    "\n",
    "```R\n",
    "x <- c(2, 3, -999, 1, 4, 5, -999, 3, 2, 9)\n",
    "ifelse(x == -999, NA, x)\n",
    "```\n",
    "If the entry is -999 it returns NA, otherwise it returns the entry.\n"
   ]
  },
  {
   "cell_type": "code",
   "execution_count": 273,
   "metadata": {},
   "outputs": [
    {
     "data": {
      "text/html": [
       "<ol class=list-inline>\n",
       "\t<li>'Alabama'</li>\n",
       "\t<li>'Alaska'</li>\n",
       "\t<li>'Arizona'</li>\n",
       "\t<li>'Arkansas'</li>\n",
       "\t<li>'CA'</li>\n",
       "\t<li>'Colorado'</li>\n",
       "\t<li>'CT'</li>\n",
       "\t<li>'Delaware'</li>\n",
       "\t<li>'DC'</li>\n",
       "\t<li>'Florida'</li>\n",
       "\t<li>'Georgia'</li>\n",
       "\t<li>'Hawaii'</li>\n",
       "\t<li>'Idaho'</li>\n",
       "\t<li>'Illinois'</li>\n",
       "\t<li>'Indiana'</li>\n",
       "\t<li>'Iowa'</li>\n",
       "\t<li>'Kansas'</li>\n",
       "\t<li>'Kentucky'</li>\n",
       "\t<li>'LA'</li>\n",
       "\t<li>'Maine'</li>\n",
       "\t<li>'Maryland'</li>\n",
       "\t<li>'MA'</li>\n",
       "\t<li>'Michigan'</li>\n",
       "\t<li>'MN'</li>\n",
       "\t<li>'MS'</li>\n",
       "\t<li>'Missouri'</li>\n",
       "\t<li>'Montana'</li>\n",
       "\t<li>'Nebraska'</li>\n",
       "\t<li>'Nevada'</li>\n",
       "\t<li>'NH'</li>\n",
       "\t<li>'NJ'</li>\n",
       "\t<li>'NM'</li>\n",
       "\t<li>'New York'</li>\n",
       "\t<li>'NC'</li>\n",
       "\t<li>'ND'</li>\n",
       "\t<li>'Ohio'</li>\n",
       "\t<li>'Oklahoma'</li>\n",
       "\t<li>'Oregon'</li>\n",
       "\t<li>'PA'</li>\n",
       "\t<li>'RI'</li>\n",
       "\t<li>'SC'</li>\n",
       "\t<li>'SD'</li>\n",
       "\t<li>'TN'</li>\n",
       "\t<li>'Texas'</li>\n",
       "\t<li>'Utah'</li>\n",
       "\t<li>'Vermont'</li>\n",
       "\t<li>'Virginia'</li>\n",
       "\t<li>'WA'</li>\n",
       "\t<li>'WV'</li>\n",
       "\t<li>'WI'</li>\n",
       "\t<li>'Wyoming'</li>\n",
       "</ol>\n"
      ],
      "text/latex": [
       "\\begin{enumerate*}\n",
       "\\item 'Alabama'\n",
       "\\item 'Alaska'\n",
       "\\item 'Arizona'\n",
       "\\item 'Arkansas'\n",
       "\\item 'CA'\n",
       "\\item 'Colorado'\n",
       "\\item 'CT'\n",
       "\\item 'Delaware'\n",
       "\\item 'DC'\n",
       "\\item 'Florida'\n",
       "\\item 'Georgia'\n",
       "\\item 'Hawaii'\n",
       "\\item 'Idaho'\n",
       "\\item 'Illinois'\n",
       "\\item 'Indiana'\n",
       "\\item 'Iowa'\n",
       "\\item 'Kansas'\n",
       "\\item 'Kentucky'\n",
       "\\item 'LA'\n",
       "\\item 'Maine'\n",
       "\\item 'Maryland'\n",
       "\\item 'MA'\n",
       "\\item 'Michigan'\n",
       "\\item 'MN'\n",
       "\\item 'MS'\n",
       "\\item 'Missouri'\n",
       "\\item 'Montana'\n",
       "\\item 'Nebraska'\n",
       "\\item 'Nevada'\n",
       "\\item 'NH'\n",
       "\\item 'NJ'\n",
       "\\item 'NM'\n",
       "\\item 'New York'\n",
       "\\item 'NC'\n",
       "\\item 'ND'\n",
       "\\item 'Ohio'\n",
       "\\item 'Oklahoma'\n",
       "\\item 'Oregon'\n",
       "\\item 'PA'\n",
       "\\item 'RI'\n",
       "\\item 'SC'\n",
       "\\item 'SD'\n",
       "\\item 'TN'\n",
       "\\item 'Texas'\n",
       "\\item 'Utah'\n",
       "\\item 'Vermont'\n",
       "\\item 'Virginia'\n",
       "\\item 'WA'\n",
       "\\item 'WV'\n",
       "\\item 'WI'\n",
       "\\item 'Wyoming'\n",
       "\\end{enumerate*}\n"
      ],
      "text/markdown": [
       "1. 'Alabama'\n",
       "2. 'Alaska'\n",
       "3. 'Arizona'\n",
       "4. 'Arkansas'\n",
       "5. 'CA'\n",
       "6. 'Colorado'\n",
       "7. 'CT'\n",
       "8. 'Delaware'\n",
       "9. 'DC'\n",
       "10. 'Florida'\n",
       "11. 'Georgia'\n",
       "12. 'Hawaii'\n",
       "13. 'Idaho'\n",
       "14. 'Illinois'\n",
       "15. 'Indiana'\n",
       "16. 'Iowa'\n",
       "17. 'Kansas'\n",
       "18. 'Kentucky'\n",
       "19. 'LA'\n",
       "20. 'Maine'\n",
       "21. 'Maryland'\n",
       "22. 'MA'\n",
       "23. 'Michigan'\n",
       "24. 'MN'\n",
       "25. 'MS'\n",
       "26. 'Missouri'\n",
       "27. 'Montana'\n",
       "28. 'Nebraska'\n",
       "29. 'Nevada'\n",
       "30. 'NH'\n",
       "31. 'NJ'\n",
       "32. 'NM'\n",
       "33. 'New York'\n",
       "34. 'NC'\n",
       "35. 'ND'\n",
       "36. 'Ohio'\n",
       "37. 'Oklahoma'\n",
       "38. 'Oregon'\n",
       "39. 'PA'\n",
       "40. 'RI'\n",
       "41. 'SC'\n",
       "42. 'SD'\n",
       "43. 'TN'\n",
       "44. 'Texas'\n",
       "45. 'Utah'\n",
       "46. 'Vermont'\n",
       "47. 'Virginia'\n",
       "48. 'WA'\n",
       "49. 'WV'\n",
       "50. 'WI'\n",
       "51. 'Wyoming'\n",
       "\n",
       "\n"
      ],
      "text/plain": [
       " [1] \"Alabama\"  \"Alaska\"   \"Arizona\"  \"Arkansas\" \"CA\"       \"Colorado\"\n",
       " [7] \"CT\"       \"Delaware\" \"DC\"       \"Florida\"  \"Georgia\"  \"Hawaii\"  \n",
       "[13] \"Idaho\"    \"Illinois\" \"Indiana\"  \"Iowa\"     \"Kansas\"   \"Kentucky\"\n",
       "[19] \"LA\"       \"Maine\"    \"Maryland\" \"MA\"       \"Michigan\" \"MN\"      \n",
       "[25] \"MS\"       \"Missouri\" \"Montana\"  \"Nebraska\" \"Nevada\"   \"NH\"      \n",
       "[31] \"NJ\"       \"NM\"       \"New York\" \"NC\"       \"ND\"       \"Ohio\"    \n",
       "[37] \"Oklahoma\" \"Oregon\"   \"PA\"       \"RI\"       \"SC\"       \"SD\"      \n",
       "[43] \"TN\"       \"Texas\"    \"Utah\"     \"Vermont\"  \"Virginia\" \"WA\"      \n",
       "[49] \"WV\"       \"WI\"       \"Wyoming\" "
      ]
     },
     "metadata": {},
     "output_type": "display_data"
    }
   ],
   "source": [
    "# Assign the state abbreviation when the state name is longer than 8 characters \n",
    "\n",
    "new_names <- ifelse(nchar(murders$state) >8, murders$abb, murders$state)\n",
    "new_names"
   ]
  },
  {
   "cell_type": "markdown",
   "metadata": {},
   "source": [
    "### Defining functions\n",
    "\n",
    "You will encounter situations in which the function you need does not already exist. R permits you to write your own. Let's practice one such situation, in which you first need to define the function to be used. The functions you define can have multiple arguments as well as default values.\n",
    "\n",
    "To define functions we use function. For example the following function adds 1 to the number it receives as an argument:\n",
    "\n",
    "```R\n",
    "my_func <- function(x){\n",
    "    y <- x + 1\n",
    "    y\n",
    "}\n",
    "```\n",
    "The last value in the function, in this case that stored in y, gets returned.\n",
    "\n",
    "If you run the code above R does not show anything. This means you defined the function. You can test it out like this:\n",
    "\n",
    "```R\n",
    "my_func(5)\n",
    "```"
   ]
  },
  {
   "cell_type": "code",
   "execution_count": 274,
   "metadata": {},
   "outputs": [
    {
     "data": {
      "text/html": [
       "12502500"
      ],
      "text/latex": [
       "12502500"
      ],
      "text/markdown": [
       "12502500"
      ],
      "text/plain": [
       "[1] 12502500"
      ]
     },
     "metadata": {},
     "output_type": "display_data"
    }
   ],
   "source": [
    "# Create function called `sum_n`\n",
    "\n",
    "# Use the function to determine the sum of integers from 1 to 5000\n",
    "\n",
    "# Create function called `sum_n`\n",
    "\n",
    "# Use the function to determine the sum of integers from 1 to 5000\n",
    "\n",
    "sum_n <- function(n) {\n",
    "  v <- 1:n\n",
    "  sum(v)\n",
    "}\n",
    "\n",
    "sum_n(5000)"
   ]
  },
  {
   "cell_type": "markdown",
   "metadata": {},
   "source": [
    "### Defining functions continued...\n",
    "\n",
    "We will make another function for this exercise. We will define a function altman_plot that takes two arguments x and y and plots the difference y-x in the y-axis against the sum x+y in the x-axis.\n",
    "\n",
    "You can define functions with as many variables as you want. For example, here we need at least two, x and y. The following function plots log transformed values:\n",
    "\n",
    "```R\n",
    "log_plot <- function(x, y){\n",
    "    plot(log10(x), log10(y))\n",
    "}\n",
    "```\n",
    "\n",
    "This function does not return anything. It just makes a plot."
   ]
  },
  {
   "cell_type": "code",
   "execution_count": 3,
   "metadata": {},
   "outputs": [],
   "source": [
    "# Create `altman_plot` \n",
    "altman_plot <- function(x, y){\n",
    "  plot((x+y), (y-x))\n",
    "}"
   ]
  },
  {
   "cell_type": "code",
   "execution_count": 4,
   "metadata": {},
   "outputs": [
    {
     "data": {
      "image/png": "[encoded data removed]",
      "text/plain": [
       "plot without title"
      ]
     },
     "metadata": {},
     "output_type": "display_data"
    }
   ],
   "source": [
    "altman_plot(c(1), c(4))"
   ]
  },
  {
   "cell_type": "markdown",
   "metadata": {},
   "source": [
    "### Lexical scope\n",
    "\n",
    "Lexical scoping is a convention used by many languages that determine when an object is available by its name. When you run the code below you will see which x is available when.\n",
    "\n",
    "```R\n",
    "x <- 8\n",
    "my_func <- function(y){\n",
    "    x <- 9\n",
    "    print(x)\n",
    "    y + x\n",
    "}\n",
    "my_func(x)\n",
    "print(x)\n",
    "```\n",
    "Note that when we define x as 9, this is inside the function, but it is 8 after you run the function. The x changed inside the function but not outside.\n",
    "\n",
    "The lexical scoping is a convention used by many languages that determine when an object is available by its name. When you run the code below you will see which x is available when. After running the code below, what is the value of x?\n",
    "\n",
    "```R\n",
    "x <- 3\n",
    "my_func <- function(y){\n",
    "    x <- 5\n",
    "    y\n",
    "    print(x)\n",
    "}\n",
    "my_func(x)\n",
    "```"
   ]
  },
  {
   "cell_type": "code",
   "execution_count": 5,
   "metadata": {},
   "outputs": [
    {
     "name": "stdout",
     "output_type": "stream",
     "text": [
      "[1] 5\n",
      "[1] 3\n"
     ]
    }
   ],
   "source": [
    "x <- 3\n",
    "my_func <- function(y){\n",
    "    x <- 5\n",
    "    y\n",
    "    print(x)\n",
    "}\n",
    "my_func(x)\n",
    "\n",
    "print(x)"
   ]
  },
  {
   "cell_type": "code",
   "execution_count": 13,
   "metadata": {},
   "outputs": [
    {
     "data": {
      "text/html": [
       "5050"
      ],
      "text/latex": [
       "5050"
      ],
      "text/markdown": [
       "5050"
      ],
      "text/plain": [
       "[1] 5050"
      ]
     },
     "metadata": {},
     "output_type": "display_data"
    },
    {
     "data": {
      "text/html": [
       "385"
      ],
      "text/latex": [
       "385"
      ],
      "text/markdown": [
       "385"
      ],
      "text/plain": [
       "[1] 385"
      ]
     },
     "metadata": {},
     "output_type": "display_data"
    }
   ],
   "source": [
    "# Here is an example of function that adds numbers from 1 to n\n",
    "example_func <- function(n){\n",
    "    x <- 1:n\n",
    "    sum(x)\n",
    "}\n",
    "\n",
    "# Here is the sum of the first 100 numbers\n",
    "example_func(100)\n",
    "\n",
    "# Write a function compute_s_n that with argument n and returns of 1 + 2^2 + ...+ n^2\n",
    "computer_s_n <- function(n){\n",
    "    x <- 1:n\n",
    "    sum(x^2)\n",
    "}\n",
    "# Report the value of the sum when n=10\n",
    "computer_s_n(10)"
   ]
  },
  {
   "cell_type": "markdown",
   "metadata": {},
   "source": [
    "### For loops continued...\n",
    "\n",
    "Now we are going to compute the sum of the squares for several values of n\n",
    "n\n",
    ". We will use a for-loop for this. Here is an example of a for-loop:\n",
    "\n",
    "```R\n",
    "results <- vector(\"numeric\", 10)\n",
    "n <- 10\n",
    "for(i in 1:n){\n",
    "    x <- 1:i\n",
    "    results[i] <- sum(x)\n",
    "}\n",
    "```\n",
    "Note that we start with a call to vector which constructs an empty vector that we will fill while the loop runs."
   ]
  },
  {
   "cell_type": "code",
   "execution_count": 19,
   "metadata": {},
   "outputs": [
    {
     "name": "stdout",
     "output_type": "stream",
     "text": [
      " [1]    1    5   14   30   55   91  140  204  285  385  506  650  819 1015 1240\n",
      "[16] 1496 1785 2109 2470 2870 3311 3795 4324 4900 5525\n"
     ]
    }
   ],
   "source": [
    "# Define a function and store it in `compute_s_n`\n",
    "compute_s_n <- function(n){\n",
    "  x <- 1:n\n",
    "  sum(x^2)\n",
    "}\n",
    "\n",
    "# Create a vector for storing results\n",
    "s_n <- vector(\"numeric\", 25)\n",
    "\n",
    "# write a for-loop to store the results in s_n\n",
    "for (i in 1:25){\n",
    "    s_n[i] <- compute_s_n(i)\n",
    "}\n",
    "\n",
    "print(s_n)"
   ]
  },
  {
   "cell_type": "code",
   "execution_count": 22,
   "metadata": {},
   "outputs": [
    {
     "data": {
      "image/png": "[encoded data removed]",
      "text/plain": [
       "plot without title"
      ]
     },
     "metadata": {},
     "output_type": "display_data"
    }
   ],
   "source": [
    "# Define the function\n",
    "compute_s_n <- function(n){\n",
    "  x <- 1:n\n",
    "  sum(x^2)\n",
    "}\n",
    "\n",
    "# Define the vector of n\n",
    "n <- 1:25\n",
    "\n",
    "# Define the vector to store data\n",
    "s_n <- vector(\"numeric\", 25)\n",
    "for(i in n){\n",
    "  s_n[i] <- compute_s_n(i)\n",
    "}\n",
    "\n",
    "#  Create the plot \n",
    "plot(n, s_n)"
   ]
  },
  {
   "cell_type": "code",
   "execution_count": 31,
   "metadata": {},
   "outputs": [
    {
     "data": {
      "text/html": [
       "TRUE"
      ],
      "text/latex": [
       "TRUE"
      ],
      "text/markdown": [
       "TRUE"
      ],
      "text/plain": [
       "[1] TRUE"
      ]
     },
     "metadata": {},
     "output_type": "display_data"
    }
   ],
   "source": [
    "# Define the function\n",
    "compute_s_n <- function(n){\n",
    "  x <- 1:n\n",
    "  sum(x^2)\n",
    "}\n",
    "\n",
    "# Define the vector of n\n",
    "n <- 1:25\n",
    "\n",
    "# Define the vector to store data\n",
    "s_n <- vector(\"numeric\", 25)\n",
    "for(i in n){\n",
    "  s_n[i] <- compute_s_n(i)\n",
    "}\n",
    "\n",
    "# Check that s_n is identical to the formula given in the instructions.\n",
    "identical(s_n, n*(n+1)*(2*n+1)/6)"
   ]
  },
  {
   "cell_type": "markdown",
   "metadata": {},
   "source": [
    "For additional Notes please double click __here__ \n",
    "<!-- Your answer is below:\n",
    "This is a test  \n",
    "This the secret test here -->"
   ]
  },
  {
   "cell_type": "code",
   "execution_count": null,
   "metadata": {},
   "outputs": [],
   "source": []
  },
  {
   "cell_type": "code",
   "execution_count": null,
   "metadata": {},
   "outputs": [],
   "source": []
  }
 ],
 "metadata": {
  "kernelspec": {
   "display_name": "R",
   "language": "R",
   "name": "ir"
  },
  "language_info": {
   "codemirror_mode": "r",
   "file_extension": ".r",
   "mimetype": "text/x-r-source",
   "name": "R",
   "pygments_lexer": "r",
   "version": "3.4.3"
  }
 },
 "nbformat": 4,
 "nbformat_minor": 2
}
