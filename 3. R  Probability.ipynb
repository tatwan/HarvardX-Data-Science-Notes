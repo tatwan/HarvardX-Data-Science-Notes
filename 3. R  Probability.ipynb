{
 "cells": [
  {
   "cell_type": "markdown",
   "metadata": {},
   "source": [
    "# Probability Theory\n",
    "<a id=\"top\"></a>\n",
    "[STAT 414/415 Penn State University](https://onlinecourses.science.psu.edu/stat414/node/3)"
   ]
  },
  {
   "cell_type": "code",
   "execution_count": 50,
   "metadata": {},
   "outputs": [],
   "source": [
    "library(ggplot2)\n",
    "library(tidyverse)"
   ]
  },
  {
   "cell_type": "markdown",
   "metadata": {},
   "source": [
    "# Section 1"
   ]
  },
  {
   "cell_type": "markdown",
   "metadata": {},
   "source": [
    "Section 1 Goals:\n",
    "\n",
    "* Apply basic probability theory to categorical data.\n",
    "* Perform a Monte Carlo simulation to approximate the results of repeating an experiment over and over, including simulating the outcomes in the Monty Hall problem.\n",
    "* Distinguish between: sampling with and without replacement, events that are and are not independent, and combinations and permutations.\n",
    "* Apply the multiplication and addition rules, as appropriate, to calculate the probably of multiple events occurring.\n",
    "* Use `sapply` instead of a for loop to perform element-wise operations on a function."
   ]
  },
  {
   "cell_type": "markdown",
   "metadata": {},
   "source": [
    "<a id=\"1a\"></a>\n",
    "### <font color = \"INDIGO\">Introduction to Discrete Probability</font>\n",
    "\n",
    "Start with covering some basic principles related to **categorical data**. This subset of probability is referred to as **discrete probability**. It will help us understand the probability theory we will later introduce for numeric and continuous data, which is more common in data science applications.\n",
    "\n",
    "Discrete probability is more useful in card games and we use these as examples. The word probability is used in everyday language. For example, Google's auto complete of, what are the chances of, gives us getting pregnant, having twins, and rain tomorrow. Answering questions about probability is often hard, if not impossible.\n",
    "\n",
    "Here, we discuss a mathematical definition of probability that does permit us to give precise answers to certain questions. For example, if I have two red beads and three blue beads inside an urn and I pick one at random, what is the probability of picking a red one?\n",
    "\n",
    "Our intuition tells us that the answer is 2/5, or 40%. A precise definition can be given by noting that there are five possible outcomes of which two satisfy the condition necessary for the event \"pick a red bead.\"\n",
    "\n",
    "Because each of the five outcomes has the same chance of occurring, we conclude that the probability is 0.4 for red and 0.6 for blue. A more tangible way to think about **the probability of an event is as a proportion of times the event occurs when we repeat the experiment over and over independently and under the same conditions**.\n",
    "\n",
    "Before we continue, let's introduce some notation. \n",
    "\n",
    "We use the notation $Pr(A)$ probability of A to denote the probability of an event A happening.\n",
    "\n",
    "We use the very general term **event** to refer to things that can happen when something happens by chance. For example, in our previous example, the event was picking a red bead. In a political poll, in which we call 100 likely voters at random, an example of an event is calling 48 Democrats and 52 Republicans. \n",
    "\n",
    "In data science applications, we will often deal with **continuous variables**. In these cases, events will often be things like, is this person taller than 6 feet? In this case, we write events in a more mathematical form. For example, x greater than 6. We'll see more of these examples later. Here, we focus on categorical data and discrete probability.\n"
   ]
  },
  {
   "cell_type": "markdown",
   "metadata": {},
   "source": [
    "#### Monte Carlo Simulations\n",
    "https://en.wikipedia.org/wiki/Monte_Carlo_method  \n",
    "https://www.riskamp.com/files/RiskAMP%20-%20Monte%20Carlo%20Simulation.pdf\n",
    "\n",
    "\n",
    "\n",
    "Computers provide a way to actually perform the simple random experiments, such as the one we did before. Pick a beat at random from a bag or an urn with 3 blue beads and 2 red ones. Random number generators permit us to mimic the process of picking at random.\n",
    "\n",
    "An example in R is the `sample()` function. We demonstrate its use showing you some code. First, use the rep function to generate the urn. We create an urn with 2 red and 3 blues. You can see when we type beads we see this.\n",
    "\n",
    "Now, we can use a sample function to pick one at random. If we type sample beads comma 1, in this case, we get a blue. This line of code produces one random outcome. Now, we want to repeat this experiment over and over. However, it is, of course, impossible to repeat forever. Instead, we repeat the experiment a large enough number of times to make the results practically equivalent to doing it over and over forever."
   ]
  },
  {
   "cell_type": "code",
   "execution_count": 464,
   "metadata": {},
   "outputs": [
    {
     "name": "stdout",
     "output_type": "stream",
     "text": [
      "[1] \"red\"  \"red\"  \"blue\" \"blue\" \"blue\"\n"
     ]
    },
    {
     "data": {
      "text/html": [
       "'blue'"
      ],
      "text/latex": [
       "'blue'"
      ],
      "text/markdown": [
       "'blue'"
      ],
      "text/plain": [
       "[1] \"blue\""
      ]
     },
     "metadata": {},
     "output_type": "display_data"
    }
   ],
   "source": [
    "beads <- rep(c(\"red\", \"blue\"), times = c(2,3))\n",
    "\n",
    "print(beads)\n",
    "\n",
    "sample(beads, 1)"
   ]
  },
  {
   "cell_type": "markdown",
   "metadata": {},
   "source": [
    "This is an example of a Monte **Carlo simulation**. Note that much of what mathematical and theoretical statisticians study-- something we do not cover in this course-- relates to providing rigorous definitions of practically equivalent, as well as studying how close a large number of experiment gets us to what happens in the limit, the limit meaning if we did it forever.\n",
    "\n",
    "Later in this module, we provide a practical approach to deciding what is large enough. To perform our first **Monte Carlo simulation**, we use the `replicate()` function. This permits us to repeat the same task any number of times we want. Here, we repeat the random event 10,000 times. We set B to be 10,000, then we use the replicate function to sample from the beads 10,000 times. \n",
    "\n"
   ]
  },
  {
   "cell_type": "code",
   "execution_count": 7,
   "metadata": {},
   "outputs": [],
   "source": [
    "B <- 10000\n",
    "\n",
    "events <- replicate(B, sample(beads, 1))"
   ]
  },
  {
   "cell_type": "markdown",
   "metadata": {},
   "source": [
    "We can now see if, in fact, our definition is in agreement with this Monte Carlo simulation approximation. We can use table, for example, to see the distribution. And then we can use prop.table to give us the proportions. And we see that, in fact, the Monte Carlo simulation gives a very good approximation with 0.5962 for blue and 0.4038 for red. We didn't get exactly 0.6 and exactly 0.4, but statistical theory tells us that, if we make B large enough, we can get as close as we want to those numbers."
   ]
  },
  {
   "cell_type": "code",
   "execution_count": 13,
   "metadata": {},
   "outputs": [
    {
     "data": {
      "text/plain": [
       "events\n",
       "blue  red \n",
       "6057 3943 "
      ]
     },
     "metadata": {},
     "output_type": "display_data"
    },
    {
     "data": {
      "text/plain": [
       "events\n",
       "  blue    red \n",
       "0.6057 0.3943 "
      ]
     },
     "metadata": {},
     "output_type": "display_data"
    }
   ],
   "source": [
    "tab <- table(events)\n",
    "tab\n",
    "\n",
    "prop.table(tab)"
   ]
  },
  {
   "cell_type": "markdown",
   "metadata": {},
   "source": [
    "We just covered a simple and not very useful example of Monte Carlo simulations. But we will use Monte Carlo simulation to estimate probabilities in cases in which it is harder to compute the exact ones. Before we go into more complex examples, we still use simple ones to demonstrate the computing tools available in R. Let's start by noting that we don't actually have to use `replicate()` in this particular example. This is because the function sample has an argument that permits us to pick more than one element from the urn. However, by default, this selection occurs without replacement. After a bead is selected, it is not put back in the urn. \n",
    "\n",
    "Note what happens when we ask to randomly select 5 beads. Let's do it over and over again. Let's do it three times. This results in a rearrangement that always has three blue and two red beads. If we asked for six beads, then we get an error. It tells us you don't have enough beads in here to get six. This is because it's doing it **without replacement**."
   ]
  },
  {
   "cell_type": "code",
   "execution_count": 14,
   "metadata": {},
   "outputs": [
    {
     "data": {
      "text/html": [
       "<ol class=list-inline>\n",
       "\t<li>'blue'</li>\n",
       "\t<li>'blue'</li>\n",
       "\t<li>'red'</li>\n",
       "\t<li>'blue'</li>\n",
       "\t<li>'red'</li>\n",
       "</ol>\n"
      ],
      "text/latex": [
       "\\begin{enumerate*}\n",
       "\\item 'blue'\n",
       "\\item 'blue'\n",
       "\\item 'red'\n",
       "\\item 'blue'\n",
       "\\item 'red'\n",
       "\\end{enumerate*}\n"
      ],
      "text/markdown": [
       "1. 'blue'\n",
       "2. 'blue'\n",
       "3. 'red'\n",
       "4. 'blue'\n",
       "5. 'red'\n",
       "\n",
       "\n"
      ],
      "text/plain": [
       "[1] \"blue\" \"blue\" \"red\"  \"blue\" \"red\" "
      ]
     },
     "metadata": {},
     "output_type": "display_data"
    },
    {
     "data": {
      "text/html": [
       "<ol class=list-inline>\n",
       "\t<li>'red'</li>\n",
       "\t<li>'blue'</li>\n",
       "\t<li>'blue'</li>\n",
       "\t<li>'blue'</li>\n",
       "\t<li>'red'</li>\n",
       "</ol>\n"
      ],
      "text/latex": [
       "\\begin{enumerate*}\n",
       "\\item 'red'\n",
       "\\item 'blue'\n",
       "\\item 'blue'\n",
       "\\item 'blue'\n",
       "\\item 'red'\n",
       "\\end{enumerate*}\n"
      ],
      "text/markdown": [
       "1. 'red'\n",
       "2. 'blue'\n",
       "3. 'blue'\n",
       "4. 'blue'\n",
       "5. 'red'\n",
       "\n",
       "\n"
      ],
      "text/plain": [
       "[1] \"red\"  \"blue\" \"blue\" \"blue\" \"red\" "
      ]
     },
     "metadata": {},
     "output_type": "display_data"
    },
    {
     "data": {
      "text/html": [
       "<ol class=list-inline>\n",
       "\t<li>'blue'</li>\n",
       "\t<li>'red'</li>\n",
       "\t<li>'blue'</li>\n",
       "\t<li>'red'</li>\n",
       "\t<li>'blue'</li>\n",
       "</ol>\n"
      ],
      "text/latex": [
       "\\begin{enumerate*}\n",
       "\\item 'blue'\n",
       "\\item 'red'\n",
       "\\item 'blue'\n",
       "\\item 'red'\n",
       "\\item 'blue'\n",
       "\\end{enumerate*}\n"
      ],
      "text/markdown": [
       "1. 'blue'\n",
       "2. 'red'\n",
       "3. 'blue'\n",
       "4. 'red'\n",
       "5. 'blue'\n",
       "\n",
       "\n"
      ],
      "text/plain": [
       "[1] \"blue\" \"red\"  \"blue\" \"red\"  \"blue\""
      ]
     },
     "metadata": {},
     "output_type": "display_data"
    }
   ],
   "source": [
    "sample(beads, 5)\n",
    "sample(beads, 5)\n",
    "sample(beads, 5)"
   ]
  },
  {
   "cell_type": "markdown",
   "metadata": {},
   "source": [
    "However, this function, the sample function, can be used directly-- again, without the replicate-- to repeat the same experiment of picking 1 out\n",
    "of 5 beads over and over under the same conditions. To do this, **we sample with replacement**. After we pick the bead we put it back in the urn. We can tell sample to do this by changing the replace argument which defaults to false to true. We do it like this. And when we do this, we see that we get very similar answers to what we got using the replicate function."
   ]
  },
  {
   "cell_type": "code",
   "execution_count": 10,
   "metadata": {},
   "outputs": [
    {
     "data": {
      "text/plain": [
       "events\n",
       "  blue    red \n",
       "0.6057 0.3943 "
      ]
     },
     "metadata": {},
     "output_type": "display_data"
    }
   ],
   "source": [
    "events <- sample(beads, B, replace = TRUE)\n",
    "prop.table(table(events))"
   ]
  },
  {
   "cell_type": "markdown",
   "metadata": {},
   "source": [
    "#### Probability Distributions"
   ]
  },
  {
   "cell_type": "markdown",
   "metadata": {},
   "source": [
    "Defining a distribution for categorical outcomes is relatively straight forward. We simply assign a probability to each category.\n",
    "\n",
    "In cases that can be thought of as beads in an urn, for each bead type, the proportion defines the distribution. Another example comes from polling. If you're are randomly calling likely voters from a population that has 44% Democrat, 44% Republican, 10% undecided, and 2% green, these proportions define the probability for each group.\n",
    "\n",
    "For this example, the probability distribution is simply these four proportions. Again, categorical data makes it easy to define probability distributions.\n",
    "\n",
    "However, later in applications that are more common in data science,\n",
    "we will learn about probability distributions for continuous variables. In this case, it'll get a little bit more complex. But for now, we're going to stick to discrete probabilities"
   ]
  },
  {
   "cell_type": "markdown",
   "metadata": {},
   "source": [
    "#### Independence\n",
    "\n",
    "We say that **two events are independent if the outcome of one does not affect the other**. The classic example are coin tosses.\n",
    "\n",
    "Every time we toss a fair coin, the probability of seeing heads is 1/2 **Pr(heads) = 0.5** regardless of what previous tosses have revealed. The same is true when we pick beads from an urn with replacement. In the example we saw earlier, the probability of red was .040 **Pr(red) = 0.4** regardless of previous draws.\n",
    "\n",
    "Many examples of events that are not independent come from card games. When we deal the first card, the probability of getting, say, a king is 1 in 13. This is because there are 13 possibilities.\n",
    "\n",
    "You can get an ace, a 2, a 3, a 4, etc, 10, jack, queen or king. Now, if we deal a king for the first card and I don't replace it, then the problem of getting a king in the second card is less because there are only three kings left.\n",
    "\n",
    "The probability is 3 out of not 52-- because we already dealt one card-- but out of 51. These events are, therefore, not independent. The first outcome affects the second. \n",
    "\n",
    "To see an extreme case of non-independent events, consider an example of drawing five beads at random\n",
    "without replacement from an urn. Three are blue, two are red. I'm going to generate data like this using the sample function\n",
    "and assign it to x. You can't see the outcomes.\n",
    "\n",
    "Now, if I ask you to guess the color of the first bead, what do you guess?\n",
    "Since there's more blue beads, there's actually a 0.6 chance of seeing blue. That's probably what you guess. But now, I'm going to show you the outcomes of the other four. The second, third, fourth and fifth outcomes you can see here.\n",
    "\n"
   ]
  },
  {
   "cell_type": "markdown",
   "metadata": {},
   "source": [
    "<a id=\"1.1\"></a>"
   ]
  },
  {
   "cell_type": "code",
   "execution_count": 35,
   "metadata": {},
   "outputs": [
    {
     "data": {
      "text/html": [
       "<ol class=list-inline>\n",
       "\t<li>'blue'</li>\n",
       "\t<li>'blue'</li>\n",
       "\t<li>'red'</li>\n",
       "\t<li>'blue'</li>\n",
       "</ol>\n"
      ],
      "text/latex": [
       "\\begin{enumerate*}\n",
       "\\item 'blue'\n",
       "\\item 'blue'\n",
       "\\item 'red'\n",
       "\\item 'blue'\n",
       "\\end{enumerate*}\n"
      ],
      "text/markdown": [
       "1. 'blue'\n",
       "2. 'blue'\n",
       "3. 'red'\n",
       "4. 'blue'\n",
       "\n",
       "\n"
      ],
      "text/plain": [
       "[1] \"blue\" \"blue\" \"red\"  \"blue\""
      ]
     },
     "metadata": {},
     "output_type": "display_data"
    }
   ],
   "source": [
    "x <- sample(beads, 5)\n",
    "x[2:5]"
   ]
  },
  {
   "cell_type": "markdown",
   "metadata": {},
   "source": [
    "You can see that the three blue beads have already come out. This affects the probability of the first. They are not independent.\n",
    "\n",
    "So would you still guess blue? Of course not. Now, you know that the probability of red is 1. These events are not independent. The probabilities change once you see the other outcomes. When events are not independent, **conditional probabilities** are useful and necessary to make correct calculations. We already saw an example of a conditional probability. We computed the probability that a second dealt card is a king given that the first was a king.\n",
    "\n",
    "In probability, we use the following notation:\n",
    "\n",
    "**Pr (Card is a king | Card 1 is a king) = 3/51**\n",
    "\n",
    "We use this dash like this as a shorthand for given that or conditional on. These are synonyms. Note that, when two events, say A and B, are independent, we have the following equation.\n",
    "\n",
    "**Pr (A|B) = Pr(A) , if A and B are independent**\n",
    "\n",
    "The probability of A given B is equal to the probability of A.\n",
    "It doesn't matter what B is. The probability A is unchanged.\n",
    "This is the mathematical way of saying it. And in fact, this can be considered the mathematical definition of independence.\n",
    "\n",
    "All right now. If we want to know the probably of two events, say A and B, occurring, we can use the **multiplication rule**. \n",
    "\n",
    "**Pr (A and B) = Pr (A) Pr (B|A)**\n",
    "\n",
    "So the probability of A and B is equal to the probability of A multiplied by the probability of B given that A already happened. Let's use blackjack as an example.\n",
    "\n",
    "In blackjack, you get assigned two random cards without replacement. Then, you can ask for more. The goal is to get closer to 21 than the dealer without going over. Face cards are worth 10 points. So is the 10 card. That's worth 10 points, too. And aces are worth either 11 or 1.\n",
    "\n",
    "So if you get an ace and a face card, you win automatically. So, in blackjack, to calculate the chances of getting 21 in the following way, first we get an ace and then we get a face card or a 10, we compute the problem of the first being an ace and then multiply by the probability of a face card or a 10 given that the first card was an ace. This calculation is 1/13-- chance of getting an ace-- times the chance of getting a card with value 10 given that we already saw an ace, which is 16 out of 51. We've already taking one card out. This is approximately 2%.\n",
    "\n",
    "$1/13 \\times 16/51 \\approx 0.02$\n",
    "\n",
    "The multiplicative rule also applies to more than two events. \n",
    "\n",
    "**Pr(A and B and C) = Pr(A) Pr(B | A) Pr(C | A and B)**\n",
    "\n",
    "We can use induction to expand for more than two. So the probability of A and B and C is equal to the probability of A times the probability of B given that A happened times the probability of C that A and b happened.\n",
    "\n",
    "When we have **independent events**, the multiplication rule becomes simpler. \n",
    "\n",
    "**Pr(A and B and C) = Pr(A) Pr(B) Pr(C)**\n",
    "\n",
    "We simply multiply the three probabilities. But we have to be very careful when we use a multiplicative rule in practice. We're assuming independence, and this can result in very different and incorrect probability calculations when we don't actually have independence.\n",
    "\n",
    "This could have dire consequences, for example, in a trial\n",
    "if an expert doesn't really know the multiplication rule and how to use it. So let's use an example.\n",
    "\n",
    "This is loosely based on something that actually happened. Imagine a court case in which the suspect was described to have a mustache and a beard, and the prosecution brings in an expert to argue that, because 1 in 10 men have beards and 1 in 5 men has mustaches, using the multiplication rule, this means that only 2% of men have both beards and mustaches--\n",
    "1/10 times 1/5. 2% is a pretty unlikely event.\n",
    "\n",
    "However, to multiply like this, we need to assume independence. And in this case, it's clearly not true. The conditional probability of a man having a mustache conditional on them having a beard is quite high.\n",
    "\n",
    "**Pr(mustache | beard) = 0.95 **  \n",
    "It's about 95%. So the correct calculation actually gives us a much higher probability. It's 9%.\n",
    "\n",
    "So there's definitely reasonable doubt."
   ]
  },
  {
   "cell_type": "markdown",
   "metadata": {},
   "source": [
    "### Assessment\n",
    "\n",
    "**Probability of cyan **\n",
    "\n",
    "One ball will be drawn at random from a box containing: 3 cyan balls, 5 magenta balls, and 7 yellow balls. What is the probability that the ball will be cyan?\n",
    "\n",
    "0.2\n",
    "\n",
    "\n",
    "**Probability of not cyan  **\n",
    "\n",
    "One ball will be drawn at random from a box containing: 3 cyan balls, 5 magenta balls, and 7 yellow balls. What is the probability that the ball will not be cyan?\n",
    "\n",
    "0.8\n",
    "\n",
    "**Sampling without replacement  **\n",
    "\n",
    "Instead of taking just one draw, consider taking two draws. You take the second draw without returning the first draw to the box. We call this sampling without replacement.\n",
    "\n",
    "What is the probability that the first draw is cyan and that the second draw is not cyan?\n",
    "\n",
    "Pr (cyan) x Pr (Not cyan | cyan) = 3/15 x 12/14 = 0.2 x 0.857 = 0.17 \n",
    "\n",
    "** Sampling with replacement **\n",
    "\n",
    "Now repeat the experiment, but this time, after taking the first draw and recording the color, return it back to the box and shake the box. We call this sampling with replacement.\n",
    "\n",
    "What is the probability that the first draw is cyan and that the second draw is not cyan?\n",
    "\n",
    "Pr (cyan) x Pr (not cyan) = 0.2 x 0.8 = 0.16"
   ]
  },
  {
   "cell_type": "markdown",
   "metadata": {},
   "source": [
    "### Exercises\n",
    "\n",
    "### Exercise 1. Probability of cyan - generalized\n",
    "\n",
    "In the edX exercises for this section, we calculated some probabilities by hand. Now we'll calculate those probabilities using R.\n",
    "\n",
    "One ball will be drawn at random from a box containing: 3 cyan balls, 5 magenta balls, and 7 yellow balls.\n",
    "\n",
    "What is the probability that the ball will be cyan?"
   ]
  },
  {
   "cell_type": "code",
   "execution_count": 16,
   "metadata": {},
   "outputs": [
    {
     "name": "stdout",
     "output_type": "stream",
     "text": [
      "[1] 0.2\n"
     ]
    }
   ],
   "source": [
    "cyan <- 3\n",
    "magenta <- 5\n",
    "yellow <- 7\n",
    "\n",
    "# Assign a variable `p` as the probability of choosing a cyan ball from the box\n",
    "p <- cyan/(cyan+magenta+yellow)\n",
    "\n",
    "# Print the variable `p` to the console\n",
    "print(p)"
   ]
  },
  {
   "cell_type": "markdown",
   "metadata": {},
   "source": [
    "### Exercise 2. Probability of not cyan - generalized\n",
    "\n",
    "We defined the variable p as the probability of choosing a cyan ball from a box containing: 3 cyan balls, 5 magenta balls, and 7 yellow balls.\n",
    "\n",
    "What is the probability that the ball you draw from the box will NOT be cyan?"
   ]
  },
  {
   "cell_type": "code",
   "execution_count": 17,
   "metadata": {},
   "outputs": [
    {
     "data": {
      "text/html": [
       "0.8"
      ],
      "text/latex": [
       "0.8"
      ],
      "text/markdown": [
       "0.8"
      ],
      "text/plain": [
       "[1] 0.8"
      ]
     },
     "metadata": {},
     "output_type": "display_data"
    }
   ],
   "source": [
    "# `p` is defined as the probability of choosing a cyan ball from a box containing: 3 cyan balls, 5 magenta balls, and 7 yellow balls.\n",
    "# Using variable `p`, calculate the probability of choosing any ball that is not cyan from the box\n",
    "\n",
    "1-p"
   ]
  },
  {
   "cell_type": "markdown",
   "metadata": {},
   "source": [
    "### Exercise 3. Sampling without replacement - generalized\n",
    "\n",
    "Instead of taking just one draw, consider taking two draws. You take the second draw without returning the first draw to the box. We call this sampling without replacement.\n",
    "\n",
    "What is the probability that the first draw is cyan and that the second draw is not cyan?"
   ]
  },
  {
   "cell_type": "code",
   "execution_count": 19,
   "metadata": {},
   "outputs": [
    {
     "data": {
      "text/html": [
       "0.171428571428571"
      ],
      "text/latex": [
       "0.171428571428571"
      ],
      "text/markdown": [
       "0.171428571428571"
      ],
      "text/plain": [
       "[1] 0.1714286"
      ]
     },
     "metadata": {},
     "output_type": "display_data"
    }
   ],
   "source": [
    "cyan <- 3\n",
    "magenta <- 5\n",
    "yellow <- 7\n",
    "\n",
    "# The variable `p_1` is the probability of choosing a cyan ball from the box on the first draw.\n",
    "p_1 <- cyan / (cyan + magenta + yellow)\n",
    "\n",
    "# Assign a variable `p_2` as the probability of not choosing a cyan ball on the second draw without replacement.\n",
    "p_2 <- (magenta + yellow) / (cyan + magenta + yellow - 1)\n",
    "\n",
    "# Calculate the probability that the first draw is cyan and the second draw is not cyan.\n",
    "p_1 * p_2"
   ]
  },
  {
   "cell_type": "markdown",
   "metadata": {},
   "source": [
    "### Exercise 4. Sampling with replacement - generalized\n",
    "\n",
    "Now repeat the experiment, but this time, after taking the first draw and recording the color, return it back to the box and shake the box. We call this sampling with replacement.\n",
    "\n",
    "What is the probability that the first draw is cyan and that the second draw is not cyan?"
   ]
  },
  {
   "cell_type": "code",
   "execution_count": 20,
   "metadata": {},
   "outputs": [
    {
     "data": {
      "text/html": [
       "0.16"
      ],
      "text/latex": [
       "0.16"
      ],
      "text/markdown": [
       "0.16"
      ],
      "text/plain": [
       "[1] 0.16"
      ]
     },
     "metadata": {},
     "output_type": "display_data"
    }
   ],
   "source": [
    "cyan <- 3\n",
    "magenta <- 5\n",
    "yellow <- 7\n",
    "\n",
    "# The variable 'p_1' is the probability of choosing a cyan ball from the box on the first draw.\n",
    "p_1 <- cyan / (cyan + magenta + yellow)\n",
    "\n",
    "# Assign a variable 'p_2' as the probability of not choosing a cyan ball on the second draw with replacement.\n",
    "p_2 <- 1-p_1\n",
    "\n",
    "# Calculate the probability that the first draw is cyan and the second draw is not cyan.\n",
    "p_1 * p_2"
   ]
  },
  {
   "cell_type": "markdown",
   "metadata": {},
   "source": [
    "<a id=\"1b\"></a>\n",
    "## <font color = \"INDIGO\">Combinations and Permutations</font>\n",
    "[Top](#top)\n",
    "\n",
    "\n",
    "using `expand.grid()` and `pase()` functions. \n",
    "using `combinations()` and `permutations()` functions.\n",
    "\n",
    "* In **Permutations** order does matter\n",
    "* In **Combinations** order does not matter\n",
    "\n",
    "`permutations(n, r, v)`\n",
    "#### Arguments\n",
    "* n\t\n",
    "    Size of the source vector\n",
    "* r\t\n",
    "Size of the target vectors\n",
    "* v\t\n",
    "Source vector. Defaults to 1:n\n",
    "\n",
    "For example, if we have the number and the suit for a card,\n",
    "in 2 different variables we can create the card name using `paste()` like this."
   ]
  },
  {
   "cell_type": "code",
   "execution_count": 1,
   "metadata": {},
   "outputs": [
    {
     "data": {
      "text/html": [
       "'Three Hearts'"
      ],
      "text/latex": [
       "'Three Hearts'"
      ],
      "text/markdown": [
       "'Three Hearts'"
      ],
      "text/plain": [
       "[1] \"Three Hearts\""
      ]
     },
     "metadata": {},
     "output_type": "display_data"
    }
   ],
   "source": [
    "number <- \"Three\"\n",
    "suit <- \"Hearts\"\n",
    "\n",
    "paste(number, suit)"
   ]
  },
  {
   "cell_type": "markdown",
   "metadata": {},
   "source": [
    "It also works on pairs of vectors. It performs the operation element-wise."
   ]
  },
  {
   "cell_type": "code",
   "execution_count": 13,
   "metadata": {},
   "outputs": [
    {
     "data": {
      "text/html": [
       "<ol class=list-inline>\n",
       "\t<li>'a'</li>\n",
       "\t<li>'b'</li>\n",
       "\t<li>'c'</li>\n",
       "\t<li>'d'</li>\n",
       "\t<li>'e'</li>\n",
       "</ol>\n"
      ],
      "text/latex": [
       "\\begin{enumerate*}\n",
       "\\item 'a'\n",
       "\\item 'b'\n",
       "\\item 'c'\n",
       "\\item 'd'\n",
       "\\item 'e'\n",
       "\\end{enumerate*}\n"
      ],
      "text/markdown": [
       "1. 'a'\n",
       "2. 'b'\n",
       "3. 'c'\n",
       "4. 'd'\n",
       "5. 'e'\n",
       "\n",
       "\n"
      ],
      "text/plain": [
       "[1] \"a\" \"b\" \"c\" \"d\" \"e\""
      ]
     },
     "metadata": {},
     "output_type": "display_data"
    },
    {
     "data": {
      "text/html": [
       "<ol class=list-inline>\n",
       "\t<li>'1'</li>\n",
       "\t<li>'2'</li>\n",
       "\t<li>'3'</li>\n",
       "\t<li>'4'</li>\n",
       "\t<li>'5'</li>\n",
       "</ol>\n"
      ],
      "text/latex": [
       "\\begin{enumerate*}\n",
       "\\item '1'\n",
       "\\item '2'\n",
       "\\item '3'\n",
       "\\item '4'\n",
       "\\item '5'\n",
       "\\end{enumerate*}\n"
      ],
      "text/markdown": [
       "1. '1'\n",
       "2. '2'\n",
       "3. '3'\n",
       "4. '4'\n",
       "5. '5'\n",
       "\n",
       "\n"
      ],
      "text/plain": [
       "[1] \"1\" \"2\" \"3\" \"4\" \"5\""
      ]
     },
     "metadata": {},
     "output_type": "display_data"
    },
    {
     "data": {
      "text/html": [
       "<ol class=list-inline>\n",
       "\t<li>'a 1'</li>\n",
       "\t<li>'b 2'</li>\n",
       "\t<li>'c 3'</li>\n",
       "\t<li>'d 4'</li>\n",
       "\t<li>'e 5'</li>\n",
       "</ol>\n"
      ],
      "text/latex": [
       "\\begin{enumerate*}\n",
       "\\item 'a 1'\n",
       "\\item 'b 2'\n",
       "\\item 'c 3'\n",
       "\\item 'd 4'\n",
       "\\item 'e 5'\n",
       "\\end{enumerate*}\n"
      ],
      "text/markdown": [
       "1. 'a 1'\n",
       "2. 'b 2'\n",
       "3. 'c 3'\n",
       "4. 'd 4'\n",
       "5. 'e 5'\n",
       "\n",
       "\n"
      ],
      "text/plain": [
       "[1] \"a 1\" \"b 2\" \"c 3\" \"d 4\" \"e 5\""
      ]
     },
     "metadata": {},
     "output_type": "display_data"
    }
   ],
   "source": [
    "letters[1:5]\n",
    "as.character(1:5)\n",
    "\n",
    "\n",
    "paste(letters[1:5], as.character(1:5))"
   ]
  },
  {
   "cell_type": "markdown",
   "metadata": {},
   "source": [
    "The function `expand.grid` gives us all the combination of 2 lists."
   ]
  },
  {
   "cell_type": "code",
   "execution_count": 103,
   "metadata": {},
   "outputs": [
    {
     "data": {
      "text/html": [
       "<table>\n",
       "<thead><tr><th scope=col>pants</th><th scope=col>shirt</th></tr></thead>\n",
       "<tbody>\n",
       "\t<tr><td>blue </td><td>white</td></tr>\n",
       "\t<tr><td>black</td><td>white</td></tr>\n",
       "\t<tr><td>blue </td><td>grey </td></tr>\n",
       "\t<tr><td>black</td><td>grey </td></tr>\n",
       "\t<tr><td>blue </td><td>plaid</td></tr>\n",
       "\t<tr><td>black</td><td>plaid</td></tr>\n",
       "</tbody>\n",
       "</table>\n"
      ],
      "text/latex": [
       "\\begin{tabular}{r|ll}\n",
       " pants & shirt\\\\\n",
       "\\hline\n",
       "\t blue  & white\\\\\n",
       "\t black & white\\\\\n",
       "\t blue  & grey \\\\\n",
       "\t black & grey \\\\\n",
       "\t blue  & plaid\\\\\n",
       "\t black & plaid\\\\\n",
       "\\end{tabular}\n"
      ],
      "text/markdown": [
       "\n",
       "pants | shirt | \n",
       "|---|---|---|---|---|---|\n",
       "| blue  | white | \n",
       "| black | white | \n",
       "| blue  | grey  | \n",
       "| black | grey  | \n",
       "| blue  | plaid | \n",
       "| black | plaid | \n",
       "\n",
       "\n"
      ],
      "text/plain": [
       "  pants shirt\n",
       "1 blue  white\n",
       "2 black white\n",
       "3 blue  grey \n",
       "4 black grey \n",
       "5 blue  plaid\n",
       "6 black plaid"
      ]
     },
     "metadata": {},
     "output_type": "display_data"
    }
   ],
   "source": [
    "expand.grid(pants = c(\"blue\", \"black\"), shirt = c(\"white\", \"grey\", \"plaid\"))\n",
    "\n",
    "pants <- c(\"blue\", \"black\")\n",
    "shirt <- c(\"white\", \"grey\", \"plaid\")"
   ]
  },
  {
   "cell_type": "markdown",
   "metadata": {},
   "source": [
    "So here's how we generate a deck of cards. We define the four suits, we define the 13 numbers, and then we create the deck using expand.grid and then pasting together the 2 columns that expand grid creates."
   ]
  },
  {
   "cell_type": "code",
   "execution_count": 27,
   "metadata": {},
   "outputs": [
    {
     "data": {
      "text/html": [
       "52"
      ],
      "text/latex": [
       "52"
      ],
      "text/markdown": [
       "52"
      ],
      "text/plain": [
       "[1] 52"
      ]
     },
     "metadata": {},
     "output_type": "display_data"
    },
    {
     "data": {
      "text/html": [
       "<ol class=list-inline>\n",
       "\t<li>'Ace Diamonds'</li>\n",
       "\t<li>'Deuce Diamonds'</li>\n",
       "\t<li>'Three Diamonds'</li>\n",
       "\t<li>'Four Diamonds'</li>\n",
       "\t<li>'Five Diamonds'</li>\n",
       "\t<li>'Siz Diamonds'</li>\n",
       "\t<li>'Seven Diamonds'</li>\n",
       "\t<li>'Eight Diamonds'</li>\n",
       "\t<li>'Nine Diamonds'</li>\n",
       "\t<li>'Ten Diamonds'</li>\n",
       "\t<li>'Jack Diamonds'</li>\n",
       "\t<li>'Queen Diamonds'</li>\n",
       "\t<li>'King Diamonds'</li>\n",
       "\t<li>'Ace Clubs'</li>\n",
       "\t<li>'Deuce Clubs'</li>\n",
       "\t<li>'Three Clubs'</li>\n",
       "\t<li>'Four Clubs'</li>\n",
       "\t<li>'Five Clubs'</li>\n",
       "\t<li>'Siz Clubs'</li>\n",
       "\t<li>'Seven Clubs'</li>\n",
       "\t<li>'Eight Clubs'</li>\n",
       "\t<li>'Nine Clubs'</li>\n",
       "\t<li>'Ten Clubs'</li>\n",
       "\t<li>'Jack Clubs'</li>\n",
       "\t<li>'Queen Clubs'</li>\n",
       "\t<li>'King Clubs'</li>\n",
       "\t<li>'Ace Hearts'</li>\n",
       "\t<li>'Deuce Hearts'</li>\n",
       "\t<li>'Three Hearts'</li>\n",
       "\t<li>'Four Hearts'</li>\n",
       "\t<li>'Five Hearts'</li>\n",
       "\t<li>'Siz Hearts'</li>\n",
       "\t<li>'Seven Hearts'</li>\n",
       "\t<li>'Eight Hearts'</li>\n",
       "\t<li>'Nine Hearts'</li>\n",
       "\t<li>'Ten Hearts'</li>\n",
       "\t<li>'Jack Hearts'</li>\n",
       "\t<li>'Queen Hearts'</li>\n",
       "\t<li>'King Hearts'</li>\n",
       "\t<li>'Ace Spades'</li>\n",
       "\t<li>'Deuce Spades'</li>\n",
       "\t<li>'Three Spades'</li>\n",
       "\t<li>'Four Spades'</li>\n",
       "\t<li>'Five Spades'</li>\n",
       "\t<li>'Siz Spades'</li>\n",
       "\t<li>'Seven Spades'</li>\n",
       "\t<li>'Eight Spades'</li>\n",
       "\t<li>'Nine Spades'</li>\n",
       "\t<li>'Ten Spades'</li>\n",
       "\t<li>'Jack Spades'</li>\n",
       "\t<li>'Queen Spades'</li>\n",
       "\t<li>'King Spades'</li>\n",
       "</ol>\n"
      ],
      "text/latex": [
       "\\begin{enumerate*}\n",
       "\\item 'Ace Diamonds'\n",
       "\\item 'Deuce Diamonds'\n",
       "\\item 'Three Diamonds'\n",
       "\\item 'Four Diamonds'\n",
       "\\item 'Five Diamonds'\n",
       "\\item 'Siz Diamonds'\n",
       "\\item 'Seven Diamonds'\n",
       "\\item 'Eight Diamonds'\n",
       "\\item 'Nine Diamonds'\n",
       "\\item 'Ten Diamonds'\n",
       "\\item 'Jack Diamonds'\n",
       "\\item 'Queen Diamonds'\n",
       "\\item 'King Diamonds'\n",
       "\\item 'Ace Clubs'\n",
       "\\item 'Deuce Clubs'\n",
       "\\item 'Three Clubs'\n",
       "\\item 'Four Clubs'\n",
       "\\item 'Five Clubs'\n",
       "\\item 'Siz Clubs'\n",
       "\\item 'Seven Clubs'\n",
       "\\item 'Eight Clubs'\n",
       "\\item 'Nine Clubs'\n",
       "\\item 'Ten Clubs'\n",
       "\\item 'Jack Clubs'\n",
       "\\item 'Queen Clubs'\n",
       "\\item 'King Clubs'\n",
       "\\item 'Ace Hearts'\n",
       "\\item 'Deuce Hearts'\n",
       "\\item 'Three Hearts'\n",
       "\\item 'Four Hearts'\n",
       "\\item 'Five Hearts'\n",
       "\\item 'Siz Hearts'\n",
       "\\item 'Seven Hearts'\n",
       "\\item 'Eight Hearts'\n",
       "\\item 'Nine Hearts'\n",
       "\\item 'Ten Hearts'\n",
       "\\item 'Jack Hearts'\n",
       "\\item 'Queen Hearts'\n",
       "\\item 'King Hearts'\n",
       "\\item 'Ace Spades'\n",
       "\\item 'Deuce Spades'\n",
       "\\item 'Three Spades'\n",
       "\\item 'Four Spades'\n",
       "\\item 'Five Spades'\n",
       "\\item 'Siz Spades'\n",
       "\\item 'Seven Spades'\n",
       "\\item 'Eight Spades'\n",
       "\\item 'Nine Spades'\n",
       "\\item 'Ten Spades'\n",
       "\\item 'Jack Spades'\n",
       "\\item 'Queen Spades'\n",
       "\\item 'King Spades'\n",
       "\\end{enumerate*}\n"
      ],
      "text/markdown": [
       "1. 'Ace Diamonds'\n",
       "2. 'Deuce Diamonds'\n",
       "3. 'Three Diamonds'\n",
       "4. 'Four Diamonds'\n",
       "5. 'Five Diamonds'\n",
       "6. 'Siz Diamonds'\n",
       "7. 'Seven Diamonds'\n",
       "8. 'Eight Diamonds'\n",
       "9. 'Nine Diamonds'\n",
       "10. 'Ten Diamonds'\n",
       "11. 'Jack Diamonds'\n",
       "12. 'Queen Diamonds'\n",
       "13. 'King Diamonds'\n",
       "14. 'Ace Clubs'\n",
       "15. 'Deuce Clubs'\n",
       "16. 'Three Clubs'\n",
       "17. 'Four Clubs'\n",
       "18. 'Five Clubs'\n",
       "19. 'Siz Clubs'\n",
       "20. 'Seven Clubs'\n",
       "21. 'Eight Clubs'\n",
       "22. 'Nine Clubs'\n",
       "23. 'Ten Clubs'\n",
       "24. 'Jack Clubs'\n",
       "25. 'Queen Clubs'\n",
       "26. 'King Clubs'\n",
       "27. 'Ace Hearts'\n",
       "28. 'Deuce Hearts'\n",
       "29. 'Three Hearts'\n",
       "30. 'Four Hearts'\n",
       "31. 'Five Hearts'\n",
       "32. 'Siz Hearts'\n",
       "33. 'Seven Hearts'\n",
       "34. 'Eight Hearts'\n",
       "35. 'Nine Hearts'\n",
       "36. 'Ten Hearts'\n",
       "37. 'Jack Hearts'\n",
       "38. 'Queen Hearts'\n",
       "39. 'King Hearts'\n",
       "40. 'Ace Spades'\n",
       "41. 'Deuce Spades'\n",
       "42. 'Three Spades'\n",
       "43. 'Four Spades'\n",
       "44. 'Five Spades'\n",
       "45. 'Siz Spades'\n",
       "46. 'Seven Spades'\n",
       "47. 'Eight Spades'\n",
       "48. 'Nine Spades'\n",
       "49. 'Ten Spades'\n",
       "50. 'Jack Spades'\n",
       "51. 'Queen Spades'\n",
       "52. 'King Spades'\n",
       "\n",
       "\n"
      ],
      "text/plain": [
       " [1] \"Ace Diamonds\"   \"Deuce Diamonds\" \"Three Diamonds\" \"Four Diamonds\" \n",
       " [5] \"Five Diamonds\"  \"Siz Diamonds\"   \"Seven Diamonds\" \"Eight Diamonds\"\n",
       " [9] \"Nine Diamonds\"  \"Ten Diamonds\"   \"Jack Diamonds\"  \"Queen Diamonds\"\n",
       "[13] \"King Diamonds\"  \"Ace Clubs\"      \"Deuce Clubs\"    \"Three Clubs\"   \n",
       "[17] \"Four Clubs\"     \"Five Clubs\"     \"Siz Clubs\"      \"Seven Clubs\"   \n",
       "[21] \"Eight Clubs\"    \"Nine Clubs\"     \"Ten Clubs\"      \"Jack Clubs\"    \n",
       "[25] \"Queen Clubs\"    \"King Clubs\"     \"Ace Hearts\"     \"Deuce Hearts\"  \n",
       "[29] \"Three Hearts\"   \"Four Hearts\"    \"Five Hearts\"    \"Siz Hearts\"    \n",
       "[33] \"Seven Hearts\"   \"Eight Hearts\"   \"Nine Hearts\"    \"Ten Hearts\"    \n",
       "[37] \"Jack Hearts\"    \"Queen Hearts\"   \"King Hearts\"    \"Ace Spades\"    \n",
       "[41] \"Deuce Spades\"   \"Three Spades\"   \"Four Spades\"    \"Five Spades\"   \n",
       "[45] \"Siz Spades\"     \"Seven Spades\"   \"Eight Spades\"   \"Nine Spades\"   \n",
       "[49] \"Ten Spades\"     \"Jack Spades\"    \"Queen Spades\"   \"King Spades\"   "
      ]
     },
     "metadata": {},
     "output_type": "display_data"
    }
   ],
   "source": [
    "library(dplyr)\n",
    "\n",
    "suits <- c(\"Diamonds\", \"Clubs\", \"Hearts\", \"Spades\")\n",
    "numbers <- c(\"Ace\",\"Deuce\", \"Three\", \"Four\", \"Five\", \"Siz\", \"Seven\", \"Eight\", \"Nine\", \"Ten\", \"Jack\", \"Queen\", \"King\")\n",
    "\n",
    "deck <- expand.grid(number = numbers, suit = suits)\n",
    "deck <- paste(deck$number, deck$suit)\n",
    "\n",
    "length(deck)\n",
    "deck"
   ]
  },
  {
   "cell_type": "markdown",
   "metadata": {},
   "source": [
    "Let's double-check that the probability of a king in the first card is 1 in 13. We simply compute the proportion of possible outcomes that satisfy our condition. So we create a vector that contains the four ways we can get a king. That's going to be the kings variable.\n",
    "\n",
    "And then we simply check what proportion of the deck is one of these cards\n",
    "and we get the answer that we expect-- 0.076 dot dot dot, which is 1 in 13."
   ]
  },
  {
   "cell_type": "code",
   "execution_count": 109,
   "metadata": {},
   "outputs": [
    {
     "data": {
      "text/html": [
       "<ol class=list-inline>\n",
       "\t<li>'King Diamonds'</li>\n",
       "\t<li>'King Clubs'</li>\n",
       "\t<li>'King Hearts'</li>\n",
       "\t<li>'King Spades'</li>\n",
       "</ol>\n"
      ],
      "text/latex": [
       "\\begin{enumerate*}\n",
       "\\item 'King Diamonds'\n",
       "\\item 'King Clubs'\n",
       "\\item 'King Hearts'\n",
       "\\item 'King Spades'\n",
       "\\end{enumerate*}\n"
      ],
      "text/markdown": [
       "1. 'King Diamonds'\n",
       "2. 'King Clubs'\n",
       "3. 'King Hearts'\n",
       "4. 'King Spades'\n",
       "\n",
       "\n"
      ],
      "text/plain": [
       "[1] \"King Diamonds\" \"King Clubs\"    \"King Hearts\"   \"King Spades\"  "
      ]
     },
     "metadata": {},
     "output_type": "display_data"
    },
    {
     "data": {
      "text/html": [
       "0.0769230769230769"
      ],
      "text/latex": [
       "0.0769230769230769"
      ],
      "text/markdown": [
       "0.0769230769230769"
      ],
      "text/plain": [
       "[1] 0.07692308"
      ]
     },
     "metadata": {},
     "output_type": "display_data"
    },
    {
     "data": {
      "text/html": [
       "0.0769230769230769"
      ],
      "text/latex": [
       "0.0769230769230769"
      ],
      "text/markdown": [
       "0.0769230769230769"
      ],
      "text/plain": [
       "[1] 0.07692308"
      ]
     },
     "metadata": {},
     "output_type": "display_data"
    },
    {
     "data": {
      "text/html": [
       "0.0769230769230769"
      ],
      "text/latex": [
       "0.0769230769230769"
      ],
      "text/markdown": [
       "0.0769230769230769"
      ],
      "text/plain": [
       "[1] 0.07692308"
      ]
     },
     "metadata": {},
     "output_type": "display_data"
    }
   ],
   "source": [
    "kings <- paste(\"King\", suits)\n",
    "kings\n",
    "\n",
    "mean(deck %in% kings) #mean is the count of instances divided by total 4/52\n",
    "\n",
    "#or\n",
    "sum(deck %in% kings) / length(deck)\n",
    "\n",
    "#or\n",
    "4/52"
   ]
  },
  {
   "cell_type": "markdown",
   "metadata": {},
   "source": [
    "Now, how about the conditional probably of the second card being a king, given that the first was a king?\n",
    "\n",
    "Earlier we deduced that if 1 king is already out, then there's 51 left. So the probability is 3 in 51. But let's confirm by listing out all possible outcomes. To do this, we're going to use the `combinations()` and `permutations()` functions that are available from the `gtools` package.\n",
    "\n",
    "The `permutations()` function computes for any list of size \"n\" all the different ways we can select \"r\" items.\n",
    "\n",
    "So here's an example-- here all the ways we can choose 2 numbers from the list 1, 2, 3, 4, 5. Notice that the order matters. So 3, 1 is different than 1, 3, So it appears in our permutations. Also notice that 1, 1; 2, 2; and 3, 3 don't appear, <u>because once we pick a number, it can't appear again</u>. "
   ]
  },
  {
   "cell_type": "code",
   "execution_count": 42,
   "metadata": {},
   "outputs": [
    {
     "name": "stderr",
     "output_type": "stream",
     "text": [
      "Updating HTML index of packages in '.Library'\n",
      "Making 'packages.html' ... done\n"
     ]
    }
   ],
   "source": [
    "install.packages(\"gtools\")"
   ]
  },
  {
   "cell_type": "code",
   "execution_count": 113,
   "metadata": {},
   "outputs": [
    {
     "name": "stdout",
     "output_type": "stream",
     "text": [
      "      [,1] [,2]\n",
      " [1,]    1    2\n",
      " [2,]    1    3\n",
      " [3,]    1    4\n",
      " [4,]    1    5\n",
      " [5,]    2    1\n",
      " [6,]    2    3\n",
      " [7,]    2    4\n",
      " [8,]    2    5\n",
      " [9,]    3    1\n",
      "[10,]    3    2\n",
      "[11,]    3    4\n",
      "[12,]    3    5\n",
      "[13,]    4    1\n",
      "[14,]    4    2\n",
      "[15,]    4    3\n",
      "[16,]    4    5\n",
      "[17,]    5    1\n",
      "[18,]    5    2\n",
      "[19,]    5    3\n",
      "[20,]    5    4\n",
      "      [,1] [,2]\n",
      " [1,]    1    2\n",
      " [2,]    1    3\n",
      " [3,]    1    4\n",
      " [4,]    1    5\n",
      " [5,]    2    3\n",
      " [6,]    2    4\n",
      " [7,]    2    5\n",
      " [8,]    3    4\n",
      " [9,]    3    5\n",
      "[10,]    4    5\n"
     ]
    }
   ],
   "source": [
    "library(gtools)\n",
    "perm <- permutations(5,2)\n",
    "\n",
    "print(perm)\n",
    "\n",
    "comb <- combinations(5,2)\n",
    "print(comb)"
   ]
  },
  {
   "cell_type": "markdown",
   "metadata": {},
   "source": [
    "Optionally for this function permutations, we can add a vector.\n",
    "\n",
    "So for example, if you want to see 5 random 7-digit phone numbers out\n",
    "of all possible phone numbers, you could type code like this. Here we're defining a vector of digits that goes from 0 to 9 rather than 1 through 10. So these four lines of code generate all phone numbers, picks 5 at random, and then shows them to you. To compute all possible ways that we can choose 2 cards when the order matters, we simply type the following piece of code. Here we use permutations."
   ]
  },
  {
   "cell_type": "code",
   "execution_count": 118,
   "metadata": {},
   "outputs": [
    {
     "name": "stdout",
     "output_type": "stream",
     "text": [
      "     [,1] [,2] [,3] [,4] [,5] [,6] [,7]\n",
      "[1,]    8    3    0    1    4    7    5\n",
      "[2,]    7    5    3    1    2    6    0\n",
      "[3,]    7    6    0    4    9    8    2\n",
      "[4,]    1    4    9    8    3    6    7\n",
      "[5,]    5    2    1    9    0    3    8\n"
     ]
    }
   ],
   "source": [
    "all_phone_numbers <- permutations(10, 7, v = 0:9)\n",
    "n <- nrow(all_phone_numbers)\n",
    "index <- sample(n,5)\n",
    "\n",
    "print(all_phone_numbers[index,])"
   ]
  },
  {
   "cell_type": "markdown",
   "metadata": {},
   "source": [
    "There's 52 cards, we're going to choose 2, and we're going to select them out of the vector that includes our card names, which we called `deck` earlier. This is going to be a matrix with 2 dimensions, 2 columns, and in this case, it's going to have 2,652 rows.\n",
    "\n",
    "Those are all the permutations. Now, we're going to define the first card and the second card by grabbing the first and second columns using this simple piece of code. And now we can, for example, check how many cases\n",
    "have a first card that is a king-- that's 204."
   ]
  },
  {
   "cell_type": "code",
   "execution_count": 131,
   "metadata": {},
   "outputs": [
    {
     "data": {
      "text/html": [
       "52"
      ],
      "text/latex": [
       "52"
      ],
      "text/markdown": [
       "52"
      ],
      "text/plain": [
       "[1] 52"
      ]
     },
     "metadata": {},
     "output_type": "display_data"
    },
    {
     "data": {
      "text/html": [
       "2652"
      ],
      "text/latex": [
       "2652"
      ],
      "text/markdown": [
       "2652"
      ],
      "text/plain": [
       "[1] 2652"
      ]
     },
     "metadata": {},
     "output_type": "display_data"
    },
    {
     "data": {
      "text/html": [
       "204"
      ],
      "text/latex": [
       "204"
      ],
      "text/markdown": [
       "204"
      ],
      "text/plain": [
       "[1] 204"
      ]
     },
     "metadata": {},
     "output_type": "display_data"
    }
   ],
   "source": [
    "length(deck)\n",
    "\n",
    "hands <- permutations(52, 2, v = deck)\n",
    "\n",
    "nrow(hands)\n",
    "\n",
    "first_card <- hands[,1]\n",
    "second_card <- hands[,2]\n",
    "\n",
    "sum(first_card %in% kings)\n"
   ]
  },
  {
   "cell_type": "markdown",
   "metadata": {},
   "source": [
    "And now to find the conditional probability,  we ask what fraction of these 204 have also a king in the second card. So this case we type the following piece of code. We add all the cases that have king in the first, king in the second, and divide by the cases that have a king in the first.\n",
    "And now we get the answer 0.058 dot dot dot, which is exactly 3 out of 51,\n",
    "which we had already deduced. "
   ]
  },
  {
   "cell_type": "code",
   "execution_count": 133,
   "metadata": {},
   "outputs": [
    {
     "data": {
      "text/html": [
       "0.0588235294117647"
      ],
      "text/latex": [
       "0.0588235294117647"
      ],
      "text/markdown": [
       "0.0588235294117647"
      ],
      "text/plain": [
       "[1] 0.05882353"
      ]
     },
     "metadata": {},
     "output_type": "display_data"
    },
    {
     "data": {
      "text/html": [
       "0.0588235294117647"
      ],
      "text/latex": [
       "0.0588235294117647"
      ],
      "text/markdown": [
       "0.0588235294117647"
      ],
      "text/plain": [
       "[1] 0.05882353"
      ]
     },
     "metadata": {},
     "output_type": "display_data"
    }
   ],
   "source": [
    "sum(first_card %in% kings & second_card %in% kings) / sum(first_card %in% kings)\n",
    "\n",
    "3/51"
   ]
  },
  {
   "cell_type": "markdown",
   "metadata": {},
   "source": [
    "Note that the code we just saw is equivalent to this piece of code where we compute the proportions instead of the totals. And this also gives us the answer that we want, 3 out of 51 this is in R version of the multiplication rule, which tells us that probably of P, given A, is equal to proportion of A and B, or the probability of A and B, divided by the proportion of A or the probability of A.\n",
    "\n",
    "$Pr(B \\space | \\space A) = \\frac{Pr(A\\space and \\space B)}{Pr(A)}$\n"
   ]
  },
  {
   "cell_type": "code",
   "execution_count": 69,
   "metadata": {},
   "outputs": [
    {
     "data": {
      "text/html": [
       "0.0588235294117647"
      ],
      "text/latex": [
       "0.0588235294117647"
      ],
      "text/markdown": [
       "0.0588235294117647"
      ],
      "text/plain": [
       "[1] 0.05882353"
      ]
     },
     "metadata": {},
     "output_type": "display_data"
    }
   ],
   "source": [
    "mean(first_card %in% kings & second_card %in% kings) / mean(first_card %in% kings)\n"
   ]
  },
  {
   "cell_type": "markdown",
   "metadata": {},
   "source": [
    "Now, what if the order does not matter?\n",
    "\n",
    "For example, in blackjack, if you get an ace and a face card or a 10, it's called a natural 21, and you win automatically. If we want to compute the probability of this happening, we want to enumerate the combinations, not permutations, since the order doesn't matter. So if we get an A and a king, king and an A, it's still a 21. We don't want to count that twice. So notice the difference between the permutations functions, which lists all permutations, and the combination function, where order does not matter."
   ]
  },
  {
   "cell_type": "code",
   "execution_count": 79,
   "metadata": {},
   "outputs": [
    {
     "data": {
      "text/html": [
       "'Permutations Function order matters'"
      ],
      "text/latex": [
       "'Permutations Function order matters'"
      ],
      "text/markdown": [
       "'Permutations Function order matters'"
      ],
      "text/plain": [
       "[1] \"Permutations Function order matters\""
      ]
     },
     "metadata": {},
     "output_type": "display_data"
    },
    {
     "name": "stdout",
     "output_type": "stream",
     "text": [
      "     [,1] [,2]\n",
      "[1,]    1    2\n",
      "[2,]    1    3\n",
      "[3,]    2    1\n",
      "[4,]    2    3\n",
      "[5,]    3    1\n",
      "[6,]    3    2\n"
     ]
    },
    {
     "data": {
      "text/html": [
       "'Combinations Function order does not matter'"
      ],
      "text/latex": [
       "'Combinations Function order does not matter'"
      ],
      "text/markdown": [
       "'Combinations Function order does not matter'"
      ],
      "text/plain": [
       "[1] \"Combinations Function order does not matter\""
      ]
     },
     "metadata": {},
     "output_type": "display_data"
    },
    {
     "name": "stdout",
     "output_type": "stream",
     "text": [
      "     [,1] [,2]\n",
      "[1,]    1    2\n",
      "[2,]    1    3\n",
      "[3,]    2    3\n"
     ]
    }
   ],
   "source": [
    "\"Permutations Function order matters\"\n",
    "print(permutations(3,2))\n",
    "\n",
    "\"Combinations Function order does not matter\"\n",
    "print(combinations(3,2))"
   ]
  },
  {
   "cell_type": "markdown",
   "metadata": {},
   "source": [
    "This means that 2, 1 doesn't appear because 1, 2 already appeared. Similarly, 3, 1 and 3, 2 don't appear. So to compute the probability of a natural 21 in blackjack, we can do this. We can define a vector that includes all the aces, a vector that includes all the face cards, then we generate all the combinations of picking 2 cards out of 52, and then we simply count. How often do we get aces and a face card? And we get the answer 0.048 dot, dot, dot. "
   ]
  },
  {
   "cell_type": "code",
   "execution_count": 89,
   "metadata": {},
   "outputs": [
    {
     "data": {
      "text/html": [
       "<ol class=list-inline>\n",
       "\t<li>'Ace Diamonds'</li>\n",
       "\t<li>'Ace Clubs'</li>\n",
       "\t<li>'Ace Hearts'</li>\n",
       "\t<li>'Ace Spades'</li>\n",
       "</ol>\n"
      ],
      "text/latex": [
       "\\begin{enumerate*}\n",
       "\\item 'Ace Diamonds'\n",
       "\\item 'Ace Clubs'\n",
       "\\item 'Ace Hearts'\n",
       "\\item 'Ace Spades'\n",
       "\\end{enumerate*}\n"
      ],
      "text/markdown": [
       "1. 'Ace Diamonds'\n",
       "2. 'Ace Clubs'\n",
       "3. 'Ace Hearts'\n",
       "4. 'Ace Spades'\n",
       "\n",
       "\n"
      ],
      "text/plain": [
       "[1] \"Ace Diamonds\" \"Ace Clubs\"    \"Ace Hearts\"   \"Ace Spades\"  "
      ]
     },
     "metadata": {},
     "output_type": "display_data"
    },
    {
     "data": {
      "text/html": [
       "<ol class=list-inline>\n",
       "\t<li>'King Diamonds'</li>\n",
       "\t<li>'Queen Diamonds'</li>\n",
       "\t<li>'Jack Diamonds'</li>\n",
       "\t<li>'Ten Diamonds'</li>\n",
       "\t<li>'King Clubs'</li>\n",
       "\t<li>'Queen Clubs'</li>\n",
       "\t<li>'Jack Clubs'</li>\n",
       "\t<li>'Ten Clubs'</li>\n",
       "\t<li>'King Hearts'</li>\n",
       "\t<li>'Queen Hearts'</li>\n",
       "\t<li>'Jack Hearts'</li>\n",
       "\t<li>'Ten Hearts'</li>\n",
       "\t<li>'King Spades'</li>\n",
       "\t<li>'Queen Spades'</li>\n",
       "\t<li>'Jack Spades'</li>\n",
       "\t<li>'Ten Spades'</li>\n",
       "</ol>\n"
      ],
      "text/latex": [
       "\\begin{enumerate*}\n",
       "\\item 'King Diamonds'\n",
       "\\item 'Queen Diamonds'\n",
       "\\item 'Jack Diamonds'\n",
       "\\item 'Ten Diamonds'\n",
       "\\item 'King Clubs'\n",
       "\\item 'Queen Clubs'\n",
       "\\item 'Jack Clubs'\n",
       "\\item 'Ten Clubs'\n",
       "\\item 'King Hearts'\n",
       "\\item 'Queen Hearts'\n",
       "\\item 'Jack Hearts'\n",
       "\\item 'Ten Hearts'\n",
       "\\item 'King Spades'\n",
       "\\item 'Queen Spades'\n",
       "\\item 'Jack Spades'\n",
       "\\item 'Ten Spades'\n",
       "\\end{enumerate*}\n"
      ],
      "text/markdown": [
       "1. 'King Diamonds'\n",
       "2. 'Queen Diamonds'\n",
       "3. 'Jack Diamonds'\n",
       "4. 'Ten Diamonds'\n",
       "5. 'King Clubs'\n",
       "6. 'Queen Clubs'\n",
       "7. 'Jack Clubs'\n",
       "8. 'Ten Clubs'\n",
       "9. 'King Hearts'\n",
       "10. 'Queen Hearts'\n",
       "11. 'Jack Hearts'\n",
       "12. 'Ten Hearts'\n",
       "13. 'King Spades'\n",
       "14. 'Queen Spades'\n",
       "15. 'Jack Spades'\n",
       "16. 'Ten Spades'\n",
       "\n",
       "\n"
      ],
      "text/plain": [
       " [1] \"King Diamonds\"  \"Queen Diamonds\" \"Jack Diamonds\"  \"Ten Diamonds\"  \n",
       " [5] \"King Clubs\"     \"Queen Clubs\"    \"Jack Clubs\"     \"Ten Clubs\"     \n",
       " [9] \"King Hearts\"    \"Queen Hearts\"   \"Jack Hearts\"    \"Ten Hearts\"    \n",
       "[13] \"King Spades\"    \"Queen Spades\"   \"Jack Spades\"    \"Ten Spades\"    "
      ]
     },
     "metadata": {},
     "output_type": "display_data"
    },
    {
     "data": {
      "text/html": [
       "1326"
      ],
      "text/latex": [
       "1326"
      ],
      "text/markdown": [
       "1326"
      ],
      "text/plain": [
       "[1] 1326"
      ]
     },
     "metadata": {},
     "output_type": "display_data"
    },
    {
     "data": {
      "text/html": [
       "0.0482654600301659"
      ],
      "text/latex": [
       "0.0482654600301659"
      ],
      "text/markdown": [
       "0.0482654600301659"
      ],
      "text/plain": [
       "[1] 0.04826546"
      ]
     },
     "metadata": {},
     "output_type": "display_data"
    }
   ],
   "source": [
    "aces <- paste(\"Ace\", suits)\n",
    "aces\n",
    "\n",
    "facecard <- c(\"King\", \"Queen\", \"Jack\", \"Ten\")\n",
    "facecard <- expand.grid(number = facecard, suit = suits)\n",
    "facecard <- paste(facecard$number, facecard$suit)\n",
    "\n",
    "facecard\n",
    "\n",
    "hands <- combinations(52, 2, v = deck)\n",
    "\n",
    "nrow(hands)\n",
    "\n",
    "mean(hands[,1] %in% aces & hands[,2] %in% facecard)"
   ]
  },
  {
   "cell_type": "markdown",
   "metadata": {},
   "source": [
    "Now, notice that in the previous piece of code\n",
    "we assumed that the aces come first. This is only because we know the way that combination generates and enumerates possibilities. But if we want to be safe, we can instead type this code, which considers both possibilities."
   ]
  },
  {
   "cell_type": "code",
   "execution_count": 90,
   "metadata": {},
   "outputs": [
    {
     "data": {
      "text/html": [
       "0.0482654600301659"
      ],
      "text/latex": [
       "0.0482654600301659"
      ],
      "text/markdown": [
       "0.0482654600301659"
      ],
      "text/plain": [
       "[1] 0.04826546"
      ]
     },
     "metadata": {},
     "output_type": "display_data"
    }
   ],
   "source": [
    "mean((hands[,1] %in% aces & hands[,2] %in% facecard) | (hands[,2] %in% aces & hands [,1] %in% facecard))"
   ]
  },
  {
   "cell_type": "markdown",
   "metadata": {},
   "source": [
    "We get the same answer, and again, this is because we know how combinations works and how it lists the possibilities. \n",
    "\n",
    "Instead of using `combinations` to deduce the exact probability of a natural 21, we can also use a **Monte Carlo** to estimate this probably. In this case, we draw two cards over and over and keep track of how many 21's we get.\n",
    "We can use the function `sample()` to draw a card with a replacement like this. Here's 1 hand. We didn't get a 21 there. And then check if 1 card is an ace and the other is a face card or a 10. Now we simply repeat this over and over and we get a very good approximation-- in this case, 0.0488"
   ]
  },
  {
   "cell_type": "code",
   "execution_count": 134,
   "metadata": {},
   "outputs": [
    {
     "data": {
      "text/html": [
       "<ol class=list-inline>\n",
       "\t<li>'Ace Hearts'</li>\n",
       "\t<li>'Eight Clubs'</li>\n",
       "</ol>\n"
      ],
      "text/latex": [
       "\\begin{enumerate*}\n",
       "\\item 'Ace Hearts'\n",
       "\\item 'Eight Clubs'\n",
       "\\end{enumerate*}\n"
      ],
      "text/markdown": [
       "1. 'Ace Hearts'\n",
       "2. 'Eight Clubs'\n",
       "\n",
       "\n"
      ],
      "text/plain": [
       "[1] \"Ace Hearts\"  \"Eight Clubs\""
      ]
     },
     "metadata": {},
     "output_type": "display_data"
    }
   ],
   "source": [
    "hand <- sample(deck, 2)\n",
    "hand"
   ]
  },
  {
   "cell_type": "code",
   "execution_count": 135,
   "metadata": {},
   "outputs": [
    {
     "data": {
      "text/html": [
       "0.0486"
      ],
      "text/latex": [
       "0.0486"
      ],
      "text/markdown": [
       "0.0486"
      ],
      "text/plain": [
       "[1] 0.0486"
      ]
     },
     "metadata": {},
     "output_type": "display_data"
    }
   ],
   "source": [
    "B <- 10000\n",
    "results <- replicate(B, {\n",
    "    hand <- sample(deck, 2)\n",
    "    (hand[1] %in% aces & hand[2] %in% facecard) |\n",
    "    (hand[2] %in% aces & hand[1] %in% facecard)\n",
    "})\n",
    "\n",
    "mean(results)"
   ]
  },
  {
   "cell_type": "markdown",
   "metadata": {},
   "source": [
    "#### The Birthday Problem\n",
    "\n",
    "Suppose you're in a classroom with 50 people. If we assume this is a randomly selected group, **what is the chance that at least two people have the same birthday?**\n",
    "\n",
    "Although it is somewhat advanced, we can actually deduce this mathematically, and we do this later, but now, we're going to use Monte Carlo simulations.\n",
    "\n",
    "For simplicity, we assumed that nobody was born on February 29th. This actually doesn't change the answer much. All right, first, note that birthdays can be represented as numbers between 1 and 365. So a sample of 50 random birthdays can be obtained simply using the `sample()` function, like this."
   ]
  },
  {
   "cell_type": "code",
   "execution_count": 138,
   "metadata": {},
   "outputs": [
    {
     "data": {
      "text/html": [
       "<ol class=list-inline>\n",
       "\t<li>304</li>\n",
       "\t<li>219</li>\n",
       "\t<li>261</li>\n",
       "\t<li>343</li>\n",
       "\t<li>24</li>\n",
       "\t<li>54</li>\n",
       "\t<li>360</li>\n",
       "\t<li>2</li>\n",
       "\t<li>118</li>\n",
       "\t<li>20</li>\n",
       "\t<li>253</li>\n",
       "\t<li>222</li>\n",
       "\t<li>193</li>\n",
       "\t<li>78</li>\n",
       "\t<li>64</li>\n",
       "\t<li>246</li>\n",
       "\t<li>54</li>\n",
       "\t<li>348</li>\n",
       "\t<li>152</li>\n",
       "\t<li>315</li>\n",
       "\t<li>274</li>\n",
       "\t<li>285</li>\n",
       "\t<li>193</li>\n",
       "\t<li>16</li>\n",
       "\t<li>131</li>\n",
       "\t<li>9</li>\n",
       "\t<li>113</li>\n",
       "\t<li>56</li>\n",
       "\t<li>358</li>\n",
       "\t<li>73</li>\n",
       "\t<li>292</li>\n",
       "\t<li>313</li>\n",
       "\t<li>326</li>\n",
       "\t<li>71</li>\n",
       "\t<li>180</li>\n",
       "\t<li>165</li>\n",
       "\t<li>285</li>\n",
       "\t<li>27</li>\n",
       "\t<li>123</li>\n",
       "\t<li>193</li>\n",
       "\t<li>108</li>\n",
       "\t<li>325</li>\n",
       "\t<li>261</li>\n",
       "\t<li>163</li>\n",
       "\t<li>117</li>\n",
       "\t<li>15</li>\n",
       "\t<li>20</li>\n",
       "\t<li>191</li>\n",
       "\t<li>68</li>\n",
       "\t<li>110</li>\n",
       "</ol>\n"
      ],
      "text/latex": [
       "\\begin{enumerate*}\n",
       "\\item 304\n",
       "\\item 219\n",
       "\\item 261\n",
       "\\item 343\n",
       "\\item 24\n",
       "\\item 54\n",
       "\\item 360\n",
       "\\item 2\n",
       "\\item 118\n",
       "\\item 20\n",
       "\\item 253\n",
       "\\item 222\n",
       "\\item 193\n",
       "\\item 78\n",
       "\\item 64\n",
       "\\item 246\n",
       "\\item 54\n",
       "\\item 348\n",
       "\\item 152\n",
       "\\item 315\n",
       "\\item 274\n",
       "\\item 285\n",
       "\\item 193\n",
       "\\item 16\n",
       "\\item 131\n",
       "\\item 9\n",
       "\\item 113\n",
       "\\item 56\n",
       "\\item 358\n",
       "\\item 73\n",
       "\\item 292\n",
       "\\item 313\n",
       "\\item 326\n",
       "\\item 71\n",
       "\\item 180\n",
       "\\item 165\n",
       "\\item 285\n",
       "\\item 27\n",
       "\\item 123\n",
       "\\item 193\n",
       "\\item 108\n",
       "\\item 325\n",
       "\\item 261\n",
       "\\item 163\n",
       "\\item 117\n",
       "\\item 15\n",
       "\\item 20\n",
       "\\item 191\n",
       "\\item 68\n",
       "\\item 110\n",
       "\\end{enumerate*}\n"
      ],
      "text/markdown": [
       "1. 304\n",
       "2. 219\n",
       "3. 261\n",
       "4. 343\n",
       "5. 24\n",
       "6. 54\n",
       "7. 360\n",
       "8. 2\n",
       "9. 118\n",
       "10. 20\n",
       "11. 253\n",
       "12. 222\n",
       "13. 193\n",
       "14. 78\n",
       "15. 64\n",
       "16. 246\n",
       "17. 54\n",
       "18. 348\n",
       "19. 152\n",
       "20. 315\n",
       "21. 274\n",
       "22. 285\n",
       "23. 193\n",
       "24. 16\n",
       "25. 131\n",
       "26. 9\n",
       "27. 113\n",
       "28. 56\n",
       "29. 358\n",
       "30. 73\n",
       "31. 292\n",
       "32. 313\n",
       "33. 326\n",
       "34. 71\n",
       "35. 180\n",
       "36. 165\n",
       "37. 285\n",
       "38. 27\n",
       "39. 123\n",
       "40. 193\n",
       "41. 108\n",
       "42. 325\n",
       "43. 261\n",
       "44. 163\n",
       "45. 117\n",
       "46. 15\n",
       "47. 20\n",
       "48. 191\n",
       "49. 68\n",
       "50. 110\n",
       "\n",
       "\n"
      ],
      "text/plain": [
       " [1] 304 219 261 343  24  54 360   2 118  20 253 222 193  78  64 246  54 348 152\n",
       "[20] 315 274 285 193  16 131   9 113  56 358  73 292 313 326  71 180 165 285  27\n",
       "[39] 123 193 108 325 261 163 117  15  20 191  68 110"
      ]
     },
     "metadata": {},
     "output_type": "display_data"
    }
   ],
   "source": [
    "n <- 50\n",
    "bdays <- sample(1:365, n, replace = TRUE)"
   ]
  },
  {
   "cell_type": "markdown",
   "metadata": {},
   "source": [
    "To check if, in this particular set of 50 people we have at least two with the same birthday, we can use the function `duplicated()`, which returns true whenever an element of a vector has already appeared in that vector.\n",
    "\n",
    "So here's an example.\n",
    "\n",
    "If I type duplicated 1, 2, 3, 1, 4, 3, 5, , we get true's for the 1 and the 3 the second time they appear."
   ]
  },
  {
   "cell_type": "code",
   "execution_count": 139,
   "metadata": {},
   "outputs": [
    {
     "data": {
      "text/html": [
       "<ol class=list-inline>\n",
       "\t<li>FALSE</li>\n",
       "\t<li>FALSE</li>\n",
       "\t<li>FALSE</li>\n",
       "\t<li>TRUE</li>\n",
       "\t<li>FALSE</li>\n",
       "\t<li>TRUE</li>\n",
       "\t<li>FALSE</li>\n",
       "</ol>\n"
      ],
      "text/latex": [
       "\\begin{enumerate*}\n",
       "\\item FALSE\n",
       "\\item FALSE\n",
       "\\item FALSE\n",
       "\\item TRUE\n",
       "\\item FALSE\n",
       "\\item TRUE\n",
       "\\item FALSE\n",
       "\\end{enumerate*}\n"
      ],
      "text/markdown": [
       "1. FALSE\n",
       "2. FALSE\n",
       "3. FALSE\n",
       "4. TRUE\n",
       "5. FALSE\n",
       "6. TRUE\n",
       "7. FALSE\n",
       "\n",
       "\n"
      ],
      "text/plain": [
       "[1] FALSE FALSE FALSE  TRUE FALSE  TRUE FALSE"
      ]
     },
     "metadata": {},
     "output_type": "display_data"
    }
   ],
   "source": [
    "duplicated(c(1,2,3,1,4,3,5))"
   ]
  },
  {
   "cell_type": "markdown",
   "metadata": {},
   "source": [
    "So to check if two birthdays were the same, we simply use `any()` and `duplicated()` functions, like this."
   ]
  },
  {
   "cell_type": "code",
   "execution_count": 140,
   "metadata": {},
   "outputs": [
    {
     "data": {
      "text/html": [
       "TRUE"
      ],
      "text/latex": [
       "TRUE"
      ],
      "text/markdown": [
       "TRUE"
      ],
      "text/plain": [
       "[1] TRUE"
      ]
     },
     "metadata": {},
     "output_type": "display_data"
    }
   ],
   "source": [
    "any(duplicated(bdays))"
   ]
  },
  {
   "cell_type": "markdown",
   "metadata": {},
   "source": [
    "And in the case that we just generated, we actually do have this happening. We did have two people, at least two people, with the same birthday. We get true.\n",
    "\n",
    "Now, to <u>estimate the probability</u>, we're going to repeat this experiment. We're going to run a Monte Carlo simulation over and over again.\n",
    "\n",
    "So what we do is we do it 10,000 times. We use the `replicate()` function like this. And when we're done, we get that the probability of having two people, at least two people, with the same birthday in a group of 50 people is about 98%."
   ]
  },
  {
   "cell_type": "code",
   "execution_count": 155,
   "metadata": {},
   "outputs": [
    {
     "data": {
      "text/html": [
       "0.9709"
      ],
      "text/latex": [
       "0.9709"
      ],
      "text/markdown": [
       "0.9709"
      ],
      "text/plain": [
       "[1] 0.9709"
      ]
     },
     "metadata": {},
     "output_type": "display_data"
    }
   ],
   "source": [
    "B <- 10000\n",
    "n = 50\n",
    "\n",
    "results <- replicate(B, {\n",
    "    bdays <- sample(1:365, n, replace = TRUE)\n",
    "    any(duplicated(bdays))\n",
    "})\n",
    "\n",
    "\n",
    "#probability or proportion\n",
    "mean(results)"
   ]
  },
  {
   "cell_type": "markdown",
   "metadata": {},
   "source": [
    "Were you expecting this to be so high? People tend to underestimate these probabilities, so it might be an opportunity for you to bet and make\n",
    "some money off of your friends. To get an intuition as to why this is so high, think of what happens as you get close to 365 people. At this stage, we run out of days, and the probability is 1. In the next video, we're going to actually compute this probability for different group sizes\n",
    "and see how fast it gets close to 1."
   ]
  },
  {
   "cell_type": "markdown",
   "metadata": {},
   "source": [
    "### spply()"
   ]
  },
  {
   "cell_type": "markdown",
   "metadata": {},
   "source": [
    "Say you want to use what you've just learned about the birthday problem to bet with friends about two people having the same birthday in a group of people. \n",
    "\n",
    "When are the chances larger than 50%? Larger than 75%? Let's create a lookup table. We can quickly create a function to compute this for any group. We write the function like this. We'll call it compute prob, and we'll basically make the calculations for the probability of two people having the same birthday."
   ]
  },
  {
   "cell_type": "code",
   "execution_count": 162,
   "metadata": {},
   "outputs": [
    {
     "data": {
      "text/html": [
       "0"
      ],
      "text/latex": [
       "0"
      ],
      "text/markdown": [
       "0"
      ],
      "text/plain": [
       "[1] 0"
      ]
     },
     "metadata": {},
     "output_type": "display_data"
    },
    {
     "data": {
      "text/html": [
       "<ol class=list-inline>\n",
       "\t<li>1</li>\n",
       "\t<li>1.4142135623731</li>\n",
       "\t<li>1.73205080756888</li>\n",
       "\t<li>2</li>\n",
       "\t<li>2.23606797749979</li>\n",
       "\t<li>2.44948974278318</li>\n",
       "\t<li>2.64575131106459</li>\n",
       "\t<li>2.82842712474619</li>\n",
       "\t<li>3</li>\n",
       "\t<li>3.16227766016838</li>\n",
       "</ol>\n"
      ],
      "text/latex": [
       "\\begin{enumerate*}\n",
       "\\item 1\n",
       "\\item 1.4142135623731\n",
       "\\item 1.73205080756888\n",
       "\\item 2\n",
       "\\item 2.23606797749979\n",
       "\\item 2.44948974278318\n",
       "\\item 2.64575131106459\n",
       "\\item 2.82842712474619\n",
       "\\item 3\n",
       "\\item 3.16227766016838\n",
       "\\end{enumerate*}\n"
      ],
      "text/markdown": [
       "1. 1\n",
       "2. 1.4142135623731\n",
       "3. 1.73205080756888\n",
       "4. 2\n",
       "5. 2.23606797749979\n",
       "6. 2.44948974278318\n",
       "7. 2.64575131106459\n",
       "8. 2.82842712474619\n",
       "9. 3\n",
       "10. 3.16227766016838\n",
       "\n",
       "\n"
      ],
      "text/plain": [
       " [1] 1.000000 1.414214 1.732051 2.000000 2.236068 2.449490 2.645751 2.828427\n",
       " [9] 3.000000 3.162278"
      ]
     },
     "metadata": {},
     "output_type": "display_data"
    }
   ],
   "source": [
    "compute_prob <- function(n, B=10000) {\n",
    "    same_day <- replicate(B, {\n",
    "        bdays <- sample(1:365, n, replace = TRUE)\n",
    "        any(duplicated(bdays))\n",
    "    })\n",
    "    mean(same_day)\n",
    "}\n"
   ]
  },
  {
   "cell_type": "markdown",
   "metadata": {},
   "source": [
    "Well, we use a small Monte Carlo simulation to do it. Now that we've done this, we want to compute this function, we want to apply this function to several values of n, let's say from 1 to 60. Let's define n as a sequence starting at 1 and ending at 60.\n"
   ]
  },
  {
   "cell_type": "code",
   "execution_count": 168,
   "metadata": {},
   "outputs": [],
   "source": [
    "n <- seq(1,60)"
   ]
  },
  {
   "cell_type": "markdown",
   "metadata": {},
   "source": [
    "Now, we can use a for loop to apply this function to each value in n,\n",
    "but it turns out that for loops are rarely the preferred approach in R. In general, we try to perform operations on entire vectors. Arithmetic operations, for example, operate on vectors in an element wise fashion.\n",
    "\n",
    "We saw this when we learned about R. So if we type x equals 1 through 10,\n",
    "now X is the vector starting at 1 and ending at 10, and we compute the square root of x, it actually computes the square root for each element.\n",
    "Equally, if we define y to be 1 through 10, and then multiply x by y, it multiplies each element 1 by 1-- 1 times 1, 2 times 2, et cetera.\n",
    "\n",
    "So there's really no need for for loops. But not all functions work this way. You can't just send a vector to any function in R. For example, the function we just wrote does not work element-wise since it's expecting a scalar, it's expecting an end. This piece of code does not do what we want. If we type compute prob and send it the vector n, we will not get what we want. We will get just one number."
   ]
  },
  {
   "cell_type": "code",
   "execution_count": 169,
   "metadata": {},
   "outputs": [
    {
     "data": {
      "text/html": [
       "<ol class=list-inline>\n",
       "\t<li>1</li>\n",
       "\t<li>1.4142135623731</li>\n",
       "\t<li>1.73205080756888</li>\n",
       "\t<li>2</li>\n",
       "\t<li>2.23606797749979</li>\n",
       "\t<li>2.44948974278318</li>\n",
       "\t<li>2.64575131106459</li>\n",
       "\t<li>2.82842712474619</li>\n",
       "\t<li>3</li>\n",
       "\t<li>3.16227766016838</li>\n",
       "</ol>\n"
      ],
      "text/latex": [
       "\\begin{enumerate*}\n",
       "\\item 1\n",
       "\\item 1.4142135623731\n",
       "\\item 1.73205080756888\n",
       "\\item 2\n",
       "\\item 2.23606797749979\n",
       "\\item 2.44948974278318\n",
       "\\item 2.64575131106459\n",
       "\\item 2.82842712474619\n",
       "\\item 3\n",
       "\\item 3.16227766016838\n",
       "\\end{enumerate*}\n"
      ],
      "text/markdown": [
       "1. 1\n",
       "2. 1.4142135623731\n",
       "3. 1.73205080756888\n",
       "4. 2\n",
       "5. 2.23606797749979\n",
       "6. 2.44948974278318\n",
       "7. 2.64575131106459\n",
       "8. 2.82842712474619\n",
       "9. 3\n",
       "10. 3.16227766016838\n",
       "\n",
       "\n"
      ],
      "text/plain": [
       " [1] 1.000000 1.414214 1.732051 2.000000 2.236068 2.449490 2.645751 2.828427\n",
       " [9] 3.000000 3.162278"
      ]
     },
     "metadata": {},
     "output_type": "display_data"
    },
    {
     "data": {
      "text/html": [
       "<ol class=list-inline>\n",
       "\t<li>1</li>\n",
       "\t<li>4</li>\n",
       "\t<li>9</li>\n",
       "\t<li>16</li>\n",
       "\t<li>25</li>\n",
       "\t<li>36</li>\n",
       "\t<li>49</li>\n",
       "\t<li>64</li>\n",
       "\t<li>81</li>\n",
       "\t<li>100</li>\n",
       "</ol>\n"
      ],
      "text/latex": [
       "\\begin{enumerate*}\n",
       "\\item 1\n",
       "\\item 4\n",
       "\\item 9\n",
       "\\item 16\n",
       "\\item 25\n",
       "\\item 36\n",
       "\\item 49\n",
       "\\item 64\n",
       "\\item 81\n",
       "\\item 100\n",
       "\\end{enumerate*}\n"
      ],
      "text/markdown": [
       "1. 1\n",
       "2. 4\n",
       "3. 9\n",
       "4. 16\n",
       "5. 25\n",
       "6. 36\n",
       "7. 49\n",
       "8. 64\n",
       "9. 81\n",
       "10. 100\n",
       "\n",
       "\n"
      ],
      "text/plain": [
       " [1]   1   4   9  16  25  36  49  64  81 100"
      ]
     },
     "metadata": {},
     "output_type": "display_data"
    },
    {
     "data": {
      "text/html": [
       "0"
      ],
      "text/latex": [
       "0"
      ],
      "text/markdown": [
       "0"
      ],
      "text/plain": [
       "[1] 0"
      ]
     },
     "metadata": {},
     "output_type": "display_data"
    }
   ],
   "source": [
    "x <- 1:10\n",
    "sqrt(x)\n",
    "\n",
    "y <- 1:10\n",
    "x*y\n",
    "\n",
    "\n",
    "compute_prob(n)"
   ]
  },
  {
   "cell_type": "markdown",
   "metadata": {},
   "source": [
    "What we can do instead is use the function `sapply`. sapply permits us to perform element-wise operations on any function. Here's how it works.\n",
    "\n",
    "We'll define a simple example for the vector 1 through 10. If we want to apply the square roots of each element of x, we can simply type `sapply` x comma square root, and it'll apply square root to each element of x. Of course, we don't need to do this because square root already does that, but we are using it as a simple example. So for our case, we can simply type prob equals sapply n-- n is our vector-- and then the function we define compute prob.\n",
    "\n",
    "And this will assign to each element of prob the probability of two people having the same birthday for that end. And now we can very quickly make a plot. We plot the probability of two people having the same birthday against the size of the group. Now, let's compute the exact probabilities\n",
    "rather than use Monte Carlo simulations. "
   ]
  },
  {
   "cell_type": "code",
   "execution_count": 170,
   "metadata": {},
   "outputs": [
    {
     "data": {
      "text/html": [
       "<ol class=list-inline>\n",
       "\t<li>1</li>\n",
       "\t<li>1.4142135623731</li>\n",
       "\t<li>1.73205080756888</li>\n",
       "\t<li>2</li>\n",
       "\t<li>2.23606797749979</li>\n",
       "\t<li>2.44948974278318</li>\n",
       "\t<li>2.64575131106459</li>\n",
       "\t<li>2.82842712474619</li>\n",
       "\t<li>3</li>\n",
       "\t<li>3.16227766016838</li>\n",
       "</ol>\n"
      ],
      "text/latex": [
       "\\begin{enumerate*}\n",
       "\\item 1\n",
       "\\item 1.4142135623731\n",
       "\\item 1.73205080756888\n",
       "\\item 2\n",
       "\\item 2.23606797749979\n",
       "\\item 2.44948974278318\n",
       "\\item 2.64575131106459\n",
       "\\item 2.82842712474619\n",
       "\\item 3\n",
       "\\item 3.16227766016838\n",
       "\\end{enumerate*}\n"
      ],
      "text/markdown": [
       "1. 1\n",
       "2. 1.4142135623731\n",
       "3. 1.73205080756888\n",
       "4. 2\n",
       "5. 2.23606797749979\n",
       "6. 2.44948974278318\n",
       "7. 2.64575131106459\n",
       "8. 2.82842712474619\n",
       "9. 3\n",
       "10. 3.16227766016838\n",
       "\n",
       "\n"
      ],
      "text/plain": [
       " [1] 1.000000 1.414214 1.732051 2.000000 2.236068 2.449490 2.645751 2.828427\n",
       " [9] 3.000000 3.162278"
      ]
     },
     "metadata": {},
     "output_type": "display_data"
    }
   ],
   "source": [
    "x <- 1:10\n",
    "sapply(x, sqrt)"
   ]
  },
  {
   "cell_type": "code",
   "execution_count": 171,
   "metadata": {},
   "outputs": [
    {
     "data": {
      "image/png": "[encoded data removed]",
      "text/plain": [
       "plot without title"
      ]
     },
     "metadata": {},
     "output_type": "display_data"
    }
   ],
   "source": [
    "prob <- sapply(n, compute_prob)\n",
    "plot(n, prob)"
   ]
  },
  {
   "cell_type": "markdown",
   "metadata": {},
   "source": [
    "The function we just define uses a Monte Carlo simulation, but we can use what we've learned about **probability theory** to compute the exact value. Not only do we get the exact answer using math, but the computations are much faster since we don't have to generate experiments.\n",
    "We simply get a number.\n",
    "\n",
    "To make the math simpler for this particular problem,<u>instead of computing the probability of it happening, we'll compute the probability of it not happening</u>, and then we can use a multiplication rule. Let's start with the first person.\n",
    "\n",
    "The probability that person 1 has a unique birthday is 1, of course.\n",
    "All right. Now let's move on to the second one. The probability that the second person has a unique birthday given that person 1 already took one other day is 364 divided by 365. Then for a person 3, given that the first two people already have unique birthdays, that leaves 363. So now that probability is 363 divided by 365. \n",
    "\n",
    "<div background-color: red>\n",
    "Pr (person 1 has a unique bday) = 1 <br />\n",
    "Pr (person 2 has a unique bday | person 1 has a unique bday) = 364/365 <br />\n",
    "Pr (person 3 has a unique bday | people 1 and 2 has unique bdays) = 363/365<br />\n",
    "</div>\n",
    "\n",
    "### $1 \\times \\frac{364}{365} \\times \\frac{363}{365} \\dots \\frac{365 - n + 1}{365}$\n",
    "\n",
    "If we continue this way and find the chances of all, say, 50 people having unique birthdays, we would multiply 1 times 364 divided by 365, times 363 divided by 365, dot dot\n",
    "dot, all the way to the 50th element. Here's the equation. Now, we can easily write a function that does this. This time we'll call it exact prob. It takes n as a argument, and it computes this probability using the simple code. Now we can compute each probably for each n using sapply again, like this. And if we plot it, we can see that the Monte Carlo simulations were almost exactly right. They were almost exact approximations of the actual value.\n",
    "\n",
    "Now, notice had it not been possible to compute the exact probabilities, something that sometimes happens, we would have still been able to accurately estimate the probabilities using Monte Carlo."
   ]
  },
  {
   "cell_type": "code",
   "execution_count": 174,
   "metadata": {},
   "outputs": [
    {
     "data": {
      "image/png": "[encoded data removed]",
      "text/plain": [
       "plot without title"
      ]
     },
     "metadata": {},
     "output_type": "display_data"
    }
   ],
   "source": [
    "exact_prop <- function(n) {\n",
    "    prob_unique <- seq(365, 365-n+1)/365\n",
    "    1 - prod(prob_unique)\n",
    "}\n",
    "\n",
    "eprob <- sapply(n, exact_prop)\n",
    "\n",
    "#plot it\n",
    "plot(n, prob) #monte carlo\n",
    "lines(n, eprob, col=\"red\") #mathematical"
   ]
  },
  {
   "cell_type": "markdown",
   "metadata": {},
   "source": [
    "#### How many Monte Carlo experiments are enought?\n",
    "\n",
    "In the examples we have seen, we have used 10,000 Monte Carlo experiments.\n",
    "It turns out that this provided very accurate estimates for the examples\n",
    "we looked at. In more complex calculations, 10,000 may not nearly be enough. Also for some calculations, 10,000 experiments might not be computationally feasible, and it might be more than we need. \n",
    "\n",
    "In practice, we won't know what the answer is, so we don't know if our Monte Carlo estimate is accurate. We know that the larger the number of experiments, we've been using the letter B to represent that, the better the approximation.\n",
    "\n",
    "But how big do we need it to be?\n",
    "This is actually a challenging question, and answering it often requires\n",
    "advanced theoretical statistics training. One practical approach we will describe here is to <u>check for the stability of the estimate</u>.\n",
    "\n",
    "Here's an example with the birthday problem. We're going to use n equals 22. There's 22 people. So we're going to run a simulation where we compute or estimate the probability of two people having a certain birthday using different sizes of the Monte Carlo simulations. \n",
    "\n",
    "So the value of b going to go from 10, to 20, to 40, to 100, et cetera. We compute the simulation, and now we look at the values that we get for each simulation. Remember, each simulation has a different b, a different number of experiments."
   ]
  },
  {
   "cell_type": "code",
   "execution_count": 181,
   "metadata": {},
   "outputs": [],
   "source": [
    "B <- 10^seq(1,5, len = 100)\n",
    "\n",
    "compute_prob <- function(B, n=22){\n",
    "    same_day <- replicate(B, {\n",
    "        bdays <- sample(1:365, n, replace= TRUE)\n",
    "        any(duplicated(bdays))\n",
    "    })\n",
    "    mean(same_day)\n",
    "}\n",
    "\n",
    "prob <- sapply(B, compute_prob)"
   ]
  },
  {
   "cell_type": "code",
   "execution_count": 187,
   "metadata": {},
   "outputs": [
    {
     "data": {
      "image/png": "[encoded data removed]",
      "text/plain": [
       "plot without title"
      ]
     },
     "metadata": {},
     "output_type": "display_data"
    }
   ],
   "source": [
    "plot(log10(B), prob, type = \"l\")"
   ]
  },
  {
   "cell_type": "markdown",
   "metadata": {},
   "source": [
    "When we see this graph, we can see that it's wiggling up and down.\n",
    "That's because the estimate is not stable yet.\n",
    "It's not such a great estimate.\n",
    "But as b gets bigger and bigger, eventually it starts to stabilize.\n",
    "And that's when we start getting a feeling for the fact\n",
    "that now perhaps we have a large enough number of experiments."
   ]
  },
  {
   "cell_type": "markdown",
   "metadata": {},
   "source": [
    "### Exercise 1. Independence\n",
    "\n",
    "Q:Imagine you draw two balls from a box containing colored balls. You either replace the first ball before you draw the second or you leave the first ball out of the box when you draw the second ball.\n",
    "\n",
    "Under which situation are the two draws independent of one another?\n",
    "\n",
    "Remember that two events A and B are independent if \n",
    "**Pr(A and B)=Pr(A)P(B)**\n",
    "\n",
    "A: You do replace the first ball before drawing the next."
   ]
  },
  {
   "cell_type": "markdown",
   "metadata": {},
   "source": [
    "### Exercise 2. Sampling with replacement\n",
    "\n",
    "Say you’ve drawn 5 balls from the a box that has 3 cyan balls, 5 magenta balls, and 7 yellow balls, with replacement, and all have been yellow.\n",
    "\n",
    "What is the probability that the next one is yellow?"
   ]
  },
  {
   "cell_type": "code",
   "execution_count": 188,
   "metadata": {},
   "outputs": [
    {
     "data": {
      "text/html": [
       "0.466666666666667"
      ],
      "text/latex": [
       "0.466666666666667"
      ],
      "text/markdown": [
       "0.466666666666667"
      ],
      "text/plain": [
       "[1] 0.4666667"
      ]
     },
     "metadata": {},
     "output_type": "display_data"
    }
   ],
   "source": [
    "cyan <- 3\n",
    "magenta <- 5\n",
    "yellow <- 7\n",
    "\n",
    "# Assign the variable 'p_yellow' as the probability that a yellow ball is drawn from the box.\n",
    "p_yellow = yellow / (cyan + magenta + yellow)\n",
    "\n",
    "# Using the variable 'p_yellow', calculate the probability of drawing a yellow ball on the sixth draw. Print this value to the console.\n",
    "p_yellow"
   ]
  },
  {
   "cell_type": "markdown",
   "metadata": {},
   "source": [
    "### Exercise 3. Rolling a die\n",
    "\n",
    "If you roll a 6-sided die six times, what is the probability of not seeing a 6?"
   ]
  },
  {
   "cell_type": "code",
   "execution_count": 195,
   "metadata": {},
   "outputs": [
    {
     "data": {
      "text/html": [
       "0.833333333333333"
      ],
      "text/latex": [
       "0.833333333333333"
      ],
      "text/markdown": [
       "0.833333333333333"
      ],
      "text/plain": [
       "[1] 0.8333333"
      ]
     },
     "metadata": {},
     "output_type": "display_data"
    },
    {
     "data": {
      "text/html": [
       "0.334897976680384"
      ],
      "text/latex": [
       "0.334897976680384"
      ],
      "text/markdown": [
       "0.334897976680384"
      ],
      "text/plain": [
       "[1] 0.334898"
      ]
     },
     "metadata": {},
     "output_type": "display_data"
    }
   ],
   "source": [
    "# Assign the variable 'p_no6' as the probability of not seeing a 6 on a single roll.\n",
    "p_no6 = 5/6\n",
    "p_no6\n",
    "# Calculate the probability of not seeing a 6 on six rolls.\n",
    "\n",
    "p_no6^6"
   ]
  },
  {
   "cell_type": "markdown",
   "metadata": {},
   "source": [
    "### Exercise 4. Probability the Celtics win a game\n",
    "\n",
    "Two teams, say the Celtics and the Cavs, are playing a seven game series. The Cavs are a better team and have a 60% chance of winning each game.\n",
    "\n",
    "What is the probability that the Celtics win at least one game? Remember that the Celtics must win one of the first four games, or the series will be over!"
   ]
  },
  {
   "cell_type": "code",
   "execution_count": 196,
   "metadata": {},
   "outputs": [
    {
     "data": {
      "text/html": [
       "0.8704"
      ],
      "text/latex": [
       "0.8704"
      ],
      "text/markdown": [
       "0.8704"
      ],
      "text/plain": [
       "[1] 0.8704"
      ]
     },
     "metadata": {},
     "output_type": "display_data"
    }
   ],
   "source": [
    "# Assign the variable `p_cavs_win4` as the probability that the Cavs will win the first four games of the series.\n",
    "p_cavs_win4 = 0.6^4\n",
    "\n",
    "# Using the variable `p_cavs_win4`, calculate the probability that the Celtics win at least one game in the first four games of the series.\n",
    "1 - p_cavs_win4"
   ]
  },
  {
   "cell_type": "markdown",
   "metadata": {},
   "source": [
    "### Exercise 5. Monte Carlo simulation for Celtics winning a game\n",
    "\n",
    "Create a Monte Carlo simulation to confirm your answer to the previous problem. Use B <- 10000 simulations."
   ]
  },
  {
   "cell_type": "code",
   "execution_count": 224,
   "metadata": {
    "scrolled": true
   },
   "outputs": [
    {
     "data": {
      "text/html": [
       "0.8757"
      ],
      "text/latex": [
       "0.8757"
      ],
      "text/markdown": [
       "0.8757"
      ],
      "text/plain": [
       "[1] 0.8757"
      ]
     },
     "metadata": {},
     "output_type": "display_data"
    }
   ],
   "source": [
    "# This line of sample code simulates four random games where the Celtics either lose or win. Each game is independent of other games.\n",
    "simulated_games <- sample(c(\"lose\",\"win\"), 4, replace = TRUE, prob = c(0.6, 0.4))\n",
    "\n",
    "# The variable 'B' specifies the number of times we want the simulation to run. Let's run the Monte Carlo simulation 10,000 times.\n",
    "B <- 10000\n",
    "\n",
    "# Use the `set.seed` function to make sure your answer matches the expected result after random sampling.\n",
    "set.seed(1)\n",
    "\n",
    "# Create an object called `celtic_wins` that first replicates the sample code generating the variable called `simulated_games` for `B` iterations and then tallies the number of simulated series that contain at least one win for the Celtics.\n",
    "\n",
    "celtic_wins <- replicate(B, {\n",
    "  simulated_games <- sample(c(\"lose\",\"win\"), 4, replace = TRUE, prob = c(0.6, 0.4))\n",
    "  any(simulated_games == \"win\")\n",
    "    #\"win\" %in% simulated_games \n",
    "})\n",
    "\n",
    " mean(celtic_wins)\n",
    "\n",
    "# Calculate the frequency out of B iterations that the Celtics won at least one game. Print your answer to the console."
   ]
  },
  {
   "cell_type": "markdown",
   "metadata": {},
   "source": [
    "<a id=\"1c\"></a>\n",
    "## <font color = \"INDIGO\">Addition Rules and Monty Hall Assessment</font>\n",
    "[Top](#top)"
   ]
  },
  {
   "cell_type": "markdown",
   "metadata": {},
   "source": [
    "#### Addition Rule\n",
    "\n",
    "Earlier, we showed you how to compute the probability of a natural 21 in blackjack. This is getting a face card and an ace in your first draw.\n",
    "Here, we're going to show you the **addition rule**, which gives you another way to compute this probability. \n",
    "\n",
    "The <u>additional rule tells us that the probability of A or B</u>, right, we're going to have to make this calculation now, because you can get to 21 in two ways. You can get either a face card and then an ace. Or you can get an ace and then a face card.\n",
    "\n",
    "So we're asking what's the problem of that or? A or B?\n",
    "The additional rule tells us the probability of A or B is the probably of A plus the probably a B minus the probability of A and B. \n",
    "\n",
    "**Pr (A or B) = Pr (A) + Pr (B) - Pr (A and B)**\n",
    "\n",
    "To understand why this makes sense, think of a Venn diagram. If we're computing the probability of this whole thing happening, A or B, we can add the blue circle plus the pink circle, and then subtract the middle because we have added it twice by adding the blue plus the pink. So it makes sense-- the addition rule makes a lot of sense. So now let's apply it to the natural 21. In the case of natural 21, the intersection is empty. Since both hands can't happen, you can't have both an ace and then a face card, and then at the same time have a face card and then an ace.\n",
    "\n",
    "Those two things can't happen at the same time. So this will be a very easy application of the addition rule. The probably of an ace followed by a face card we know is 1 over 13 times 16 divided by 51 **(4/52 X 16/51 = 1/13 X 16/51)**. And the probability of a face card followed by an ace is 16 over 52 times 4 over 51 **(16/52 X 4/51)**. These are actually the same, which makes sense to the symmetry.These two values are actually the same. In any case, we get the same result that we got before for the natural 21, which is about 0.05."
   ]
  },
  {
   "cell_type": "code",
   "execution_count": 240,
   "metadata": {},
   "outputs": [
    {
     "data": {
      "text/html": [
       "0.0482654600301659"
      ],
      "text/latex": [
       "0.0482654600301659"
      ],
      "text/markdown": [
       "0.0482654600301659"
      ],
      "text/plain": [
       "[1] 0.04826546"
      ]
     },
     "metadata": {},
     "output_type": "display_data"
    }
   ],
   "source": [
    "(4/52 * 16/51) + (16/52 * 4/51) "
   ]
  },
  {
   "cell_type": "markdown",
   "metadata": {},
   "source": [
    "#### The Monty Hall Problem\n",
    "\n",
    "We're going to look at one last example from the discrete probability.\n",
    "It's the Monty Hall problem. In the 1970s, there was a game show called Let's Make a Deal. Monty Hall was the host-- this is where the name of the problem comes from.\n",
    "\n",
    "At some point in the game, contestants were asked to pick one of three doors. Behind one door, there was a prize. The other two had a goat behind them. And this basically meant that you lost. If the contestant did not pick the prize door on his or her first try, Monty Hall would open one of the two remaining doors\n",
    "and show the contestant that there was no prize behind that door. So you're left with two doors, the one you picked and one door that you do not know what's behind it.\n",
    "\n",
    "So then Monty Hall would ask, do you want to switch doors? What would you do? We can use probability to show that if you stick to the original door,\n",
    "your chances of winning a car or whatever big prize is 1 in 3. But if you switch, your chances double to 2 in 3.\n",
    "\n",
    "This seems counterintuitive. Many people incorrectly think both chances are 1 in 2, since there's only two doors left and there's a prize behind one of them. You can find details, explanations-- we're going to provide links of the mathematics of how you can calculate that this is, in fact, wrong, that you have a higher chance if you switch.\n",
    "\n",
    "But here, we're going to use a Monte Carlo simulation to show you\n",
    "that this is the case. And this will help you understand how it all works.\n",
    "Note that the code we're going to show you is longer than it needs to be,\n",
    "but we're using it as an illustration to help you understand the logic behind what actually happens here. \n",
    "\n",
    "So let's start by creating a simulation that <u>imitates the strategy of \n",
    "sticking to the same door</u>."
   ]
  },
  {
   "cell_type": "code",
   "execution_count": 262,
   "metadata": {},
   "outputs": [
    {
     "data": {
      "text/html": [
       "0.3373"
      ],
      "text/latex": [
       "0.3373"
      ],
      "text/markdown": [
       "0.3373"
      ],
      "text/plain": [
       "[1] 0.3373"
      ]
     },
     "metadata": {},
     "output_type": "display_data"
    }
   ],
   "source": [
    "#Sticking to same door strategy\n",
    "B <- 10000\n",
    "\n",
    "stick <- replicate(B, {\n",
    "    \n",
    "    doors <- as.character(1:3)\n",
    "    prize <- sample(c(\"car\", \"goat\", \"goat\"))\n",
    "    prize_door <- doors[prize == \"car\"]\n",
    "    my_pick <- sample(doors, 1)\n",
    "    show <- sample(doors[!doors %in% c(my_pick, prize_door)], 1)\n",
    "    stick <- my_pick\n",
    "    stick == prize_door\n",
    "})\n",
    "\n",
    "mean(stick) #still 1 in 3"
   ]
  },
  {
   "cell_type": "markdown",
   "metadata": {},
   "source": [
    "Let's go through the code.\n",
    "We're going to do 10,000 experiments. So we're going to do this over and over 10,000 times. First thing we do is we assign the prize to a door.\n",
    "So the prize is going to be in one of the three doors that we have created. Then that's going to be in prize door. Prize door contains the number of the door with the prize behind it. Then we're going to imitate your pick by taking a random sample of these three doors.\n",
    "\n",
    "Now, in the next step, we're going to decide which door you're shown.\n",
    "You're going to be shown not your door and not the door with a prize. You're going to be shown the other one. You stick to your door. That's what you stick to. Nothing changed.\n",
    "\n",
    "All this that we did right above doesn't matter, because you're sticking to your door. So now we do this over and over again, and at the end,\n",
    "we ask is the door you chose, the one you stuck to, is that the prize door? How often does this happen? We know it's going to be a 1/3, because none of this procedure changed anything. You started picking one out of three, nothing changed. And now, you are asked, is the one I picked the door? If we run the simulation, we actually see it happening.\n",
    "We ran it 10,000 times and the probability of winning was 0.3357, about 1 in 3."
   ]
  },
  {
   "cell_type": "code",
   "execution_count": 267,
   "metadata": {},
   "outputs": [
    {
     "data": {
      "text/html": [
       "0.6636"
      ],
      "text/latex": [
       "0.6636"
      ],
      "text/markdown": [
       "0.6636"
      ],
      "text/plain": [
       "[1] 0.6636"
      ]
     },
     "metadata": {},
     "output_type": "display_data"
    }
   ],
   "source": [
    "#switch doors strategy \n",
    "\n",
    "B <- 10000\n",
    "\n",
    "stick <- replicate(B, {\n",
    "    \n",
    "    doors <- as.character(1:3)\n",
    "    prize <- sample(c(\"car\", \"goat\", \"goat\"))\n",
    "    prize_door <- doors[prize == \"car\"]\n",
    "    my_pick <- sample(doors, 1)\n",
    "    show <- sample(doors[!doors %in% c(my_pick, prize_door)], 1)\n",
    "    stick <- my_pick\n",
    "    switch <- doors[!doors %in% c(my_pick, show)]\n",
    "    switch == prize_door\n",
    "})\n",
    "\n",
    "mean(stick) #2 in 3 chance"
   ]
  },
  {
   "cell_type": "markdown",
   "metadata": {},
   "source": [
    "Now, let's repeat the exercise, but consider the <u>switch strategy</u>.\n",
    "We start the same way. We have three doors. We assign three prizes at random.\n",
    "\n",
    "Now, we know which one has the good prize, the car, but we don't tell the contestant. So the contestant has to pick one. It's basically a random pick. That's what my pick is. And now, we're going to show the contestant one door. It can't be the one they chose. And it can't be the one with the car. So that only leaves one door, the door with nothing behind them\n",
    "that was not chosen. So now, what you're going to do is you're going to switch. You're going to switch to the door that they didn't show you, because the one that they did show you had nothing behind it, so basically what's happening is you are switching from the original that had a 1 in 3 chances of being the one to whatever is the other option, which has to have a 2 in 3 chance. So if we run the simulation, we actually confirm that. We get that the proportion of times we win is 0.6717, which is about 2/3. The Monte Carlo estimate confirms the 2 out of 3 calculation."
   ]
  },
  {
   "cell_type": "markdown",
   "metadata": {},
   "source": [
    "### Exercise 1. The Cavs and the Warriors\n",
    "\n",
    "Two teams, say the Cavs and the Warriors, are playing a seven game championship series. The first to win four games wins the series. The teams are equally good, so they each have a 50-50 chance of winning each game.\n",
    "\n",
    "If the Cavs lose the first game, what is the probability that they win the series?\n",
    "\n",
    "* Assign the number of remaining games to the variable `n`.\n",
    "* Use the `list` function to create a list of game outcomes, where 0 indicates a loss for the Cavs and 1 indicates a win for the Cavs. Assign this value to the variable `l`.\n",
    "* Use the `expand.grid` function to create a data frame containing all the possibilities for outcomes of the remaining games.\n",
    "* Use the `rep` function within the `expand.grid` function to indicate the number of columns the results data frame should contain.\n",
    "* Use the `rowSums` function to identify which combinations of game outcomes result in the Cavs winning the number of games necessary to win the series.\n",
    "* Use the `mean` function to calculate the proportion of outcomes that result in the Cavs winning the series."
   ]
  },
  {
   "cell_type": "code",
   "execution_count": 397,
   "metadata": {},
   "outputs": [
    {
     "data": {
      "text/html": [
       "0.34375"
      ],
      "text/latex": [
       "0.34375"
      ],
      "text/markdown": [
       "0.34375"
      ],
      "text/plain": [
       "[1] 0.34375"
      ]
     },
     "metadata": {},
     "output_type": "display_data"
    }
   ],
   "source": [
    "# Assign a variable 'n' as the number of remaining games.\n",
    "n <- 6\n",
    "\n",
    "# Assign a variable 'l' to a list of possible game outcomes, where 0 indicates a loss and 1 indicates a win for the Cavs. \n",
    "l <- list(c(0,1))\n",
    "#sample(c(0,1),1, replace = TRUE, prob = c(0.5, 0.5))\n",
    "\n",
    "# Create a data frame named 'possibilities' that contains all possible outcomes for the remaining games.\n",
    "possibilities <- expand.grid(rep(l,n))\n",
    "#expand.grid(rep(list(c(1, 0)), 6))                             \n",
    "\n",
    "# Create a vector named 'results' that indicates whether each row in the data frame 'possibilities' contains enough wins for the Cavs to win the series.\n",
    "results <- rowSums(possibilities) >= 4\n",
    "\n",
    "# Calculate the proportion of 'results' in which the Cavs win the series. Print the outcome to the console.\n",
    "mean(results)"
   ]
  },
  {
   "cell_type": "markdown",
   "metadata": {},
   "source": [
    "### Exercise 2. The Cavs and the Warriors - Monte Carlo\n",
    "\n",
    "Confirm the results of the previous question with a Monte Carlo simulation to estimate the probability of the Cavs winning the series after losing the first game\n",
    "\n",
    "* Use the `replicate` function to replicate the sample code for `B <- 10000` simulations.\n",
    "* Use the `sample` function to simulate a series of 6 games with random, independent outcomes of either a loss for the Cavs (0) or a win for the Cavs (1).\n",
    "* Use the `sum` function to indicate which of the simulated series contained at least 4 wins for the Cavs.\n",
    "* Use the `mean` function to find the proportion of simulations in which the Cavs win at least 4 of the remaining games."
   ]
  },
  {
   "cell_type": "code",
   "execution_count": 427,
   "metadata": {},
   "outputs": [
    {
     "data": {
      "text/html": [
       "0.3453"
      ],
      "text/latex": [
       "0.3453"
      ],
      "text/markdown": [
       "0.3453"
      ],
      "text/plain": [
       "[1] 0.3453"
      ]
     },
     "metadata": {},
     "output_type": "display_data"
    }
   ],
   "source": [
    "# The variable `B` specifies the number of times we want the simulation to run. Let's run the Monte Carlo simulation 10,000 times.\n",
    "B <- 10000\n",
    "\n",
    "# Use the `set.seed` function to make sure your answer matches the expected result after random sampling.\n",
    "set.seed(1)\n",
    "\n",
    "# Create an object called `results` that replicates the sample code for `B` iterations and tallies the number of simulated series that contain at least four wins for the Cavs.\n",
    "\n",
    "results <- replicate(B, {\n",
    "    outcome <- sample(c(0,1),6, replace = TRUE)\n",
    "    sum(outcome) >= 4\n",
    "})\n",
    "\n",
    "# Calculate the frequency out of `B` iterations that the Cavs won at least four games in the remainder of the series. Print your answer to the console.\n",
    "mean(results)"
   ]
  },
  {
   "cell_type": "markdown",
   "metadata": {},
   "source": [
    "### Exercise 3. A and B play a series - part 1\n",
    "\n",
    "Two teams, A and B, are playing a seven series game series. Team A\n",
    "is better than team B and has a p >0.5 chance of winning each game.\n",
    "\n",
    "* Use the function sapply to compute the probability, call it Pr of winning for `p <- seq(0.5, 0.95, 0.025)`.\n",
    "* Then plot the result `plot(p, prob)`."
   ]
  },
  {
   "cell_type": "code",
   "execution_count": 430,
   "metadata": {},
   "outputs": [
    {
     "data": {
      "image/png": "[encoded data removed]",
      "text/plain": [
       "plot without title"
      ]
     },
     "metadata": {},
     "output_type": "display_data"
    }
   ],
   "source": [
    "# Let's assign the variable 'p' as the vector of probabilities that team A will win.\n",
    "p <- seq(0.5, 0.95, 0.025)\n",
    "\n",
    "# Given a value 'p', the probability of winning the series for the underdog team B can be computed with the following function based on a Monte Carlo simulation:\n",
    "prob_win <- function(p){\n",
    "  B <- 10000\n",
    "  result <- replicate(B, {\n",
    "    b_win <- sample(c(1,0), 7, replace = TRUE, prob = c(1-p, p))\n",
    "    sum(b_win)>=4\n",
    "    })\n",
    "  mean(result)\n",
    "}\n",
    "\n",
    "# Apply the 'prob_win' function across the vector of probabilities that team A will win to determine the probability that team B will win. Call this object 'Pr'.\n",
    "Pr <- sapply(p, prob_win)\n",
    "\n",
    "# Plot the probability 'p' on the x-axis and 'Pr' on the y-axis.\n",
    "plot(p, Pr)"
   ]
  },
  {
   "cell_type": "markdown",
   "metadata": {},
   "source": [
    "### Exercise 4. A and B play a series - part 2\n",
    "\n",
    "Repeat the previous exercise, but now keep the probability that team A wins fixed at `p <- 0.75` and compute the probability for different series lengths. For example, wins in best of 1 game, 3 games, 5 games, and so on through a series that lasts 25 games.\n",
    "\n",
    "* Use the `seq` function to generate a list of odd numbers ranging from 1 to 25.\n",
    "* Use the function `sapply` to compute the probability, call it `Pr`, of winning during series of different lengths.\n",
    "* Then plot the result `plot(p, Pr)`."
   ]
  },
  {
   "cell_type": "code",
   "execution_count": 440,
   "metadata": {},
   "outputs": [
    {
     "data": {
      "image/png": "[encoded data removed]",
      "text/plain": [
       "plot without title"
      ]
     },
     "metadata": {},
     "output_type": "display_data"
    }
   ],
   "source": [
    "# Given a value 'p', the probability of winning the series for the underdog team B can be computed with the following function based on a Monte Carlo simulation:\n",
    "prob_win <- function(N, p=0.75){\n",
    "      B <- 10000\n",
    "      result <- replicate(B, {\n",
    "        b_win <- sample(c(1,0), N, replace = TRUE, prob = c(1-p, p))\n",
    "        sum(b_win)>=(N+1)/2\n",
    "        })\n",
    "      mean(result)\n",
    "    }\n",
    "\n",
    "# Assign the variable 'N' as the vector of series lengths. Use only odd numbers ranging from 1 to 25 games.\n",
    "N <- seq(1, 25, 2)\n",
    "\n",
    "# Apply the 'prob_win' function across the vector of series lengths to determine the probability that team B will win. Call this object `Pr`.\n",
    "Pr <- sapply(N, prob_win)\n",
    "\n",
    "# Plot the number of games in the series 'N' on the x-axis and 'Pr' on the y-axis.\n",
    "plot(N, Pr)"
   ]
  },
  {
   "cell_type": "markdown",
   "metadata": {},
   "source": [
    "# Section 2\n",
    "[Top](#top)"
   ]
  },
  {
   "cell_type": "markdown",
   "metadata": {},
   "source": [
    "After completing Section 2, you will:\n",
    "\n",
    "* understand the differences between calculating probabilities for discrete and continuous data.\n",
    "* be able to use cumulative distribution functions to assign probabilities to intervals when dealing with continuous data.\n",
    "* be able to use R to generate normally distributed outcomes for use in Monte Carlo simulations.\n",
    "* know some of the useful theoretical continuous distributions in addition to the normal distribution, such as the student-t, chi-squared, exponential, gamma, beta, and beta-binomial distributions.\n",
    "\n",
    "\n",
    "Notes:\n",
    "\n",
    "* Discrete data is counted, \n",
    "* Continuous data is measured\n",
    "\n",
    "Discrete data can only take particular values. There may potentially be an infinite number of those values, but each is distinct and there's no grey area in between. Discrete data can be numeric -- like numbers of apples -- but it can also be categorical -- like red or blue, or male or female, or good or bad.\n",
    "\n",
    "Continuous data are not restricted to defined separate values, but can occupy any value over a continuous range. Between any two continuous data values there may be an infinite number of others. Continuous data are always essentially numeric."
   ]
  },
  {
   "cell_type": "markdown",
   "metadata": {},
   "source": [
    "<a id=\"2a\"></a>\n",
    "### <font color = \"INDIGO\">Continous Probability</font>\n",
    "\n",
    "Earlier we explained why when summarizing a list of numeric values such as heights, it's not useful to construct a distribution that assigns\n",
    "a proportion to each possible outcome.\n",
    "\n",
    "Note, for example, that if we measure every single person in a very large population with extremely high precision, because no two people are exactly the same height, we would need to assign a proportion to each observed value and attain no useful summary at all.\n",
    "\n",
    "Similarly when defining probability distributions, it is not useful to assign a very small probability to every single height. Just like when using distributions to summarize numeric data, it is much more practical to define a function that operates on intervals rather than single values.\n",
    "\n",
    "The standard way of doing this is using the **cumulative distribution function (CDF)**.We previously described the **empirical cumulative distribution function (eCDF)** as a basic summary of a list of numeric values. As an example, we define the eCDF for heights for male adult students. "
   ]
  },
  {
   "cell_type": "code",
   "execution_count": 114,
   "metadata": {},
   "outputs": [],
   "source": [
    "library(tidyverse)\n",
    "library(dslabs)\n",
    "data(heights)\n",
    "\n",
    "x <- heights %>% filter(sex == \"Male\") %>% .$height"
   ]
  },
  {
   "cell_type": "markdown",
   "metadata": {},
   "source": [
    "Here, we define the vector x use as an example that contains the male heights. We use this little piece of code. Now we can define the **empirical distribution function** like this very simply. We just count the number of cases where x is smaller or equal to a and divide by n. We take the mean, that's the proportion of cases. So for every value of a, this gives a proportion of values in the list x that are smaller or equal to a."
   ]
  },
  {
   "cell_type": "code",
   "execution_count": 123,
   "metadata": {},
   "outputs": [],
   "source": [
    "F <- function(a) mean(x <= a)"
   ]
  },
  {
   "cell_type": "markdown",
   "metadata": {},
   "source": [
    "Note that we have not yet introduced probability. We've been talking about list of numbers and summarizing these lists. So let's introduce probability. For example, let's ask if I pick one of the male students\n",
    "at random, what is the chance that he is taller than 70.5 inches? Because every student has the same chance of being picked, the answer to this question is the proportion of students that are taller than 70.5.\n",
    "\n",
    "Using eCDF, we obtain the answer. We simply type 1 minus f of 70, and we get about 37%."
   ]
  },
  {
   "cell_type": "code",
   "execution_count": 124,
   "metadata": {},
   "outputs": [
    {
     "data": {
      "text/html": [
       "0.376847290640394"
      ],
      "text/latex": [
       "0.376847290640394"
      ],
      "text/markdown": [
       "0.376847290640394"
      ],
      "text/plain": [
       "[1] 0.3768473"
      ]
     },
     "metadata": {},
     "output_type": "display_data"
    }
   ],
   "source": [
    "1 - F(70)"
   ]
  },
  {
   "cell_type": "markdown",
   "metadata": {},
   "source": [
    "Once the CDF is defined, we can use this to compute the probability of any subset. For example, the probability of a student being\n",
    "between the height `a` and the height `b` is simply  \n",
    "`F(b) - F(a)`. Because we can compute the probability for any possible event this way, the cumulative probability function defines a probability distribution for picking a height at random from our vector of heights x."
   ]
  },
  {
   "cell_type": "markdown",
   "metadata": {},
   "source": [
    "<a id=\"2b\"></a>\n",
    "### <font color = \"INDIGO\">Theoretical Distribution</font>\n",
    "\n",
    "In the data visualization model, we introduced the normal distribution as a useful approximation to many naturally occurring distributions, including that of height.\n",
    "\n",
    "The cumulative distribution for the normal distribution is defined by a mathematical formula, which in R can be obtained with the function `pnorm`. We say that a random quantity is normally distributed with average, avg, and standard deviation, s, if it's probability distribution\n",
    "is defined by f of a equals pnorm a, average, s.\n",
    "This is the code."
   ]
  },
  {
   "cell_type": "code",
   "execution_count": 448,
   "metadata": {},
   "outputs": [
    {
     "data": {
      "text/html": [
       "0.371369013278474"
      ],
      "text/latex": [
       "0.371369013278474"
      ],
      "text/markdown": [
       "0.371369013278474"
      ],
      "text/plain": [
       "[1] 0.371369"
      ]
     },
     "metadata": {},
     "output_type": "display_data"
    }
   ],
   "source": [
    "#normal distribution pnorm()\n",
    "\n",
    "1 - pnorm(70.5, mean(x), sd(x))"
   ]
  },
  {
   "cell_type": "markdown",
   "metadata": {},
   "source": [
    "This is useful, because if we are going to use the normal approximation for say, height, we don't need the entire dataset to answer questions such as, what is the probability that a randomly selected student is taller and 70.5 inches.\n",
    "\n",
    "We just need the average height and the standard deviation. Then we can use this piece of code, 1 minus pnorm 70.5 mean of x, sd of x. And that gives us the answer of 0.37. The normal distribution is derived mathematically. Apart from computing the average in the standard deviation, we don't use data to define it.\n",
    "\n",
    "Also the normal distribution is defined for continuous variables. It is not described for discrete variables. However, for practicing data scientists, pretty much everything we do involves data, which is technically speaking discrete.\n",
    "\n",
    "For example, we could consider our adult data categorical with each specific height a unique category. The probability distribution would then be defined by the proportion of students reporting each of those unique heights. Here is what a plot of that would look like."
   ]
  },
  {
   "cell_type": "code",
   "execution_count": 459,
   "metadata": {},
   "outputs": [
    {
     "data": {
      "image/png": "[encoded data removed]",
      "text/plain": [
       "plot without title"
      ]
     },
     "metadata": {},
     "output_type": "display_data"
    }
   ],
   "source": [
    "plot(prop.table(table(x)), xlab = \"a = Height in inches\", ylab = \"Pr(X = a)\")"
   ]
  },
  {
   "cell_type": "markdown",
   "metadata": {},
   "source": [
    "This would be the distribution function for those categories. So each reported height gets a probability defined by the proportion of students reporting it. Now while most students rounded up their height to the nearest inch, others reported values with much more precision. For example, student reported his height to be 69.6850393700787.\n",
    "\n",
    "What is that about?\n",
    "\n",
    "What's that very, very precise number? Well, it turns out, that's 177 centimeters. So the student converted it to inches, and copied and pasted the result into the place where they had to report their heights. The probably assigned to this height is about 0.001. It's 1 in 708. However, the probability for 70 inches is 0.12. This is much higher than what was reported with this other value.\n",
    "\n",
    "But does it really make sense to think that the probability of being exactly 70 inches is so much higher than the probability of being 69.68?\n",
    "Clearly, it is much more useful for data analytic purposes to treat this outcome as a continuous numeric variable. But keeping in mind that very few people, perhaps none, are exactly 70 inches. But rather, that people rounded to the nearest inch. With **continuous distributions**, the probability of a singular value is not even defined.\n",
    "\n",
    "For example, it does not make sense to ask what is the probability that a normally distributed value is 70. Instead, we define probabilities for intervals. So we could ask instead, what is a probability that someone\n",
    "is between 69.99 and 70.01. In cases like height in which the data is rounded, the normal approximation is particularly useful if we deal with intervals that include exactly one round number.\n",
    "\n",
    "So for example, the normal distribution is useful for approximating the proportion of students reporting between 69.5 and 70.5.\n",
    "\n",
    "Here are three other examples. Look at the numbers that are being reported. This is using the data, the actual data, not the approximation.\n",
    "Now look at what we get when we use the approximation. We get almost the same values."
   ]
  },
  {
   "cell_type": "code",
   "execution_count": 460,
   "metadata": {},
   "outputs": [
    {
     "data": {
      "text/html": [
       "0.114532019704433"
      ],
      "text/latex": [
       "0.114532019704433"
      ],
      "text/markdown": [
       "0.114532019704433"
      ],
      "text/plain": [
       "[1] 0.114532"
      ]
     },
     "metadata": {},
     "output_type": "display_data"
    },
    {
     "data": {
      "text/html": [
       "0.119458128078818"
      ],
      "text/latex": [
       "0.119458128078818"
      ],
      "text/markdown": [
       "0.119458128078818"
      ],
      "text/plain": [
       "[1] 0.1194581"
      ]
     },
     "metadata": {},
     "output_type": "display_data"
    },
    {
     "data": {
      "text/html": [
       "0.12192118226601"
      ],
      "text/latex": [
       "0.12192118226601"
      ],
      "text/markdown": [
       "0.12192118226601"
      ],
      "text/plain": [
       "[1] 0.1219212"
      ]
     },
     "metadata": {},
     "output_type": "display_data"
    }
   ],
   "source": [
    "## Actual\n",
    "mean(x <= 68.5) - mean(x <= 67.5)\n",
    "mean(x <= 69.5) - mean(x <= 68.5)\n",
    "mean(x <= 70.5) - mean(x <= 69.5)"
   ]
  },
  {
   "cell_type": "code",
   "execution_count": 461,
   "metadata": {},
   "outputs": [
    {
     "data": {
      "text/html": [
       "0.103107700722601"
      ],
      "text/latex": [
       "0.103107700722601"
      ],
      "text/markdown": [
       "0.103107700722601"
      ],
      "text/plain": [
       "[1] 0.1031077"
      ]
     },
     "metadata": {},
     "output_type": "display_data"
    },
    {
     "data": {
      "text/html": [
       "0.109712077150593"
      ],
      "text/latex": [
       "0.109712077150593"
      ],
      "text/markdown": [
       "0.109712077150593"
      ],
      "text/plain": [
       "[1] 0.1097121"
      ]
     },
     "metadata": {},
     "output_type": "display_data"
    },
    {
     "data": {
      "text/html": [
       "0.108174271080828"
      ],
      "text/latex": [
       "0.108174271080828"
      ],
      "text/markdown": [
       "0.108174271080828"
      ],
      "text/plain": [
       "[1] 0.1081743"
      ]
     },
     "metadata": {},
     "output_type": "display_data"
    }
   ],
   "source": [
    "#Approximation\n",
    "pnorm(68.5, mean(x), sd(x)) -  pnorm(67.5, mean(x), sd(x))\n",
    "pnorm(69.5, mean(x), sd(x)) -  pnorm(68.5, mean(x), sd(x))\n",
    "pnorm(70.5, mean(x), sd(x)) -  pnorm(69.5, mean(x), sd(x))"
   ]
  },
  {
   "cell_type": "markdown",
   "metadata": {},
   "source": [
    "For these particular intervals, the normal approximation is quite useful.\n",
    "However, the approximation is not that useful for other intervals.\n",
    "\n",
    "For example, those that don't include an integer. Here are two examples.\n",
    "\n",
    "If we use these two intervals, again, this is the data, look at the approximations now with the normal distribution. They're not that good.\n",
    "\n",
    "In general, we call this situation **discretization**. Although the true height distribution is continuous, the reported heights tend to be more common at discrete values, in this case, due to rounding. As long as we are aware of how to deal with this reality, the normal approximation can still be a very useful tool."
   ]
  },
  {
   "cell_type": "code",
   "execution_count": 458,
   "metadata": {},
   "outputs": [
    {
     "data": {
      "text/html": [
       "0.0221674876847291"
      ],
      "text/latex": [
       "0.0221674876847291"
      ],
      "text/markdown": [
       "0.0221674876847291"
      ],
      "text/plain": [
       "[1] 0.02216749"
      ]
     },
     "metadata": {},
     "output_type": "display_data"
    },
    {
     "data": {
      "text/html": [
       "0.0835956178162536"
      ],
      "text/latex": [
       "0.0835956178162536"
      ],
      "text/markdown": [
       "0.0835956178162536"
      ],
      "text/plain": [
       "[1] 0.08359562"
      ]
     },
     "metadata": {},
     "output_type": "display_data"
    }
   ],
   "source": [
    "#when approximation is not useful\n",
    "mean(x <= 70.9) - mean(x <= 70.1)\n",
    "pnorm(70.9, mean(x), sd(x)) -  pnorm(70.1, mean(x), sd(x))"
   ]
  },
  {
   "cell_type": "markdown",
   "metadata": {},
   "source": [
    "<a id=\"2c\"></a>\n",
    "### <font color = \"INDIGO\">Probability Density</font>\n",
    "\n",
    "\n",
    "For categorical data, we can define the probability of a category. For example, a roll of a die, let's call it x, can be 1, 2, 3, 4, 5, or 6. The probably of 4 is defined as probability of x equals 4 is 1/6.\n",
    "\n",
    " $Pr( X = 4) = \\frac{1}{6}$\n",
    "\n",
    "The CDF can easily be defined by simply adding up probability. So f of 4 is a probability of x being less than 4, which is probably x being 4, or 3, or 2, or 1. So we just add up those probabilities.\n",
    "\n",
    " $F(4) = Pr(X \\leq 4) = Pr(X = 4)+Pr(X = 3)+Pr(X = 2)+Pr(X = 1)$\n",
    "\n",
    "In contrast, for **continuous distributions**, <u>the probability of a single value is not defined</u>. However, there is a theoretical definition that has a similar interpretation. This has to do with the **probability density**. The probability density at x is defined as the function, we're going to call it little f of x, such that the probability distribution big F of a, which is the probability of x being less than or equal to a, is the integral of all values up to a of little f of x dx.\n",
    "\n",
    " $F(a) = Pr(X \\leq a) =  \\int_{\\infty}^{a} f(x) dx$\n",
    "\n",
    "\n",
    "For those that know calculus, remember, that the integral is related to a sum. It's the sum of bars with widths that are approximating 0. If you don't know calculus, you can think of little f of x as a curve for which the area under the curve up to the value a gives you the probability of x being less than or equal to a.\n"
   ]
  },
  {
   "cell_type": "markdown",
   "metadata": {},
   "source": [
    "<img src=\"2.png\">"
   ]
  },
  {
   "cell_type": "markdown",
   "metadata": {},
   "source": [
    "For example, to use the normal approximation to estimate the probability of someone being taller than 76 inches, we can use the probability density. So this is a mathematical formula. Mathematically, the gray area in this figure represents the probability of x being bigger than 76.\n",
    "The curve you see is a probability density function for the normal distribution."
   ]
  },
  {
   "cell_type": "code",
   "execution_count": 467,
   "metadata": {},
   "outputs": [
    {
     "data": {
      "text/html": [
       "0.0320600788708451"
      ],
      "text/latex": [
       "0.0320600788708451"
      ],
      "text/markdown": [
       "0.0320600788708451"
      ],
      "text/plain": [
       "[1] 0.03206008"
      ]
     },
     "metadata": {},
     "output_type": "display_data"
    }
   ],
   "source": [
    "avg <- mean(x)\n",
    "s <- sd(x)\n",
    "1 - pnorm(76, avg, s)"
   ]
  },
  {
   "cell_type": "markdown",
   "metadata": {},
   "source": [
    "<img src=\"1.png\">"
   ]
  },
  {
   "cell_type": "markdown",
   "metadata": {},
   "source": [
    "In R you get the probability density function for the normal distribution\n",
    "using the function `dnorm()`. D stands for density. **Although it may not be immediately obvious why knowing of all probability densities is useful, understanding this concept will be essential to those wanting to fit models to data for which predefined functions are not available.**"
   ]
  },
  {
   "cell_type": "markdown",
   "metadata": {},
   "source": [
    "<a id=\"2d\"></a>\n",
    "### <font color = \"INDIGO\">Monte Carlo Simulations</font>\n",
    "\n",
    "In this video, we're going to show you how to run Monte Carlo simulations using normally distributed variables.\n",
    "\n",
    "R provides a function to generate normally distributed outcomes. Specifically, the `rnorm` function takes three arguments-- size; average,\n",
    "which defaults to 0; standard deviation, which defaults to 1-- and produces these random numbers.\n",
    "\n",
    "Here's an example of how we can generate data that looks like our reported heights. So if our reported heights are in the vector x, the computed\n",
    "length, their average, and their standard deviation, and then use the `rnorm` function to generate the randomly distributed outcomes. Not surprisingly, the distribution of these outcomes looks normal because they were generated to look normal."
   ]
  },
  {
   "cell_type": "code",
   "execution_count": 127,
   "metadata": {},
   "outputs": [
    {
     "data": {},
     "metadata": {},
     "output_type": "display_data"
    },
    {
     "data": {
      "image/png": "[encoded data removed]",
      "text/plain": [
       "plot without title"
      ]
     },
     "metadata": {},
     "output_type": "display_data"
    }
   ],
   "source": [
    "x <- heights %>% filter(sex == \"Male\") %>% .$height\n",
    "n <- length(x)\n",
    "avg <- mean(x)\n",
    "s <- sd(x)\n",
    "\n",
    "simulated_heights <- rnorm(n, avg, s)\n",
    "\n",
    "data.frame(simulated_heights = simulated_heights) %>%\n",
    "    ggplot(aes(simulated_heights)) +\n",
    "    geom_histogram(color=\"black\", binwidth = 2)\n",
    "\n",
    "\n",
    "# data.frame(actual_heights = x) %>%\n",
    "#     ggplot(aes(x)) +\n",
    "#     geom_histogram(color=\"black\", binwidth = 2)"
   ]
  },
  {
   "cell_type": "markdown",
   "metadata": {},
   "source": [
    "This is one of the most useful functions in R, as it will permit us to generate data that mimics naturally occurring events, and it'll let us answer questions related to what could happen by chance by running Monte Carlo simulations.\n",
    "\n",
    "**For example**, if we pick 800 males at random, what is the distribution of the tallest person? Specifically, we could ask, how rare is that the tallest person is a seven footer?\n",
    "\n",
    "We can use the following Monte Carlo simulation to answer this question.\n",
    "We're going to run 10,000 simulations, and for each one, we're going to generate 800 normally distributed values, pick the tallest one, and return that. The tallest variable will have these values. So now we can ask, what proportion of these simulations return a seven footer as the tallest person?\n",
    "\n",
    "And we can see that it's a very small number."
   ]
  },
  {
   "cell_type": "code",
   "execution_count": 130,
   "metadata": {},
   "outputs": [
    {
     "data": {
      "text/html": [
       "0.0217"
      ],
      "text/latex": [
       "0.0217"
      ],
      "text/markdown": [
       "0.0217"
      ],
      "text/plain": [
       "[1] 0.0217"
      ]
     },
     "metadata": {},
     "output_type": "display_data"
    }
   ],
   "source": [
    "B <- 10000\n",
    "tallest <- replicate(B, {\n",
    "    simulated_data <- rnorm(800, avg, s)\n",
    "    max(simulated_data)\n",
    "})\n",
    "\n",
    "mean(tallest >= 7*12)"
   ]
  },
  {
   "cell_type": "markdown",
   "metadata": {},
   "source": [
    "<a id=\"2e\"></a>\n",
    "### <font color = \"INDIGO\">Other continuous distributions</font>\n",
    "[Top](#top)\n",
    "\n",
    "The normal distribution is not the only useful theoretical distribution.\n",
    "Other continuous distributions that we may encounter are:\n",
    "\n",
    "* student-t\n",
    "* chi-squared\n",
    "* exponential\n",
    "* gamma\n",
    "* beta distribution\n",
    "\n",
    "R provides functions to compute the <u>density, the quantiles, the cumulative distribution function, and to generate Monte Carlos simulations for all these distributions</u>.\n",
    "\n",
    "R uses a convention that lets us remember the names of these functions.\n",
    "Namely, using the letters `d` for density, `q` for quantile, `p` for probability density function, and `r` for random.\n",
    "\n",
    "By putting these letters in front of a shorthand for the distribution, gives us the names of these useful functions. We have already seen the functions `dnorm`, `pnorm`, and `rnorm`. So these are examples of what we just described. These are for the normal distribution. Norm is the nickname or shorthand for the normal distribution. The function `qnorm` gives us the quantiles. For example, we can use the dnorm function to generate this plot. This is the density function for the normal distribution."
   ]
  },
  {
   "cell_type": "code",
   "execution_count": 482,
   "metadata": {},
   "outputs": [
    {
     "data": {},
     "metadata": {},
     "output_type": "display_data"
    },
    {
     "data": {
      "image/png": "[encoded data removed]",
      "text/plain": [
       "plot without title"
      ]
     },
     "metadata": {},
     "output_type": "display_data"
    }
   ],
   "source": [
    "x <- seq(-4, 4, length.out = 100)\n",
    "data.frame(x, f = dnorm(x)) %>%\n",
    "    ggplot(aes(x, f)) +\n",
    "    geom_line()"
   ]
  },
  {
   "cell_type": "markdown",
   "metadata": {},
   "source": [
    "We use the function dnorm. For the student's `t-distribution`, which has shorthand `t`, we can use the functions `dr`, `qt`, `pt`, and `rt` to generate the **density, quantiles, probability density function, or a Monte Carlo simulation**."
   ]
  },
  {
   "cell_type": "markdown",
   "metadata": {},
   "source": [
    "### Exercise 1. Distribution of female heights - 1\n",
    "\n",
    "Assume the distribution of female heights is approximated by a normal distribution with a mean of 64 inches and a standard deviation of 3 inches. If we pick a female at random, what is the probability that she is 5 feet or shorter?\n",
    "\n",
    "* Use `pnorm` to define the probability that a height will take a value less than 5 feet given the stated distribution."
   ]
  },
  {
   "cell_type": "code",
   "execution_count": 484,
   "metadata": {},
   "outputs": [
    {
     "data": {
      "text/html": [
       "0.0912112197258678"
      ],
      "text/latex": [
       "0.0912112197258678"
      ],
      "text/markdown": [
       "0.0912112197258678"
      ],
      "text/plain": [
       "[1] 0.09121122"
      ]
     },
     "metadata": {},
     "output_type": "display_data"
    }
   ],
   "source": [
    "# Assign a variable 'female_avg' as the average female height.\n",
    "female_avg <- 64\n",
    "\n",
    "# Assign a variable 'female_sd' as the standard deviation for female heights.\n",
    "female_sd <- 3\n",
    "\n",
    "# Using variables 'female_avg' and 'female_sd', calculate the probability that a randomly selected female is shorter than 5 feet. Print this value to the console.\n",
    "\n",
    "pnorm(5*12, female_avg, female_sd)"
   ]
  },
  {
   "cell_type": "markdown",
   "metadata": {},
   "source": [
    "### Exercise 2. Distribution of female heights - 2\n",
    "\n",
    "Assume the distribution of female heights is approximated by a normal distribution with a mean of 64 inches and a standard deviation of 3 inches. If we pick a female at random, what is the probability that she is 6 feet or taller?\n",
    "* Use pnorm to define the probability that a height will take a value of 6 feet or taller."
   ]
  },
  {
   "cell_type": "code",
   "execution_count": 485,
   "metadata": {},
   "outputs": [
    {
     "data": {
      "text/html": [
       "0.00383038056758978"
      ],
      "text/latex": [
       "0.00383038056758978"
      ],
      "text/markdown": [
       "0.00383038056758978"
      ],
      "text/plain": [
       "[1] 0.003830381"
      ]
     },
     "metadata": {},
     "output_type": "display_data"
    }
   ],
   "source": [
    "# Assign a variable 'female_avg' as the average female height.\n",
    "female_avg <- 64\n",
    "\n",
    "# Assign a variable 'female_sd' as the standard deviation for female heights.\n",
    "female_sd <- 3\n",
    "\n",
    "# Using variables 'female_avg' and 'female_sd', calculate the probability that a randomly selected female is 6 feet or taller. Print this value to the console.\n",
    "1- pnorm(6*12, female_avg, female_sd)"
   ]
  },
  {
   "cell_type": "markdown",
   "metadata": {},
   "source": [
    "### Exercise 3. Distribution of female heights - 3\n",
    "\n",
    "Assume the distribution of female heights is approximated by a normal distribution with a mean of 64 inches and a standard deviation of 3 inches. If we pick a female at random, what is the probability that she is between 61 and 67 inches?\n",
    "* Use `pnorm` to define the probability that a randomly chosen woman will be shorter than 67 inches.\n",
    "* Subtract the probability that a randomly chosen will be shorter than 61 inches."
   ]
  },
  {
   "cell_type": "code",
   "execution_count": 499,
   "metadata": {},
   "outputs": [
    {
     "data": {
      "text/html": [
       "0.682689492137086"
      ],
      "text/latex": [
       "0.682689492137086"
      ],
      "text/markdown": [
       "0.682689492137086"
      ],
      "text/plain": [
       "[1] 0.6826895"
      ]
     },
     "metadata": {},
     "output_type": "display_data"
    }
   ],
   "source": [
    "# Assign a variable 'female_avg' as the average female height.\n",
    "female_avg <- 64\n",
    "\n",
    "# Assign a variable 'female_sd' as the standard deviation for female heights.\n",
    "female_sd <- 3\n",
    "\n",
    "# Using variables 'female_avg' and 'female_sd', calculate the probability that a randomly selected female is between the desired height range. Print this value to the console.\n",
    "\n",
    "pnorm(67, female_avg, female_sd)- pnorm(61, female_avg, female_sd)"
   ]
  },
  {
   "cell_type": "markdown",
   "metadata": {},
   "source": [
    "### Exercise 4. Distribution of female heights - 4\n",
    "\n",
    "Repeat the previous exercise, but convert everything to centimeters. That is, multiply every height, including the standard deviation, by 2.54. What is the answer now?\n",
    "* Convert the average height and standard deviation to centimeters by multiplying each value by 2.54.\n",
    "* Repeat the previous calculation using `pnorm` to define the probability that a randomly chosen woman will have a height between 61 and 67 inches, converted to centimeters by multiplying each value by 2.54."
   ]
  },
  {
   "cell_type": "code",
   "execution_count": 500,
   "metadata": {},
   "outputs": [
    {
     "data": {
      "text/html": [
       "0.682689492137086"
      ],
      "text/latex": [
       "0.682689492137086"
      ],
      "text/markdown": [
       "0.682689492137086"
      ],
      "text/plain": [
       "[1] 0.6826895"
      ]
     },
     "metadata": {},
     "output_type": "display_data"
    }
   ],
   "source": [
    "# Assign a variable 'female_avg' as the average female height. Convert this value to centimeters.\n",
    "female_avg <- 64*2.54\n",
    "\n",
    "# Assign a variable 'female_sd' as the standard deviation for female heights. Convert this value to centimeters.\n",
    "female_sd <- 3*2.54\n",
    "\n",
    "# Using variables 'female_avg' and 'female_sd', calculate the probability that a randomly selected female is between the desired height range. Print this value to the console.\n",
    "pnorm(67*2.54, female_avg, female_sd)- pnorm(61*2.54, female_avg, female_sd)"
   ]
  },
  {
   "cell_type": "markdown",
   "metadata": {},
   "source": [
    "### Exercise 5. Probability of 1 SD from average\n",
    "\n",
    "Compute the probability that the height of a randomly chosen female is within 1 SD from the average height.\n",
    "* Calculate the values for heights one standard deviation taller and shorter than the average.\n",
    "* Calculate the probability that a randomly chosen woman will be within 1 SD from the average height."
   ]
  },
  {
   "cell_type": "code",
   "execution_count": 502,
   "metadata": {},
   "outputs": [
    {
     "data": {
      "text/html": [
       "0.682689492137086"
      ],
      "text/latex": [
       "0.682689492137086"
      ],
      "text/markdown": [
       "0.682689492137086"
      ],
      "text/plain": [
       "[1] 0.6826895"
      ]
     },
     "metadata": {},
     "output_type": "display_data"
    }
   ],
   "source": [
    "# Assign a variable 'female_avg' as the average female height.\n",
    "female_avg <- 64\n",
    "\n",
    "# Assign a variable 'female_sd' as the standard deviation for female heights.\n",
    "female_sd <- 3\n",
    "\n",
    "# To a variable named 'taller', assign the value of a height that is one SD taller than average.\n",
    "taller = female_avg + female_sd\n",
    "\n",
    "# To a variable named 'shorter', assign the value of a height that is one SD shorter than average.\n",
    "shorter = female_avg - female_sd\n",
    "\n",
    "# Calculate the probability that a randomly selected female is between the desired height range. Print this value to the console.\n",
    "pnorm(taller, female_avg, female_sd)- pnorm(shorter, female_avg, female_sd)"
   ]
  },
  {
   "cell_type": "markdown",
   "metadata": {},
   "source": [
    "### Exercise 6. Random variable\n",
    "\n",
    "To see the math that explains why the answers to the previous exercises are the same, suppose we have a random variable with expected value `μ`\n",
    "and standard error `σ`. Suppose we ask the probability of `X` being smaller or equal to `a`. Remember that, by definition, `a` is `(a−μ)/σ` standard deviations `σ` away from the average `μ` . The probability is:\n",
    "\n",
    "$Pr(X \\leq a)$\n",
    "\n",
    "Now, we subtract $\\mu$ to both sides and then divide both sides by $\\sigma$:\n",
    "\n",
    "$Pr \\large(\\frac{X-\\mu}{\\sigma} \\leq \\frac{a - \\mu}{\\sigma} \\large)$\n",
    "\n",
    "The quantity on the right is a standard normal random variable. It has an average of `0` and a standard error of `1`. We will call it `Z`:\n",
    "\n",
    "$Pr\\large(Z \\leq \\frac{a - \\mu}{\\sigma} \\large)$\n",
    "\n",
    "So, no matter the units, the probability of $X \\leq a$  is the same as the probability of a standard normal variable being less than `(a−μ)/σ`. If `mu` is the average and `sigma` the standard error, which of the following R code would therefore give us the right answer in every situation:\n",
    "\n",
    "\n",
    "A: pnorm((a - mu)/sigma)"
   ]
  },
  {
   "cell_type": "markdown",
   "metadata": {},
   "source": [
    "### Exercise 7. Distribution of male heights\n",
    "\n",
    "Imagine the distribution of male adults is approximately normal with an expected value of 69 inches and a standard deviation of 3 inches. How tall is a male in the 99th percentile?\n",
    "* Determine the height of a man in the 99th percentile, given an average height of 69 inches and a standard deviation of 3 inches"
   ]
  },
  {
   "cell_type": "code",
   "execution_count": 505,
   "metadata": {},
   "outputs": [
    {
     "data": {
      "text/html": [
       "75.9790436221225"
      ],
      "text/latex": [
       "75.9790436221225"
      ],
      "text/markdown": [
       "75.9790436221225"
      ],
      "text/plain": [
       "[1] 75.97904"
      ]
     },
     "metadata": {},
     "output_type": "display_data"
    }
   ],
   "source": [
    "# Assign a variable 'female_avg' as the average female height.\n",
    "male_avg <- 69\n",
    "\n",
    "# Assign a variable 'female_sd' as the standard deviation for female heights.\n",
    "male_sd <- 3\n",
    "\n",
    "# Determine the height of a man in the 99th percentile of the distribution.\n",
    "qnorm(0.99, male_avg, male_sd)"
   ]
  },
  {
   "cell_type": "markdown",
   "metadata": {},
   "source": [
    "### Exercise 8. Distribution of IQ scores\n",
    "\n",
    "The distribution of IQ scores is approximately normally distributed. The expected value is 100 and the standard deviation is 15. Suppose you want to know the distribution of the person with the highest IQ in your school district, where 10,000 people are born each year.\n",
    "\n",
    "Generate 10,000 IQ scores 1,000 times using a Monte Carlo simulation. Make a histogram of the highest IQ scores.\n",
    "\n",
    "* Use the function `rnorm` to generate a random distribution of 10,000 values with a given average and standard deviation.\n",
    "* Use the function `max` to return the largest value from a supplied vector.\n",
    "* Repeat the previous steps a total of 1,000 times.\n",
    "* Plot the histogram of values using the function `hist`."
   ]
  },
  {
   "cell_type": "code",
   "execution_count": 512,
   "metadata": {},
   "outputs": [
    {
     "data": {
      "image/png": "[encoded data removed]",
      "text/plain": [
       "Plot with title “Histogram of highestIQ”"
      ]
     },
     "metadata": {},
     "output_type": "display_data"
    }
   ],
   "source": [
    "# The variable `B` specifies the number of times we want the simulation to run.\n",
    "B <- 1000\n",
    "\n",
    "# Use the `set.seed` function to make sure your answer matches the expected result after random number generation.\n",
    "set.seed(1)\n",
    "\n",
    "# Create an object called `highestIQ` that contains the highest IQ score from each random distribution of 10,000 people.\n",
    "highestIQ <- replicate(B, {\n",
    "    r <- rnorm(10000, 100, 15)\n",
    "    max(r)\n",
    "})\n",
    "# Make a histogram of the highest IQ scores.\n",
    "hist(highestIQ)"
   ]
  },
  {
   "cell_type": "markdown",
   "metadata": {},
   "source": [
    "# Section 3\n",
    "\n",
    "After completing Section 3, you will:\n",
    "\n",
    "* understand what random variables are, how to generate them, and the correct mathematical notation to use with them.\n",
    "* be able to use sampling models to estimate characteristics of a larger population.\n",
    "* be able to explain the difference between a distribution and a probability distribution.\n",
    "* understand the Central Limit Theorem and the law of large numbers.\n"
   ]
  },
  {
   "cell_type": "markdown",
   "metadata": {},
   "source": [
    "<a id=\"3a\"></a>\n",
    "### <font color = \"INDIGO\">Random Variables an Sampling Models</font>\n",
    "[Top](#top)"
   ]
  },
  {
   "cell_type": "markdown",
   "metadata": {},
   "source": [
    "### Random Variables\n",
    "\n",
    "Random variables are numeric outcomes resulting from a random process.\n",
    "We can easily generate random variables using some of the simple examples we have shown, such as the red and blue bead urn.\n",
    "\n",
    "For example, define x to be 1 if a bead is blue, and red otherwise. Here's a R code you can write to generate that random variable. X is a random variable.\n",
    "\n",
    "Every time we select a new bead, the outcome changes randomly. Sometimes it's 1, sometimes it's 0. Here's some examples of how that random variable changes. We're going to do it three times. Here is 0, here is 1, and here's 1 again. In data science, we often deal with data that is affected by chance in some way. The data comes from a random sample, the data is affected by measurement error, or the data measures some outcome that is random in nature.\n",
    "\n",
    ">Being able to quantify the uncertainty introduced by randomness is one of the most important jobs of a data scientist.\n",
    "\n",
    "**Statistical inference** offers a framework for doing this, as well as several practical tools. The first step is to learn how to mathematically describe random variables.\n",
    "\n",
    "We start with games of chance as an illustrative example."
   ]
  },
  {
   "cell_type": "code",
   "execution_count": 526,
   "metadata": {},
   "outputs": [],
   "source": [
    "beads <- rep(c(\"red\", \"blue\"), times = c(2,3))\n",
    "\n",
    "X <- ifelse(sample(beads, 1) == \"blue\", 1, 0)"
   ]
  },
  {
   "cell_type": "code",
   "execution_count": 528,
   "metadata": {},
   "outputs": [
    {
     "data": {
      "text/html": [
       "0"
      ],
      "text/latex": [
       "0"
      ],
      "text/markdown": [
       "0"
      ],
      "text/plain": [
       "[1] 0"
      ]
     },
     "metadata": {},
     "output_type": "display_data"
    },
    {
     "data": {
      "text/html": [
       "1"
      ],
      "text/latex": [
       "1"
      ],
      "text/markdown": [
       "1"
      ],
      "text/plain": [
       "[1] 1"
      ]
     },
     "metadata": {},
     "output_type": "display_data"
    },
    {
     "data": {
      "text/html": [
       "1"
      ],
      "text/latex": [
       "1"
      ],
      "text/markdown": [
       "1"
      ],
      "text/plain": [
       "[1] 1"
      ]
     },
     "metadata": {},
     "output_type": "display_data"
    }
   ],
   "source": [
    "ifelse(sample(beads, 1) == \"blue\", 1, 0)\n",
    "ifelse(sample(beads, 1) == \"blue\", 1, 0)\n",
    "ifelse(sample(beads, 1) == \"blue\", 1, 0)"
   ]
  },
  {
   "cell_type": "markdown",
   "metadata": {},
   "source": [
    "### Sampling Models\n",
    "\n",
    "Many data-generation procedures, those that produce data that we study, can be modeled quite well as draws from an urn. For example, we can model the process of polling likely voters as drawing 0's-- Republicans-- and 1's-- Democrats-- from an urn containing the 0 and 1 code for all likely voters. We'll see that in more detail later.\n",
    "\n",
    "In epidemiological studies, we often assume that the subjects in our study\n",
    "are a random sample from the population of interest. The data related to a specific outcome can be modeled as a random sample from an urn containing the values for those outcomes for the entire population of interest.\n",
    "\n",
    "Similarly, in experimental research, we often assume that the individual\n",
    "organisms we are studying-- for example, worms, flies, or mice-- are a random sample from a larger population. Randomized experiments can also be modeled by draws from urn, given the way individuals are assigned to groups.\n",
    "\n",
    "When getting assigned, you draw your group at random. Sampling models are therefore ubiquitous in data science. Casino games offer a plethora of examples of real-world situations in which sampling models are used to answer specific questions. We will therefore start with such examples.\n",
    "\n",
    "OK, let's start with this.\n",
    "\n",
    "Suppose a very small casino hires you to consult on whether they should set up a roulette wheel. They want to know if they can make money off it, or if it's too risky and they might lose. To keep the example simple, we will assume that 1,000 people will play, and that the only game you can play is to bet on red or black. The casino wants to predict how much money they will make or lose. They want a range of values that are possible,\n",
    "and in particular, they want to know, what is the chance of losing money?\n",
    "\n",
    "If this probability is too high, they will pass on installing roulette wheels, since they can't take the risk, given that they need to pay their employees and keep the lights on. We're going to define a random variable, capital `S`, that will represent the casino's total winnings. Let's start by constructing the urn, the urn we use for our sampling model.\n",
    "\n",
    "A roulette wheel has 18 red pockets, 18 black pockets, and 2 green ones.\n",
    "So playing a color in one game of roulette is equivalent to drawing from this urn. Let's write some code.\n",
    "\n",
    "There's 18 black, 18 red, and 2 green. \n"
   ]
  },
  {
   "cell_type": "code",
   "execution_count": 6,
   "metadata": {},
   "outputs": [
    {
     "data": {
      "text/html": [
       "<ol class=list-inline>\n",
       "\t<li>'Black'</li>\n",
       "\t<li>'Black'</li>\n",
       "\t<li>'Black'</li>\n",
       "\t<li>'Black'</li>\n",
       "\t<li>'Black'</li>\n",
       "\t<li>'Black'</li>\n",
       "\t<li>'Black'</li>\n",
       "\t<li>'Black'</li>\n",
       "\t<li>'Black'</li>\n",
       "\t<li>'Black'</li>\n",
       "\t<li>'Black'</li>\n",
       "\t<li>'Black'</li>\n",
       "\t<li>'Black'</li>\n",
       "\t<li>'Black'</li>\n",
       "\t<li>'Black'</li>\n",
       "\t<li>'Black'</li>\n",
       "\t<li>'Black'</li>\n",
       "\t<li>'Black'</li>\n",
       "\t<li>'Red'</li>\n",
       "\t<li>'Red'</li>\n",
       "\t<li>'Red'</li>\n",
       "\t<li>'Red'</li>\n",
       "\t<li>'Red'</li>\n",
       "\t<li>'Red'</li>\n",
       "\t<li>'Red'</li>\n",
       "\t<li>'Red'</li>\n",
       "\t<li>'Red'</li>\n",
       "\t<li>'Red'</li>\n",
       "\t<li>'Red'</li>\n",
       "\t<li>'Red'</li>\n",
       "\t<li>'Red'</li>\n",
       "\t<li>'Red'</li>\n",
       "\t<li>'Red'</li>\n",
       "\t<li>'Red'</li>\n",
       "\t<li>'Red'</li>\n",
       "\t<li>'Red'</li>\n",
       "\t<li>'Green'</li>\n",
       "\t<li>'Green'</li>\n",
       "</ol>\n"
      ],
      "text/latex": [
       "\\begin{enumerate*}\n",
       "\\item 'Black'\n",
       "\\item 'Black'\n",
       "\\item 'Black'\n",
       "\\item 'Black'\n",
       "\\item 'Black'\n",
       "\\item 'Black'\n",
       "\\item 'Black'\n",
       "\\item 'Black'\n",
       "\\item 'Black'\n",
       "\\item 'Black'\n",
       "\\item 'Black'\n",
       "\\item 'Black'\n",
       "\\item 'Black'\n",
       "\\item 'Black'\n",
       "\\item 'Black'\n",
       "\\item 'Black'\n",
       "\\item 'Black'\n",
       "\\item 'Black'\n",
       "\\item 'Red'\n",
       "\\item 'Red'\n",
       "\\item 'Red'\n",
       "\\item 'Red'\n",
       "\\item 'Red'\n",
       "\\item 'Red'\n",
       "\\item 'Red'\n",
       "\\item 'Red'\n",
       "\\item 'Red'\n",
       "\\item 'Red'\n",
       "\\item 'Red'\n",
       "\\item 'Red'\n",
       "\\item 'Red'\n",
       "\\item 'Red'\n",
       "\\item 'Red'\n",
       "\\item 'Red'\n",
       "\\item 'Red'\n",
       "\\item 'Red'\n",
       "\\item 'Green'\n",
       "\\item 'Green'\n",
       "\\end{enumerate*}\n"
      ],
      "text/markdown": [
       "1. 'Black'\n",
       "2. 'Black'\n",
       "3. 'Black'\n",
       "4. 'Black'\n",
       "5. 'Black'\n",
       "6. 'Black'\n",
       "7. 'Black'\n",
       "8. 'Black'\n",
       "9. 'Black'\n",
       "10. 'Black'\n",
       "11. 'Black'\n",
       "12. 'Black'\n",
       "13. 'Black'\n",
       "14. 'Black'\n",
       "15. 'Black'\n",
       "16. 'Black'\n",
       "17. 'Black'\n",
       "18. 'Black'\n",
       "19. 'Red'\n",
       "20. 'Red'\n",
       "21. 'Red'\n",
       "22. 'Red'\n",
       "23. 'Red'\n",
       "24. 'Red'\n",
       "25. 'Red'\n",
       "26. 'Red'\n",
       "27. 'Red'\n",
       "28. 'Red'\n",
       "29. 'Red'\n",
       "30. 'Red'\n",
       "31. 'Red'\n",
       "32. 'Red'\n",
       "33. 'Red'\n",
       "34. 'Red'\n",
       "35. 'Red'\n",
       "36. 'Red'\n",
       "37. 'Green'\n",
       "38. 'Green'\n",
       "\n",
       "\n"
      ],
      "text/plain": [
       " [1] \"Black\" \"Black\" \"Black\" \"Black\" \"Black\" \"Black\" \"Black\" \"Black\" \"Black\"\n",
       "[10] \"Black\" \"Black\" \"Black\" \"Black\" \"Black\" \"Black\" \"Black\" \"Black\" \"Black\"\n",
       "[19] \"Red\"   \"Red\"   \"Red\"   \"Red\"   \"Red\"   \"Red\"   \"Red\"   \"Red\"   \"Red\"  \n",
       "[28] \"Red\"   \"Red\"   \"Red\"   \"Red\"   \"Red\"   \"Red\"   \"Red\"   \"Red\"   \"Red\"  \n",
       "[37] \"Green\" \"Green\""
      ]
     },
     "metadata": {},
     "output_type": "display_data"
    }
   ],
   "source": [
    "color <- rep(c(\"Black\",\"Red\", \"Green\"), c(18, 18, 2))\n",
    "color"
   ]
  },
  {
   "cell_type": "markdown",
   "metadata": {},
   "source": [
    "The 1,000 outcomes from 1,000 people playing are independent draws from this urn. If red comes up, the gambler wins, and the casino loses \\$1, so we draw a negative 1. Otherwise, the casino wins \\$1, and we draw a 1. We can code 1,000 independent draws using the following code.\n",
    "\n",
    "\n",
    "Here are the first 10 outcomes of these 1,000 draws. "
   ]
  },
  {
   "cell_type": "code",
   "execution_count": 37,
   "metadata": {},
   "outputs": [
    {
     "data": {
      "text/html": [
       "<ol class=list-inline>\n",
       "\t<li>1</li>\n",
       "\t<li>-1</li>\n",
       "\t<li>-1</li>\n",
       "\t<li>1</li>\n",
       "\t<li>1</li>\n",
       "\t<li>1</li>\n",
       "\t<li>1</li>\n",
       "\t<li>-1</li>\n",
       "\t<li>-1</li>\n",
       "\t<li>1</li>\n",
       "</ol>\n"
      ],
      "text/latex": [
       "\\begin{enumerate*}\n",
       "\\item 1\n",
       "\\item -1\n",
       "\\item -1\n",
       "\\item 1\n",
       "\\item 1\n",
       "\\item 1\n",
       "\\item 1\n",
       "\\item -1\n",
       "\\item -1\n",
       "\\item 1\n",
       "\\end{enumerate*}\n"
      ],
      "text/markdown": [
       "1. 1\n",
       "2. -1\n",
       "3. -1\n",
       "4. 1\n",
       "5. 1\n",
       "6. 1\n",
       "7. 1\n",
       "8. -1\n",
       "9. -1\n",
       "10. 1\n",
       "\n",
       "\n"
      ],
      "text/plain": [
       " [1]  1 -1 -1  1  1  1  1 -1 -1  1"
      ]
     },
     "metadata": {},
     "output_type": "display_data"
    }
   ],
   "source": [
    "n <- 1000\n",
    "X <- sample(ifelse(color ==\"Red\", -1, 1), n, replace = TRUE)\n",
    "X[1:10]"
   ]
  },
  {
   "cell_type": "markdown",
   "metadata": {},
   "source": [
    "Because we know the proportions of 1's and negative 1's, inside the urn, we can generate the draws with one line of code, without defining color. Here's that line of code.\n",
    "\n",
    "We call this approach a **sampling model**, <u>since we are modeling the random behavior of a roulette with the sampling of draws from an urn </u>.\n",
    "\n",
    "The total winnings, capital `S`, is simply the sum of these 1,000 independent draws. So here's a code that generates an example of S. If you run that code over and over again, you see that `S` changes every time. This is, of course, because `S` is a **random variable**. A very important and useful concept is the probability distribution of the random variable.\n"
   ]
  },
  {
   "cell_type": "code",
   "execution_count": 132,
   "metadata": {},
   "outputs": [
    {
     "data": {
      "text/html": [
       "58"
      ],
      "text/latex": [
       "58"
      ],
      "text/markdown": [
       "58"
      ],
      "text/plain": [
       "[1] 58"
      ]
     },
     "metadata": {},
     "output_type": "display_data"
    }
   ],
   "source": [
    "X <- sample(c(-1,1), n, replace = TRUE, prob = c(9/19, 10/19))\n",
    "\n",
    "S <- sum(X)\n",
    "S"
   ]
  },
  {
   "cell_type": "code",
   "execution_count": 133,
   "metadata": {},
   "outputs": [
    {
     "data": {
      "text/html": [
       "88"
      ],
      "text/latex": [
       "88"
      ],
      "text/markdown": [
       "88"
      ],
      "text/plain": [
       "[1] 88"
      ]
     },
     "metadata": {},
     "output_type": "display_data"
    }
   ],
   "source": [
    "X <- sample(c(-1,1), n, replace = TRUE, prob = c(9/19, 10/19))\n",
    "\n",
    "S <- sum(X)\n",
    "S"
   ]
  },
  {
   "cell_type": "code",
   "execution_count": 134,
   "metadata": {},
   "outputs": [
    {
     "data": {
      "text/html": [
       "46"
      ],
      "text/latex": [
       "46"
      ],
      "text/markdown": [
       "46"
      ],
      "text/plain": [
       "[1] 46"
      ]
     },
     "metadata": {},
     "output_type": "display_data"
    }
   ],
   "source": [
    "X <- sample(c(-1,1), n, replace = TRUE, prob = c(9/19, 10/19))\n",
    "\n",
    "S <- sum(X)\n",
    "S"
   ]
  },
  {
   "cell_type": "markdown",
   "metadata": {},
   "source": [
    "The **probability distribution of a random variable** tells us the probability of the observed value falling in any given interval. So for example, if we want to know the probability that we lose money, we're asking, what is the probability that `S` is in the interval `S` less than 0?\n",
    "\n",
    "Note that if we can define a commutative distribution function-- let's call it f of a `f(a)`, which is equal to the probability of `S` being less than or equal to a-- \n",
    "\n",
    "$F(a) = Pr(S \\leq a)$\n",
    "\n",
    "then we'll be able to answer any question related\n",
    "to the probability of events defined by a random variable S, including the event `S` less than 0.\n",
    "\n",
    "We call `F` the <u>random variable's distribution function</u>. We can estimate the distribution function for the random variable `S` by using a **Monte Carlo** simulation to generate many, many realizations of the random variable. With the code we're about to write, we run the experiment of having 1,000 people play roulette over and over. Specifically, we're going to do this experiment 10,000 times.\n",
    "\n",
    "Here's the code.\n",
    "\n"
   ]
  },
  {
   "cell_type": "code",
   "execution_count": 137,
   "metadata": {},
   "outputs": [
    {
     "data": {
      "text/html": [
       "0.0497"
      ],
      "text/latex": [
       "0.0497"
      ],
      "text/markdown": [
       "0.0497"
      ],
      "text/plain": [
       "[1] 0.0497"
      ]
     },
     "metadata": {},
     "output_type": "display_data"
    }
   ],
   "source": [
    "n <- 1000\n",
    "B <- 10000\n",
    "\n",
    "S <- replicate(B, {\n",
    "    X <- sample(c(-1,1), n, replace = TRUE, prob = c(9/19, 10/19))\n",
    "    sum(X)\n",
    "})\n",
    "\n",
    "a = 0\n",
    "mean(S <= a)"
   ]
  },
  {
   "cell_type": "markdown",
   "metadata": {},
   "source": [
    "So now we're going to ask, in our simulation, how often did we get sums smaller or equal to `a`? We can get the answer by using this simple code.\n",
    "This will be a very good approximation of f of a `f(a)`, our distribution function. In fact, we can visualize the distribution by creating a histogram showing the probability `f(b) - f(a)` for several intervals ab.\n",
    "\n",
    "Here it is.\n",
    "\n"
   ]
  },
  {
   "cell_type": "markdown",
   "metadata": {},
   "source": [
    "<img src=\"3.png\">"
   ]
  },
  {
   "cell_type": "markdown",
   "metadata": {},
   "source": [
    "Now we can easily answer the casino's question, how likely is it that we lose money? We simply ask, how often was S, out of the 10,000 simulations, smaller than 0? And the answer is, it was only 4.6% of the time.\n",
    "So it's quite low. "
   ]
  },
  {
   "cell_type": "code",
   "execution_count": 138,
   "metadata": {},
   "outputs": [
    {
     "data": {
      "text/html": [
       "0.044"
      ],
      "text/latex": [
       "0.044"
      ],
      "text/markdown": [
       "0.044"
      ],
      "text/plain": [
       "[1] 0.044"
      ]
     },
     "metadata": {},
     "output_type": "display_data"
    }
   ],
   "source": [
    "mean(S<0)"
   ]
  },
  {
   "cell_type": "markdown",
   "metadata": {},
   "source": [
    "From the histogram, we also see that that distribution\n",
    "appears to be approximately normal. If you make a Q-Q plot, you'll confirm that the normal approximation is close to perfect.\n",
    "\n",
    "If, in fact, the distribution is normal, then all we need to define is the distribution's average and standard deviation. Because we have the original values from which the distribution is created, we can easily compute these. The average is 52.5, and the standard deviation is 31.75.\n"
   ]
  },
  {
   "cell_type": "code",
   "execution_count": 51,
   "metadata": {},
   "outputs": [
    {
     "data": {
      "text/html": [
       "52.6032"
      ],
      "text/latex": [
       "52.6032"
      ],
      "text/markdown": [
       "52.6032"
      ],
      "text/plain": [
       "[1] 52.6032"
      ]
     },
     "metadata": {},
     "output_type": "display_data"
    },
    {
     "data": {
      "text/html": [
       "31.4837874571543"
      ],
      "text/latex": [
       "31.4837874571543"
      ],
      "text/markdown": [
       "31.4837874571543"
      ],
      "text/plain": [
       "[1] 31.48379"
      ]
     },
     "metadata": {},
     "output_type": "display_data"
    }
   ],
   "source": [
    "mean(S)\n",
    "sd(S)"
   ]
  },
  {
   "cell_type": "markdown",
   "metadata": {},
   "source": [
    "If we add a normal density with this average and standard deviation to the histogram we created earlier, we see that it matches very well. <u>This average and this standard deviation have special names</u>. They are referred to as the **expected value** and the **standard error** of the random variable `S`.\n",
    "\n",
    "We will say more about this in the next section. It actually turns out that statistical theory provides a way to derive the distribution of a random variable defined as independent draws from an urn.\n"
   ]
  },
  {
   "cell_type": "code",
   "execution_count": 58,
   "metadata": {},
   "outputs": [
    {
     "data": {},
     "metadata": {},
     "output_type": "display_data"
    },
    {
     "data": {
      "image/png": "[encoded data removed]",
      "text/plain": [
       "plot without title"
      ]
     },
     "metadata": {},
     "output_type": "display_data"
    }
   ],
   "source": [
    "s <- seq(min(S), max(S), length = 100)\n",
    "normal_density <- data.frame(s = s, f=dnorm(s, mean(S), sd(S)))\n",
    "data.frame(S=S) %>% \n",
    "    ggplot(aes(S, ..density..)) +\n",
    "    ylab(\"Probability\") + \n",
    "    geom_line(data = normal_density, mapping=aes(s, f), color=\"blue\")"
   ]
  },
  {
   "cell_type": "markdown",
   "metadata": {},
   "source": [
    "<img src=\"4.png\">"
   ]
  },
  {
   "cell_type": "markdown",
   "metadata": {},
   "source": [
    "Specifically, in our example, we can show that S plus n divided by 2 \n",
    "\n",
    "# $\\frac{(S + n)}{2}$\n",
    "\n",
    "follows what is known as a **binomial distribution**. We therefore do not need to run Monte Carlo simulations, nor use the normal approximation, to know the probability distribution of S.\n",
    "\n",
    "We did this for illustrative purposes. We ran the simulation for illustrative purposes. For the details of the binomial distribution, you can consult any probability book, or even Wikipedia.\n",
    "\n",
    "https://en.wikipedia.org/wiki/Binomial_distribution\n",
    "\n",
    "However, we will discuss an incredibly useful approximation provided by mathematical theory that applies generally to sums of averages of draws from any urn, the **central limit theorem**."
   ]
  },
  {
   "cell_type": "markdown",
   "metadata": {},
   "source": [
    "### Distributions vs Probability Distributions"
   ]
  },
  {
   "cell_type": "markdown",
   "metadata": {},
   "source": [
    "Before we continue, let's make a subtle, yet important distinction and connection between the distribution of a list of numbers, which we covered in our data visualization module and a probability distribution, which we're talking about here.\n",
    "\n",
    "Previously we described how any list of numbers, let's call it $x_1\\dots x_n$, has a distribution. The definition is quite straightforward. We define capital F(a) as a function that answers the question, <u>what **proportion** of the list is less than or equal to a?</u> Because they are useful summaries, when the distribution is approximately normal, we define the average and the standard deviation. These are defined with a straightforward operation of the list. In r we simply compute the average and standard deviation this way, for example. \n",
    "\n",
    "A random variable x has a distribution function. To define this, we do not need a list of numbers. It's a theoretical concept. In this case, to define the distribution, we define capital F(a) as a function that answers the question, <u>what is the **probability** that x is less than or equal to a?</u> There is no list of numbers. However, if x is defined by drawing from an urn with numbers in it, then there is a list, the list of numbers inside the urn. In this case, the distribution of that list\n",
    "is the probability distribution of x and the average and standard deviation of that list are the expected value and standard errors of the random variable.\n",
    "\n",
    "Another way to think about it that does not involve an urn is to run a Monte Carlo simulation and generate a very large list of outcomes of x.\n",
    "These outcomes are a list of numbers. The distribution of this list will be a very good approximation of the probability distribution of x.\n",
    "The longer the list, the better the approximation. The average and standard deviation of this list will approximate the expected value and standard error of the random variable."
   ]
  },
  {
   "cell_type": "markdown",
   "metadata": {},
   "source": [
    "### Notation for Random Variables"
   ]
  },
  {
   "cell_type": "markdown",
   "metadata": {},
   "source": [
    "Note that in statistical textbooks, capital letters are used to denote random variables and we follow this convention here. Lower case letters are used for observed values. You'll see some notation that includes both.\n",
    "\n",
    "For example, you'll see events defined as capital X less than\n",
    "or equal than small cap x.\n",
    "\n",
    "$X \\leq x$\n",
    "\n",
    "Here, $X$ is a random variable, making it a random event. And little $x$ is an arbitrary value and not random. So for example, capital $X$ might represent the number on a die roll-- that's a random value-- and little $x$ will represent an actual value we see.\n",
    "\n",
    "So in this case, the probability of capital $X$ being equal to little $x$\n",
    "is 1 in 6 regardless of the value of little $x$.\n",
    "\n",
    "$Pr(X = x) = \\frac{1}{6}$\n",
    "\n",
    "Note that this notation is a bit strange, because we ask questions about probability, since big $X$ is not an observed quantity. Instead, it's a random quantity that we will see in the future.\n",
    "\n",
    "We can talk about what we expect it to be, what values are probable, but not what it is. But once we have the data, we do see a realization of big $X$, so data scientists talk about what could have been, but after we see what actually happened."
   ]
  },
  {
   "cell_type": "markdown",
   "metadata": {},
   "source": [
    "### Exercise 1. American Roulette probabilities\n",
    "\n",
    "An American roulette wheel has 18 red, 18 black, and 2 green pockets. Each red and black pocket is associated with a number from 1 to 36. The two remaining green slots feature \"0\" and \"00\". Players place bets on which pocket they think a ball will land in after the wheel is spun. Players can bet on a specific number (0, 00, 1-36) or color (red, black, or green).\n",
    "\n",
    "What are the chances that the ball lands in a green pocket?\n",
    "\n",
    "* Define a variable `p_green` as the probability of the ball landing in a green pocket.\n",
    "* Print the value of `p_green`."
   ]
  },
  {
   "cell_type": "code",
   "execution_count": 60,
   "metadata": {},
   "outputs": [
    {
     "data": {
      "text/html": [
       "0.0526315789473684"
      ],
      "text/latex": [
       "0.0526315789473684"
      ],
      "text/markdown": [
       "0.0526315789473684"
      ],
      "text/plain": [
       "[1] 0.05263158"
      ]
     },
     "metadata": {},
     "output_type": "display_data"
    }
   ],
   "source": [
    "# The variables `green`, `black`, and `red` contain the number of pockets for each color\n",
    "green <- 2\n",
    "black <- 18\n",
    "red <- 18\n",
    "\n",
    "# Assign a variable `p_green` as the probability of the ball landing in a green pocket\n",
    "p_green = green / (green + black + red)\n",
    "\n",
    "# Print the variable `p_green` to the console\n",
    "p_green"
   ]
  },
  {
   "cell_type": "markdown",
   "metadata": {},
   "source": [
    "### Exercise 2. American Roulette payout\n",
    "\n",
    "In American roulette, the payout for winning on green is \\$17. This means that if you bet \\$1 and it lands on green, you get \\$17 as a prize.\n",
    "\n",
    "Create a model to predict your winnings from betting on green.\n",
    "\n",
    "* Use the `sample` function return a random value from a specified range of values.\n",
    "* Use the `prob =` argument in the `sample` function to specify a vector of probabilities for returning each of the values contained in the vector of values being sampled."
   ]
  },
  {
   "cell_type": "code",
   "execution_count": 161,
   "metadata": {},
   "outputs": [
    {
     "data": {
      "text/html": [
       "-1"
      ],
      "text/latex": [
       "-1"
      ],
      "text/markdown": [
       "-1"
      ],
      "text/plain": [
       "[1] -1"
      ]
     },
     "metadata": {},
     "output_type": "display_data"
    }
   ],
   "source": [
    "# Use the `set.seed` function to make sure your answer matches the expected result after random sampling.\n",
    "set.seed(1)\n",
    "\n",
    "# The variables 'green', 'black', and 'red' contain the number of pockets for each color\n",
    "green <- 2\n",
    "black <- 18\n",
    "red <- 18\n",
    "\n",
    "# Assign a variable `p_green` as the probability of the ball landing in a green pocket\n",
    "p_green <- green / (green+black+red)\n",
    "\n",
    "# Assign a variable `p_not_green` as the probability of the ball not landing in a green pocket\n",
    "p_not_green = 1-p_green\n",
    "\n",
    "#Create a model to predict the random variable `X`, your winnings from betting on green.\n",
    "X <-sample(c(17, -1, -1), 1, prob = (c(2/38, 18/38, 18/38)))\n",
    "\n",
    "#or\n",
    "#X <- sample(c(17, -1), 1, prob = c(1/19, 18/19))\n",
    "\n",
    "\n",
    "# Print the value of `X` to the console\n",
    "X\n"
   ]
  },
  {
   "cell_type": "markdown",
   "metadata": {},
   "source": [
    "### Exercise 3. American Roulette expected value\n",
    "#### The expected value of a random variable is the theoretical mean of the random variable. It is not based on the sample data, it is based on the distribution of the random varibale. So expected varibale is a parameter and not a statistic\n",
    "\n",
    "In American roulette, the payout for winning on green is \\$17. This means that if you bet \\$1 and it lands on green, you get \\$17 as a prize.In the previous exercise, you created a model to predict your winnings from betting on green.\n",
    "\n",
    "Now, compute the expected value of X, the random variable you generated previously.\n",
    "\n",
    "\n",
    "Using the chances of winning \\$17 (`p_green`) and the chances of losing \\$1 (`p_not_green`), calculate the expected outcome of a bet that the ball will land in a green pocket."
   ]
  },
  {
   "cell_type": "code",
   "execution_count": 157,
   "metadata": {
    "scrolled": true
   },
   "outputs": [
    {
     "data": {
      "text/html": [
       "-0.0526315789473686"
      ],
      "text/latex": [
       "-0.0526315789473686"
      ],
      "text/markdown": [
       "-0.0526315789473686"
      ],
      "text/plain": [
       "[1] -0.05263158"
      ]
     },
     "metadata": {},
     "output_type": "display_data"
    },
    {
     "name": "stdout",
     "output_type": "stream",
     "text": [
      "same as : -0.05263158"
     ]
    }
   ],
   "source": [
    "# The variables 'green', 'black', and 'red' contain the number of pockets for each color\n",
    "green <- 2\n",
    "black <- 18\n",
    "red <- 18\n",
    "\n",
    "# Assign a variable `p_green` as the probability of the ball landing in a green pocket\n",
    "p_green <- green / (green+black+red)\n",
    "\n",
    "# Assign a variable `p_not_green` as the probability of the ball not landing in a green pocket\n",
    "p_not_green <- 1-p_green\n",
    "\n",
    "# Calculate the expected outcome if you win $17 if the ball lands on green and you lose $1 if the ball doesn't land on green\n",
    "17*p_green -1*p_not_green\n",
    "\n",
    "E <- (17*2 + (-1*36))/38\n",
    "\n",
    "cat(\"same as :\", E)\n",
    "\n",
    "# also same as 17*p_green + (-1*p_not_green)\n",
    "\n"
   ]
  },
  {
   "cell_type": "markdown",
   "metadata": {},
   "source": [
    "### Exercise 4. American Roulette standard error\n",
    "\n",
    "http://www.statisticshowto.com/what-is-the-standard-error-of-a-sample/\n",
    "\n",
    "The standard error of a random variable X tells us the difference between a random variable and its expected value. You calculated a random variable X in exercise 2 and the expected value of that random variable in exercise 3.\n",
    "\n",
    "Now, compute the standard error of that random variable, which represents a single outcome after one spin of the roulette wheel.\n",
    "\n",
    "* Compute the standard error of the random variable you generated in exercise 2, or the outcome of any one spin of the roulette wheel.\n",
    "\n",
    "$SE = |b - a| \\sqrt{p(1-p)}$"
   ]
  },
  {
   "cell_type": "markdown",
   "metadata": {},
   "source": [
    "### Expected Values = $E[X]=\\mu$\n",
    "### $E = ap+b(1-p)$\n",
    "### Standard Error = $SE[X] = |b-a|\\sqrt{p(1-p)}$"
   ]
  },
  {
   "cell_type": "code",
   "execution_count": 172,
   "metadata": {},
   "outputs": [
    {
     "data": {
      "text/html": [
       "4.01934380884985"
      ],
      "text/latex": [
       "4.01934380884985"
      ],
      "text/markdown": [
       "4.01934380884985"
      ],
      "text/plain": [
       "[1] 4.019344"
      ]
     },
     "metadata": {},
     "output_type": "display_data"
    }
   ],
   "source": [
    "# The variables 'green', 'black', and 'red' contain the number of pockets for each color\n",
    "green <- 2\n",
    "black <- 18\n",
    "red <- 18\n",
    "\n",
    "# Assign a variable `p_green` as the probability of the ball landing in a green pocket\n",
    "p_green <- green / (green+black+red)\n",
    "\n",
    "# Assign a variable `p_not_green` as the probability of the ball not landing in a green pocket\n",
    "p_not_green <- 1-p_green\n",
    "\n",
    "# Compute the standard error of the random variable\n",
    "X <-sample(c(17, -1, -1), 1, prob = (c(2/38, 18/38, 18/38)))\n",
    "expected_outcome <- 17*p_green -1*p_not_green\n",
    "\n",
    "SE <- abs(-1-17)*sqrt(p_green * p_not_green)\n",
    "SE\n",
    "\n"
   ]
  },
  {
   "cell_type": "markdown",
   "metadata": {},
   "source": [
    "### Exercise 5. American Roulette sum of winnings\n",
    "\n",
    "You modeled the outcome of a single spin of the roulette wheel, X , in exercise 2.\n",
    "\n",
    "Now create a random variable S that sums your winnings after betting on green 1,000 times.\n",
    "\n",
    "* Use `set.seed` to make sure the result of your random operation matches the expected answer for this problem.\n",
    "* Specify the number of times you want to sample from the possible outcomes.\n",
    "* Use the `sample` function to return a random value from a vector of possible values.\n",
    "* Be sure to assign a probability to each outcome and to indicate that you are sampling with replacement.\n"
   ]
  },
  {
   "cell_type": "code",
   "execution_count": 200,
   "metadata": {},
   "outputs": [
    {
     "data": {
      "text/html": [
       "-10"
      ],
      "text/latex": [
       "-10"
      ],
      "text/markdown": [
       "-10"
      ],
      "text/plain": [
       "[1] -10"
      ]
     },
     "metadata": {},
     "output_type": "display_data"
    }
   ],
   "source": [
    "# The variables 'green', 'black', and 'red' contain the number of pockets for each color\n",
    "green <- 2\n",
    "black <- 18\n",
    "red <- 18\n",
    "\n",
    "# Assign a variable `p_green` as the probability of the ball landing in a green pocket\n",
    "p_green <- green / (green+black+red)\n",
    "\n",
    "# Assign a variable `p_not_green` as the probability of the ball not landing in a green pocket\n",
    "p_not_green <- 1-p_green\n",
    "\n",
    "# Use the `set.seed` function to make sure your answer matches the expected result after random sampling\n",
    "set.seed(1)\n",
    "\n",
    "# Define the number of bets using the variable 'n'\n",
    "n <- 1000\n",
    "\n",
    "# Create a vector called 'X' that contains the outcomes of 1000 samples\n",
    "\n",
    "X <- sample(c(17, -1), n, replace = TRUE, prob = (c(1/19, 18/19)))\n",
    "# Assign the sum of all 1000 outcomes to the variable 'S'\n",
    "S <- sum(X)\n",
    "\n",
    "# Print the value of 'S' to the console\n",
    "S"
   ]
  },
  {
   "cell_type": "markdown",
   "metadata": {},
   "source": [
    "### Exercise 6. American Roulette winnings expected value\n",
    "\n",
    "In the previous exercise, you generated a vector of random outcomes, S, after betting on green 1,000 times.\n",
    "\n",
    "What is the expected value of S ?\n",
    "\n",
    "* Using the chances of winning \\$17 (`p_green`) and the chances of losing \\$1 (`p_not_green`), calculate the expected outcome of a bet that the ball will land in a green pocket over 1,000 bets."
   ]
  },
  {
   "cell_type": "code",
   "execution_count": 205,
   "metadata": {},
   "outputs": [
    {
     "data": {
      "text/html": [
       "-52.6315789473686"
      ],
      "text/latex": [
       "-52.6315789473686"
      ],
      "text/markdown": [
       "-52.6315789473686"
      ],
      "text/plain": [
       "[1] -52.63158"
      ]
     },
     "metadata": {},
     "output_type": "display_data"
    }
   ],
   "source": [
    "# The variables 'green', 'black', and 'red' contain the number of pockets for each color\n",
    "green <- 2\n",
    "black <- 18\n",
    "red <- 18\n",
    "\n",
    "# Assign a variable `p_green` as the probability of the ball landing in a green pocket\n",
    "p_green <- green / (green+black+red)\n",
    "\n",
    "# Assign a variable `p_not_green` as the probability of the ball not landing in a green pocket\n",
    "p_not_green <- 1-p_green\n",
    "\n",
    "# Define the number of bets using the variable 'n'\n",
    "n <- 1000\n",
    "\n",
    "# Calculate the expected outcome of 1,000 spins if you win $17 when the ball lands on green and you lose $1 when the ball doesn't land on green\n",
    "\n",
    "1000 * (17*p_green -1*p_not_green)"
   ]
  },
  {
   "cell_type": "markdown",
   "metadata": {},
   "source": [
    "### Exercise 7. American Roulette winnings expected value\n",
    "\n",
    "You generated the expected value of S, the outcomes of 1,000 bets that the ball lands in the green pocket, in the previous exercise.\n",
    "\n",
    "What is the standard error of S ?\n",
    "\n",
    "* Compute the standard error of the random variable you generated in exercise 5, or the outcomes of 1,000 spins of the roulette wheel."
   ]
  },
  {
   "cell_type": "code",
   "execution_count": 210,
   "metadata": {},
   "outputs": [
    {
     "data": {
      "text/html": [
       "127.10281135262"
      ],
      "text/latex": [
       "127.10281135262"
      ],
      "text/markdown": [
       "127.10281135262"
      ],
      "text/plain": [
       "[1] 127.1028"
      ]
     },
     "metadata": {},
     "output_type": "display_data"
    }
   ],
   "source": [
    "# The variables 'green', 'black', and 'red' contain the number of pockets for each color\n",
    "green <- 2\n",
    "black <- 18\n",
    "red <- 18\n",
    "\n",
    "# Assign a variable `p_green` as the probability of the ball landing in a green pocket\n",
    "p_green <- green / (green+black+red)\n",
    "\n",
    "# Assign a variable `p_not_green` as the probability of the ball not landing in a green pocket\n",
    "p_not_green <- 1-p_green\n",
    "\n",
    "# Define the number of bets using the variable 'n'\n",
    "n <- 1000\n",
    "\n",
    "# Compute the standard error of the sum of 1,000 outcomes\n",
    "\n",
    "sqrt(n)* abs(-1-17)*sqrt(p_green * p_not_green)"
   ]
  },
  {
   "cell_type": "markdown",
   "metadata": {},
   "source": [
    "<a id=\"3b\"></a>\n",
    "### <font color = \"INDIGO\">Central Limit Theorem</font>\n",
    "[Top](#top)\n",
    "\n",
    "https://en.wikipedia.org/wiki/Normal_distribution\n",
    "\n",
    "https://en.wikipedia.org/wiki/Central_limit_theorem"
   ]
  },
  {
   "cell_type": "markdown",
   "metadata": {},
   "source": [
    "### Central Limit Theorem\n",
    "\n",
    "The **Central Limit Theorem** or the CLT for short tells us that when the number of independent draws-- also call the sample size-- is large, the probability distribution of the sum of these draws is approximately normal.\n",
    "\n",
    "Because sampling models are used for so many data generation processes,\n",
    "the CLT is considered one of the most important mathematical insights\n",
    "in history.\n",
    "\n",
    "Previously, we discussed that if we know that the distribution of a list of numbers is approximated by the normal distribution, all we need to describe the list are the average and the standard deviation. We also know that the same applies to provability distributions.\n",
    "\n",
    "If a random variable has a probability distribution that is approximated with the normal distribution, then all we need to describe that probability distribution are the **average and the standard deviation**. Referred to as the **expected value and the standard error**.\n",
    "\n",
    "We have described sampling models for draws. We will now go over the mathematical theory that lets us approximate the probability distribution for the sum of draws. Once we do this, we will be able to help the Casino predict how much money they will make. \n",
    "\n",
    "The same approach we use for sum of the draws will be useful for describing the distribution of averages and proportions, which we will need to understand, for example, how polls work.\n",
    "\n",
    "The first important concept to learn is the **expected value**. In statistics books, it is common to use the letter capital E, like this, E of X equals $\\mu$, to denote that the expected value of the random variable X is $\\mu$. $\\mu$ is a Greek letter for M, which is the first letter in the word mean, which is a synonym with average.\n",
    "\n",
    "$E(X) = \\mu$ <br>\n",
    "\n",
    "A random variable will vary around an expected value in a way that if you take the average of many, many draws, the average of the draws will approximate the expected value. Getting closer and closer the more draws you take. <u>A useful formula is that the expected value of the random variables defined by one draw is the average of the numbers in the urn</u>.\n",
    "\n",
    "For example, in our urn used to model betting on red on roulette, we have 20 1's and 18 negative 1's. So the expected value is E of X equals 20 plus negative 18 divided by 38. \n",
    "\n",
    "$E[X] = (20 + -18)/38$\n",
    "\n",
    "Which is about \\$0.05. It is a big counterintuitive to say that X varies around 0.05 when the only values it takes is 1 and minus 1. <u>An intuitive way to think about the expected value is that if we play the game over and over, the Casino wins, on average, \\$0.05 per game</u>.\n",
    "\n",
    "Our **Monte Carlo Simulation** confirms this. \n"
   ]
  },
  {
   "cell_type": "code",
   "execution_count": 211,
   "metadata": {},
   "outputs": [
    {
     "data": {
      "text/html": [
       "0.052468"
      ],
      "text/latex": [
       "0.052468"
      ],
      "text/markdown": [
       "0.052468"
      ],
      "text/plain": [
       "[1] 0.052468"
      ]
     },
     "metadata": {},
     "output_type": "display_data"
    }
   ],
   "source": [
    "B <- 10^6\n",
    "\n",
    "X <- sample(c(-1,1), B, replace = TRUE, prob = c(9/19, 10/19))\n",
    "mean(X)"
   ]
  },
  {
   "cell_type": "markdown",
   "metadata": {},
   "source": [
    "Here we run a million games and we see that the mean of X, which is a bunch of 0's and 1's, is about \\$0.5. \n",
    "\n",
    "In general, if the urn has just two possible outcomes-- say, `a` and `b`, with proportions p and 1-p respectively, the average:\n",
    "\n",
    "$ap + b(1-p)$\n",
    "\n",
    "To see this, notice that if there are n `b`'s in the urn, then we have npa's and n times 1 minus is pb's. And because the average is the sum, we have n times a times p plus n times b times 1 minus p divided by the total, which is n. And we get the formula that we just saw. \n",
    "\n",
    "## $\\frac{(n \\space\\times\\space a \\space\\times\\space p \\space+\\space n \\space\\times\\space b \\space\\times\\space (1-p))}{n}$ = $ap + b(1-p)$\n",
    "\n",
    "Now, the reason we define the **expected value** is because this mathematical definition turns out to be <u>useful for approximating the probability distribution of sums</u>, which in turn, <u>is useful to describe the distribution of averages and proportions</u>.\n",
    "\n",
    "The first useful fact is that the **expected value of the sum of draws** is the number of draws times the average of the numbers in the urn. \n",
    "\n",
    "`number of draws X average of the numbers in the urn`\n",
    "\n",
    "So if 1,000 people play roulette, the Casino expects to win, on average, 1,000 times \\$0.5, which is \\$50. But this is an expected value. How different can one observation be from the expected value ? The Casino really wants to know this.\n",
    "\n",
    "What is the range of possibilities? If negative numbers are too likely, we may not install the roulette wheels. So the statical theory, once again, answers this question. \n",
    "\n",
    "The **standard error**, or `SE` for short, <u>gives us an idea of the size of the variation around the expected value</u>. In statistics books, it is common to use **SE[X]** to know the standard error of the random variable X If our draws are <u>independent</u>-- That's an important assumption-- then the standard error of the sum is given by the equation, the square root of the number of draws, times the standard deviation of the numbers in the urn.\n",
    "\n",
    "$\\sqrt{\\text{number of draws}} \\times\\space \\text{standard deviation of the numbners in the urn}$\n",
    "\n",
    "Using the definition of standard deviation, we can derive with a bit of math, that if an urn contains two values-- `a` and `b`, with proportions `p` and `1-p`, respectively-- the standard deviation is the absolute value of b minus a times the square root of p times 1 minus b. \n",
    "\n",
    "### $|b-a| \\sqrt{p(1-p)}$\n",
    "\n",
    "So in our roulette example, the standard deviation of the values inside the urn is 1 minus minus 1 times the square root of 10/19 times 9/19. Or 0.9986, so practically 1.\n",
    "\n",
    "### $|1-(-1)| \\sqrt{10/19\\times 9/19}$\n",
    "\n"
   ]
  },
  {
   "cell_type": "code",
   "execution_count": 216,
   "metadata": {},
   "outputs": [
    {
     "data": {
      "text/html": [
       "0.998613997947909"
      ],
      "text/latex": [
       "0.998613997947909"
      ],
      "text/markdown": [
       "0.998613997947909"
      ],
      "text/plain": [
       "[1] 0.998614"
      ]
     },
     "metadata": {},
     "output_type": "display_data"
    }
   ],
   "source": [
    "abs(1--1)*(sqrt(10/19*9/19))\n",
    "\n",
    "#2 * sqrt(90)/19"
   ]
  },
  {
   "cell_type": "markdown",
   "metadata": {},
   "source": [
    "The **standard error tells us the typical difference between a random variable and its expectation**. So because 1 draw is obviously the sum of 1 draw, we can use a formula to calculate that the random variable defined by 1 draw has an expected value of $0.05 and a standard error of about 1.\n",
    "\n",
    "This makes sense since we either get a 1 or a minus 1 with 1 slightly favored over the minus 1. Using the formula, the sum of 1,000 people playing has standard error of about \\$32. So when 1,000 people bet on red, the Casino is expected to win \\$50 with a standard error of \\$32.\n",
    "\n"
   ]
  },
  {
   "cell_type": "code",
   "execution_count": 217,
   "metadata": {},
   "outputs": [
    {
     "data": {
      "text/html": [
       "31.5789473684211"
      ],
      "text/latex": [
       "31.5789473684211"
      ],
      "text/markdown": [
       "31.5789473684211"
      ],
      "text/plain": [
       "[1] 31.57895"
      ]
     },
     "metadata": {},
     "output_type": "display_data"
    }
   ],
   "source": [
    "n <- 1000\n",
    "sqrt(n)*2*sqrt(90)/19"
   ]
  },
  {
   "cell_type": "markdown",
   "metadata": {},
   "source": [
    "So it seems like a safe bet. But we still really can't answer the question-- How likely is the Casino to lose money?\n",
    "\n",
    "Here The Central Limit Theorem will help. The central limit theorem **tells us that the distribution of the sum of `S` is approximated by a normal distribution**. Using the formula, we know that the expected value and standard errors are \\$52 and \\$32, respectively.\n",
    "\n"
   ]
  },
  {
   "cell_type": "code",
   "execution_count": 218,
   "metadata": {},
   "outputs": [
    {
     "data": {
      "text/html": [
       "52.6315789473684"
      ],
      "text/latex": [
       "52.6315789473684"
      ],
      "text/markdown": [
       "52.6315789473684"
      ],
      "text/plain": [
       "[1] 52.63158"
      ]
     },
     "metadata": {},
     "output_type": "display_data"
    }
   ],
   "source": [
    "n * (20-18)/38"
   ]
  },
  {
   "cell_type": "code",
   "execution_count": 220,
   "metadata": {},
   "outputs": [
    {
     "data": {
      "text/html": [
       "31.5789473684211"
      ],
      "text/latex": [
       "31.5789473684211"
      ],
      "text/markdown": [
       "31.5789473684211"
      ],
      "text/plain": [
       "[1] 31.57895"
      ]
     },
     "metadata": {},
     "output_type": "display_data"
    }
   ],
   "source": [
    "sqrt(n)*2*sqrt(90)/19"
   ]
  },
  {
   "cell_type": "markdown",
   "metadata": {},
   "source": [
    "Note that the theoretical values match those obtained with the Monte Carlo\n",
    "simulation we ran earlier. Using the Central Limit Theory, we can skip the Monte Carlo simulation and instead, compute the probability of the Casino losing money using the approximation. We write the simple code using the `pnorm` function and we get the answer. It's about 5%. Which, is in very good agreement-- with the Monte Carlo simulation we ran."
   ]
  },
  {
   "cell_type": "code",
   "execution_count": 233,
   "metadata": {},
   "outputs": [
    {
     "data": {
      "text/html": [
       "0.0477903522728147"
      ],
      "text/latex": [
       "0.0477903522728147"
      ],
      "text/markdown": [
       "0.0477903522728147"
      ],
      "text/plain": [
       "[1] 0.04779035"
      ]
     },
     "metadata": {},
     "output_type": "display_data"
    }
   ],
   "source": [
    "mu <- n *(20-18)/38\n",
    "se <- sqrt(n)*2*sqrt(90)/19\n",
    "pnorm(0, mu, se)"
   ]
  },
  {
   "cell_type": "markdown",
   "metadata": {},
   "source": [
    "### Average and Proportions\n",
    "\n",
    "There are some useful mathematical results, some of which we used previously, that are often used when working with data. We're going to list them here.\n",
    "\n",
    "**Property 1**\n",
    "\n",
    "The first, is that the <u>expected value of a sum of random variables\n",
    "is the sum of the expected values of the individual random variables</u>.\n",
    "\n",
    "We can write it like this, using mathematical notation. \n",
    "\n",
    "$E[X_1 + X_2 + \\dots + X_n] = E[X_1] + E[X_2] + \\dots + E[X_n]$\n",
    "\n",
    "If the `x` are drawn from the same urn, then they all have the same expected value. We call it $\\mu$ here. And therefore, the expected value of the sum is `n` times $\\mu$ \n",
    "\n",
    "$ E[X_1 + X_2 + \\dots + X_n] = n \\times \\mu$ \n",
    "\n",
    "which is another way of writing the result of the sum of draws. \n",
    "\n",
    "**Property 2** \n",
    "\n",
    "A second property is that the expected value of random variables times a non-random constant is the expected value times that non-random constant.\n",
    "\n",
    "This is easier to explain with mathematical symbols, which we show here.\n",
    "\n",
    "$E[aX] = a \\times E[X]$\n",
    "\n",
    "To see why this is intuitive, think of a change of units. If we change the units of the random variable, say from dollars to cents, the expectation should change in the same way. \n",
    "\n",
    "> A consequence of these two facts that we described is that the expected value of the average of draws from the same urn is the expected value of the urn, call it $\\mu$ again.\n",
    "\n",
    "$ E[(X_1 + X_2 + \\dots + X_n)/n] = E[X_1 + X_2 + \\dots + X_n]/n $ \n",
    "$ = n\\mu/n = \\mu$\n",
    "\n",
    "Here is that result written out in mathematical formula. So the expected value of the average is mu, the average of the values in the urn. \n",
    "\n",
    "**Property 3**\n",
    "\n",
    "A third property is that the square of the standard error of the sum of independent random variables is the sum of the square of the standard error of each random variable. \n",
    "\n",
    "This one is easier to understand in its math form. \n",
    "\n",
    "$SE[X_1 + X_2 + \\dots + X_n] = \\sqrt{SE[X_1]^2 + SE[X_2]^2 + \\dots + SE[X_n]^2}$\n",
    "\n",
    "The standard error of the sum of x is the square root of the sum of the standard error squared, as you can see here. \n",
    "\n",
    "Note that the square of the standard error is referred to as a variance in statistical textbooks.\n",
    "\n",
    "$Variance[X_1] = SE[X_1]^2$\n",
    "\n",
    "**Propperty 4 **\n",
    "\n",
    "A fourth property is that the standard error of random variables times a non-random constant is the standard error times a non-random constant.\n",
    "\n",
    "As with the expectation, we have the following formula. \n",
    "\n",
    "$SE[aX] = a \\times SE[X]$\n",
    "\n",
    "To see why this is intuitive, again, think of change of units. \n",
    "\n",
    "A consequence of these previous two properties is that:\n",
    "\n",
    "> the standard error of the average of independent draws from the same urn is the standard deviation of the urn-- let's call it sigma $\\sigma$. --divided by the square root of n. \n",
    "\n",
    "Here it is in the mathematical form. And here we are using the properties we just described to derive that result. \n",
    "\n",
    "$ SE[(X_1 + X_2 + \\dots + X_n)/n]  $ <br>\n",
    "            $ = E[X_1 + X_2 + \\dots + X_n]/n $  <br>\n",
    "            $= \\sqrt{SE[X_1]^2 + SE[X_2]^2 + \\dots + SE[X_n]^2}/n$ <br>\n",
    "            $= \\sqrt{\\sigma^2 + \\sigma^2 + \\dots + \\sigma^2}/n$ <nr>\n",
    "            $ = \\sqrt{n\\sigma^2}/n = \\sigma/\\sqrt{n}$\n",
    "\n",
    "\n",
    "**Property 5**\n",
    "\n",
    "The last property that we're going to talk about is that:\n",
    "\n",
    "if `X` is a normally distributed random variable, then if `a` and `b` are non-random constants, than `aX + b` is also a normally distributed random variable. \n",
    "\n",
    "Note that we are doing is changing the units of the random variable by multiplying by `a` and then shifting the center by adding `b`."
   ]
  },
  {
   "cell_type": "markdown",
   "metadata": {},
   "source": [
    "### Law of Large Numbers\n",
    "\n",
    "An important implication of the properties we described in the previous video is that the **standard error** <u>of the average of draws becomes smaller and smaller as the number of draws n grows larger</u>.\n",
    "\n",
    "When `n` is very large, then the standard error is practically `0`, and the average of the draws converges to the average of the urn.\n",
    "\n",
    "This is known in statistical textbooks as the **law of large numbers**, or the law of averages. Note that the law of averages is sometimes misinterpreted. For example, if you toss a coin five times and you see heads each time, you might hear would argue that the next toss is probably\n",
    "a tail because of the law of averages. On average, we should 50% heads and 50% tails, so we need more tails to make up.\n",
    "\n",
    "A similar argument would be to say that red is due on roulette after seeing black come up five times in a row. These events are independent.\n",
    "So the chance of a coin landing heads is 50%, regardless of the previous five.\n",
    "\n",
    "Similarly for the roulette outcome. The law of averages applies only when the number of draws is very, very large, not in small samples. After a million tosses, you will definitely see about 50% heads, regardless of what the first five were. \n",
    "\n",
    "Another somewhat funny misuse of the law of averages is in sports, where you sometimes hear TV announcers predict a player is about to succeed because they have failed a few times in a row, and they need successes to make up and match their average."
   ]
  },
  {
   "cell_type": "markdown",
   "metadata": {},
   "source": [
    "### How Large is Large for CLT?\n",
    "\n",
    "The central limit theorem works when the number of draws is large.\n",
    "But large is a relative term. How big is large? 15, 100, a million?\n",
    "\n",
    "In many circumstances, as few as 30 draws is enough to make the CLT useful. In specific instances, as few as 10 is enough. However, these should not be considered general rules. Note for example, that <u>when the probability of success is very small, we need larger sample sizes</u>.\n",
    "\n",
    "Consider for example, the lottery. In the lottery, the chance of winning are less than 1 in a million. Thousands of people play, so the number of draws is very large. So the central limit should work. Yet, the number of winners, the sum of the draws, range between 0, and in very extreme cases, four. This sum is certainly not well approximated by the normal distribution.\n",
    "\n",
    "So the central limit theorem doesn't apply, even with a very large sample size. This is generally true when the probability of success is very low.\n",
    "\n",
    "In these cases, the **Poisson Distribution** solution is more appropriate. We do not cover the theory here, but you can learn about the Poisson distribution in any probability textbook and even Wikipedia.\n",
    "\n",
    "https://en.wikipedia.org/wiki/Poisson_distribution"
   ]
  },
  {
   "cell_type": "markdown",
   "metadata": {},
   "source": [
    "### Exercise 1. American Roulette probability of winning money\n",
    "\n",
    "The exercises in the previous chapter explored winnings in American roulette. In this chapter of exercises, we will continue with the roulette example and add in the Central Limit Theorem.\n",
    "\n",
    "In the previous chapter of exercises, you created a random variable S that is the sum of your winnings after betting on green a number of times in American Roulette.\n",
    "\n",
    "What is the probability that you end up winning money if you bet on green 100 times?\n",
    "\n",
    "* Execute the sample code to determine the expected value `avg` and standard error `se` as you have done in previous exercises.\n",
    "* Use the `pnorm` function to determine the probability of winning money."
   ]
  },
  {
   "cell_type": "code",
   "execution_count": 39,
   "metadata": {},
   "outputs": [
    {
     "name": "stdout",
     "output_type": "stream",
     "text": [
      "[1] -5.263158\n",
      "[1] 40.19344\n"
     ]
    },
    {
     "data": {
      "text/html": [
       "0.447909131177286"
      ],
      "text/latex": [
       "0.447909131177286"
      ],
      "text/markdown": [
       "0.447909131177286"
      ],
      "text/plain": [
       "[1] 0.4479091"
      ]
     },
     "metadata": {},
     "output_type": "display_data"
    }
   ],
   "source": [
    "# Assign a variable `p_green` as the probability of the ball landing in a green pocket\n",
    "p_green <- 2 / 38\n",
    "\n",
    "# Assign a variable `p_not_green` as the probability of the ball not landing in a green pocket\n",
    "p_not_green <- 1-p_green\n",
    "\n",
    "# Define the number of bets using the variable 'n'\n",
    "n <- 100\n",
    "\n",
    "# Calculate 'avg', the expected outcome of 100 spins if you win $17 when the ball lands on green and you lose $1 when the ball doesn't land on green\n",
    "avg <- n * (17*p_green + -1*p_not_green)\n",
    "print(avg)\n",
    "\n",
    "# Compute 'se', the standard error of the sum of 100 outcomes\n",
    "se <- sqrt(n) * (17 - -1)*sqrt(p_green*p_not_green)\n",
    "print(se)\n",
    "\n",
    "# Using the expected value 'avg' and standard error 'se', compute the probability that you win money betting on green 100 times.\n",
    "1- pnorm(0, avg, se)"
   ]
  },
  {
   "cell_type": "markdown",
   "metadata": {},
   "source": [
    "### Exercise 2. American Roulette Monte Carlo simulation\n",
    "\n",
    "Create a Monte Carlo simulation that generates 10,000 outcomes of S, the sum of 100 bets.\n",
    "\n",
    "Compute the average and standard deviation of the resulting list and compare them to the expected value (-5.263158) and standard error (40.19344) for S that you calculated previously.\n",
    "\n",
    "* Use the `replicate` function to replicate the sample code for `B <- 10000` simulations.\n",
    "* Use the `sample` function to simulate outcomes of either a loss (\\$-1) or a win (\\$17) for the bet.\n",
    "\n",
    "* Use the `sum` function to add up the winnings over all iterations of the model.\n",
    "* Use the `mean` function to compute the average winnings.\n",
    "* Use the `sd` function to compute the standard deviation of the winnings."
   ]
  },
  {
   "cell_type": "code",
   "execution_count": 16,
   "metadata": {},
   "outputs": [
    {
     "data": {
      "text/html": [
       "-5.9086"
      ],
      "text/latex": [
       "-5.9086"
      ],
      "text/markdown": [
       "-5.9086"
      ],
      "text/plain": [
       "[1] -5.9086"
      ]
     },
     "metadata": {},
     "output_type": "display_data"
    },
    {
     "data": {
      "text/html": [
       "40.3060802367385"
      ],
      "text/latex": [
       "40.3060802367385"
      ],
      "text/markdown": [
       "40.3060802367385"
      ],
      "text/plain": [
       "[1] 40.30608"
      ]
     },
     "metadata": {},
     "output_type": "display_data"
    }
   ],
   "source": [
    "# Assign a variable `p_green` as the probability of the ball landing in a green pocket\n",
    "p_green <- 2 / 38\n",
    "\n",
    "# Assign a variable `p_not_green` as the probability of the ball not landing in a green pocket\n",
    "p_not_green <- 1-p_green\n",
    "\n",
    "# Define the number of bets using the variable 'n'\n",
    "n <- 100\n",
    "\n",
    "# The variable `B` specifies the number of times we want the simulation to run. Let's run the Monte Carlo simulation 10,000 times.\n",
    "B <- 10000\n",
    "\n",
    "# Use the `set.seed` function to make sure your answer matches the expected result after random sampling.\n",
    "set.seed(1)\n",
    "\n",
    "# Create an object called `S` that replicates the sample code for `B` iterations and sums the outcomes.\n",
    "\n",
    "S <- replicate(B, {\n",
    "    s <-sample(c(17,-1), n, replace = TRUE, prob = c(p_green, p_not_green))\n",
    "    sum(s)\n",
    "})\n",
    "\n",
    "\n",
    "\n",
    "# Compute the average value for 'S'\n",
    "mean(S)\n",
    "\n",
    "# Calculate the standard deviation of 'S'\n",
    "sd(S)"
   ]
  },
  {
   "cell_type": "markdown",
   "metadata": {},
   "source": [
    "### Exercise 3. American Roulette Monte Carlo vs CLT\n",
    "\n",
    "In this chapter, you calculated the probability of winning money in American roulette using the CLT.\n",
    "\n",
    "Now, calculate the probability of winning money from the Monte Carlo simulation. The Monte Carlo simulation from the previous exercise has already been pre-run for you, resulting in the variable `S` that contains a list of 10,000 simulated outcomes.\n",
    "\n",
    "* Use the `mean` function to calculate the probability of winning money from the Monte Carlo simulation, `S`."
   ]
  },
  {
   "cell_type": "code",
   "execution_count": 18,
   "metadata": {},
   "outputs": [
    {
     "data": {
      "text/html": [
       "0.4232"
      ],
      "text/latex": [
       "0.4232"
      ],
      "text/markdown": [
       "0.4232"
      ],
      "text/plain": [
       "[1] 0.4232"
      ]
     },
     "metadata": {},
     "output_type": "display_data"
    }
   ],
   "source": [
    "# Calculate the proportion of outcomes in the vector `S` that exceed $0\n",
    "\n",
    "mean(S >0)"
   ]
  },
  {
   "cell_type": "markdown",
   "metadata": {},
   "source": [
    "### Exercise 4. American Roulette Monte Carlo vs CLT comparison\n",
    "\n",
    "The Monte Carlo result and the CLT approximation for the probability of losing money after 100 bets are close, but not that close. What could account for this?\n",
    "\n",
    "A: The CLT does not work as well when the probability of success is small."
   ]
  },
  {
   "cell_type": "markdown",
   "metadata": {},
   "source": [
    "### Exercise 5. American Roulette average winnings per bet\n",
    "\n",
    "Now create a random variable Y that contains your average winnings per bet after betting on green 10,000 times.\n",
    "\n",
    "* Use `set.seed` to make sure the result of your random operation matches the expected answer for this problem.\n",
    "* Specify the number of times you want to sample from the possible outcomes.\n",
    "* Use the `sample` function to return a value from a vector of possible values: winning \\$17 or losing \\$1.\n",
    "* Be sure to assign a probability to each outcome and to indicate that you are sampling with replacement.\n",
    "* Calculate the average result per bet placed using the `mean` function."
   ]
  },
  {
   "cell_type": "code",
   "execution_count": 41,
   "metadata": {},
   "outputs": [
    {
     "data": {
      "text/html": [
       "0.008"
      ],
      "text/latex": [
       "0.008"
      ],
      "text/markdown": [
       "0.008"
      ],
      "text/plain": [
       "[1] 0.008"
      ]
     },
     "metadata": {},
     "output_type": "display_data"
    }
   ],
   "source": [
    "# Use the `set.seed` function to make sure your answer matches the expected result after random sampling.\n",
    "set.seed(1)\n",
    "\n",
    "# Define the number of bets using the variable 'n'\n",
    "n <- 10000\n",
    "\n",
    "# Assign a variable `p_green` as the probability of the ball landing in a green pocket\n",
    "p_green <- 2 / 38\n",
    "\n",
    "# Assign a variable `p_not_green` as the probability of the ball not landing in a green pocket\n",
    "p_not_green <- 1 - p_green\n",
    "\n",
    "# Create a vector called `X` that contains the outcomes of `n` bets\n",
    "\n",
    "X <- sample(c(17, -1), n, replace = TRUE, prob = c(p_green, p_not_green))\n",
    "\n",
    "# Define a variable `Y` that contains the mean outcome per bet. Print this mean to the console.\n",
    "\n",
    "Y <- mean(X)\n",
    "Y"
   ]
  },
  {
   "cell_type": "markdown",
   "metadata": {},
   "source": [
    "### Exercise 6. American Roulette per bet expected value\n",
    "\n",
    "What is the expected value of Y, the average outcome per bet after betting on green 10,000 times?\n",
    "\n",
    "* Using the chances of winning \\$17 (`p_green`) and the chances of losing \\$1 (`p_not_green`), calculate the expected outcome of a bet that the ball will land in a green pocket."
   ]
  },
  {
   "cell_type": "code",
   "execution_count": 70,
   "metadata": {},
   "outputs": [
    {
     "data": {
      "text/html": [
       "-0.0526315789473686"
      ],
      "text/latex": [
       "-0.0526315789473686"
      ],
      "text/markdown": [
       "-0.0526315789473686"
      ],
      "text/plain": [
       "[1] -0.05263158"
      ]
     },
     "metadata": {},
     "output_type": "display_data"
    }
   ],
   "source": [
    "# Assign a variable `p_green` as the probability of the ball landing in a green pocket\n",
    "p_green <- 2 / 38\n",
    "\n",
    "# Assign a variable `p_not_green` as the probability of the ball not landing in a green pocket\n",
    "p_not_green <- 1 - p_green\n",
    "\n",
    "# Calculate the expected outcome of `Y`, the mean outcome per bet in 10,000 bets\n",
    "17*p_green + -1*p_not_green"
   ]
  },
  {
   "cell_type": "markdown",
   "metadata": {},
   "source": [
    "### Exercise 7. American Roulette per bet standard error\n",
    "\n",
    "What is the standard error of Y, the average result of 10,000 spins?\n",
    "\n",
    "* Compute the standard error of Y, the average result of 10,000 independent spins."
   ]
  },
  {
   "cell_type": "code",
   "execution_count": 28,
   "metadata": {},
   "outputs": [
    {
     "data": {
      "text/html": [
       "0.0401934380884985"
      ],
      "text/latex": [
       "0.0401934380884985"
      ],
      "text/markdown": [
       "0.0401934380884985"
      ],
      "text/plain": [
       "[1] 0.04019344"
      ]
     },
     "metadata": {},
     "output_type": "display_data"
    }
   ],
   "source": [
    "# Define the number of bets using the variable 'n'\n",
    "n <- 10000\n",
    "\n",
    "# Assign a variable `p_green` as the probability of the ball landing in a green pocket\n",
    "p_green <- 2 / 38\n",
    "\n",
    "# Assign a variable `p_not_green` as the probability of the ball not landing in a green pocket\n",
    "p_not_green <- 1 - p_green\n",
    "\n",
    "# Compute the standard error of 'Y', the mean outcome per bet from 10,000 bets.\n",
    "(abs(-1-17)*sqrt(p_green*p_not_green))/sqrt(n)"
   ]
  },
  {
   "cell_type": "markdown",
   "metadata": {},
   "source": [
    "### Exercise 8. American Roulette winnings per game are positive\n",
    "\n",
    "What is the probability that your winnings are positive after betting on green 10,000 times?\n",
    "\n",
    "* Execute the code that we wrote in previous exercises to determine the average and standard error.\n",
    "* Use the `pnorm` function to determine the probability of winning more than \\$0."
   ]
  },
  {
   "cell_type": "code",
   "execution_count": 30,
   "metadata": {},
   "outputs": [
    {
     "data": {
      "text/html": [
       "0.0951897967843601"
      ],
      "text/latex": [
       "0.0951897967843601"
      ],
      "text/markdown": [
       "0.0951897967843601"
      ],
      "text/plain": [
       "[1] 0.0951898"
      ]
     },
     "metadata": {},
     "output_type": "display_data"
    }
   ],
   "source": [
    "# We defined the average using the following code\n",
    "avg <- 17*p_green + -1*p_not_green\n",
    "\n",
    "# We defined standard error using this equation\n",
    "se <- 1/sqrt(n) * (17 - -1)*sqrt(p_green*p_not_green)\n",
    "\n",
    "# Given this average and standard error, determine the probability of winning more than $0. Print the result to the console.\n",
    "1- pnorm(0, avg, se)"
   ]
  },
  {
   "cell_type": "markdown",
   "metadata": {},
   "source": [
    "### Exercise 9. American Roulette Monte Carlo again\n",
    "\n",
    "Create a Monte Carlo simulation that generates 10,000 outcomes of S, the average outcome from 10,000 bets on green.\n",
    "\n",
    "Compute the average and standard deviation of the resulting list to confirm the results from previous exercises using the Central Limit Theorem.\n",
    "\n",
    "* Use the `replicate` function to model 10,000 iterations of a series of 10,000 bets.\n",
    "* After each iteration, take the average of the 10,000 outcomes.\n",
    "* Find the average of the 10,000 average outcomes.\n",
    "* Compute the standard deviation of the 10,000 simulations."
   ]
  },
  {
   "cell_type": "code",
   "execution_count": 33,
   "metadata": {},
   "outputs": [
    {
     "data": {
      "text/html": [
       "-0.05223142"
      ],
      "text/latex": [
       "-0.05223142"
      ],
      "text/markdown": [
       "-0.05223142"
      ],
      "text/plain": [
       "[1] -0.05223142"
      ]
     },
     "metadata": {},
     "output_type": "display_data"
    },
    {
     "data": {
      "text/html": [
       "0.0399616798241645"
      ],
      "text/latex": [
       "0.0399616798241645"
      ],
      "text/markdown": [
       "0.0399616798241645"
      ],
      "text/plain": [
       "[1] 0.03996168"
      ]
     },
     "metadata": {},
     "output_type": "display_data"
    }
   ],
   "source": [
    "# The variable `n` specifies the number of independent bets on green\n",
    "n <- 10000\n",
    "\n",
    "# The variable `B` specifies the number of times we want the simulation to run\n",
    "B <- 10000\n",
    "\n",
    "# Use the `set.seed` function to make sure your answer matches the expected result after random number generation\n",
    "set.seed(1)\n",
    "\n",
    "# Generate a vector `S` that contains the the average outcomes of 10,000 bets modeled 10,000 times\n",
    "\n",
    "p_green <- 2 / 38\n",
    "p_not_green <- 1 - p_green\n",
    "\n",
    "S <- replicate(B, {\n",
    "    s <- sample(c(17, -1), n, replace = TRUE, prob = c(p_green, p_not_green))\n",
    "    mean(s)\n",
    "})\n",
    "\n",
    " \n",
    "\n",
    "# Compute the average of `S`\n",
    "mean(S)\n",
    "\n",
    "# Compute the standard deviation of `S`\n",
    "sd(S)"
   ]
  },
  {
   "cell_type": "markdown",
   "metadata": {},
   "source": [
    "### Exercise 10. American Roulette comparison\n",
    "\n",
    "In a previous exercise, you found the probability of winning more than \\$0 after betting on green 10,000 times using the Central Limit Theorem. Then, you used a Monte Carlo simulation to model the average result of betting on green 10,000 times over 10,000 simulated series of bets.\n",
    "\n",
    "What is the probability of winning more than \\$0 as estimated by your Monte Carlo simulation? The code to generate the vector `S` that contains the the average outcomes of 10,000 bets modeled 10,000 times has already been run for you.\n",
    "\n",
    "* Calculate the probability of winning more than \\$0 in the Monte Carlo simulation."
   ]
  },
  {
   "cell_type": "code",
   "execution_count": 42,
   "metadata": {},
   "outputs": [
    {
     "data": {
      "text/html": [
       "0.9023"
      ],
      "text/latex": [
       "0.9023"
      ],
      "text/markdown": [
       "0.9023"
      ],
      "text/plain": [
       "[1] 0.9023"
      ]
     },
     "metadata": {},
     "output_type": "display_data"
    }
   ],
   "source": [
    "# Compute the proportion of outcomes in the vector 'S' where you won more than $0\n",
    "\n",
    "1- mean(S >0)"
   ]
  },
  {
   "cell_type": "markdown",
   "metadata": {},
   "source": [
    "### Exercise 11. American Roulette comparison analysis\n",
    "\n",
    "The Monte Carlo result and the CLT approximation are now much closer than when we calculated the probability of winning for 100 bets on green. What could account for this difference?\n",
    "\n",
    "A: The CLT does works better when the sample size is larger."
   ]
  },
  {
   "cell_type": "markdown",
   "metadata": {},
   "source": [
    "<a id=\"4a\"></a>\n",
    "# Section 4\n",
    "[Top](#top)\n",
    "\n",
    "After completing Section 4, you will:\n",
    "* understand the relationship between sampling models and interest rates as determined by banks.\n",
    "* understand how interest rates can be set to minimize the chances of the bank losing money.\n",
    "* understand how inappropriate assumptions of independence contributed to the financial meltdown of 2007."
   ]
  },
  {
   "cell_type": "markdown",
   "metadata": {},
   "source": [
    "### The Big Short: Interest Rates Explained\n",
    "\n",
    "In a way, the sampling models we've been talking about are also used by banks to decide interest rate. Let's see how this could be.\n",
    "\n",
    "Suppose you run a small bank that has a history of identifying potential homeowners that can be trusted to make payments. In fact, historically in a given year only `2%` of your customers default, meaning that they don't pay back the money you lent them. However, note that if you simply loan money to everybody without interest, you'll end up losing money due to this `2%`.\n",
    "\n",
    "Although you know `2%` of your clients will probably default,\n",
    "you don't know which ones. However, by charging everybody just a bit extra\n",
    "you can make up for the losses incurred due to the `2%`, and also pay the employees at work to make these loans happen. You can also make a profit, but if you set the interest rate too high your clients will go to another bank.\n",
    "\n",
    "We use all these facts and some **probability theory** to decide what interest rates we should charge.\n",
    "\n",
    "Suppose your bank will give out 1,000 loans for \\$180,000 this year. Also suppose that your bank loses, after adding up all the costs, \\$200,000 per foreclosure. For simplicity, we assume that that includes all operational costs.\n",
    "\n",
    "A sampling model for this scenario is coded like this.\n",
    "\n"
   ]
  },
  {
   "cell_type": "code",
   "execution_count": 244,
   "metadata": {},
   "outputs": [
    {
     "data": {
      "text/html": [
       "-2800000"
      ],
      "text/latex": [
       "-2800000"
      ],
      "text/markdown": [
       "-2800000"
      ],
      "text/plain": [
       "[1] -2800000"
      ]
     },
     "metadata": {},
     "output_type": "display_data"
    }
   ],
   "source": [
    "n <- 1000\n",
    "loss_per_foreclosure <- -200000\n",
    "p <- 0.02\n",
    "\n",
    "defaults <- sample(c(0,1), n, prob = c(1-p, p), replace = TRUE)\n",
    "sum(defaults * loss_per_foreclosure)"
   ]
  },
  {
   "cell_type": "code",
   "execution_count": 208,
   "metadata": {},
   "outputs": [
    {
     "data": {
      "text/html": [
       "-4800000"
      ],
      "text/latex": [
       "-4800000"
      ],
      "text/markdown": [
       "-4800000"
      ],
      "text/plain": [
       "[1] -4800000"
      ]
     },
     "metadata": {},
     "output_type": "display_data"
    }
   ],
   "source": [
    "defaults <- sample(c(0,1), n, prob = c(1-p, p), replace = TRUE)\n",
    "sum(defaults * loss_per_foreclosure)"
   ]
  },
  {
   "cell_type": "markdown",
   "metadata": {},
   "source": [
    "We either default and lose money, or not default and not lose money. If we run the simulation we see that we lose \\$2.8 millions. Note that the total loss defined by the final sum is a random variable. Every time you run the code you get a different answer. This is because it's a probability of defaulting. It's not going to happen for sure.\n",
    "\n",
    "> We can easily construct a Monte Carlo simulation to get an idea of the distribution of this random variable.\n",
    "\n",
    "Here's the distribution.\n"
   ]
  },
  {
   "cell_type": "code",
   "execution_count": 245,
   "metadata": {},
   "outputs": [
    {
     "data": {},
     "metadata": {},
     "output_type": "display_data"
    },
    {
     "data": {
      "image/png": "[encoded data removed]",
      "text/plain": [
       "plot without title"
      ]
     },
     "metadata": {},
     "output_type": "display_data"
    }
   ],
   "source": [
    "B <- 1000\n",
    "losses <- replicate(B, {\n",
    "    defaults <- sample(c(0,1), n, prob = c(1-p,p), replace = TRUE)\n",
    "    sum(defaults * loss_per_foreclosure)\n",
    "})\n",
    "\n",
    "\n",
    "data.frame(losses_in_millions = losses/10^6) %>%\n",
    "    ggplot(aes(losses_in_millions)) +\n",
    "    geom_histogram(binwidth = 0.6, col=\"black\")"
   ]
  },
  {
   "cell_type": "markdown",
   "metadata": {},
   "source": [
    "You can see that we're going to lose money because of these people that default. And here's the distribution of how much money we're going to lose in millions. We don't really need a Monte Carlo simulation though.\n",
    "\n",
    "Using what we've learned, the CLT tells us that because our losses are a **sum of independent draws, its distribution is approximately normal** with expected value and standard deviation given by the following formula.\n"
   ]
  },
  {
   "cell_type": "code",
   "execution_count": 246,
   "metadata": {},
   "outputs": [
    {
     "data": {
      "text/html": [
       "-4e+06"
      ],
      "text/latex": [
       "-4e+06"
      ],
      "text/markdown": [
       "-4e+06"
      ],
      "text/plain": [
       "[1] -4e+06"
      ]
     },
     "metadata": {},
     "output_type": "display_data"
    },
    {
     "data": {
      "text/html": [
       "885437.744847146"
      ],
      "text/latex": [
       "885437.744847146"
      ],
      "text/markdown": [
       "885437.744847146"
      ],
      "text/plain": [
       "[1] 885437.7"
      ]
     },
     "metadata": {},
     "output_type": "display_data"
    }
   ],
   "source": [
    "#Expected Value\n",
    "n*(p*loss_per_foreclosure + (1-p)*0)\n",
    "\n",
    "#Standard Error\n",
    "sqrt(n)*abs(loss_per_foreclosure)*sqrt(p*(1-p))"
   ]
  },
  {
   "cell_type": "markdown",
   "metadata": {},
   "source": [
    "We can now set an interest rate to guarantee that on average, we\n",
    "break even. Basically, we need to add a quantity `x` to each loan, which in this case are represented by draws, so that the **expected value** is zero. That means breaking even.\n",
    "\n",
    "$lp + x(1-p) = 0$ where l is loss per foreclosure <br>\n",
    "which gives us $ x = -lp/(1-p) $\n",
    "\n",
    "If we define `l` to be the loss per foreclosure, we need to set `x` so that the following formula holds, which implies that `x` can be calculated using this R code, which gives us about 4,081. This is an interest rate of about `2%`.\n",
    "\n"
   ]
  },
  {
   "cell_type": "code",
   "execution_count": 247,
   "metadata": {},
   "outputs": [
    {
     "data": {
      "text/html": [
       "4081.63265306122"
      ],
      "text/latex": [
       "4081.63265306122"
      ],
      "text/markdown": [
       "4081.63265306122"
      ],
      "text/plain": [
       "[1] 4081.633"
      ]
     },
     "metadata": {},
     "output_type": "display_data"
    },
    {
     "name": "stdout",
     "output_type": "stream",
     "text": [
      "close to  2.267222 %"
     ]
    }
   ],
   "source": [
    "-loss_per_foreclosure * p/(1-p)\n",
    "\n",
    "cat(\"close to \",(4081/180000)*100, \"%\")"
   ]
  },
  {
   "cell_type": "markdown",
   "metadata": {},
   "source": [
    "We still have a problem though.\n",
    "\n",
    "Although this interest rate guarantees that on average we break even, there's a 50% chance that we will lose money. If our bank loses money, we have to close it down. So we need to pick an interest rate that makes it unlikely for this to happen. At the same time, if the interest rate is too high our clients will go to another bank. So we must be willing to take some risks. So, let's they say that we want our chances of losing money to be `1 in 100`.\n",
    "\n",
    "What does `x` have to be now? This one is a bit harder. We want the sum-- let's call it capital `S`-- to have the probability of S less than zero to be `0.01`. \n",
    "\n",
    "$Pr(S < 0) = 0.01$\n",
    "\n",
    "We know that `S` is approximately normal. The expected value of `S` is given by this formula\n",
    "\n",
    "$\\{lp + x(1-p)\\}n$\n",
    "\n",
    "\n",
    "with `n` the number of draws, which in this case represents the number of loans. The standard error is given by this formula. \n",
    "\n",
    "$|x-l|\\sqrt{np(1-p)}$\n",
    "\n",
    "Because `x` is positive and `l` is negative, we know that the absolute value of x minus l is x minus l. Note that these are just the formulas we showed earlier, but using more compact symbols.\n",
    "\n",
    "Now we're going to use a mathematical trick that is very common in statistics. We're going to add and subtract the same quantities to both sides of the event `S` less than zero so that the probability does not change, and we end up with a standard normal random variable on the left, which will then permit us to write down an equation with only x as an unknown. Here it goes.\n",
    "\n",
    "We want the probability of `S` being less than zero to be `0.01`. \n",
    "\n",
    "$Pr(S < 0) = 0.01$\n",
    "\n",
    "So what we're going to do now is we're going to subtract the expected value of `S` and divide by the standard error of `S` on both sides of the equation.\n",
    "\n",
    "### $Pr\\big( \\frac{S - E[S]}{SE[S} < \\frac{-E[S]}{SE[S} \\big) = 0.01$\n",
    "\n",
    "All we did was add and divide by the same quantity on both sides. We did this because now the term on the left is a standard normal random variable, which we will rename as capital `Z`. \n",
    "\n",
    "\n",
    "### $Pr\\big( Z < \\frac{-E[S]}{SE[S} \\big) = 0.01$\n",
    "\n",
    "Now, we will fill in the blanks with the actual formula for expected value and standard error.\n",
    "\n",
    "## $\\big( Z < \\frac{-\\{lp + x(1-p)\\}n}{(x-1)\\sqrt{np(l-p)}}\\big) = 0.01$\n",
    "\n",
    "The formula now looks like this. We have a `Z` on the left. That's good, that's going to make things easier later. The right looks complicated, but remember that `l`, `p`, and `n` are all known amounts, so eventually we'll\n",
    "turn them into numbers.\n",
    "\n",
    "Now, because the term on the left side is a normal random variable with expected value of zero and standard error one, it means that the quantity on the right must be equal to `qnorm` of `0.01`, which is negative `2.32`.\n",
    "\n"
   ]
  },
  {
   "cell_type": "code",
   "execution_count": 212,
   "metadata": {},
   "outputs": [
    {
     "data": {
      "text/html": [
       "-2.32634787404084"
      ],
      "text/latex": [
       "-2.32634787404084"
      ],
      "text/markdown": [
       "-2.32634787404084"
      ],
      "text/plain": [
       "[1] -2.326348"
      ]
     },
     "metadata": {},
     "output_type": "display_data"
    }
   ],
   "source": [
    "qnorm(0.01)"
   ]
  },
  {
   "cell_type": "markdown",
   "metadata": {},
   "source": [
    "Then the equation above will hold true. Remember that if we set little `z` to be `qnorm` `0.01`, this will give you a value of little `z` for which \n",
    "the following formula is true. \n",
    "\n",
    "$Pr(Z \\leq z) = 0.01$\n",
    "\n",
    "The probability of big `Z`, less than or equal to little `z`, equal `0.01`. So this means that the right side of the complicated equation must be equal to `qnorm` `0.01`.\n",
    "\n",
    "So we have this formula. \n",
    "\n",
    "### $\\frac{-\\{lp + x(1-p)\\}n}{(x-1)\\sqrt{np(l-p)}} = z$\n",
    "\n",
    "The trick works, because we end up with an expression containing `x` that we know has to be equal to an quantity depending on things we know. Solving for `x` is now simply, algebra.\n",
    "\n",
    "## $x = -l \\frac{np - z \\sqrt{np(1-p)}}{N(1-p) + z\\sqrt{(np(1-p)}}$\n",
    "\n"
   ]
  },
  {
   "cell_type": "code",
   "execution_count": 213,
   "metadata": {},
   "outputs": [
    {
     "data": {
      "text/html": [
       "6249.18129083212"
      ],
      "text/latex": [
       "6249.18129083212"
      ],
      "text/markdown": [
       "6249.18129083212"
      ],
      "text/plain": [
       "[1] 6249.181"
      ]
     },
     "metadata": {},
     "output_type": "display_data"
    },
    {
     "name": "stdout",
     "output_type": "stream",
     "text": [
      "close to  3.471767 %"
     ]
    }
   ],
   "source": [
    "l <- loss_per_foreclosure\n",
    "z <- qnorm(0.01)\n",
    "x <- -l*(n*p - z*sqrt(n*(p*(1-p))))/(n*(1-p)+ z*sqrt(n*p*(1-p)))\n",
    "\n",
    "x\n",
    "\n",
    "cat(\"close to \",(x/180000)*100, \"%\")"
   ]
  },
  {
   "cell_type": "markdown",
   "metadata": {},
   "source": [
    "If we do it, we get that the `x` has to be about `6,249`, which is an interest rate of about `3%`, which is still pretty good. Note also that by choosing this interest rate, we now have an **expected profit per loan** of about \\$2,124, which is a total expected profit of about \\$2 million.\n",
    "We can run a Monte Carlo simulation and check our theoretical approximation.\n"
   ]
  },
  {
   "cell_type": "code",
   "execution_count": 214,
   "metadata": {},
   "outputs": [
    {
     "data": {
      "text/html": [
       "2124.19766501548"
      ],
      "text/latex": [
       "2124.19766501548"
      ],
      "text/markdown": [
       "2124.19766501548"
      ],
      "text/plain": [
       "[1] 2124.198"
      ]
     },
     "metadata": {},
     "output_type": "display_data"
    }
   ],
   "source": [
    "#Expected Value \n",
    "loss_per_foreclosure*p + x*(1-p)"
   ]
  },
  {
   "cell_type": "code",
   "execution_count": 215,
   "metadata": {
    "scrolled": true
   },
   "outputs": [],
   "source": [
    "#Monte Carlo Simulation\n",
    "\n",
    "B <- 1000\n",
    "\n",
    "profit <- replicate(B, {\n",
    "    draws <- sample(c(x, loss_per_foreclosure), n, prob = c(1-p, p), replace = TRUE)\n",
    "    sum(draws)\n",
    "    })"
   ]
  },
  {
   "cell_type": "code",
   "execution_count": 216,
   "metadata": {},
   "outputs": [
    {
     "data": {
      "text/html": [
       "2119866.43220837"
      ],
      "text/latex": [
       "2119866.43220837"
      ],
      "text/markdown": [
       "2119866.43220837"
      ],
      "text/plain": [
       "[1] 2119866"
      ]
     },
     "metadata": {},
     "output_type": "display_data"
    }
   ],
   "source": [
    "mean(profit)"
   ]
  },
  {
   "cell_type": "code",
   "execution_count": 217,
   "metadata": {},
   "outputs": [
    {
     "data": {
      "text/html": [
       "0.012"
      ],
      "text/latex": [
       "0.012"
      ],
      "text/markdown": [
       "0.012"
      ],
      "text/plain": [
       "[1] 0.012"
      ]
     },
     "metadata": {},
     "output_type": "display_data"
    }
   ],
   "source": [
    "#probability of profit being less than zero\n",
    "mean(profit<0) "
   ]
  },
  {
   "cell_type": "markdown",
   "metadata": {},
   "source": [
    "We do that, and we indeed get that value again. And again, the probability of profit being less than zero according to the Monte Carlo simulation is about 1%."
   ]
  },
  {
   "cell_type": "markdown",
   "metadata": {},
   "source": [
    "### The Big Short"
   ]
  },
  {
   "cell_type": "markdown",
   "metadata": {},
   "source": [
    "One of our employees points out that since the bank is making about \\$2,000 per loan, that you should give out more loans. Why just `n`?\n",
    "\n",
    "You explain that finding those `n` clients was hard. You need a group that is predictable, and that keeps the chances of defaults low. He then points out that even if the probability of default is higher, as long as your expected value is positive, you can minimize your chances of losing money\n",
    "by increasing `n`, the number of loans, and relying on the law of large numbers.\n",
    "\n",
    "He claims that even if the default rate is twice as high, say 4%, if we set the rate just a bit higher so that this happens, you will get a positive expected value. So if we set the interest rate at 5%, we are guaranteed a positive expected value of \\$640 per loan. "
   ]
  },
  {
   "cell_type": "code",
   "execution_count": 227,
   "metadata": {},
   "outputs": [
    {
     "data": {
      "text/html": [
       "4820"
      ],
      "text/latex": [
       "4820"
      ],
      "text/markdown": [
       "4820"
      ],
      "text/plain": [
       "[1] 4820"
      ]
     },
     "metadata": {},
     "output_type": "display_data"
    }
   ],
   "source": [
    "r <- 0.05\n",
    "x <- r*180000\n",
    "\n",
    "loss_per_foreclosure*p + x*(1-p)"
   ]
  },
  {
   "cell_type": "markdown",
   "metadata": {},
   "source": [
    "And we can minimize our chances of losing money by simply increasing the number of loans, since the probability of `S` being less than `0` is equal to the probability of `Z` being less than negative expected value of `S` divided by standard error `S`, with `Z` a standard normal random variable, as we saw earlier.\n",
    "\n",
    "### $Pr(S < 0) = Pr\\big( Z < \\frac{-E[S]}{SE[S} \\big) $\n",
    "\n",
    "And if we do the math, we will see that we can pick an `n` so that this probability is 1 in 100. Let's see how.\n",
    "\n",
    "If we define $\\mu$ and $\\sigma$ to be the expected value and standard deviation of the earn, that is of a single loan, we have that using the formulas above, `E[S]`, the expected value of `S`, is `n` times $\\mu$. And the standard error of `S` is the square root of `n` times $\\sigma$. \n",
    "\n",
    "#### $E[S] = n\\mu$\n",
    "#### $SE[S] = \\sqrt{n}\\sigma$\n",
    "\n",
    "\n",
    "So if we define little `z` to be the `qnorm` of 0.01, we have the following formula\n",
    "\n",
    "### $ - \\frac{n\\mu}{\\sqrt{n}\\sigma} = - \\frac{\\sqrt{n}\\mu}{\\sigma} = z$\n",
    "\n",
    "\n",
    "\n",
    "which tells us that if `n` is bigger than `z` squared times $\\sigma$ squared divided by$\\mu$ squared, we are guaranteed to have a probability of less than 0.01 of losing money.\n",
    "\n",
    "### $n \\geq z^2\\sigma^2 / \\mu^2$\n",
    "\n",
    "The implication is that as long as $\\mu$, the expected value, is positive,\n",
    "we can find an `n`, a number of loans, that minimizes the probability of a loss. This is a form of the Law of Large Numbers. When `n` is large, our average earning per loan converges to the expected earning, $\\mu$.\n",
    "With `x` fixed, now we can ask what `n` do we need for the probability to be 0.01?\n",
    "\n",
    "In our example, we use the following formula. \n",
    "\n"
   ]
  },
  {
   "cell_type": "code",
   "execution_count": 228,
   "metadata": {},
   "outputs": [
    {
     "data": {
      "text/html": [
       "200"
      ],
      "text/latex": [
       "200"
      ],
      "text/markdown": [
       "200"
      ],
      "text/plain": [
       "[1] 200"
      ]
     },
     "metadata": {},
     "output_type": "display_data"
    }
   ],
   "source": [
    "z <- qnorm(0.01)\n",
    "n <- ceiling((z^2*(x-l)^2*p*(1-p))/(l*p + x*(1-p))^2)\n",
    "\n",
    "n"
   ]
  },
  {
   "cell_type": "code",
   "execution_count": 229,
   "metadata": {},
   "outputs": [
    {
     "data": {
      "text/html": [
       "964000"
      ],
      "text/latex": [
       "964000"
      ],
      "text/markdown": [
       "964000"
      ],
      "text/plain": [
       "[1] 964000"
      ]
     },
     "metadata": {},
     "output_type": "display_data"
    }
   ],
   "source": [
    "n*(loss_per_foreclosure*p + x * (1-p))"
   ]
  },
  {
   "cell_type": "markdown",
   "metadata": {},
   "source": [
    "And we get that `n` has to be 22,163 loans. This is the number of loans we need so that our probability of losing is about 1%. And furthermore, we are expected to earn a total of about \\$14 million. We can confirm this with a Monte Carlo simulation. We run the Monte Carlo simulation, and we get the probability of losing money is about 1%. This seems like a no brainer.\n",
    "\n"
   ]
  },
  {
   "cell_type": "code",
   "execution_count": 230,
   "metadata": {},
   "outputs": [
    {
     "data": {
      "text/html": [
       "0.406"
      ],
      "text/latex": [
       "0.406"
      ],
      "text/markdown": [
       "0.406"
      ],
      "text/plain": [
       "[1] 0.406"
      ]
     },
     "metadata": {},
     "output_type": "display_data"
    }
   ],
   "source": [
    "p <- 0.04\n",
    "x <- 0.05*180000\n",
    "\n",
    "profit <- replicate(B, {\n",
    "    draws <- sample(c(x, loss_per_foreclosure), n, prob = c(1-p,p), replace = TRUE)\n",
    "    sum(draws)\n",
    "})\n",
    "\n",
    "mean(profit <0)"
   ]
  },
  {
   "cell_type": "markdown",
   "metadata": {},
   "source": [
    "Your colleague decides to leave your bank, and start his own high-risk mortgage company. A few months later, your colleague's bank has gone bankrupt. A book is written about it and eventually, a movie made relating to the mistake your friend and many others made. What happened? Your friend's scheme was based in part on the following mathematical formula--\n",
    "by making `n` large, we minimize the standard error of our per-loan profit.\n",
    "\n",
    "$SE[(X_1 + X_2 + \\dots + X_n)/n] = \\sigma/\\sqrt{n}$\n",
    "\n",
    "However, for this rule to hold, <u>the `X's` must be independent draws</u>. </u>The fact that one person defaults must be independent of other people defaulting</u>. Note that, for example, that in the extreme of averaging the same event over and over, an event is certainly not independent. In that case, we get a much higher standard error. It's the square root of `n` larger.\n",
    "\n",
    "To construct a more realistic simulation than the original one your friend ran, let's assume there could be a global event that affects everybody with high-risk mortgages, and changes their probability. We will assume that with a 50-50 chance, all the probabilities go up or down slightly to somewhere between 0.03 and 0.05. But it happens to everybody at once, not just one person. These draws are no longer independent.\n",
    "\n",
    "Let's use a Monte Carlo simulation to see what happens under this model. "
   ]
  },
  {
   "cell_type": "code",
   "execution_count": 234,
   "metadata": {},
   "outputs": [
    {
     "data": {
      "text/html": [
       "97486"
      ],
      "text/latex": [
       "97486"
      ],
      "text/markdown": [
       "97486"
      ],
      "text/plain": [
       "[1] 97486"
      ]
     },
     "metadata": {},
     "output_type": "display_data"
    },
    {
     "data": {
      "text/html": [
       "0.422"
      ],
      "text/latex": [
       "0.422"
      ],
      "text/markdown": [
       "0.422"
      ],
      "text/plain": [
       "[1] 0.422"
      ]
     },
     "metadata": {},
     "output_type": "display_data"
    },
    {
     "data": {
      "text/html": [
       "0"
      ],
      "text/latex": [
       "0"
      ],
      "text/markdown": [
       "0"
      ],
      "text/plain": [
       "[1] 0"
      ]
     },
     "metadata": {},
     "output_type": "display_data"
    }
   ],
   "source": [
    "p <- 0.04\n",
    "x <- 0.05*180000\n",
    "\n",
    "profit <- replicate(B, {\n",
    "    new_p <- 0.04 + sample(seq(-0.01, 0.01, length = 100), 1)\n",
    "    draws <- sample(c(x, loss_per_foreclosure), n, prob = c(1-new_p, new_p), replace =  TRUE)\n",
    "    sum(draws)\n",
    "})\n",
    "\n",
    "mean(profit)\n",
    "\n",
    "mean(profit<0)\n",
    "\n",
    "mean(profit < -10000000)"
   ]
  },
  {
   "cell_type": "markdown",
   "metadata": {},
   "source": [
    "Note that our expected profit is still large. We're expected to make about \\$14 million. However, the probability of the bank having negative earning\n",
    "shoots way up to almost 35%. Even scarier is the probability of losing more than $10 million, which is 24%. To understand how this happens, we can look at the distribution of our random variable.\n",
    "\n",
    "<img src=\"5.png\">\n",
    "\n",
    "It doesn't look normal at all. The theory completely breaks down, and our random variable has much more variability than expected.\n",
    "\n",
    "The financial meltdown of 2007 was due, among other things, <u>to financial experts assuming independence when there was none</u>."
   ]
  },
  {
   "cell_type": "markdown",
   "metadata": {},
   "source": [
    "### Exercise 1. Bank earnings\n",
    "\n",
    "Say you manage a bank that gives out 10,000 loans. The default rate is 0.03 and you lose $200,000 in each foreclosure.\n",
    "\n",
    "Create a random variable S that contains the earnings of your bank. Calculate the total amount of money lost in this scenario.\n",
    "\n",
    "* Using the `sample` function, generate a vector called `defaults` that contains `n` samples from a vector of `c(0,1)`, where `0` indicates a payment and `1` indicates a default\n",
    "* Multiply the total number of defaults by the loss per foreclosure."
   ]
  },
  {
   "cell_type": "code",
   "execution_count": 257,
   "metadata": {},
   "outputs": [
    {
     "data": {
      "text/html": [
       "-6.3e+07"
      ],
      "text/latex": [
       "-6.3e+07"
      ],
      "text/markdown": [
       "-6.3e+07"
      ],
      "text/plain": [
       "[1] -6.3e+07"
      ]
     },
     "metadata": {},
     "output_type": "display_data"
    }
   ],
   "source": [
    "# Assign the number of loans to the variable `n`\n",
    "\n",
    "n <- 10000\n",
    "\n",
    "# Assign the loss per foreclosure to the variable `loss_per_foreclosure`\n",
    "loss_per_foreclosure <- -200000\n",
    "\n",
    "# Assign the probability of default to the variable `p_default`\n",
    "\n",
    "p_default = 0.03\n",
    "\n",
    "# Use the `set.seed` function to make sure your answer matches the expected result after random sampling\n",
    "set.seed(1)\n",
    "\n",
    "# Generate a vector called `defaults` that contains the default outcomes of `n` loans\n",
    "\n",
    "defaults <- sample(c(0, 1), n, prob = c(1-p_default, p_default), replace = TRUE)\n",
    "\n",
    "# Generate `S`, the total amount of money lost across all foreclosures. Print the value to the console.\n",
    "\n",
    "S <- sum(defaults * loss_per_foreclosure)\n",
    "S"
   ]
  },
  {
   "cell_type": "markdown",
   "metadata": {},
   "source": [
    "### Exercise 2. Bank earnings Monte Carlo\n",
    "\n",
    "Run a Monte Carlo simulation with 10,000 outcomes for S, the sum of losses over 10,000 loans. Make a histogram of the results.\n",
    "\n",
    "* Given the probability of default, use the function `sample` to generate a list of 10,000 loan outcomes: payment (0) or default (1).\n",
    "* Given the cost of each default, use the function `sum` to return the sum of all losses across the 10,000 loans.\n",
    "* Repeat the previous steps a total of 10,000 times.\n",
    "* Plot the histogram of values using the function `hist`."
   ]
  },
  {
   "cell_type": "code",
   "execution_count": 265,
   "metadata": {},
   "outputs": [
    {
     "data": {
      "text/html": [
       "-6.00264e+11"
      ],
      "text/latex": [
       "-6.00264e+11"
      ],
      "text/markdown": [
       "-6.00264e+11"
      ],
      "text/plain": [
       "[1] -6.00264e+11"
      ]
     },
     "metadata": {},
     "output_type": "display_data"
    }
   ],
   "source": [
    "# Assign the number of loans to the variable `n`\n",
    "n <- 10000\n",
    "\n",
    "# Assign the loss per foreclosure to the variable `loss_per_foreclosure`\n",
    "loss_per_foreclosure <- -200000\n",
    "\n",
    "# Assign the probability of default to the variable `p_default`\n",
    "p_default <- 0.03\n",
    "\n",
    "# Use the `set.seed` function to make sure your answer matches the expected result after random sampling\n",
    "set.seed(1)\n",
    "\n",
    "# The variable `B` specifies the number of times we want the simulation to run\n",
    "B <- 10000\n",
    "\n",
    "# Generate a list of summed losses 'S'. Replicate the code from the previous exercise over 'B' iterations to generate a list of summed losses for 'n' loans\n",
    "\n",
    "S <- replicate(B, {\n",
    "    defaults <- sample(c(0,1), n, prob = c(1-p_default, p_default), replace = TRUE)\n",
    "    sum(defaults * loss_per_foreclosure)\n",
    "})\n",
    "\n",
    "sum(S)\n"
   ]
  },
  {
   "cell_type": "code",
   "execution_count": 267,
   "metadata": {},
   "outputs": [
    {
     "data": {
      "image/png": "[encoded data removed]",
      "text/plain": [
       "Plot with title “Histogram of S”"
      ]
     },
     "metadata": {},
     "output_type": "display_data"
    }
   ],
   "source": [
    "hist(S)"
   ]
  },
  {
   "cell_type": "markdown",
   "metadata": {},
   "source": [
    "### Exercise 3. Bank earnings expected value\n",
    "\n",
    "What is the expected value of S, the sum of losses over 10,000 loans? For now, assume a bank makes no money if the loan is paid.\n",
    "\n",
    "* Using the chances of default (p_default), calculate the expected losses over 10,000 loans."
   ]
  },
  {
   "cell_type": "code",
   "execution_count": 268,
   "metadata": {},
   "outputs": [
    {
     "data": {
      "text/html": [
       "-6e+07"
      ],
      "text/latex": [
       "-6e+07"
      ],
      "text/markdown": [
       "-6e+07"
      ],
      "text/plain": [
       "[1] -6e+07"
      ]
     },
     "metadata": {},
     "output_type": "display_data"
    }
   ],
   "source": [
    "# Assign the number of loans to the variable `n`\n",
    "n <- 10000\n",
    "\n",
    "# Assign the loss per foreclosure to the variable `loss_per_foreclosure`\n",
    "loss_per_foreclosure <- -200000\n",
    "\n",
    "# Assign the probability of default to the variable `p_default`\n",
    "p_default <- 0.03\n",
    "\n",
    "# Calcualte the expected loss due to default out of 10,000 loans\n",
    "n*loss_per_foreclosure*p_default"
   ]
  },
  {
   "cell_type": "markdown",
   "metadata": {},
   "source": [
    "### Exercise 4. Bank earnings standard error\n",
    "\n",
    "What is the standard error of S ?\n",
    "\n",
    "* Compute the standard error of the random variable `S` you generated in the previous exercise, the summed outcomes of 10,000 loans."
   ]
  },
  {
   "cell_type": "code",
   "execution_count": 271,
   "metadata": {},
   "outputs": [
    {
     "data": {
      "text/html": [
       "3411744.4218464"
      ],
      "text/latex": [
       "3411744.4218464"
      ],
      "text/markdown": [
       "3411744.4218464"
      ],
      "text/plain": [
       "[1] 3411744"
      ]
     },
     "metadata": {},
     "output_type": "display_data"
    }
   ],
   "source": [
    "# Assign the number of loans to the variable `n`\n",
    "n <- 10000\n",
    "\n",
    "# Assign the loss per foreclosure to the variable `loss_per_foreclosure`\n",
    "loss_per_foreclosure <- -200000\n",
    "\n",
    "# Assign the probability of default to the variable `p_default`\n",
    "p_default <- 0.03\n",
    "\n",
    "# Compute the standard error of the sum of 10,000 loans\n",
    "sqrt(n)*abs(loss_per_foreclosure)*sqrt(p_default * (1-p_default))"
   ]
  },
  {
   "cell_type": "markdown",
   "metadata": {},
   "source": [
    "### Exercise 5. Bank earnings interest rate - 1\n",
    "\n",
    "So far, we've been assuming that we make no money when people pay their loans and we lose a lot of money when people default on their loans. Assume we give out loans for \\$180,000. How much money do we need to make when people pay their loans so that our net loss is \\$0?\n",
    "\n",
    "In other words, what interest rate do we need to charge in order to not lose money?\n",
    "\n",
    "* If the amount of money lost or gained equals 0, the probability of default times the total loss per default equals the amount earned per probability of the loan being paid.\n",
    "* Divide the total amount needed per loan by the loan amount to determine the interest rate."
   ]
  },
  {
   "cell_type": "code",
   "execution_count": 275,
   "metadata": {},
   "outputs": [
    {
     "data": {
      "text/html": [
       "6185.56701030928"
      ],
      "text/latex": [
       "6185.56701030928"
      ],
      "text/markdown": [
       "6185.56701030928"
      ],
      "text/plain": [
       "[1] 6185.567"
      ]
     },
     "metadata": {},
     "output_type": "display_data"
    },
    {
     "data": {
      "text/html": [
       "0.0343642611683849"
      ],
      "text/latex": [
       "0.0343642611683849"
      ],
      "text/markdown": [
       "0.0343642611683849"
      ],
      "text/plain": [
       "[1] 0.03436426"
      ]
     },
     "metadata": {},
     "output_type": "display_data"
    }
   ],
   "source": [
    "# Assign the loss per foreclosure to the variable `loss_per_foreclosure`\n",
    "loss_per_foreclosure <- -200000\n",
    "\n",
    "# Assign the probability of default to the variable `p_default`\n",
    "p_default <- 0.03\n",
    "\n",
    "# Assign a variable `x` as the total amount necessary to have an expected outcome of $0\n",
    "x <- -loss_per_foreclosure*p_default/(1-p_default)\n",
    "x\n",
    "# Convert `x` to a rate, given that the loan amount is $180,000. Print this value to the console.\n",
    "x/180000"
   ]
  },
  {
   "cell_type": "markdown",
   "metadata": {},
   "source": [
    "### Exercise 6. Bank earnings interest rate - 2\n",
    "\n",
    "With the interest rate calculated in the last example, we still lose money 50% of the time. What should the interest rate be so that the chance of losing money is 1 in 20?\n",
    "\n",
    "In math notation, what should the interest rate be so that Pr(S<0)=0.05 ?\n",
    "\n",
    "Remember that we can add a constant to both sides of the equation to get:\n",
    "\n",
    "$Pr\\big(\\frac{S-E[S]}{SE[S]} < \\frac{-E[S]}{SE[S]}\\big)$\n",
    "\n",
    "which is\n",
    "\n",
    "$Pr\\big(Z < \\frac{-[lp + x(1-p)]n}{(x-1)\\sqrt{np(1-p)}}\\big) = 0.05$\n",
    "\n",
    "Let `z = qnorm(0.05)` give us the value of `z` for which:\n",
    "\n",
    "$Pr(Z \\leq z) = 0.05$\n",
    "\n",
    "* Use the `qnorm` function to compute a continuous variable at given quantile of the distribution to solve for `z`.\n",
    "* In this equation, l, p , and n are known values. Once you've solved for `z`, solve for `x`.\n",
    "* Divide `x` by the loan amount to calculate the rate.\n",
    "\n"
   ]
  },
  {
   "cell_type": "code",
   "execution_count": 281,
   "metadata": {},
   "outputs": [
    {
     "name": "stdout",
     "output_type": "stream",
     "text": [
      "[1] -1.644854\n",
      "[1] 6783.728\n"
     ]
    },
    {
     "data": {
      "text/html": [
       "0.0376873800151526"
      ],
      "text/latex": [
       "0.0376873800151526"
      ],
      "text/markdown": [
       "0.0376873800151526"
      ],
      "text/plain": [
       "[1] 0.03768738"
      ]
     },
     "metadata": {},
     "output_type": "display_data"
    }
   ],
   "source": [
    "# Assign the number of loans to the variable `n`\n",
    "n <- 10000\n",
    "\n",
    "# Assign the loss per foreclosure to the variable `loss_per_foreclosure`\n",
    "loss_per_foreclosure <- -200000\n",
    "\n",
    "# Assign the probability of default to the variable `p_default`\n",
    "p_default <- 0.03\n",
    "\n",
    "# Generate a variable `z` using the `qnorm` function\n",
    "z <- qnorm(0.05)\n",
    "print(z)\n",
    "# Generate a variable `x` using `z`, `p_default`, `loss_per_foreclosure`, and `n`\n",
    "\n",
    "x <- -loss_per_foreclosure*(n*p_default - z*sqrt(n*(p_default*(1-p_default))))/(n*(1-p_default)+ z*sqrt(n*p_default*(1-p_default)))\n",
    "print(x)\n",
    "# Convert `x` to an interest rate, given that the loan amount is $180,000. Print this value to the console.\n",
    "x/180000"
   ]
  },
  {
   "cell_type": "markdown",
   "metadata": {},
   "source": [
    "### Exercise 7. Bank earnings - minimize money loss\n",
    "\n",
    "The bank wants to minimize the probability of losing money. Which of the following achieves their goal without making interest rates go up?\n",
    "\n",
    "A: A reduced default rate\n",
    "\n"
   ]
  },
  {
   "cell_type": "markdown",
   "metadata": {},
   "source": [
    "<a id=\"5\"></a>\n",
    "# Stats Review\n",
    "[Top](#top)"
   ]
  },
  {
   "cell_type": "markdown",
   "metadata": {},
   "source": [
    "** Cumulative Distribution Function (CDF) ** will give us the probability that a random variable is less than or equal to a certain real numner. \n",
    "\n",
    "$P(X \\leq x)$\n",
    "\n",
    "** Probability Mass Function (PMF) ** will give us probability that a `discrete` random variable is exactly equal to some real value.\n",
    "\n",
    "$P(X = x)$\n",
    "\n",
    "** Probability Density Function (PDF) ** of a random varibale `X` when integrated over a set of real numbers `A` will give the probability that `X`lies in `A`. This gives us relative probability. "
   ]
  },
  {
   "cell_type": "code",
   "execution_count": null,
   "metadata": {},
   "outputs": [],
   "source": []
  }
 ],
 "metadata": {
  "kernelspec": {
   "display_name": "R",
   "language": "R",
   "name": "ir"
  },
  "language_info": {
   "codemirror_mode": "r",
   "file_extension": ".r",
   "mimetype": "text/x-r-source",
   "name": "R",
   "pygments_lexer": "r",
   "version": "3.4.3"
  }
 },
 "nbformat": 4,
 "nbformat_minor": 2
}
